{
 "metadata": {
  "language_info": {
   "codemirror_mode": {
    "name": "ipython",
    "version": 3
   },
   "file_extension": ".py",
   "mimetype": "text/x-python",
   "name": "python",
   "nbconvert_exporter": "python",
   "pygments_lexer": "ipython3",
   "version": "3.8.5"
  },
  "orig_nbformat": 2,
  "kernelspec": {
   "name": "python385jvsc74a57bd0df76dc7eefd3519b618d4f742ac9d22003ce12e4db2fef6c1d63a51a9f543aa2",
   "display_name": "Python 3.8.5 64-bit ('gcnvae': conda)"
  }
 },
 "nbformat": 4,
 "nbformat_minor": 2,
 "cells": [
  {
   "cell_type": "code",
   "execution_count": 12,
   "metadata": {},
   "outputs": [],
   "source": [
    "import numpy as np\n",
    "import pandas as pd\n",
    "from matplotlib import pyplot as plt\n",
    "import seaborn as sbn\n",
    "import pickle as pkl"
   ]
  },
  {
   "cell_type": "code",
   "execution_count": 3,
   "metadata": {},
   "outputs": [
    {
     "output_type": "execute_result",
     "data": {
      "text/plain": [
       "          Drug Target_Name Target_Type Target_UniProt Target_Species  \\\n",
       "0  Vemurafenib        RAF1     Protein         P04049   Homo sapiens   \n",
       "1  Vemurafenib        RAF1     Protein         P04049   Homo sapiens   \n",
       "2  Vemurafenib        RAF1     Protein         P04049   Homo sapiens   \n",
       "3  Vemurafenib        EGFR     Protein         P00533   Homo sapiens   \n",
       "4  Vemurafenib        BRAF     Protein         P15056   Homo sapiens   \n",
       "\n",
       "                      Database Reference Assay_Type Assay_Relation  \\\n",
       "0                    BindingDB  22808911       IC50              =   \n",
       "1                       IUPHAR  22808911       IC50              =   \n",
       "2                       IUPHAR  26343583       IC50              =   \n",
       "3                    BindingDB  24588073       IC50              >   \n",
       "4  Therapeutic Target Database    NA_TTD        NaN            NaN   \n",
       "\n",
       "   Assay_Value EvidenceLevel_Assigned         drug  \n",
       "0         48.0                    III  vemurafenib  \n",
       "1          NaN                    III  vemurafenib  \n",
       "2          NaN                    III  vemurafenib  \n",
       "3      10000.0                    III  vemurafenib  \n",
       "4          NaN                      I  vemurafenib  "
      ],
      "text/html": "<div>\n<style scoped>\n    .dataframe tbody tr th:only-of-type {\n        vertical-align: middle;\n    }\n\n    .dataframe tbody tr th {\n        vertical-align: top;\n    }\n\n    .dataframe thead th {\n        text-align: right;\n    }\n</style>\n<table border=\"1\" class=\"dataframe\">\n  <thead>\n    <tr style=\"text-align: right;\">\n      <th></th>\n      <th>Drug</th>\n      <th>Target_Name</th>\n      <th>Target_Type</th>\n      <th>Target_UniProt</th>\n      <th>Target_Species</th>\n      <th>Database</th>\n      <th>Reference</th>\n      <th>Assay_Type</th>\n      <th>Assay_Relation</th>\n      <th>Assay_Value</th>\n      <th>EvidenceLevel_Assigned</th>\n      <th>drug</th>\n    </tr>\n  </thead>\n  <tbody>\n    <tr>\n      <th>0</th>\n      <td>Vemurafenib</td>\n      <td>RAF1</td>\n      <td>Protein</td>\n      <td>P04049</td>\n      <td>Homo sapiens</td>\n      <td>BindingDB</td>\n      <td>22808911</td>\n      <td>IC50</td>\n      <td>=</td>\n      <td>48.0</td>\n      <td>III</td>\n      <td>vemurafenib</td>\n    </tr>\n    <tr>\n      <th>1</th>\n      <td>Vemurafenib</td>\n      <td>RAF1</td>\n      <td>Protein</td>\n      <td>P04049</td>\n      <td>Homo sapiens</td>\n      <td>IUPHAR</td>\n      <td>22808911</td>\n      <td>IC50</td>\n      <td>=</td>\n      <td>NaN</td>\n      <td>III</td>\n      <td>vemurafenib</td>\n    </tr>\n    <tr>\n      <th>2</th>\n      <td>Vemurafenib</td>\n      <td>RAF1</td>\n      <td>Protein</td>\n      <td>P04049</td>\n      <td>Homo sapiens</td>\n      <td>IUPHAR</td>\n      <td>26343583</td>\n      <td>IC50</td>\n      <td>=</td>\n      <td>NaN</td>\n      <td>III</td>\n      <td>vemurafenib</td>\n    </tr>\n    <tr>\n      <th>3</th>\n      <td>Vemurafenib</td>\n      <td>EGFR</td>\n      <td>Protein</td>\n      <td>P00533</td>\n      <td>Homo sapiens</td>\n      <td>BindingDB</td>\n      <td>24588073</td>\n      <td>IC50</td>\n      <td>&gt;</td>\n      <td>10000.0</td>\n      <td>III</td>\n      <td>vemurafenib</td>\n    </tr>\n    <tr>\n      <th>4</th>\n      <td>Vemurafenib</td>\n      <td>BRAF</td>\n      <td>Protein</td>\n      <td>P15056</td>\n      <td>Homo sapiens</td>\n      <td>Therapeutic Target Database</td>\n      <td>NA_TTD</td>\n      <td>NaN</td>\n      <td>NaN</td>\n      <td>NaN</td>\n      <td>I</td>\n      <td>vemurafenib</td>\n    </tr>\n  </tbody>\n</table>\n</div>"
     },
     "metadata": {},
     "execution_count": 3
    }
   ],
   "source": [
    "targ = pd.read_csv('../data/raw/Targetome_FullEvidence_070617.txt', sep='\\t')\n",
    "targ = targ.assign(drug=lambda x: x.Drug.str.lower())\n",
    "\n",
    "#targ = targ[targ.Target_Type =='Protein']\n",
    "#targ = targ[targ.Target_Species =='Homo sapiens']\n",
    "targ.drug = [str(x) for x in targ.drug.values]\n",
    "targ.head()"
   ]
  },
  {
   "cell_type": "code",
   "execution_count": 7,
   "metadata": {},
   "outputs": [
    {
     "output_type": "execute_result",
     "data": {
      "text/plain": [
       "         pert_id      cmap_name target  moa  \\\n",
       "0  BRD-A08715367     L-theanine    NaN  NaN   \n",
       "1  BRD-A12237696   L-citrulline    NaN  NaN   \n",
       "2  BRD-A18795974  BRD-A18795974    NaN  NaN   \n",
       "3  BRD-A27924917  BRD-A27924917    NaN  NaN   \n",
       "4  BRD-A35931254  BRD-A35931254    NaN  NaN   \n",
       "\n",
       "                     canonical_smiles                    inchi_key  \\\n",
       "0                CCNC(=O)CCC(N)C(O)=O  DATAGRPVKZEWHA-UHFFFAOYSA-N   \n",
       "1                NC(CCCNC(N)=O)C(O)=O  RHGKLRLOHDJJDR-UHFFFAOYSA-N   \n",
       "2          CCCN(CCC)C1CCc2ccc(O)cc2C1  BLYMJBIZMIGWFK-UHFFFAOYSA-N   \n",
       "3     NCC(O)(CS(O)(=O)=O)c1ccc(Cl)cc1  WBSMZVIMANOCNX-UHFFFAOYSA-N   \n",
       "4  CN1CCc2cccc-3c2C1Cc1ccc(O)c(O)c-31  VMWNQDUVQKEIOC-UHFFFAOYSA-N   \n",
       "\n",
       "    compound_aliases  \n",
       "0         l-theanine  \n",
       "1       l-citrulline  \n",
       "2     7-hydroxy-DPAT  \n",
       "3  2-hydroxysaclofen  \n",
       "4   r(-)-apomorphine  "
      ],
      "text/html": "<div>\n<style scoped>\n    .dataframe tbody tr th:only-of-type {\n        vertical-align: middle;\n    }\n\n    .dataframe tbody tr th {\n        vertical-align: top;\n    }\n\n    .dataframe thead th {\n        text-align: right;\n    }\n</style>\n<table border=\"1\" class=\"dataframe\">\n  <thead>\n    <tr style=\"text-align: right;\">\n      <th></th>\n      <th>pert_id</th>\n      <th>cmap_name</th>\n      <th>target</th>\n      <th>moa</th>\n      <th>canonical_smiles</th>\n      <th>inchi_key</th>\n      <th>compound_aliases</th>\n    </tr>\n  </thead>\n  <tbody>\n    <tr>\n      <th>0</th>\n      <td>BRD-A08715367</td>\n      <td>L-theanine</td>\n      <td>NaN</td>\n      <td>NaN</td>\n      <td>CCNC(=O)CCC(N)C(O)=O</td>\n      <td>DATAGRPVKZEWHA-UHFFFAOYSA-N</td>\n      <td>l-theanine</td>\n    </tr>\n    <tr>\n      <th>1</th>\n      <td>BRD-A12237696</td>\n      <td>L-citrulline</td>\n      <td>NaN</td>\n      <td>NaN</td>\n      <td>NC(CCCNC(N)=O)C(O)=O</td>\n      <td>RHGKLRLOHDJJDR-UHFFFAOYSA-N</td>\n      <td>l-citrulline</td>\n    </tr>\n    <tr>\n      <th>2</th>\n      <td>BRD-A18795974</td>\n      <td>BRD-A18795974</td>\n      <td>NaN</td>\n      <td>NaN</td>\n      <td>CCCN(CCC)C1CCc2ccc(O)cc2C1</td>\n      <td>BLYMJBIZMIGWFK-UHFFFAOYSA-N</td>\n      <td>7-hydroxy-DPAT</td>\n    </tr>\n    <tr>\n      <th>3</th>\n      <td>BRD-A27924917</td>\n      <td>BRD-A27924917</td>\n      <td>NaN</td>\n      <td>NaN</td>\n      <td>NCC(O)(CS(O)(=O)=O)c1ccc(Cl)cc1</td>\n      <td>WBSMZVIMANOCNX-UHFFFAOYSA-N</td>\n      <td>2-hydroxysaclofen</td>\n    </tr>\n    <tr>\n      <th>4</th>\n      <td>BRD-A35931254</td>\n      <td>BRD-A35931254</td>\n      <td>NaN</td>\n      <td>NaN</td>\n      <td>CN1CCc2cccc-3c2C1Cc1ccc(O)c(O)c-31</td>\n      <td>VMWNQDUVQKEIOC-UHFFFAOYSA-N</td>\n      <td>r(-)-apomorphine</td>\n    </tr>\n  </tbody>\n</table>\n</div>"
     },
     "metadata": {},
     "execution_count": 7
    }
   ],
   "source": [
    "lincs_cmpinfo = pd.read_csv('../../LINCS/LVL3/data/raw/compoundinfo_beta.txt', sep='\\t')\n",
    "lincs_cmpinfo.head()"
   ]
  },
  {
   "cell_type": "code",
   "execution_count": 13,
   "metadata": {},
   "outputs": [],
   "source": [
    "with open('../../DDS_graph.pkl', 'rb') as f: \n",
    "        DDS_graph = pkl.load(f)\n",
    "\n",
    "with open('../../PPI_graph.pkl', 'rb') as f: \n",
    "    PPI_graph = pkl.load(f)\n",
    "\n",
    "drugs = DDS_graph['nodelist']\n",
    "genes = PPI_graph['nodelist']"
   ]
  },
  {
   "cell_type": "code",
   "execution_count": 14,
   "metadata": {},
   "outputs": [],
   "source": []
  },
  {
   "cell_type": "code",
   "execution_count": 17,
   "metadata": {},
   "outputs": [
    {
     "output_type": "execute_result",
     "data": {
      "text/plain": [
       "41"
      ]
     },
     "metadata": {},
     "execution_count": 17
    }
   ],
   "source": [
    "# how many drugs in targetome overlap in cmap? \n",
    "overlap = set(targ.drug).intersection(set(drugs))\n",
    "len(overlap)"
   ]
  },
  {
   "cell_type": "code",
   "execution_count": 18,
   "metadata": {},
   "outputs": [
    {
     "output_type": "execute_result",
     "data": {
      "text/plain": [
       "{'anastrozole',\n",
       " 'axitinib',\n",
       " 'azacitidine',\n",
       " 'belinostat',\n",
       " 'bicalutamide',\n",
       " 'bortezomib',\n",
       " 'bosutinib',\n",
       " 'capecitabine',\n",
       " 'carmustine',\n",
       " 'chlorambucil',\n",
       " 'crizotinib',\n",
       " 'cyclophosphamide',\n",
       " 'cytarabine',\n",
       " 'dacarbazine',\n",
       " 'dasatinib',\n",
       " 'decitabine',\n",
       " 'dexamethasone',\n",
       " 'docetaxel',\n",
       " 'enzalutamide',\n",
       " 'etoposide',\n",
       " 'exemestane',\n",
       " 'fluorouracil',\n",
       " 'flutamide',\n",
       " 'gefitinib',\n",
       " 'ifosfamide',\n",
       " 'imiquimod',\n",
       " 'lenalidomide',\n",
       " 'letrozole',\n",
       " 'lomustine',\n",
       " 'mercaptopurine',\n",
       " 'methotrexate',\n",
       " 'nilotinib',\n",
       " 'olaparib',\n",
       " 'palbociclib',\n",
       " 'panobinostat',\n",
       " 'prednisone',\n",
       " 'sonidegib',\n",
       " 'temozolomide',\n",
       " 'thalidomide',\n",
       " 'toremifene',\n",
       " 'vemurafenib'}"
      ]
     },
     "metadata": {},
     "execution_count": 18
    }
   ],
   "source": [
    "overlap"
   ]
  },
  {
   "cell_type": "code",
   "execution_count": null,
   "metadata": {},
   "outputs": [],
   "source": []
  },
  {
   "cell_type": "code",
   "execution_count": null,
   "metadata": {},
   "outputs": [],
   "source": []
  },
  {
   "cell_type": "code",
   "execution_count": 7,
   "metadata": {},
   "outputs": [
    {
     "output_type": "execute_result",
     "data": {
      "text/plain": [
       "array(['IC50', nan, 'Kd', 'Ki', 'KD', 'EC50'], dtype=object)"
      ]
     },
     "metadata": {},
     "execution_count": 7
    }
   ],
   "source": [
    "targ.Assay_Type.unique()"
   ]
  },
  {
   "cell_type": "code",
   "execution_count": 23,
   "metadata": {},
   "outputs": [
    {
     "output_type": "execute_result",
     "data": {
      "text/plain": [
       "Assay_Type\n",
       "EC50      147\n",
       "IC50     2598\n",
       "KD      11212\n",
       "Kd         27\n",
       "Ki        680\n",
       "Name: drug, dtype: int64"
      ]
     },
     "metadata": {},
     "execution_count": 23
    }
   ],
   "source": [
    "targ.groupby('Assay_Type').count()['drug']"
   ]
  },
  {
   "cell_type": "code",
   "execution_count": 8,
   "metadata": {},
   "outputs": [
    {
     "output_type": "execute_result",
     "data": {
      "text/plain": [
       "array(['=', '>', nan, '<', '~'], dtype=object)"
      ]
     },
     "metadata": {},
     "execution_count": 8
    }
   ],
   "source": [
    "targ.Assay_Relation.unique()"
   ]
  },
  {
   "cell_type": "code",
   "execution_count": 17,
   "metadata": {},
   "outputs": [
    {
     "output_type": "stream",
     "name": "stderr",
     "text": [
      "<ipython-input-17-8b87e1f0403f>:1: FutureWarning: Indexing with multiple keys (implicitly converted to a tuple of keys) will be deprecated, use a list instead.\n  targ.groupby('drug')['Target_Name', 'Assay_Value'].agg('nunique').sort_values(by='Target_Name').tail(25)\n"
     ]
    },
    {
     "output_type": "execute_result",
     "data": {
      "text/plain": [
       "                           Target_Name  Assay_Value\n",
       "drug                                               \n",
       "regorafenib                         20            4\n",
       "pemetrexed disodium                 21           60\n",
       "dexamethasone                       21           60\n",
       "ceritinib                           22           33\n",
       "tamoxifen citrate                   23           36\n",
       "bortezomib                          25           27\n",
       "methotrexate                        26          119\n",
       "vorinostat                          27          235\n",
       "doxorubicin hydrochloride           37           35\n",
       "ondansetron hydrochloride           45           63\n",
       "afatinib dimaleate                 378           57\n",
       "ruxolitinib phosphate              378          132\n",
       "axitinib                           379           99\n",
       "bosutinib                          380          200\n",
       "pazopanib hydrochloride            382          165\n",
       "vandetanib                         383          223\n",
       "gefitinib                          384          151\n",
       "crizotinib                         384          165\n",
       "lapatinib ditosylate               388           76\n",
       "erlotinib hydrochloride            390          209\n",
       "dasatinib                          391          239\n",
       "sunitinib malate                   395          365\n",
       "nilotinib                          395          121\n",
       "sorafenib tosylate                 400          237\n",
       "imatinib mesylate                  411          199"
      ],
      "text/html": "<div>\n<style scoped>\n    .dataframe tbody tr th:only-of-type {\n        vertical-align: middle;\n    }\n\n    .dataframe tbody tr th {\n        vertical-align: top;\n    }\n\n    .dataframe thead th {\n        text-align: right;\n    }\n</style>\n<table border=\"1\" class=\"dataframe\">\n  <thead>\n    <tr style=\"text-align: right;\">\n      <th></th>\n      <th>Target_Name</th>\n      <th>Assay_Value</th>\n    </tr>\n    <tr>\n      <th>drug</th>\n      <th></th>\n      <th></th>\n    </tr>\n  </thead>\n  <tbody>\n    <tr>\n      <th>regorafenib</th>\n      <td>20</td>\n      <td>4</td>\n    </tr>\n    <tr>\n      <th>pemetrexed disodium</th>\n      <td>21</td>\n      <td>60</td>\n    </tr>\n    <tr>\n      <th>dexamethasone</th>\n      <td>21</td>\n      <td>60</td>\n    </tr>\n    <tr>\n      <th>ceritinib</th>\n      <td>22</td>\n      <td>33</td>\n    </tr>\n    <tr>\n      <th>tamoxifen citrate</th>\n      <td>23</td>\n      <td>36</td>\n    </tr>\n    <tr>\n      <th>bortezomib</th>\n      <td>25</td>\n      <td>27</td>\n    </tr>\n    <tr>\n      <th>methotrexate</th>\n      <td>26</td>\n      <td>119</td>\n    </tr>\n    <tr>\n      <th>vorinostat</th>\n      <td>27</td>\n      <td>235</td>\n    </tr>\n    <tr>\n      <th>doxorubicin hydrochloride</th>\n      <td>37</td>\n      <td>35</td>\n    </tr>\n    <tr>\n      <th>ondansetron hydrochloride</th>\n      <td>45</td>\n      <td>63</td>\n    </tr>\n    <tr>\n      <th>afatinib dimaleate</th>\n      <td>378</td>\n      <td>57</td>\n    </tr>\n    <tr>\n      <th>ruxolitinib phosphate</th>\n      <td>378</td>\n      <td>132</td>\n    </tr>\n    <tr>\n      <th>axitinib</th>\n      <td>379</td>\n      <td>99</td>\n    </tr>\n    <tr>\n      <th>bosutinib</th>\n      <td>380</td>\n      <td>200</td>\n    </tr>\n    <tr>\n      <th>pazopanib hydrochloride</th>\n      <td>382</td>\n      <td>165</td>\n    </tr>\n    <tr>\n      <th>vandetanib</th>\n      <td>383</td>\n      <td>223</td>\n    </tr>\n    <tr>\n      <th>gefitinib</th>\n      <td>384</td>\n      <td>151</td>\n    </tr>\n    <tr>\n      <th>crizotinib</th>\n      <td>384</td>\n      <td>165</td>\n    </tr>\n    <tr>\n      <th>lapatinib ditosylate</th>\n      <td>388</td>\n      <td>76</td>\n    </tr>\n    <tr>\n      <th>erlotinib hydrochloride</th>\n      <td>390</td>\n      <td>209</td>\n    </tr>\n    <tr>\n      <th>dasatinib</th>\n      <td>391</td>\n      <td>239</td>\n    </tr>\n    <tr>\n      <th>sunitinib malate</th>\n      <td>395</td>\n      <td>365</td>\n    </tr>\n    <tr>\n      <th>nilotinib</th>\n      <td>395</td>\n      <td>121</td>\n    </tr>\n    <tr>\n      <th>sorafenib tosylate</th>\n      <td>400</td>\n      <td>237</td>\n    </tr>\n    <tr>\n      <th>imatinib mesylate</th>\n      <td>411</td>\n      <td>199</td>\n    </tr>\n  </tbody>\n</table>\n</div>"
     },
     "metadata": {},
     "execution_count": 17
    }
   ],
   "source": [
    "targ.groupby('drug')['Target_Name', 'Assay_Value'].agg('nunique').sort_values(by='Target_Name').tail(25)"
   ]
  },
  {
   "cell_type": "code",
   "execution_count": 20,
   "metadata": {},
   "outputs": [
    {
     "output_type": "execute_result",
     "data": {
      "text/plain": [
       "                           sum\n",
       "drug                          \n",
       "belinostat                  34\n",
       "pemetrexed disodium         36\n",
       "afatinib dimaleate          43\n",
       "lanreotide acetate          45\n",
       "ondansetron hydrochloride   55\n",
       "bicalutamide                62\n",
       "bexarotene                  63\n",
       "axitinib                    74\n",
       "raloxifene hydrochloride    80\n",
       "dexamethasone              102\n",
       "nilotinib                  103\n",
       "ruxolitinib phosphate      111\n",
       "lapatinib ditosylate       113\n",
       "gefitinib                  152\n",
       "pazopanib hydrochloride    163\n",
       "crizotinib                 179\n",
       "methotrexate               179\n",
       "imatinib mesylate          189\n",
       "erlotinib hydrochloride    225\n",
       "bosutinib                  230\n",
       "vandetanib                 252\n",
       "dasatinib                  305\n",
       "sorafenib tosylate         325\n",
       "vorinostat                 417\n",
       "sunitinib malate           748"
      ],
      "text/html": "<div>\n<style scoped>\n    .dataframe tbody tr th:only-of-type {\n        vertical-align: middle;\n    }\n\n    .dataframe tbody tr th {\n        vertical-align: top;\n    }\n\n    .dataframe thead th {\n        text-align: right;\n    }\n</style>\n<table border=\"1\" class=\"dataframe\">\n  <thead>\n    <tr style=\"text-align: right;\">\n      <th></th>\n      <th>sum</th>\n    </tr>\n    <tr>\n      <th>drug</th>\n      <th></th>\n    </tr>\n  </thead>\n  <tbody>\n    <tr>\n      <th>belinostat</th>\n      <td>34</td>\n    </tr>\n    <tr>\n      <th>pemetrexed disodium</th>\n      <td>36</td>\n    </tr>\n    <tr>\n      <th>afatinib dimaleate</th>\n      <td>43</td>\n    </tr>\n    <tr>\n      <th>lanreotide acetate</th>\n      <td>45</td>\n    </tr>\n    <tr>\n      <th>ondansetron hydrochloride</th>\n      <td>55</td>\n    </tr>\n    <tr>\n      <th>bicalutamide</th>\n      <td>62</td>\n    </tr>\n    <tr>\n      <th>bexarotene</th>\n      <td>63</td>\n    </tr>\n    <tr>\n      <th>axitinib</th>\n      <td>74</td>\n    </tr>\n    <tr>\n      <th>raloxifene hydrochloride</th>\n      <td>80</td>\n    </tr>\n    <tr>\n      <th>dexamethasone</th>\n      <td>102</td>\n    </tr>\n    <tr>\n      <th>nilotinib</th>\n      <td>103</td>\n    </tr>\n    <tr>\n      <th>ruxolitinib phosphate</th>\n      <td>111</td>\n    </tr>\n    <tr>\n      <th>lapatinib ditosylate</th>\n      <td>113</td>\n    </tr>\n    <tr>\n      <th>gefitinib</th>\n      <td>152</td>\n    </tr>\n    <tr>\n      <th>pazopanib hydrochloride</th>\n      <td>163</td>\n    </tr>\n    <tr>\n      <th>crizotinib</th>\n      <td>179</td>\n    </tr>\n    <tr>\n      <th>methotrexate</th>\n      <td>179</td>\n    </tr>\n    <tr>\n      <th>imatinib mesylate</th>\n      <td>189</td>\n    </tr>\n    <tr>\n      <th>erlotinib hydrochloride</th>\n      <td>225</td>\n    </tr>\n    <tr>\n      <th>bosutinib</th>\n      <td>230</td>\n    </tr>\n    <tr>\n      <th>vandetanib</th>\n      <td>252</td>\n    </tr>\n    <tr>\n      <th>dasatinib</th>\n      <td>305</td>\n    </tr>\n    <tr>\n      <th>sorafenib tosylate</th>\n      <td>325</td>\n    </tr>\n    <tr>\n      <th>vorinostat</th>\n      <td>417</td>\n    </tr>\n    <tr>\n      <th>sunitinib malate</th>\n      <td>748</td>\n    </tr>\n  </tbody>\n</table>\n</div>"
     },
     "metadata": {},
     "execution_count": 20
    }
   ],
   "source": [
    "targ.assign(low_KD=lambda x: x.Assay_Value < 1000).groupby('drug')['low_KD'].agg(['sum']).sort_values(by='sum').tail(25)"
   ]
  },
  {
   "cell_type": "code",
   "execution_count": 22,
   "metadata": {},
   "outputs": [
    {
     "output_type": "execute_result",
     "data": {
      "text/plain": [
       "                   drug                target       kd_mean        kd_std  \\\n",
       "0   abiraterone acetate               CYP11B1   1609.000000      1.414214   \n",
       "1   abiraterone acetate               CYP11B2   1750.500000      0.707107   \n",
       "2   abiraterone acetate               CYP17A1    152.316667    318.314061   \n",
       "3   abiraterone acetate               CYP19A1  25000.000000  22912.878475   \n",
       "4   abiraterone acetate                CYP3A4   2702.000000      2.828427   \n",
       "5   abiraterone acetate  Cytochrome P450 17A1    116.500000    146.371104   \n",
       "6    afatinib dimaleate                  AAK1  10000.000000           NaN   \n",
       "7    afatinib dimaleate                  ABL1    994.285714    802.732969   \n",
       "8    afatinib dimaleate                  ABL2  10000.000000           NaN   \n",
       "9    afatinib dimaleate                 ACVR1  10000.000000           NaN   \n",
       "10   afatinib dimaleate                ACVR1B  10000.000000           NaN   \n",
       "11   afatinib dimaleate                ACVR2A  10000.000000           NaN   \n",
       "12   afatinib dimaleate                ACVR2B  10000.000000           NaN   \n",
       "13   afatinib dimaleate                ACVRL1  10000.000000           NaN   \n",
       "14   afatinib dimaleate                 ADCK3  10000.000000           NaN   \n",
       "15   afatinib dimaleate                 ADCK4  10000.000000           NaN   \n",
       "16   afatinib dimaleate                  AKT1  10000.000000           NaN   \n",
       "17   afatinib dimaleate                  AKT2  10000.000000           NaN   \n",
       "18   afatinib dimaleate                  AKT3  10000.000000           NaN   \n",
       "19   afatinib dimaleate                   ALK  10000.000000           NaN   \n",
       "\n",
       "     kd_max   kd_min   n  \n",
       "0    1610.0   1608.0   2  \n",
       "1    1751.0   1750.0   2  \n",
       "2     800.0      2.9   6  \n",
       "3   50000.0   5000.0   3  \n",
       "4    2704.0   2700.0   2  \n",
       "5     220.0     13.0   2  \n",
       "6   10000.0  10000.0   1  \n",
       "7    2900.0    230.0  14  \n",
       "8   10000.0  10000.0   1  \n",
       "9   10000.0  10000.0   1  \n",
       "10  10000.0  10000.0   1  \n",
       "11  10000.0  10000.0   1  \n",
       "12  10000.0  10000.0   1  \n",
       "13  10000.0  10000.0   1  \n",
       "14  10000.0  10000.0   1  \n",
       "15  10000.0  10000.0   1  \n",
       "16  10000.0  10000.0   1  \n",
       "17  10000.0  10000.0   1  \n",
       "18  10000.0  10000.0   1  \n",
       "19  10000.0  10000.0   1  "
      ],
      "text/html": "<div>\n<style scoped>\n    .dataframe tbody tr th:only-of-type {\n        vertical-align: middle;\n    }\n\n    .dataframe tbody tr th {\n        vertical-align: top;\n    }\n\n    .dataframe thead th {\n        text-align: right;\n    }\n</style>\n<table border=\"1\" class=\"dataframe\">\n  <thead>\n    <tr style=\"text-align: right;\">\n      <th></th>\n      <th>drug</th>\n      <th>target</th>\n      <th>kd_mean</th>\n      <th>kd_std</th>\n      <th>kd_max</th>\n      <th>kd_min</th>\n      <th>n</th>\n    </tr>\n  </thead>\n  <tbody>\n    <tr>\n      <th>0</th>\n      <td>abiraterone acetate</td>\n      <td>CYP11B1</td>\n      <td>1609.000000</td>\n      <td>1.414214</td>\n      <td>1610.0</td>\n      <td>1608.0</td>\n      <td>2</td>\n    </tr>\n    <tr>\n      <th>1</th>\n      <td>abiraterone acetate</td>\n      <td>CYP11B2</td>\n      <td>1750.500000</td>\n      <td>0.707107</td>\n      <td>1751.0</td>\n      <td>1750.0</td>\n      <td>2</td>\n    </tr>\n    <tr>\n      <th>2</th>\n      <td>abiraterone acetate</td>\n      <td>CYP17A1</td>\n      <td>152.316667</td>\n      <td>318.314061</td>\n      <td>800.0</td>\n      <td>2.9</td>\n      <td>6</td>\n    </tr>\n    <tr>\n      <th>3</th>\n      <td>abiraterone acetate</td>\n      <td>CYP19A1</td>\n      <td>25000.000000</td>\n      <td>22912.878475</td>\n      <td>50000.0</td>\n      <td>5000.0</td>\n      <td>3</td>\n    </tr>\n    <tr>\n      <th>4</th>\n      <td>abiraterone acetate</td>\n      <td>CYP3A4</td>\n      <td>2702.000000</td>\n      <td>2.828427</td>\n      <td>2704.0</td>\n      <td>2700.0</td>\n      <td>2</td>\n    </tr>\n    <tr>\n      <th>5</th>\n      <td>abiraterone acetate</td>\n      <td>Cytochrome P450 17A1</td>\n      <td>116.500000</td>\n      <td>146.371104</td>\n      <td>220.0</td>\n      <td>13.0</td>\n      <td>2</td>\n    </tr>\n    <tr>\n      <th>6</th>\n      <td>afatinib dimaleate</td>\n      <td>AAK1</td>\n      <td>10000.000000</td>\n      <td>NaN</td>\n      <td>10000.0</td>\n      <td>10000.0</td>\n      <td>1</td>\n    </tr>\n    <tr>\n      <th>7</th>\n      <td>afatinib dimaleate</td>\n      <td>ABL1</td>\n      <td>994.285714</td>\n      <td>802.732969</td>\n      <td>2900.0</td>\n      <td>230.0</td>\n      <td>14</td>\n    </tr>\n    <tr>\n      <th>8</th>\n      <td>afatinib dimaleate</td>\n      <td>ABL2</td>\n      <td>10000.000000</td>\n      <td>NaN</td>\n      <td>10000.0</td>\n      <td>10000.0</td>\n      <td>1</td>\n    </tr>\n    <tr>\n      <th>9</th>\n      <td>afatinib dimaleate</td>\n      <td>ACVR1</td>\n      <td>10000.000000</td>\n      <td>NaN</td>\n      <td>10000.0</td>\n      <td>10000.0</td>\n      <td>1</td>\n    </tr>\n    <tr>\n      <th>10</th>\n      <td>afatinib dimaleate</td>\n      <td>ACVR1B</td>\n      <td>10000.000000</td>\n      <td>NaN</td>\n      <td>10000.0</td>\n      <td>10000.0</td>\n      <td>1</td>\n    </tr>\n    <tr>\n      <th>11</th>\n      <td>afatinib dimaleate</td>\n      <td>ACVR2A</td>\n      <td>10000.000000</td>\n      <td>NaN</td>\n      <td>10000.0</td>\n      <td>10000.0</td>\n      <td>1</td>\n    </tr>\n    <tr>\n      <th>12</th>\n      <td>afatinib dimaleate</td>\n      <td>ACVR2B</td>\n      <td>10000.000000</td>\n      <td>NaN</td>\n      <td>10000.0</td>\n      <td>10000.0</td>\n      <td>1</td>\n    </tr>\n    <tr>\n      <th>13</th>\n      <td>afatinib dimaleate</td>\n      <td>ACVRL1</td>\n      <td>10000.000000</td>\n      <td>NaN</td>\n      <td>10000.0</td>\n      <td>10000.0</td>\n      <td>1</td>\n    </tr>\n    <tr>\n      <th>14</th>\n      <td>afatinib dimaleate</td>\n      <td>ADCK3</td>\n      <td>10000.000000</td>\n      <td>NaN</td>\n      <td>10000.0</td>\n      <td>10000.0</td>\n      <td>1</td>\n    </tr>\n    <tr>\n      <th>15</th>\n      <td>afatinib dimaleate</td>\n      <td>ADCK4</td>\n      <td>10000.000000</td>\n      <td>NaN</td>\n      <td>10000.0</td>\n      <td>10000.0</td>\n      <td>1</td>\n    </tr>\n    <tr>\n      <th>16</th>\n      <td>afatinib dimaleate</td>\n      <td>AKT1</td>\n      <td>10000.000000</td>\n      <td>NaN</td>\n      <td>10000.0</td>\n      <td>10000.0</td>\n      <td>1</td>\n    </tr>\n    <tr>\n      <th>17</th>\n      <td>afatinib dimaleate</td>\n      <td>AKT2</td>\n      <td>10000.000000</td>\n      <td>NaN</td>\n      <td>10000.0</td>\n      <td>10000.0</td>\n      <td>1</td>\n    </tr>\n    <tr>\n      <th>18</th>\n      <td>afatinib dimaleate</td>\n      <td>AKT3</td>\n      <td>10000.000000</td>\n      <td>NaN</td>\n      <td>10000.0</td>\n      <td>10000.0</td>\n      <td>1</td>\n    </tr>\n    <tr>\n      <th>19</th>\n      <td>afatinib dimaleate</td>\n      <td>ALK</td>\n      <td>10000.000000</td>\n      <td>NaN</td>\n      <td>10000.0</td>\n      <td>10000.0</td>\n      <td>1</td>\n    </tr>\n  </tbody>\n</table>\n</div>"
     },
     "metadata": {},
     "execution_count": 22
    }
   ],
   "source": [
    "# average across assays \n",
    "res = targ[['drug', 'Target_Name', 'Assay_Value']].drop_duplicates().groupby(['drug', 'Target_Name']).agg(['mean', 'std', 'max', 'min', 'count']).reset_index()\n",
    "res.columns = ['drug', 'target', 'kd_mean', 'kd_std', 'kd_max', 'kd_min', 'n']\n",
    "res.head(20)"
   ]
  },
  {
   "cell_type": "code",
   "execution_count": 32,
   "metadata": {},
   "outputs": [
    {
     "output_type": "stream",
     "name": "stderr",
     "text": [
      "C:\\Users\\natha\\miniconda3\\lib\\site-packages\\numpy\\lib\\histograms.py:839: RuntimeWarning: invalid value encountered in greater_equal\n  keep = (tmp_a >= first_edge)\nC:\\Users\\natha\\miniconda3\\lib\\site-packages\\numpy\\lib\\histograms.py:840: RuntimeWarning: invalid value encountered in less_equal\n  keep &= (tmp_a <= last_edge)\n"
     ]
    },
    {
     "output_type": "display_data",
     "data": {
      "text/plain": "<Figure size 432x288 with 1 Axes>",
      "image/svg+xml": "<?xml version=\"1.0\" encoding=\"utf-8\" standalone=\"no\"?>\r\n<!DOCTYPE svg PUBLIC \"-//W3C//DTD SVG 1.1//EN\"\r\n  \"http://www.w3.org/Graphics/SVG/1.1/DTD/svg11.dtd\">\r\n<!-- Created with matplotlib (https://matplotlib.org/) -->\r\n<svg height=\"262.19625pt\" version=\"1.1\" viewBox=\"0 0 368.925 262.19625\" width=\"368.925pt\" xmlns=\"http://www.w3.org/2000/svg\" xmlns:xlink=\"http://www.w3.org/1999/xlink\">\r\n <defs>\r\n  <style type=\"text/css\">\r\n*{stroke-linecap:butt;stroke-linejoin:round;}\r\n  </style>\r\n </defs>\r\n <g id=\"figure_1\">\r\n  <g id=\"patch_1\">\r\n   <path d=\"M -0 262.19625 \r\nL 368.925 262.19625 \r\nL 368.925 0 \r\nL -0 0 \r\nz\r\n\" style=\"fill:none;\"/>\r\n  </g>\r\n  <g id=\"axes_1\">\r\n   <g id=\"patch_2\">\r\n    <path d=\"M 26.925 224.64 \r\nL 361.725 224.64 \r\nL 361.725 7.2 \r\nL 26.925 7.2 \r\nz\r\n\" style=\"fill:#ffffff;\"/>\r\n   </g>\r\n   <g id=\"patch_3\">\r\n    <path clip-path=\"url(#p536d658bbd)\" d=\"M 42.143182 224.64 \r\nL 48.230455 224.64 \r\nL 48.230455 17.554286 \r\nL 42.143182 17.554286 \r\nz\r\n\" style=\"fill:#1f77b4;\"/>\r\n   </g>\r\n   <g id=\"patch_4\">\r\n    <path clip-path=\"url(#p536d658bbd)\" d=\"M 48.230455 224.64 \r\nL 54.317727 224.64 \r\nL 54.317727 121.097143 \r\nL 48.230455 121.097143 \r\nz\r\n\" style=\"fill:#1f77b4;\"/>\r\n   </g>\r\n   <g id=\"patch_5\">\r\n    <path clip-path=\"url(#p536d658bbd)\" d=\"M 54.317727 224.64 \r\nL 60.405 224.64 \r\nL 60.405 162.514286 \r\nL 54.317727 162.514286 \r\nz\r\n\" style=\"fill:#1f77b4;\"/>\r\n   </g>\r\n   <g id=\"patch_6\">\r\n    <path clip-path=\"url(#p536d658bbd)\" d=\"M 60.405 224.64 \r\nL 66.492273 224.64 \r\nL 66.492273 190.125714 \r\nL 60.405 190.125714 \r\nz\r\n\" style=\"fill:#1f77b4;\"/>\r\n   </g>\r\n   <g id=\"patch_7\">\r\n    <path clip-path=\"url(#p536d658bbd)\" d=\"M 66.492273 224.64 \r\nL 72.579545 224.64 \r\nL 72.579545 183.222857 \r\nL 66.492273 183.222857 \r\nz\r\n\" style=\"fill:#1f77b4;\"/>\r\n   </g>\r\n   <g id=\"patch_8\">\r\n    <path clip-path=\"url(#p536d658bbd)\" d=\"M 72.579545 224.64 \r\nL 78.666818 224.64 \r\nL 78.666818 203.931429 \r\nL 72.579545 203.931429 \r\nz\r\n\" style=\"fill:#1f77b4;\"/>\r\n   </g>\r\n   <g id=\"patch_9\">\r\n    <path clip-path=\"url(#p536d658bbd)\" d=\"M 78.666818 224.64 \r\nL 84.754091 224.64 \r\nL 84.754091 197.028571 \r\nL 78.666818 197.028571 \r\nz\r\n\" style=\"fill:#1f77b4;\"/>\r\n   </g>\r\n   <g id=\"patch_10\">\r\n    <path clip-path=\"url(#p536d658bbd)\" d=\"M 84.754091 224.64 \r\nL 90.841364 224.64 \r\nL 90.841364 190.125714 \r\nL 84.754091 190.125714 \r\nz\r\n\" style=\"fill:#1f77b4;\"/>\r\n   </g>\r\n   <g id=\"patch_11\">\r\n    <path clip-path=\"url(#p536d658bbd)\" d=\"M 90.841364 224.64 \r\nL 96.928636 224.64 \r\nL 96.928636 203.931429 \r\nL 90.841364 203.931429 \r\nz\r\n\" style=\"fill:#1f77b4;\"/>\r\n   </g>\r\n   <g id=\"patch_12\">\r\n    <path clip-path=\"url(#p536d658bbd)\" d=\"M 96.928636 224.64 \r\nL 103.015909 224.64 \r\nL 103.015909 210.834286 \r\nL 96.928636 210.834286 \r\nz\r\n\" style=\"fill:#1f77b4;\"/>\r\n   </g>\r\n   <g id=\"patch_13\">\r\n    <path clip-path=\"url(#p536d658bbd)\" d=\"M 103.015909 224.64 \r\nL 109.103182 224.64 \r\nL 109.103182 176.32 \r\nL 103.015909 176.32 \r\nz\r\n\" style=\"fill:#1f77b4;\"/>\r\n   </g>\r\n   <g id=\"patch_14\">\r\n    <path clip-path=\"url(#p536d658bbd)\" d=\"M 109.103182 224.64 \r\nL 115.190455 224.64 \r\nL 115.190455 210.834286 \r\nL 109.103182 210.834286 \r\nz\r\n\" style=\"fill:#1f77b4;\"/>\r\n   </g>\r\n   <g id=\"patch_15\">\r\n    <path clip-path=\"url(#p536d658bbd)\" d=\"M 115.190455 224.64 \r\nL 121.277727 224.64 \r\nL 121.277727 176.32 \r\nL 115.190455 176.32 \r\nz\r\n\" style=\"fill:#1f77b4;\"/>\r\n   </g>\r\n   <g id=\"patch_16\">\r\n    <path clip-path=\"url(#p536d658bbd)\" d=\"M 121.277727 224.64 \r\nL 127.365 224.64 \r\nL 127.365 203.931429 \r\nL 121.277727 203.931429 \r\nz\r\n\" style=\"fill:#1f77b4;\"/>\r\n   </g>\r\n   <g id=\"patch_17\">\r\n    <path clip-path=\"url(#p536d658bbd)\" d=\"M 127.365 224.64 \r\nL 133.452273 224.64 \r\nL 133.452273 162.514286 \r\nL 127.365 162.514286 \r\nz\r\n\" style=\"fill:#1f77b4;\"/>\r\n   </g>\r\n   <g id=\"patch_18\">\r\n    <path clip-path=\"url(#p536d658bbd)\" d=\"M 133.452273 224.64 \r\nL 139.539545 224.64 \r\nL 139.539545 197.028571 \r\nL 133.452273 197.028571 \r\nz\r\n\" style=\"fill:#1f77b4;\"/>\r\n   </g>\r\n   <g id=\"patch_19\">\r\n    <path clip-path=\"url(#p536d658bbd)\" d=\"M 139.539545 224.64 \r\nL 145.626818 224.64 \r\nL 145.626818 217.737143 \r\nL 139.539545 217.737143 \r\nz\r\n\" style=\"fill:#1f77b4;\"/>\r\n   </g>\r\n   <g id=\"patch_20\">\r\n    <path clip-path=\"url(#p536d658bbd)\" d=\"M 145.626818 224.64 \r\nL 151.714091 224.64 \r\nL 151.714091 176.32 \r\nL 145.626818 176.32 \r\nz\r\n\" style=\"fill:#1f77b4;\"/>\r\n   </g>\r\n   <g id=\"patch_21\">\r\n    <path clip-path=\"url(#p536d658bbd)\" d=\"M 151.714091 224.64 \r\nL 157.801364 224.64 \r\nL 157.801364 183.222857 \r\nL 151.714091 183.222857 \r\nz\r\n\" style=\"fill:#1f77b4;\"/>\r\n   </g>\r\n   <g id=\"patch_22\">\r\n    <path clip-path=\"url(#p536d658bbd)\" d=\"M 157.801364 224.64 \r\nL 163.888636 224.64 \r\nL 163.888636 203.931429 \r\nL 157.801364 203.931429 \r\nz\r\n\" style=\"fill:#1f77b4;\"/>\r\n   </g>\r\n   <g id=\"patch_23\">\r\n    <path clip-path=\"url(#p536d658bbd)\" d=\"M 163.888636 224.64 \r\nL 169.975909 224.64 \r\nL 169.975909 197.028571 \r\nL 163.888636 197.028571 \r\nz\r\n\" style=\"fill:#1f77b4;\"/>\r\n   </g>\r\n   <g id=\"patch_24\">\r\n    <path clip-path=\"url(#p536d658bbd)\" d=\"M 169.975909 224.64 \r\nL 176.063182 224.64 \r\nL 176.063182 210.834286 \r\nL 169.975909 210.834286 \r\nz\r\n\" style=\"fill:#1f77b4;\"/>\r\n   </g>\r\n   <g id=\"patch_25\">\r\n    <path clip-path=\"url(#p536d658bbd)\" d=\"M 176.063182 224.64 \r\nL 182.150455 224.64 \r\nL 182.150455 183.222857 \r\nL 176.063182 183.222857 \r\nz\r\n\" style=\"fill:#1f77b4;\"/>\r\n   </g>\r\n   <g id=\"patch_26\">\r\n    <path clip-path=\"url(#p536d658bbd)\" d=\"M 182.150455 224.64 \r\nL 188.237727 224.64 \r\nL 188.237727 183.222857 \r\nL 182.150455 183.222857 \r\nz\r\n\" style=\"fill:#1f77b4;\"/>\r\n   </g>\r\n   <g id=\"patch_27\">\r\n    <path clip-path=\"url(#p536d658bbd)\" d=\"M 188.237727 224.64 \r\nL 194.325 224.64 \r\nL 194.325 217.737143 \r\nL 188.237727 217.737143 \r\nz\r\n\" style=\"fill:#1f77b4;\"/>\r\n   </g>\r\n   <g id=\"patch_28\">\r\n    <path clip-path=\"url(#p536d658bbd)\" d=\"M 194.325 224.64 \r\nL 200.412273 224.64 \r\nL 200.412273 197.028571 \r\nL 194.325 197.028571 \r\nz\r\n\" style=\"fill:#1f77b4;\"/>\r\n   </g>\r\n   <g id=\"patch_29\">\r\n    <path clip-path=\"url(#p536d658bbd)\" d=\"M 200.412273 224.64 \r\nL 206.499545 224.64 \r\nL 206.499545 203.931429 \r\nL 200.412273 203.931429 \r\nz\r\n\" style=\"fill:#1f77b4;\"/>\r\n   </g>\r\n   <g id=\"patch_30\">\r\n    <path clip-path=\"url(#p536d658bbd)\" d=\"M 206.499545 224.64 \r\nL 212.586818 224.64 \r\nL 212.586818 210.834286 \r\nL 206.499545 210.834286 \r\nz\r\n\" style=\"fill:#1f77b4;\"/>\r\n   </g>\r\n   <g id=\"patch_31\">\r\n    <path clip-path=\"url(#p536d658bbd)\" d=\"M 212.586818 224.64 \r\nL 218.674091 224.64 \r\nL 218.674091 190.125714 \r\nL 212.586818 190.125714 \r\nz\r\n\" style=\"fill:#1f77b4;\"/>\r\n   </g>\r\n   <g id=\"patch_32\">\r\n    <path clip-path=\"url(#p536d658bbd)\" d=\"M 218.674091 224.64 \r\nL 224.761364 224.64 \r\nL 224.761364 217.737143 \r\nL 218.674091 217.737143 \r\nz\r\n\" style=\"fill:#1f77b4;\"/>\r\n   </g>\r\n   <g id=\"patch_33\">\r\n    <path clip-path=\"url(#p536d658bbd)\" d=\"M 224.761364 224.64 \r\nL 230.848636 224.64 \r\nL 230.848636 210.834286 \r\nL 224.761364 210.834286 \r\nz\r\n\" style=\"fill:#1f77b4;\"/>\r\n   </g>\r\n   <g id=\"patch_34\">\r\n    <path clip-path=\"url(#p536d658bbd)\" d=\"M 230.848636 224.64 \r\nL 236.935909 224.64 \r\nL 236.935909 210.834286 \r\nL 230.848636 210.834286 \r\nz\r\n\" style=\"fill:#1f77b4;\"/>\r\n   </g>\r\n   <g id=\"patch_35\">\r\n    <path clip-path=\"url(#p536d658bbd)\" d=\"M 236.935909 224.64 \r\nL 243.023182 224.64 \r\nL 243.023182 217.737143 \r\nL 236.935909 217.737143 \r\nz\r\n\" style=\"fill:#1f77b4;\"/>\r\n   </g>\r\n   <g id=\"patch_36\">\r\n    <path clip-path=\"url(#p536d658bbd)\" d=\"M 243.023182 224.64 \r\nL 249.110455 224.64 \r\nL 249.110455 217.737143 \r\nL 243.023182 217.737143 \r\nz\r\n\" style=\"fill:#1f77b4;\"/>\r\n   </g>\r\n   <g id=\"patch_37\">\r\n    <path clip-path=\"url(#p536d658bbd)\" d=\"M 249.110455 224.64 \r\nL 255.197727 224.64 \r\nL 255.197727 210.834286 \r\nL 249.110455 210.834286 \r\nz\r\n\" style=\"fill:#1f77b4;\"/>\r\n   </g>\r\n   <g id=\"patch_38\">\r\n    <path clip-path=\"url(#p536d658bbd)\" d=\"M 255.197727 224.64 \r\nL 261.285 224.64 \r\nL 261.285 224.64 \r\nL 255.197727 224.64 \r\nz\r\n\" style=\"fill:#1f77b4;\"/>\r\n   </g>\r\n   <g id=\"patch_39\">\r\n    <path clip-path=\"url(#p536d658bbd)\" d=\"M 261.285 224.64 \r\nL 267.372273 224.64 \r\nL 267.372273 217.737143 \r\nL 261.285 217.737143 \r\nz\r\n\" style=\"fill:#1f77b4;\"/>\r\n   </g>\r\n   <g id=\"patch_40\">\r\n    <path clip-path=\"url(#p536d658bbd)\" d=\"M 267.372273 224.64 \r\nL 273.459545 224.64 \r\nL 273.459545 210.834286 \r\nL 267.372273 210.834286 \r\nz\r\n\" style=\"fill:#1f77b4;\"/>\r\n   </g>\r\n   <g id=\"patch_41\">\r\n    <path clip-path=\"url(#p536d658bbd)\" d=\"M 273.459545 224.64 \r\nL 279.546818 224.64 \r\nL 279.546818 224.64 \r\nL 273.459545 224.64 \r\nz\r\n\" style=\"fill:#1f77b4;\"/>\r\n   </g>\r\n   <g id=\"patch_42\">\r\n    <path clip-path=\"url(#p536d658bbd)\" d=\"M 279.546818 224.64 \r\nL 285.634091 224.64 \r\nL 285.634091 224.64 \r\nL 279.546818 224.64 \r\nz\r\n\" style=\"fill:#1f77b4;\"/>\r\n   </g>\r\n   <g id=\"patch_43\">\r\n    <path clip-path=\"url(#p536d658bbd)\" d=\"M 285.634091 224.64 \r\nL 291.721364 224.64 \r\nL 291.721364 210.834286 \r\nL 285.634091 210.834286 \r\nz\r\n\" style=\"fill:#1f77b4;\"/>\r\n   </g>\r\n   <g id=\"patch_44\">\r\n    <path clip-path=\"url(#p536d658bbd)\" d=\"M 291.721364 224.64 \r\nL 297.808636 224.64 \r\nL 297.808636 217.737143 \r\nL 291.721364 217.737143 \r\nz\r\n\" style=\"fill:#1f77b4;\"/>\r\n   </g>\r\n   <g id=\"patch_45\">\r\n    <path clip-path=\"url(#p536d658bbd)\" d=\"M 297.808636 224.64 \r\nL 303.895909 224.64 \r\nL 303.895909 224.64 \r\nL 297.808636 224.64 \r\nz\r\n\" style=\"fill:#1f77b4;\"/>\r\n   </g>\r\n   <g id=\"patch_46\">\r\n    <path clip-path=\"url(#p536d658bbd)\" d=\"M 303.895909 224.64 \r\nL 309.983182 224.64 \r\nL 309.983182 224.64 \r\nL 303.895909 224.64 \r\nz\r\n\" style=\"fill:#1f77b4;\"/>\r\n   </g>\r\n   <g id=\"patch_47\">\r\n    <path clip-path=\"url(#p536d658bbd)\" d=\"M 309.983182 224.64 \r\nL 316.070455 224.64 \r\nL 316.070455 224.64 \r\nL 309.983182 224.64 \r\nz\r\n\" style=\"fill:#1f77b4;\"/>\r\n   </g>\r\n   <g id=\"patch_48\">\r\n    <path clip-path=\"url(#p536d658bbd)\" d=\"M 316.070455 224.64 \r\nL 322.157727 224.64 \r\nL 322.157727 224.64 \r\nL 316.070455 224.64 \r\nz\r\n\" style=\"fill:#1f77b4;\"/>\r\n   </g>\r\n   <g id=\"patch_49\">\r\n    <path clip-path=\"url(#p536d658bbd)\" d=\"M 322.157727 224.64 \r\nL 328.245 224.64 \r\nL 328.245 197.028571 \r\nL 322.157727 197.028571 \r\nz\r\n\" style=\"fill:#1f77b4;\"/>\r\n   </g>\r\n   <g id=\"patch_50\">\r\n    <path clip-path=\"url(#p536d658bbd)\" d=\"M 328.245 224.64 \r\nL 334.332273 224.64 \r\nL 334.332273 224.64 \r\nL 328.245 224.64 \r\nz\r\n\" style=\"fill:#1f77b4;\"/>\r\n   </g>\r\n   <g id=\"patch_51\">\r\n    <path clip-path=\"url(#p536d658bbd)\" d=\"M 334.332273 224.64 \r\nL 340.419545 224.64 \r\nL 340.419545 217.737143 \r\nL 334.332273 217.737143 \r\nz\r\n\" style=\"fill:#1f77b4;\"/>\r\n   </g>\r\n   <g id=\"patch_52\">\r\n    <path clip-path=\"url(#p536d658bbd)\" d=\"M 340.419545 224.64 \r\nL 346.506818 224.64 \r\nL 346.506818 210.834286 \r\nL 340.419545 210.834286 \r\nz\r\n\" style=\"fill:#1f77b4;\"/>\r\n   </g>\r\n   <g id=\"matplotlib.axis_1\">\r\n    <g id=\"xtick_1\">\r\n     <g id=\"line2d_1\">\r\n      <defs>\r\n       <path d=\"M 0 0 \r\nL 0 3.5 \r\n\" id=\"me733fb94dd\" style=\"stroke:#000000;stroke-width:0.8;\"/>\r\n      </defs>\r\n      <g>\r\n       <use style=\"stroke:#000000;stroke-width:0.8;\" x=\"42.143182\" xlink:href=\"#me733fb94dd\" y=\"224.64\"/>\r\n      </g>\r\n     </g>\r\n     <g id=\"text_1\">\r\n      <!-- 0 -->\r\n      <defs>\r\n       <path d=\"M 31.78125 66.40625 \r\nQ 24.171875 66.40625 20.328125 58.90625 \r\nQ 16.5 51.421875 16.5 36.375 \r\nQ 16.5 21.390625 20.328125 13.890625 \r\nQ 24.171875 6.390625 31.78125 6.390625 \r\nQ 39.453125 6.390625 43.28125 13.890625 \r\nQ 47.125 21.390625 47.125 36.375 \r\nQ 47.125 51.421875 43.28125 58.90625 \r\nQ 39.453125 66.40625 31.78125 66.40625 \r\nz\r\nM 31.78125 74.21875 \r\nQ 44.046875 74.21875 50.515625 64.515625 \r\nQ 56.984375 54.828125 56.984375 36.375 \r\nQ 56.984375 17.96875 50.515625 8.265625 \r\nQ 44.046875 -1.421875 31.78125 -1.421875 \r\nQ 19.53125 -1.421875 13.0625 8.265625 \r\nQ 6.59375 17.96875 6.59375 36.375 \r\nQ 6.59375 54.828125 13.0625 64.515625 \r\nQ 19.53125 74.21875 31.78125 74.21875 \r\nz\r\n\" id=\"DejaVuSans-48\"/>\r\n      </defs>\r\n      <g transform=\"translate(38.961932 239.238437)scale(0.1 -0.1)\">\r\n       <use xlink:href=\"#DejaVuSans-48\"/>\r\n      </g>\r\n     </g>\r\n    </g>\r\n    <g id=\"xtick_2\">\r\n     <g id=\"line2d_2\">\r\n      <g>\r\n       <use style=\"stroke:#000000;stroke-width:0.8;\" x=\"92.833305\" xlink:href=\"#me733fb94dd\" y=\"224.64\"/>\r\n      </g>\r\n     </g>\r\n     <g id=\"text_2\">\r\n      <!-- 100 -->\r\n      <defs>\r\n       <path d=\"M 12.40625 8.296875 \r\nL 28.515625 8.296875 \r\nL 28.515625 63.921875 \r\nL 10.984375 60.40625 \r\nL 10.984375 69.390625 \r\nL 28.421875 72.90625 \r\nL 38.28125 72.90625 \r\nL 38.28125 8.296875 \r\nL 54.390625 8.296875 \r\nL 54.390625 0 \r\nL 12.40625 0 \r\nz\r\n\" id=\"DejaVuSans-49\"/>\r\n      </defs>\r\n      <g transform=\"translate(83.289555 239.238437)scale(0.1 -0.1)\">\r\n       <use xlink:href=\"#DejaVuSans-49\"/>\r\n       <use x=\"63.623047\" xlink:href=\"#DejaVuSans-48\"/>\r\n       <use x=\"127.246094\" xlink:href=\"#DejaVuSans-48\"/>\r\n      </g>\r\n     </g>\r\n    </g>\r\n    <g id=\"xtick_3\">\r\n     <g id=\"line2d_3\">\r\n      <g>\r\n       <use style=\"stroke:#000000;stroke-width:0.8;\" x=\"143.523429\" xlink:href=\"#me733fb94dd\" y=\"224.64\"/>\r\n      </g>\r\n     </g>\r\n     <g id=\"text_3\">\r\n      <!-- 200 -->\r\n      <defs>\r\n       <path d=\"M 19.1875 8.296875 \r\nL 53.609375 8.296875 \r\nL 53.609375 0 \r\nL 7.328125 0 \r\nL 7.328125 8.296875 \r\nQ 12.9375 14.109375 22.625 23.890625 \r\nQ 32.328125 33.6875 34.8125 36.53125 \r\nQ 39.546875 41.84375 41.421875 45.53125 \r\nQ 43.3125 49.21875 43.3125 52.78125 \r\nQ 43.3125 58.59375 39.234375 62.25 \r\nQ 35.15625 65.921875 28.609375 65.921875 \r\nQ 23.96875 65.921875 18.8125 64.3125 \r\nQ 13.671875 62.703125 7.8125 59.421875 \r\nL 7.8125 69.390625 \r\nQ 13.765625 71.78125 18.9375 73 \r\nQ 24.125 74.21875 28.421875 74.21875 \r\nQ 39.75 74.21875 46.484375 68.546875 \r\nQ 53.21875 62.890625 53.21875 53.421875 \r\nQ 53.21875 48.921875 51.53125 44.890625 \r\nQ 49.859375 40.875 45.40625 35.40625 \r\nQ 44.1875 33.984375 37.640625 27.21875 \r\nQ 31.109375 20.453125 19.1875 8.296875 \r\nz\r\n\" id=\"DejaVuSans-50\"/>\r\n      </defs>\r\n      <g transform=\"translate(133.979679 239.238437)scale(0.1 -0.1)\">\r\n       <use xlink:href=\"#DejaVuSans-50\"/>\r\n       <use x=\"63.623047\" xlink:href=\"#DejaVuSans-48\"/>\r\n       <use x=\"127.246094\" xlink:href=\"#DejaVuSans-48\"/>\r\n      </g>\r\n     </g>\r\n    </g>\r\n    <g id=\"xtick_4\">\r\n     <g id=\"line2d_4\">\r\n      <g>\r\n       <use style=\"stroke:#000000;stroke-width:0.8;\" x=\"194.213552\" xlink:href=\"#me733fb94dd\" y=\"224.64\"/>\r\n      </g>\r\n     </g>\r\n     <g id=\"text_4\">\r\n      <!-- 300 -->\r\n      <defs>\r\n       <path d=\"M 40.578125 39.3125 \r\nQ 47.65625 37.796875 51.625 33 \r\nQ 55.609375 28.21875 55.609375 21.1875 \r\nQ 55.609375 10.40625 48.1875 4.484375 \r\nQ 40.765625 -1.421875 27.09375 -1.421875 \r\nQ 22.515625 -1.421875 17.65625 -0.515625 \r\nQ 12.796875 0.390625 7.625 2.203125 \r\nL 7.625 11.71875 \r\nQ 11.71875 9.328125 16.59375 8.109375 \r\nQ 21.484375 6.890625 26.8125 6.890625 \r\nQ 36.078125 6.890625 40.9375 10.546875 \r\nQ 45.796875 14.203125 45.796875 21.1875 \r\nQ 45.796875 27.640625 41.28125 31.265625 \r\nQ 36.765625 34.90625 28.71875 34.90625 \r\nL 20.21875 34.90625 \r\nL 20.21875 43.015625 \r\nL 29.109375 43.015625 \r\nQ 36.375 43.015625 40.234375 45.921875 \r\nQ 44.09375 48.828125 44.09375 54.296875 \r\nQ 44.09375 59.90625 40.109375 62.90625 \r\nQ 36.140625 65.921875 28.71875 65.921875 \r\nQ 24.65625 65.921875 20.015625 65.03125 \r\nQ 15.375 64.15625 9.8125 62.3125 \r\nL 9.8125 71.09375 \r\nQ 15.4375 72.65625 20.34375 73.4375 \r\nQ 25.25 74.21875 29.59375 74.21875 \r\nQ 40.828125 74.21875 47.359375 69.109375 \r\nQ 53.90625 64.015625 53.90625 55.328125 \r\nQ 53.90625 49.265625 50.4375 45.09375 \r\nQ 46.96875 40.921875 40.578125 39.3125 \r\nz\r\n\" id=\"DejaVuSans-51\"/>\r\n      </defs>\r\n      <g transform=\"translate(184.669802 239.238437)scale(0.1 -0.1)\">\r\n       <use xlink:href=\"#DejaVuSans-51\"/>\r\n       <use x=\"63.623047\" xlink:href=\"#DejaVuSans-48\"/>\r\n       <use x=\"127.246094\" xlink:href=\"#DejaVuSans-48\"/>\r\n      </g>\r\n     </g>\r\n    </g>\r\n    <g id=\"xtick_5\">\r\n     <g id=\"line2d_5\">\r\n      <g>\r\n       <use style=\"stroke:#000000;stroke-width:0.8;\" x=\"244.903675\" xlink:href=\"#me733fb94dd\" y=\"224.64\"/>\r\n      </g>\r\n     </g>\r\n     <g id=\"text_5\">\r\n      <!-- 400 -->\r\n      <defs>\r\n       <path d=\"M 37.796875 64.3125 \r\nL 12.890625 25.390625 \r\nL 37.796875 25.390625 \r\nz\r\nM 35.203125 72.90625 \r\nL 47.609375 72.90625 \r\nL 47.609375 25.390625 \r\nL 58.015625 25.390625 \r\nL 58.015625 17.1875 \r\nL 47.609375 17.1875 \r\nL 47.609375 0 \r\nL 37.796875 0 \r\nL 37.796875 17.1875 \r\nL 4.890625 17.1875 \r\nL 4.890625 26.703125 \r\nz\r\n\" id=\"DejaVuSans-52\"/>\r\n      </defs>\r\n      <g transform=\"translate(235.359925 239.238437)scale(0.1 -0.1)\">\r\n       <use xlink:href=\"#DejaVuSans-52\"/>\r\n       <use x=\"63.623047\" xlink:href=\"#DejaVuSans-48\"/>\r\n       <use x=\"127.246094\" xlink:href=\"#DejaVuSans-48\"/>\r\n      </g>\r\n     </g>\r\n    </g>\r\n    <g id=\"xtick_6\">\r\n     <g id=\"line2d_6\">\r\n      <g>\r\n       <use style=\"stroke:#000000;stroke-width:0.8;\" x=\"295.593799\" xlink:href=\"#me733fb94dd\" y=\"224.64\"/>\r\n      </g>\r\n     </g>\r\n     <g id=\"text_6\">\r\n      <!-- 500 -->\r\n      <defs>\r\n       <path d=\"M 10.796875 72.90625 \r\nL 49.515625 72.90625 \r\nL 49.515625 64.59375 \r\nL 19.828125 64.59375 \r\nL 19.828125 46.734375 \r\nQ 21.96875 47.46875 24.109375 47.828125 \r\nQ 26.265625 48.1875 28.421875 48.1875 \r\nQ 40.625 48.1875 47.75 41.5 \r\nQ 54.890625 34.8125 54.890625 23.390625 \r\nQ 54.890625 11.625 47.5625 5.09375 \r\nQ 40.234375 -1.421875 26.90625 -1.421875 \r\nQ 22.3125 -1.421875 17.546875 -0.640625 \r\nQ 12.796875 0.140625 7.71875 1.703125 \r\nL 7.71875 11.625 \r\nQ 12.109375 9.234375 16.796875 8.0625 \r\nQ 21.484375 6.890625 26.703125 6.890625 \r\nQ 35.15625 6.890625 40.078125 11.328125 \r\nQ 45.015625 15.765625 45.015625 23.390625 \r\nQ 45.015625 31 40.078125 35.4375 \r\nQ 35.15625 39.890625 26.703125 39.890625 \r\nQ 22.75 39.890625 18.8125 39.015625 \r\nQ 14.890625 38.140625 10.796875 36.28125 \r\nz\r\n\" id=\"DejaVuSans-53\"/>\r\n      </defs>\r\n      <g transform=\"translate(286.050049 239.238437)scale(0.1 -0.1)\">\r\n       <use xlink:href=\"#DejaVuSans-53\"/>\r\n       <use x=\"63.623047\" xlink:href=\"#DejaVuSans-48\"/>\r\n       <use x=\"127.246094\" xlink:href=\"#DejaVuSans-48\"/>\r\n      </g>\r\n     </g>\r\n    </g>\r\n    <g id=\"xtick_7\">\r\n     <g id=\"line2d_7\">\r\n      <g>\r\n       <use style=\"stroke:#000000;stroke-width:0.8;\" x=\"346.283922\" xlink:href=\"#me733fb94dd\" y=\"224.64\"/>\r\n      </g>\r\n     </g>\r\n     <g id=\"text_7\">\r\n      <!-- 600 -->\r\n      <defs>\r\n       <path d=\"M 33.015625 40.375 \r\nQ 26.375 40.375 22.484375 35.828125 \r\nQ 18.609375 31.296875 18.609375 23.390625 \r\nQ 18.609375 15.53125 22.484375 10.953125 \r\nQ 26.375 6.390625 33.015625 6.390625 \r\nQ 39.65625 6.390625 43.53125 10.953125 \r\nQ 47.40625 15.53125 47.40625 23.390625 \r\nQ 47.40625 31.296875 43.53125 35.828125 \r\nQ 39.65625 40.375 33.015625 40.375 \r\nz\r\nM 52.59375 71.296875 \r\nL 52.59375 62.3125 \r\nQ 48.875 64.0625 45.09375 64.984375 \r\nQ 41.3125 65.921875 37.59375 65.921875 \r\nQ 27.828125 65.921875 22.671875 59.328125 \r\nQ 17.53125 52.734375 16.796875 39.40625 \r\nQ 19.671875 43.65625 24.015625 45.921875 \r\nQ 28.375 48.1875 33.59375 48.1875 \r\nQ 44.578125 48.1875 50.953125 41.515625 \r\nQ 57.328125 34.859375 57.328125 23.390625 \r\nQ 57.328125 12.15625 50.6875 5.359375 \r\nQ 44.046875 -1.421875 33.015625 -1.421875 \r\nQ 20.359375 -1.421875 13.671875 8.265625 \r\nQ 6.984375 17.96875 6.984375 36.375 \r\nQ 6.984375 53.65625 15.1875 63.9375 \r\nQ 23.390625 74.21875 37.203125 74.21875 \r\nQ 40.921875 74.21875 44.703125 73.484375 \r\nQ 48.484375 72.75 52.59375 71.296875 \r\nz\r\n\" id=\"DejaVuSans-54\"/>\r\n      </defs>\r\n      <g transform=\"translate(336.740172 239.238437)scale(0.1 -0.1)\">\r\n       <use xlink:href=\"#DejaVuSans-54\"/>\r\n       <use x=\"63.623047\" xlink:href=\"#DejaVuSans-48\"/>\r\n       <use x=\"127.246094\" xlink:href=\"#DejaVuSans-48\"/>\r\n      </g>\r\n     </g>\r\n    </g>\r\n    <g id=\"text_8\">\r\n     <!-- kd std -->\r\n     <defs>\r\n      <path d=\"M 9.078125 75.984375 \r\nL 18.109375 75.984375 \r\nL 18.109375 31.109375 \r\nL 44.921875 54.6875 \r\nL 56.390625 54.6875 \r\nL 27.390625 29.109375 \r\nL 57.625 0 \r\nL 45.90625 0 \r\nL 18.109375 26.703125 \r\nL 18.109375 0 \r\nL 9.078125 0 \r\nz\r\n\" id=\"DejaVuSans-107\"/>\r\n      <path d=\"M 45.40625 46.390625 \r\nL 45.40625 75.984375 \r\nL 54.390625 75.984375 \r\nL 54.390625 0 \r\nL 45.40625 0 \r\nL 45.40625 8.203125 \r\nQ 42.578125 3.328125 38.25 0.953125 \r\nQ 33.9375 -1.421875 27.875 -1.421875 \r\nQ 17.96875 -1.421875 11.734375 6.484375 \r\nQ 5.515625 14.40625 5.515625 27.296875 \r\nQ 5.515625 40.1875 11.734375 48.09375 \r\nQ 17.96875 56 27.875 56 \r\nQ 33.9375 56 38.25 53.625 \r\nQ 42.578125 51.265625 45.40625 46.390625 \r\nz\r\nM 14.796875 27.296875 \r\nQ 14.796875 17.390625 18.875 11.75 \r\nQ 22.953125 6.109375 30.078125 6.109375 \r\nQ 37.203125 6.109375 41.296875 11.75 \r\nQ 45.40625 17.390625 45.40625 27.296875 \r\nQ 45.40625 37.203125 41.296875 42.84375 \r\nQ 37.203125 48.484375 30.078125 48.484375 \r\nQ 22.953125 48.484375 18.875 42.84375 \r\nQ 14.796875 37.203125 14.796875 27.296875 \r\nz\r\n\" id=\"DejaVuSans-100\"/>\r\n      <path id=\"DejaVuSans-32\"/>\r\n      <path d=\"M 44.28125 53.078125 \r\nL 44.28125 44.578125 \r\nQ 40.484375 46.53125 36.375 47.5 \r\nQ 32.28125 48.484375 27.875 48.484375 \r\nQ 21.1875 48.484375 17.84375 46.4375 \r\nQ 14.5 44.390625 14.5 40.28125 \r\nQ 14.5 37.15625 16.890625 35.375 \r\nQ 19.28125 33.59375 26.515625 31.984375 \r\nL 29.59375 31.296875 \r\nQ 39.15625 29.25 43.1875 25.515625 \r\nQ 47.21875 21.78125 47.21875 15.09375 \r\nQ 47.21875 7.46875 41.1875 3.015625 \r\nQ 35.15625 -1.421875 24.609375 -1.421875 \r\nQ 20.21875 -1.421875 15.453125 -0.5625 \r\nQ 10.6875 0.296875 5.421875 2 \r\nL 5.421875 11.28125 \r\nQ 10.40625 8.6875 15.234375 7.390625 \r\nQ 20.0625 6.109375 24.8125 6.109375 \r\nQ 31.15625 6.109375 34.5625 8.28125 \r\nQ 37.984375 10.453125 37.984375 14.40625 \r\nQ 37.984375 18.0625 35.515625 20.015625 \r\nQ 33.0625 21.96875 24.703125 23.78125 \r\nL 21.578125 24.515625 \r\nQ 13.234375 26.265625 9.515625 29.90625 \r\nQ 5.8125 33.546875 5.8125 39.890625 \r\nQ 5.8125 47.609375 11.28125 51.796875 \r\nQ 16.75 56 26.8125 56 \r\nQ 31.78125 56 36.171875 55.265625 \r\nQ 40.578125 54.546875 44.28125 53.078125 \r\nz\r\n\" id=\"DejaVuSans-115\"/>\r\n      <path d=\"M 18.3125 70.21875 \r\nL 18.3125 54.6875 \r\nL 36.8125 54.6875 \r\nL 36.8125 47.703125 \r\nL 18.3125 47.703125 \r\nL 18.3125 18.015625 \r\nQ 18.3125 11.328125 20.140625 9.421875 \r\nQ 21.96875 7.515625 27.59375 7.515625 \r\nL 36.8125 7.515625 \r\nL 36.8125 0 \r\nL 27.59375 0 \r\nQ 17.1875 0 13.234375 3.875 \r\nQ 9.28125 7.765625 9.28125 18.015625 \r\nL 9.28125 47.703125 \r\nL 2.6875 47.703125 \r\nL 2.6875 54.6875 \r\nL 9.28125 54.6875 \r\nL 9.28125 70.21875 \r\nz\r\n\" id=\"DejaVuSans-116\"/>\r\n     </defs>\r\n     <g transform=\"translate(178.927344 252.916562)scale(0.1 -0.1)\">\r\n      <use xlink:href=\"#DejaVuSans-107\"/>\r\n      <use x=\"57.910156\" xlink:href=\"#DejaVuSans-100\"/>\r\n      <use x=\"121.386719\" xlink:href=\"#DejaVuSans-32\"/>\r\n      <use x=\"153.173828\" xlink:href=\"#DejaVuSans-115\"/>\r\n      <use x=\"205.273438\" xlink:href=\"#DejaVuSans-116\"/>\r\n      <use x=\"244.482422\" xlink:href=\"#DejaVuSans-100\"/>\r\n     </g>\r\n    </g>\r\n   </g>\r\n   <g id=\"matplotlib.axis_2\">\r\n    <g id=\"ytick_1\">\r\n     <g id=\"line2d_8\">\r\n      <defs>\r\n       <path d=\"M 0 0 \r\nL -3.5 0 \r\n\" id=\"m60ec38cab2\" style=\"stroke:#000000;stroke-width:0.8;\"/>\r\n      </defs>\r\n      <g>\r\n       <use style=\"stroke:#000000;stroke-width:0.8;\" x=\"26.925\" xlink:href=\"#m60ec38cab2\" y=\"224.64\"/>\r\n      </g>\r\n     </g>\r\n     <g id=\"text_9\">\r\n      <!-- 0 -->\r\n      <g transform=\"translate(13.5625 228.439219)scale(0.1 -0.1)\">\r\n       <use xlink:href=\"#DejaVuSans-48\"/>\r\n      </g>\r\n     </g>\r\n    </g>\r\n    <g id=\"ytick_2\">\r\n     <g id=\"line2d_9\">\r\n      <g>\r\n       <use style=\"stroke:#000000;stroke-width:0.8;\" x=\"26.925\" xlink:href=\"#m60ec38cab2\" y=\"190.125714\"/>\r\n      </g>\r\n     </g>\r\n     <g id=\"text_10\">\r\n      <!-- 5 -->\r\n      <g transform=\"translate(13.5625 193.924933)scale(0.1 -0.1)\">\r\n       <use xlink:href=\"#DejaVuSans-53\"/>\r\n      </g>\r\n     </g>\r\n    </g>\r\n    <g id=\"ytick_3\">\r\n     <g id=\"line2d_10\">\r\n      <g>\r\n       <use style=\"stroke:#000000;stroke-width:0.8;\" x=\"26.925\" xlink:href=\"#m60ec38cab2\" y=\"155.611429\"/>\r\n      </g>\r\n     </g>\r\n     <g id=\"text_11\">\r\n      <!-- 10 -->\r\n      <g transform=\"translate(7.2 159.410647)scale(0.1 -0.1)\">\r\n       <use xlink:href=\"#DejaVuSans-49\"/>\r\n       <use x=\"63.623047\" xlink:href=\"#DejaVuSans-48\"/>\r\n      </g>\r\n     </g>\r\n    </g>\r\n    <g id=\"ytick_4\">\r\n     <g id=\"line2d_11\">\r\n      <g>\r\n       <use style=\"stroke:#000000;stroke-width:0.8;\" x=\"26.925\" xlink:href=\"#m60ec38cab2\" y=\"121.097143\"/>\r\n      </g>\r\n     </g>\r\n     <g id=\"text_12\">\r\n      <!-- 15 -->\r\n      <g transform=\"translate(7.2 124.896362)scale(0.1 -0.1)\">\r\n       <use xlink:href=\"#DejaVuSans-49\"/>\r\n       <use x=\"63.623047\" xlink:href=\"#DejaVuSans-53\"/>\r\n      </g>\r\n     </g>\r\n    </g>\r\n    <g id=\"ytick_5\">\r\n     <g id=\"line2d_12\">\r\n      <g>\r\n       <use style=\"stroke:#000000;stroke-width:0.8;\" x=\"26.925\" xlink:href=\"#m60ec38cab2\" y=\"86.582857\"/>\r\n      </g>\r\n     </g>\r\n     <g id=\"text_13\">\r\n      <!-- 20 -->\r\n      <g transform=\"translate(7.2 90.382076)scale(0.1 -0.1)\">\r\n       <use xlink:href=\"#DejaVuSans-50\"/>\r\n       <use x=\"63.623047\" xlink:href=\"#DejaVuSans-48\"/>\r\n      </g>\r\n     </g>\r\n    </g>\r\n    <g id=\"ytick_6\">\r\n     <g id=\"line2d_13\">\r\n      <g>\r\n       <use style=\"stroke:#000000;stroke-width:0.8;\" x=\"26.925\" xlink:href=\"#m60ec38cab2\" y=\"52.068571\"/>\r\n      </g>\r\n     </g>\r\n     <g id=\"text_14\">\r\n      <!-- 25 -->\r\n      <g transform=\"translate(7.2 55.86779)scale(0.1 -0.1)\">\r\n       <use xlink:href=\"#DejaVuSans-50\"/>\r\n       <use x=\"63.623047\" xlink:href=\"#DejaVuSans-53\"/>\r\n      </g>\r\n     </g>\r\n    </g>\r\n    <g id=\"ytick_7\">\r\n     <g id=\"line2d_14\">\r\n      <g>\r\n       <use style=\"stroke:#000000;stroke-width:0.8;\" x=\"26.925\" xlink:href=\"#m60ec38cab2\" y=\"17.554286\"/>\r\n      </g>\r\n     </g>\r\n     <g id=\"text_15\">\r\n      <!-- 30 -->\r\n      <g transform=\"translate(7.2 21.353504)scale(0.1 -0.1)\">\r\n       <use xlink:href=\"#DejaVuSans-51\"/>\r\n       <use x=\"63.623047\" xlink:href=\"#DejaVuSans-48\"/>\r\n      </g>\r\n     </g>\r\n    </g>\r\n   </g>\r\n   <g id=\"patch_53\">\r\n    <path d=\"M 26.925 224.64 \r\nL 26.925 7.2 \r\n\" style=\"fill:none;stroke:#000000;stroke-linecap:square;stroke-linejoin:miter;stroke-width:0.8;\"/>\r\n   </g>\r\n   <g id=\"patch_54\">\r\n    <path d=\"M 361.725 224.64 \r\nL 361.725 7.2 \r\n\" style=\"fill:none;stroke:#000000;stroke-linecap:square;stroke-linejoin:miter;stroke-width:0.8;\"/>\r\n   </g>\r\n   <g id=\"patch_55\">\r\n    <path d=\"M 26.925 224.64 \r\nL 361.725 224.64 \r\n\" style=\"fill:none;stroke:#000000;stroke-linecap:square;stroke-linejoin:miter;stroke-width:0.8;\"/>\r\n   </g>\r\n   <g id=\"patch_56\">\r\n    <path d=\"M 26.925 7.2 \r\nL 361.725 7.2 \r\n\" style=\"fill:none;stroke:#000000;stroke-linecap:square;stroke-linejoin:miter;stroke-width:0.8;\"/>\r\n   </g>\r\n  </g>\r\n </g>\r\n <defs>\r\n  <clipPath id=\"p536d658bbd\">\r\n   <rect height=\"217.44\" width=\"334.8\" x=\"26.925\" y=\"7.2\"/>\r\n  </clipPath>\r\n </defs>\r\n</svg>\r\n",
      "image/png": "[encoded data removed]"
     },
     "metadata": {
      "needs_background": "light"
     }
    }
   ],
   "source": [
    "plt.figure()\n",
    "plt.hist(res.kd_std, bins=50)\n",
    "plt.xlabel('kd std')\n",
    "plt.show()"
   ]
  },
  {
   "cell_type": "code",
   "execution_count": 33,
   "metadata": {},
   "outputs": [
    {
     "output_type": "execute_result",
     "data": {
      "text/plain": [
       "drug\n",
       "afatinib        12\n",
       "axitinib        36\n",
       "bosutinib      116\n",
       "crizotinib      97\n",
       "dasatinib       82\n",
       "erlotinib       38\n",
       "gefitinib       26\n",
       "imatinib        22\n",
       "lapatinib        5\n",
       "nilotinib       44\n",
       "pazopanib       50\n",
       "ponatinib        2\n",
       "ruxolitinib     59\n",
       "sorafenib       49\n",
       "sunitinib      189\n",
       "Name: target, dtype: int64"
      ]
     },
     "metadata": {},
     "execution_count": 33
    }
   ],
   "source": [
    "res.groupby(['drug'])['target'].count()"
   ]
  },
  {
   "cell_type": "code",
   "execution_count": 109,
   "metadata": {},
   "outputs": [],
   "source": [
    "res.to_csv('../config/targetome_kinase_targets.csv', index=False)"
   ]
  },
  {
   "cell_type": "code",
   "execution_count": null,
   "metadata": {},
   "outputs": [],
   "source": []
  }
 ]
}