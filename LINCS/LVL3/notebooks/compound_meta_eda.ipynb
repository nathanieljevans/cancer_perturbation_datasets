{
 "cells": [
  {
   "cell_type": "code",
   "execution_count": 1,
   "metadata": {},
   "outputs": [],
   "source": [
    "import pandas as pd \n",
    "from matplotlib import pyplot as plt\n",
    "import numpy as np\n",
    "import seaborn as sbn\n",
    "import pickle as pkl \n",
    "\n",
    "pd.set_option('display.max_columns', None)"
   ]
  },
  {
   "cell_type": "code",
   "execution_count": 2,
   "metadata": {},
   "outputs": [
    {
     "data": {
      "text/html": [
       "<div>\n",
       "<style scoped>\n",
       "    .dataframe tbody tr th:only-of-type {\n",
       "        vertical-align: middle;\n",
       "    }\n",
       "\n",
       "    .dataframe tbody tr th {\n",
       "        vertical-align: top;\n",
       "    }\n",
       "\n",
       "    .dataframe thead th {\n",
       "        text-align: right;\n",
       "    }\n",
       "</style>\n",
       "<table border=\"1\" class=\"dataframe\">\n",
       "  <thead>\n",
       "    <tr style=\"text-align: right;\">\n",
       "      <th></th>\n",
       "      <th>pert_id</th>\n",
       "      <th>cmap_name</th>\n",
       "      <th>target</th>\n",
       "      <th>moa</th>\n",
       "      <th>canonical_smiles</th>\n",
       "      <th>inchi_key</th>\n",
       "      <th>compound_aliases</th>\n",
       "    </tr>\n",
       "  </thead>\n",
       "  <tbody>\n",
       "    <tr>\n",
       "      <th>602</th>\n",
       "      <td>BRD-A50311610</td>\n",
       "      <td>meclizine</td>\n",
       "      <td>NR1I3</td>\n",
       "      <td>CAR agonist</td>\n",
       "      <td>Cc1cccc(CN2CCN(CC2)C(c2ccccc2)c2ccc(Cl)cc2)c1</td>\n",
       "      <td>OCJYIGYOJCODJL-UHFFFAOYSA-N</td>\n",
       "      <td>meclozine</td>\n",
       "    </tr>\n",
       "    <tr>\n",
       "      <th>603</th>\n",
       "      <td>BRD-K30743633</td>\n",
       "      <td>TCPOBOP</td>\n",
       "      <td>NR1I3</td>\n",
       "      <td>CAR agonist</td>\n",
       "      <td>Clc1cnc(Oc2ccc(Oc3ncc(Cl)cc3Cl)cc2)c(Cl)c1</td>\n",
       "      <td>BAFKRPOFIYPKBQ-UHFFFAOYSA-N</td>\n",
       "      <td>tcpobop</td>\n",
       "    </tr>\n",
       "    <tr>\n",
       "      <th>604</th>\n",
       "      <td>BRD-K39381259</td>\n",
       "      <td>DMH1</td>\n",
       "      <td>ACVR1</td>\n",
       "      <td>ALK inhibitor</td>\n",
       "      <td>CC(C)Oc1ccc(cc1)-c1cnc2c(cnn2c1)-c1ccnc2ccccc12</td>\n",
       "      <td>JMIFGARJSWXZSH-UHFFFAOYSA-N</td>\n",
       "      <td>DMH-1</td>\n",
       "    </tr>\n",
       "    <tr>\n",
       "      <th>605</th>\n",
       "      <td>BRD-K43002773</td>\n",
       "      <td>GDC-0068</td>\n",
       "      <td>AKT3</td>\n",
       "      <td>Akt inhibitor</td>\n",
       "      <td>C[C@@H]1C[C@H](C2=C1C(=NC=N2)N3CCN(CC3)C(=O)[C...</td>\n",
       "      <td>GRZXWCHAXNAUHY-NSISKUIASA-N</td>\n",
       "      <td>ipatasertib</td>\n",
       "    </tr>\n",
       "    <tr>\n",
       "      <th>606</th>\n",
       "      <td>BRD-K43002773</td>\n",
       "      <td>GDC-0068</td>\n",
       "      <td>AKT1</td>\n",
       "      <td>Akt inhibitor</td>\n",
       "      <td>C[C@@H]1C[C@H](C2=C1C(=NC=N2)N3CCN(CC3)C(=O)[C...</td>\n",
       "      <td>GRZXWCHAXNAUHY-NSISKUIASA-N</td>\n",
       "      <td>ipatasertib</td>\n",
       "    </tr>\n",
       "  </tbody>\n",
       "</table>\n",
       "</div>"
      ],
      "text/plain": [
       "           pert_id  cmap_name target            moa  \\\n",
       "602  BRD-A50311610  meclizine  NR1I3    CAR agonist   \n",
       "603  BRD-K30743633    TCPOBOP  NR1I3    CAR agonist   \n",
       "604  BRD-K39381259       DMH1  ACVR1  ALK inhibitor   \n",
       "605  BRD-K43002773   GDC-0068   AKT3  Akt inhibitor   \n",
       "606  BRD-K43002773   GDC-0068   AKT1  Akt inhibitor   \n",
       "\n",
       "                                      canonical_smiles  \\\n",
       "602      Cc1cccc(CN2CCN(CC2)C(c2ccccc2)c2ccc(Cl)cc2)c1   \n",
       "603         Clc1cnc(Oc2ccc(Oc3ncc(Cl)cc3Cl)cc2)c(Cl)c1   \n",
       "604    CC(C)Oc1ccc(cc1)-c1cnc2c(cnn2c1)-c1ccnc2ccccc12   \n",
       "605  C[C@@H]1C[C@H](C2=C1C(=NC=N2)N3CCN(CC3)C(=O)[C...   \n",
       "606  C[C@@H]1C[C@H](C2=C1C(=NC=N2)N3CCN(CC3)C(=O)[C...   \n",
       "\n",
       "                       inchi_key compound_aliases  \n",
       "602  OCJYIGYOJCODJL-UHFFFAOYSA-N        meclozine  \n",
       "603  BAFKRPOFIYPKBQ-UHFFFAOYSA-N          tcpobop  \n",
       "604  JMIFGARJSWXZSH-UHFFFAOYSA-N            DMH-1  \n",
       "605  GRZXWCHAXNAUHY-NSISKUIASA-N      ipatasertib  \n",
       "606  GRZXWCHAXNAUHY-NSISKUIASA-N      ipatasertib  "
      ]
     },
     "execution_count": 2,
     "metadata": {},
     "output_type": "execute_result"
    }
   ],
   "source": [
    "# Metadata for cell lines (note there is one entry per compound/moa/target/structure combination, so some compounds appear more than once)\n",
    "druginfo = pd.read_csv('../data/raw/compoundinfo_beta.txt', sep='\\t')\n",
    "druginfo2 = druginfo[lambda x: ~x.target.isna()]\n",
    "druginfo2.head()"
   ]
  },
  {
   "cell_type": "code",
   "execution_count": 3,
   "metadata": {},
   "outputs": [
    {
     "data": {
      "text/plain": [
       "(33627,)"
      ]
     },
     "execution_count": 3,
     "metadata": {},
     "output_type": "execute_result"
    }
   ],
   "source": [
    "\n",
    "druginfo.cmap_name.unique().shape"
   ]
  },
  {
   "cell_type": "code",
   "execution_count": 4,
   "metadata": {},
   "outputs": [
    {
     "data": {
      "text/plain": [
       "(891,)"
      ]
     },
     "execution_count": 4,
     "metadata": {},
     "output_type": "execute_result"
    }
   ],
   "source": [
    "druginfo.target.unique().shape"
   ]
  },
  {
   "cell_type": "code",
   "execution_count": 4,
   "metadata": {},
   "outputs": [
    {
     "data": {
      "text/html": [
       "<div>\n",
       "<style scoped>\n",
       "    .dataframe tbody tr th:only-of-type {\n",
       "        vertical-align: middle;\n",
       "    }\n",
       "\n",
       "    .dataframe tbody tr th {\n",
       "        vertical-align: top;\n",
       "    }\n",
       "\n",
       "    .dataframe thead th {\n",
       "        text-align: right;\n",
       "    }\n",
       "</style>\n",
       "<table border=\"1\" class=\"dataframe\">\n",
       "  <thead>\n",
       "    <tr style=\"text-align: right;\">\n",
       "      <th></th>\n",
       "      <th>Gene1</th>\n",
       "      <th>Gene2</th>\n",
       "      <th>Annotation</th>\n",
       "      <th>Direction</th>\n",
       "      <th>Score</th>\n",
       "    </tr>\n",
       "  </thead>\n",
       "  <tbody>\n",
       "    <tr>\n",
       "      <th>0</th>\n",
       "      <td>16-5-5</td>\n",
       "      <td>CDC42</td>\n",
       "      <td>predicted</td>\n",
       "      <td>-</td>\n",
       "      <td>0.98</td>\n",
       "    </tr>\n",
       "    <tr>\n",
       "      <th>1</th>\n",
       "      <td>16-5-5</td>\n",
       "      <td>PARD3</td>\n",
       "      <td>predicted</td>\n",
       "      <td>-</td>\n",
       "      <td>1.00</td>\n",
       "    </tr>\n",
       "    <tr>\n",
       "      <th>2</th>\n",
       "      <td>16-5-5</td>\n",
       "      <td>PARD3B</td>\n",
       "      <td>predicted</td>\n",
       "      <td>-</td>\n",
       "      <td>1.00</td>\n",
       "    </tr>\n",
       "    <tr>\n",
       "      <th>3</th>\n",
       "      <td>A1CF</td>\n",
       "      <td>APOBEC1</td>\n",
       "      <td>catalyzed by; complex; input</td>\n",
       "      <td>&lt;-</td>\n",
       "      <td>1.00</td>\n",
       "    </tr>\n",
       "    <tr>\n",
       "      <th>4</th>\n",
       "      <td>A1CF</td>\n",
       "      <td>EP300</td>\n",
       "      <td>expression regulated by</td>\n",
       "      <td>&lt;-</td>\n",
       "      <td>1.00</td>\n",
       "    </tr>\n",
       "  </tbody>\n",
       "</table>\n",
       "</div>"
      ],
      "text/plain": [
       "    Gene1    Gene2                    Annotation Direction  Score\n",
       "0  16-5-5    CDC42                     predicted         -   0.98\n",
       "1  16-5-5    PARD3                     predicted         -   1.00\n",
       "2  16-5-5   PARD3B                     predicted         -   1.00\n",
       "3    A1CF  APOBEC1  catalyzed by; complex; input        <-   1.00\n",
       "4    A1CF    EP300       expression regulated by        <-   1.00"
      ]
     },
     "execution_count": 4,
     "metadata": {},
     "output_type": "execute_result"
    }
   ],
   "source": [
    "fi = pd.read_csv('../../../REACTOME/data/raw/FIsInGene_020720_with_annotations.txt', sep='\\t')\n",
    "fi.head()"
   ]
  },
  {
   "cell_type": "code",
   "execution_count": 40,
   "metadata": {},
   "outputs": [
    {
     "data": {
      "text/plain": [
       "(268857, 5)"
      ]
     },
     "execution_count": 40,
     "metadata": {},
     "output_type": "execute_result"
    }
   ],
   "source": [
    "fi.shape"
   ]
  },
  {
   "cell_type": "code",
   "execution_count": 41,
   "metadata": {},
   "outputs": [
    {
     "data": {
      "text/plain": [
       "(2059,)"
      ]
     },
     "execution_count": 41,
     "metadata": {},
     "output_type": "execute_result"
    }
   ],
   "source": [
    "fi.Annotation.unique().shape"
   ]
  },
  {
   "cell_type": "code",
   "execution_count": 6,
   "metadata": {},
   "outputs": [
    {
     "data": {
      "text/plain": [
       "14071"
      ]
     },
     "execution_count": 6,
     "metadata": {},
     "output_type": "execute_result"
    }
   ],
   "source": [
    "unq_genes = [x.lower() for x in set(fi.Gene1.unique()).union(set(fi.Gene2.unique()))]\n",
    "len( unq_genes )"
   ]
  },
  {
   "cell_type": "code",
   "execution_count": 7,
   "metadata": {},
   "outputs": [
    {
     "data": {
      "text/plain": [
       "890"
      ]
     },
     "execution_count": 7,
     "metadata": {},
     "output_type": "execute_result"
    }
   ],
   "source": [
    "targs = [x.lower() for x in druginfo2.target.unique()]\n",
    "len( targs )"
   ]
  },
  {
   "cell_type": "code",
   "execution_count": 8,
   "metadata": {},
   "outputs": [
    {
     "data": {
      "text/plain": [
       "846"
      ]
     },
     "execution_count": 8,
     "metadata": {},
     "output_type": "execute_result"
    }
   ],
   "source": [
    "overlap = set(targs).intersection(unq_genes)\n",
    "len( overlap )"
   ]
  },
  {
   "cell_type": "code",
   "execution_count": 10,
   "metadata": {},
   "outputs": [
    {
     "data": {
      "text/plain": [
       "(2509,)"
      ]
     },
     "execution_count": 10,
     "metadata": {},
     "output_type": "execute_result"
    }
   ],
   "source": [
    "druginfo_fi = druginfo2[lambda x: x.target.str.lower().isin(overlap)]\n",
    "drugs_with_fi_targs = druginfo_fi.cmap_name.unique()\n",
    "drugs_with_fi_targs.shape"
   ]
  },
  {
   "cell_type": "code",
   "execution_count": null,
   "metadata": {},
   "outputs": [],
   "source": []
  },
  {
   "cell_type": "code",
   "execution_count": 21,
   "metadata": {},
   "outputs": [
    {
     "name": "stdout",
     "output_type": "stream",
     "text": [
      "Anti-HCVE2 1\n",
      "Antiarrhythmic 1\n",
      "Antifibrinolytic 1\n",
      "Antihistamine 1\n",
      "Antioxidant 1\n",
      "Antiviral 1\n",
      "B 1\n",
      "Corrector 1\n",
      "Diuretic 1\n",
      "Immunosuppressant 1\n",
      "Inhibitor 1\n",
      "Neurotransmitter 1\n",
      "Steroid 1\n",
      "Sulfonylurea 1\n",
      "Vasodilator 1\n",
      "acid 1\n",
      "activator 34\n",
      "activity 1\n",
      "agent 15\n",
      "agonist 75\n",
      "analog 1\n",
      "anesthetic 1\n",
      "antagonist 69\n",
      "antidepressant 1\n",
      "antiepileptic 5\n",
      "antifolate 1\n",
      "blocker 12\n",
      "cells 1\n",
      "compounds 1\n",
      "diuretic 2\n",
      "drug 1\n",
      "effects 1\n",
      "enhancer 4\n",
      "hormone 1\n",
      "inducer 2\n",
      "inhibitor 344\n",
      "intercalator 1\n",
      "ligand 11\n",
      "modulator 19\n",
      "potentiator 1\n",
      "precursor 2\n",
      "progestin 1\n",
      "scavenger 1\n",
      "secretagogue 1\n",
      "sensitizer 2\n",
      "stabilizer 1\n",
      "stimulant 14\n",
      "sympatholytic 1\n"
     ]
    }
   ],
   "source": [
    "moa = np.array([x.split(' ')[-1] for x in druginfo_fi.moa.unique()])\n",
    "unq_moa, cnts = np.unique(moa, return_counts=True)\n",
    "for m,c in zip(unq_moa, cnts): \n",
    "    print(m, c)"
   ]
  },
  {
   "cell_type": "code",
   "execution_count": 19,
   "metadata": {},
   "outputs": [
    {
     "data": {
      "text/plain": [
       "array([   3,    2,    1,    3,    6,    1,    7,    1,    4,   13,    1,\n",
       "          9,    1,    8,    6,    3,  168,    1,   69, 1307,   11,    2,\n",
       "       1618,   14,   26,    3,  286,    1,    1,    5,    3,    4,   14,\n",
       "          8,    3, 3996,    1,   35,  135,    1,   10,    3,    3,   18,\n",
       "         14,    1,   45,    1], dtype=int64)"
      ]
     },
     "execution_count": 19,
     "metadata": {},
     "output_type": "execute_result"
    }
   ],
   "source": [
    "cnts"
   ]
  },
  {
   "cell_type": "code",
   "execution_count": null,
   "metadata": {},
   "outputs": [],
   "source": []
  },
  {
   "cell_type": "code",
   "execution_count": 25,
   "metadata": {},
   "outputs": [
    {
     "data": {
      "text/html": [
       "<div>\n",
       "<style scoped>\n",
       "    .dataframe tbody tr th:only-of-type {\n",
       "        vertical-align: middle;\n",
       "    }\n",
       "\n",
       "    .dataframe tbody tr th {\n",
       "        vertical-align: top;\n",
       "    }\n",
       "\n",
       "    .dataframe thead th {\n",
       "        text-align: right;\n",
       "    }\n",
       "</style>\n",
       "<table border=\"1\" class=\"dataframe\">\n",
       "  <thead>\n",
       "    <tr style=\"text-align: right;\">\n",
       "      <th></th>\n",
       "      <th>Drug</th>\n",
       "      <th>Target_Name</th>\n",
       "      <th>Target_Type</th>\n",
       "      <th>Target_UniProt</th>\n",
       "      <th>Target_Species</th>\n",
       "      <th>Database</th>\n",
       "      <th>Reference</th>\n",
       "      <th>Assay_Type</th>\n",
       "      <th>Assay_Relation</th>\n",
       "      <th>Assay_Value</th>\n",
       "      <th>EvidenceLevel_Assigned</th>\n",
       "      <th>drug</th>\n",
       "    </tr>\n",
       "  </thead>\n",
       "  <tbody>\n",
       "    <tr>\n",
       "      <th>0</th>\n",
       "      <td>Vemurafenib</td>\n",
       "      <td>RAF1</td>\n",
       "      <td>Protein</td>\n",
       "      <td>P04049</td>\n",
       "      <td>Homo sapiens</td>\n",
       "      <td>BindingDB</td>\n",
       "      <td>22808911</td>\n",
       "      <td>IC50</td>\n",
       "      <td>=</td>\n",
       "      <td>48.0</td>\n",
       "      <td>III</td>\n",
       "      <td>vemurafenib</td>\n",
       "    </tr>\n",
       "    <tr>\n",
       "      <th>1</th>\n",
       "      <td>Vemurafenib</td>\n",
       "      <td>RAF1</td>\n",
       "      <td>Protein</td>\n",
       "      <td>P04049</td>\n",
       "      <td>Homo sapiens</td>\n",
       "      <td>IUPHAR</td>\n",
       "      <td>22808911</td>\n",
       "      <td>IC50</td>\n",
       "      <td>=</td>\n",
       "      <td>NaN</td>\n",
       "      <td>III</td>\n",
       "      <td>vemurafenib</td>\n",
       "    </tr>\n",
       "    <tr>\n",
       "      <th>2</th>\n",
       "      <td>Vemurafenib</td>\n",
       "      <td>RAF1</td>\n",
       "      <td>Protein</td>\n",
       "      <td>P04049</td>\n",
       "      <td>Homo sapiens</td>\n",
       "      <td>IUPHAR</td>\n",
       "      <td>26343583</td>\n",
       "      <td>IC50</td>\n",
       "      <td>=</td>\n",
       "      <td>NaN</td>\n",
       "      <td>III</td>\n",
       "      <td>vemurafenib</td>\n",
       "    </tr>\n",
       "    <tr>\n",
       "      <th>3</th>\n",
       "      <td>Vemurafenib</td>\n",
       "      <td>EGFR</td>\n",
       "      <td>Protein</td>\n",
       "      <td>P00533</td>\n",
       "      <td>Homo sapiens</td>\n",
       "      <td>BindingDB</td>\n",
       "      <td>24588073</td>\n",
       "      <td>IC50</td>\n",
       "      <td>&gt;</td>\n",
       "      <td>10000.0</td>\n",
       "      <td>III</td>\n",
       "      <td>vemurafenib</td>\n",
       "    </tr>\n",
       "    <tr>\n",
       "      <th>4</th>\n",
       "      <td>Vemurafenib</td>\n",
       "      <td>BRAF</td>\n",
       "      <td>Protein</td>\n",
       "      <td>P15056</td>\n",
       "      <td>Homo sapiens</td>\n",
       "      <td>Therapeutic Target Database</td>\n",
       "      <td>NA_TTD</td>\n",
       "      <td>NaN</td>\n",
       "      <td>NaN</td>\n",
       "      <td>NaN</td>\n",
       "      <td>I</td>\n",
       "      <td>vemurafenib</td>\n",
       "    </tr>\n",
       "  </tbody>\n",
       "</table>\n",
       "</div>"
      ],
      "text/plain": [
       "          Drug Target_Name Target_Type Target_UniProt Target_Species  \\\n",
       "0  Vemurafenib        RAF1     Protein         P04049   Homo sapiens   \n",
       "1  Vemurafenib        RAF1     Protein         P04049   Homo sapiens   \n",
       "2  Vemurafenib        RAF1     Protein         P04049   Homo sapiens   \n",
       "3  Vemurafenib        EGFR     Protein         P00533   Homo sapiens   \n",
       "4  Vemurafenib        BRAF     Protein         P15056   Homo sapiens   \n",
       "\n",
       "                      Database Reference Assay_Type Assay_Relation  \\\n",
       "0                    BindingDB  22808911       IC50              =   \n",
       "1                       IUPHAR  22808911       IC50              =   \n",
       "2                       IUPHAR  26343583       IC50              =   \n",
       "3                    BindingDB  24588073       IC50              >   \n",
       "4  Therapeutic Target Database    NA_TTD        NaN            NaN   \n",
       "\n",
       "   Assay_Value EvidenceLevel_Assigned         drug  \n",
       "0         48.0                    III  vemurafenib  \n",
       "1          NaN                    III  vemurafenib  \n",
       "2          NaN                    III  vemurafenib  \n",
       "3      10000.0                    III  vemurafenib  \n",
       "4          NaN                      I  vemurafenib  "
      ]
     },
     "execution_count": 25,
     "metadata": {},
     "output_type": "execute_result"
    }
   ],
   "source": [
    "targ = pd.read_csv('../../../TARGETOME/data/raw/Targetome_FullEvidence_070617.txt', sep='\\t')\n",
    "targ = targ.assign(drug=lambda x: x.Drug.str.lower())\n",
    "\n",
    "targ = targ[targ.Target_Type =='Protein']\n",
    "targ = targ[targ.Target_Species =='Homo sapiens']\n",
    "targ.drug = [str(x).lower() for x in targ.drug.values]\n",
    "targ.head()"
   ]
  },
  {
   "cell_type": "code",
   "execution_count": null,
   "metadata": {},
   "outputs": [],
   "source": []
  },
  {
   "cell_type": "code",
   "execution_count": null,
   "metadata": {},
   "outputs": [],
   "source": []
  },
  {
   "cell_type": "code",
   "execution_count": null,
   "metadata": {},
   "outputs": [],
   "source": []
  },
  {
   "cell_type": "code",
   "execution_count": null,
   "metadata": {},
   "outputs": [],
   "source": []
  },
  {
   "cell_type": "code",
   "execution_count": 29,
   "metadata": {},
   "outputs": [
    {
     "data": {
      "text/plain": [
       "61"
      ]
     },
     "execution_count": 29,
     "metadata": {},
     "output_type": "execute_result"
    }
   ],
   "source": [
    "targetome_cmapfi_overlap = set(druginfo_fi.cmap_name.str.lower()).intersection(set(targ.Drug.str.lower()))\n",
    "len(targetome_cmapfi_overlap)"
   ]
  },
  {
   "cell_type": "code",
   "execution_count": 31,
   "metadata": {},
   "outputs": [
    {
     "data": {
      "text/plain": [
       "array(['IC50', nan, 'Ki', 'KD', 'EC50', 'Kd'], dtype=object)"
      ]
     },
     "execution_count": 31,
     "metadata": {},
     "output_type": "execute_result"
    }
   ],
   "source": [
    "cmap_targ = targ[lambda x: x.Drug.str.lower().isin(targetome_cmapfi_overlap)]\n",
    "cmap_targ.Assay_Type.unique()"
   ]
  },
  {
   "cell_type": "code",
   "execution_count": 33,
   "metadata": {},
   "outputs": [
    {
     "data": {
      "text/html": [
       "<div>\n",
       "<style scoped>\n",
       "    .dataframe tbody tr th:only-of-type {\n",
       "        vertical-align: middle;\n",
       "    }\n",
       "\n",
       "    .dataframe tbody tr th {\n",
       "        vertical-align: top;\n",
       "    }\n",
       "\n",
       "    .dataframe thead th {\n",
       "        text-align: right;\n",
       "    }\n",
       "</style>\n",
       "<table border=\"1\" class=\"dataframe\">\n",
       "  <thead>\n",
       "    <tr style=\"text-align: right;\">\n",
       "      <th></th>\n",
       "      <th>Drug</th>\n",
       "      <th>Target_Name</th>\n",
       "      <th>Target_Type</th>\n",
       "      <th>Target_UniProt</th>\n",
       "      <th>Target_Species</th>\n",
       "      <th>Database</th>\n",
       "      <th>Reference</th>\n",
       "      <th>Assay_Type</th>\n",
       "      <th>Assay_Relation</th>\n",
       "      <th>Assay_Value</th>\n",
       "      <th>EvidenceLevel_Assigned</th>\n",
       "      <th>drug</th>\n",
       "    </tr>\n",
       "  </thead>\n",
       "  <tbody>\n",
       "    <tr>\n",
       "      <th>943</th>\n",
       "      <td>Vismodegib</td>\n",
       "      <td>ALB</td>\n",
       "      <td>Protein</td>\n",
       "      <td>P02768</td>\n",
       "      <td>Homo sapiens</td>\n",
       "      <td>BindingDB</td>\n",
       "      <td>21438527</td>\n",
       "      <td>KD</td>\n",
       "      <td>=</td>\n",
       "      <td>6000.0</td>\n",
       "      <td>III</td>\n",
       "      <td>vismodegib</td>\n",
       "    </tr>\n",
       "    <tr>\n",
       "      <th>944</th>\n",
       "      <td>Vismodegib</td>\n",
       "      <td>ALB</td>\n",
       "      <td>Protein</td>\n",
       "      <td>P02768</td>\n",
       "      <td>Homo sapiens</td>\n",
       "      <td>BindingDB</td>\n",
       "      <td>21438527</td>\n",
       "      <td>KD</td>\n",
       "      <td>=</td>\n",
       "      <td>130000.0</td>\n",
       "      <td>III</td>\n",
       "      <td>vismodegib</td>\n",
       "    </tr>\n",
       "    <tr>\n",
       "      <th>945</th>\n",
       "      <td>Vismodegib</td>\n",
       "      <td>ALB</td>\n",
       "      <td>Protein</td>\n",
       "      <td>P02768</td>\n",
       "      <td>Homo sapiens</td>\n",
       "      <td>BindingDB</td>\n",
       "      <td>21438527</td>\n",
       "      <td>KD</td>\n",
       "      <td>=</td>\n",
       "      <td>120000.0</td>\n",
       "      <td>III</td>\n",
       "      <td>vismodegib</td>\n",
       "    </tr>\n",
       "    <tr>\n",
       "      <th>946</th>\n",
       "      <td>Vismodegib</td>\n",
       "      <td>ALB</td>\n",
       "      <td>Protein</td>\n",
       "      <td>P02768</td>\n",
       "      <td>Homo sapiens</td>\n",
       "      <td>BindingDB</td>\n",
       "      <td>21438527</td>\n",
       "      <td>KD</td>\n",
       "      <td>=</td>\n",
       "      <td>5500.0</td>\n",
       "      <td>III</td>\n",
       "      <td>vismodegib</td>\n",
       "    </tr>\n",
       "    <tr>\n",
       "      <th>1426</th>\n",
       "      <td>Nilotinib</td>\n",
       "      <td>PIP4K2B</td>\n",
       "      <td>Protein</td>\n",
       "      <td>P78356</td>\n",
       "      <td>Homo sapiens</td>\n",
       "      <td>BindingDB</td>\n",
       "      <td>22037378</td>\n",
       "      <td>KD</td>\n",
       "      <td>&gt;</td>\n",
       "      <td>10000.0</td>\n",
       "      <td>III</td>\n",
       "      <td>nilotinib</td>\n",
       "    </tr>\n",
       "  </tbody>\n",
       "</table>\n",
       "</div>"
      ],
      "text/plain": [
       "            Drug Target_Name Target_Type Target_UniProt Target_Species  \\\n",
       "943   Vismodegib         ALB     Protein         P02768   Homo sapiens   \n",
       "944   Vismodegib         ALB     Protein         P02768   Homo sapiens   \n",
       "945   Vismodegib         ALB     Protein         P02768   Homo sapiens   \n",
       "946   Vismodegib         ALB     Protein         P02768   Homo sapiens   \n",
       "1426   Nilotinib     PIP4K2B     Protein         P78356   Homo sapiens   \n",
       "\n",
       "       Database Reference Assay_Type Assay_Relation  Assay_Value  \\\n",
       "943   BindingDB  21438527         KD              =       6000.0   \n",
       "944   BindingDB  21438527         KD              =     130000.0   \n",
       "945   BindingDB  21438527         KD              =     120000.0   \n",
       "946   BindingDB  21438527         KD              =       5500.0   \n",
       "1426  BindingDB  22037378         KD              >      10000.0   \n",
       "\n",
       "     EvidenceLevel_Assigned        drug  \n",
       "943                     III  vismodegib  \n",
       "944                     III  vismodegib  \n",
       "945                     III  vismodegib  \n",
       "946                     III  vismodegib  \n",
       "1426                    III   nilotinib  "
      ]
     },
     "execution_count": 33,
     "metadata": {},
     "output_type": "execute_result"
    }
   ],
   "source": [
    "withkd = cmap_targ[lambda x: x.Assay_Type.isin(['KD', 'Kd'])]\n",
    "withkd.head()"
   ]
  },
  {
   "cell_type": "code",
   "execution_count": 34,
   "metadata": {},
   "outputs": [
    {
     "data": {
      "text/plain": [
       "(4353, 12)"
      ]
     },
     "execution_count": 34,
     "metadata": {},
     "output_type": "execute_result"
    }
   ],
   "source": [
    "withkd.shape"
   ]
  },
  {
   "cell_type": "code",
   "execution_count": 36,
   "metadata": {},
   "outputs": [
    {
     "data": {
      "text/plain": [
       "(13,)"
      ]
     },
     "execution_count": 36,
     "metadata": {},
     "output_type": "execute_result"
    }
   ],
   "source": [
    "withkd.Drug.unique().shape"
   ]
  },
  {
   "cell_type": "code",
   "execution_count": 39,
   "metadata": {},
   "outputs": [
    {
     "data": {
      "text/plain": [
       "Drug\n",
       "Axitinib         440\n",
       "Bexarotene        15\n",
       "Bosutinib        439\n",
       "Crizotinib       439\n",
       "Dasatinib        849\n",
       "Dexamethasone      1\n",
       "Docetaxel          1\n",
       "Gefitinib        814\n",
       "Hydroxyurea        1\n",
       "Nilotinib        447\n",
       "Vandetanib       897\n",
       "Vismodegib         4\n",
       "Vorinostat         6\n",
       "Name: Target_Name, dtype: int64"
      ]
     },
     "execution_count": 39,
     "metadata": {},
     "output_type": "execute_result"
    }
   ],
   "source": [
    "withkd.groupby('Drug').count()['Target_Name']"
   ]
  },
  {
   "cell_type": "code",
   "execution_count": 9,
   "metadata": {},
   "outputs": [
    {
     "data": {
      "text/plain": [
       "755"
      ]
     },
     "execution_count": 9,
     "metadata": {},
     "output_type": "execute_result"
    }
   ],
   "source": [
    "# how many drugs in our drug-drug network have targets in cmap meta? \n",
    "druginfo2 = druginfo[lambda x: ~x.target.isna()]\n",
    "drug_overlap = set(druginfo2.cmap_name.str.lower().unique()).intersection(set(drugs))\n",
    "len(drug_overlap)"
   ]
  },
  {
   "cell_type": "code",
   "execution_count": 16,
   "metadata": {},
   "outputs": [
    {
     "data": {
      "text/plain": [
       "848"
      ]
     },
     "execution_count": 16,
     "metadata": {},
     "output_type": "execute_result"
    }
   ],
   "source": [
    "# how many of the targets overlap with genes in our network? \n",
    "gene_overlap = set(druginfo2.target.str.upper().map(all2symb).values).intersection(set(genes))\n",
    "len(gene_overlap)"
   ]
  },
  {
   "cell_type": "code",
   "execution_count": 20,
   "metadata": {},
   "outputs": [
    {
     "name": "stdout",
     "output_type": "stream",
     "text": [
      "# dropped obs: 166\n"
     ]
    },
    {
     "data": {
      "text/plain": [
       "745"
      ]
     },
     "execution_count": 20,
     "metadata": {},
     "output_type": "execute_result"
    }
   ],
   "source": [
    "# if we filter to targets that are in our gene graph... how many drugs in our graph have protein targets?\n",
    "druginfo3 = druginfo2.assign(target2 = lambda x: x.target.str.upper().map(all2symb))\n",
    "druginfo3 = druginfo3[lambda x: x.target2.isin(genes)]\n",
    "print('# dropped obs:', druginfo2.shape[0] - druginfo3.shape[0])\n",
    "drug_overlap2 = set(druginfo3.cmap_name.str.lower().unique()).intersection(set(drugs))\n",
    "len(drug_overlap2)"
   ]
  },
  {
   "cell_type": "code",
   "execution_count": 37,
   "metadata": {},
   "outputs": [
    {
     "data": {
      "text/plain": [
       "moa\n",
       "KIT inhibitor                        114\n",
       "FLT3 inhibitor                       121\n",
       "Acetylcholine receptor antagonist    138\n",
       "Cyclooxygenase inhibitor             149\n",
       "PDGFR inhibitor                      164\n",
       "Adrenergic receptor antagonist       194\n",
       "VEGFR inhibitor                      199\n",
       "Dopamine receptor antagonist         216\n",
       "Dopamine receptor agonist            216\n",
       "Serotonin receptor antagonist        276\n",
       "Name: target, dtype: int64"
      ]
     },
     "execution_count": 37,
     "metadata": {},
     "output_type": "execute_result"
    }
   ],
   "source": [
    "# what are the moa (mode of action) types we have? \n",
    "druginfo3.fillna('yourmom').groupby('moa').count()['target'].sort_values().tail(10)"
   ]
  },
  {
   "cell_type": "code",
   "execution_count": 27,
   "metadata": {},
   "outputs": [
    {
     "data": {
      "text/html": [
       "<div>\n",
       "<style scoped>\n",
       "    .dataframe tbody tr th:only-of-type {\n",
       "        vertical-align: middle;\n",
       "    }\n",
       "\n",
       "    .dataframe tbody tr th {\n",
       "        vertical-align: top;\n",
       "    }\n",
       "\n",
       "    .dataframe thead th {\n",
       "        text-align: right;\n",
       "    }\n",
       "</style>\n",
       "<table border=\"1\" class=\"dataframe\">\n",
       "  <thead>\n",
       "    <tr style=\"text-align: right;\">\n",
       "      <th></th>\n",
       "      <th>pert_id</th>\n",
       "      <th>cmap_name</th>\n",
       "      <th>target</th>\n",
       "      <th>moa</th>\n",
       "      <th>canonical_smiles</th>\n",
       "      <th>inchi_key</th>\n",
       "      <th>compound_aliases</th>\n",
       "      <th>target2</th>\n",
       "      <th>moa_type</th>\n",
       "    </tr>\n",
       "  </thead>\n",
       "  <tbody>\n",
       "    <tr>\n",
       "      <th>602</th>\n",
       "      <td>BRD-A50311610</td>\n",
       "      <td>meclizine</td>\n",
       "      <td>NR1I3</td>\n",
       "      <td>CAR agonist</td>\n",
       "      <td>Cc1cccc(CN2CCN(CC2)C(c2ccccc2)c2ccc(Cl)cc2)c1</td>\n",
       "      <td>OCJYIGYOJCODJL-UHFFFAOYSA-N</td>\n",
       "      <td>meclozine</td>\n",
       "      <td>NR1I3</td>\n",
       "      <td>agonist</td>\n",
       "    </tr>\n",
       "    <tr>\n",
       "      <th>603</th>\n",
       "      <td>BRD-K30743633</td>\n",
       "      <td>TCPOBOP</td>\n",
       "      <td>NR1I3</td>\n",
       "      <td>CAR agonist</td>\n",
       "      <td>Clc1cnc(Oc2ccc(Oc3ncc(Cl)cc3Cl)cc2)c(Cl)c1</td>\n",
       "      <td>BAFKRPOFIYPKBQ-UHFFFAOYSA-N</td>\n",
       "      <td>tcpobop</td>\n",
       "      <td>NR1I3</td>\n",
       "      <td>agonist</td>\n",
       "    </tr>\n",
       "    <tr>\n",
       "      <th>604</th>\n",
       "      <td>BRD-K39381259</td>\n",
       "      <td>DMH1</td>\n",
       "      <td>ACVR1</td>\n",
       "      <td>ALK inhibitor</td>\n",
       "      <td>CC(C)Oc1ccc(cc1)-c1cnc2c(cnn2c1)-c1ccnc2ccccc12</td>\n",
       "      <td>JMIFGARJSWXZSH-UHFFFAOYSA-N</td>\n",
       "      <td>DMH-1</td>\n",
       "      <td>ACVR1</td>\n",
       "      <td>inhibitor</td>\n",
       "    </tr>\n",
       "    <tr>\n",
       "      <th>605</th>\n",
       "      <td>BRD-K43002773</td>\n",
       "      <td>GDC-0068</td>\n",
       "      <td>AKT3</td>\n",
       "      <td>Akt inhibitor</td>\n",
       "      <td>C[C@@H]1C[C@H](C2=C1C(=NC=N2)N3CCN(CC3)C(=O)[C...</td>\n",
       "      <td>GRZXWCHAXNAUHY-NSISKUIASA-N</td>\n",
       "      <td>ipatasertib</td>\n",
       "      <td>AKT3</td>\n",
       "      <td>inhibitor</td>\n",
       "    </tr>\n",
       "    <tr>\n",
       "      <th>606</th>\n",
       "      <td>BRD-K43002773</td>\n",
       "      <td>GDC-0068</td>\n",
       "      <td>AKT1</td>\n",
       "      <td>Akt inhibitor</td>\n",
       "      <td>C[C@@H]1C[C@H](C2=C1C(=NC=N2)N3CCN(CC3)C(=O)[C...</td>\n",
       "      <td>GRZXWCHAXNAUHY-NSISKUIASA-N</td>\n",
       "      <td>ipatasertib</td>\n",
       "      <td>AKT1</td>\n",
       "      <td>inhibitor</td>\n",
       "    </tr>\n",
       "  </tbody>\n",
       "</table>\n",
       "</div>"
      ],
      "text/plain": [
       "           pert_id  cmap_name target            moa  \\\n",
       "602  BRD-A50311610  meclizine  NR1I3    CAR agonist   \n",
       "603  BRD-K30743633    TCPOBOP  NR1I3    CAR agonist   \n",
       "604  BRD-K39381259       DMH1  ACVR1  ALK inhibitor   \n",
       "605  BRD-K43002773   GDC-0068   AKT3  Akt inhibitor   \n",
       "606  BRD-K43002773   GDC-0068   AKT1  Akt inhibitor   \n",
       "\n",
       "                                      canonical_smiles  \\\n",
       "602      Cc1cccc(CN2CCN(CC2)C(c2ccccc2)c2ccc(Cl)cc2)c1   \n",
       "603         Clc1cnc(Oc2ccc(Oc3ncc(Cl)cc3Cl)cc2)c(Cl)c1   \n",
       "604    CC(C)Oc1ccc(cc1)-c1cnc2c(cnn2c1)-c1ccnc2ccccc12   \n",
       "605  C[C@@H]1C[C@H](C2=C1C(=NC=N2)N3CCN(CC3)C(=O)[C...   \n",
       "606  C[C@@H]1C[C@H](C2=C1C(=NC=N2)N3CCN(CC3)C(=O)[C...   \n",
       "\n",
       "                       inchi_key compound_aliases target2   moa_type  \n",
       "602  OCJYIGYOJCODJL-UHFFFAOYSA-N        meclozine   NR1I3    agonist  \n",
       "603  BAFKRPOFIYPKBQ-UHFFFAOYSA-N          tcpobop   NR1I3    agonist  \n",
       "604  JMIFGARJSWXZSH-UHFFFAOYSA-N            DMH-1   ACVR1  inhibitor  \n",
       "605  GRZXWCHAXNAUHY-NSISKUIASA-N      ipatasertib    AKT3  inhibitor  \n",
       "606  GRZXWCHAXNAUHY-NSISKUIASA-N      ipatasertib    AKT1  inhibitor  "
      ]
     },
     "execution_count": 27,
     "metadata": {},
     "output_type": "execute_result"
    }
   ],
   "source": [
    "druginfo4 = druginfo3.assign(moa_type = lambda x: x.moa.str.lower().str.split(' '))\n",
    "druginfo4.moa_type = [x[-1] for x in druginfo4.moa_type]\n",
    "druginfo4.head()"
   ]
  },
  {
   "cell_type": "code",
   "execution_count": 28,
   "metadata": {},
   "outputs": [
    {
     "data": {
      "text/plain": [
       "moa_type\n",
       "intercalator            1\n",
       "cells                   1\n",
       "sympatholytic           1\n",
       "antiviral               1\n",
       "antifibrinolytic        1\n",
       "compounds               1\n",
       "potentiator             1\n",
       "corrector               1\n",
       "stabilizer              1\n",
       "activity                1\n",
       "steroid                 1\n",
       "antiarrhythmic          2\n",
       "anesthetic              2\n",
       "anti-hcve2              3\n",
       "progestin               3\n",
       "scavenger               3\n",
       "antifolate              3\n",
       "antihistamine           3\n",
       "drug                    3\n",
       "acid                    3\n",
       "inducer                 4\n",
       "effects                 4\n",
       "vasodilator             6\n",
       "antioxidant             6\n",
       "b                       7\n",
       "sulfonylurea            8\n",
       "hormone                 8\n",
       "neurotransmitter        9\n",
       "diuretic                9\n",
       "precursor              10\n",
       "analog                 11\n",
       "immunosuppressant      13\n",
       "antidepressant         14\n",
       "sensitizer             14\n",
       "enhancer               14\n",
       "secretagogue           18\n",
       "antiepileptic          26\n",
       "ligand                 35\n",
       "stimulant              45\n",
       "agent                  69\n",
       "modulator             135\n",
       "activator             168\n",
       "blocker               286\n",
       "agonist              1307\n",
       "antagonist           1618\n",
       "inhibitor            4000\n",
       "Name: target, dtype: int64"
      ]
     },
     "execution_count": 28,
     "metadata": {},
     "output_type": "execute_result"
    }
   ],
   "source": [
    "druginfo4.groupby('moa_type').count()['target'].sort_values()"
   ]
  },
  {
   "cell_type": "code",
   "execution_count": 31,
   "metadata": {},
   "outputs": [
    {
     "data": {
      "text/plain": [
       "cmap_name\n",
       "LY-294002         28\n",
       "zonisamide        28\n",
       "asenapine         28\n",
       "ponatinib         30\n",
       "BMS-777607        30\n",
       "cabergoline       30\n",
       "pentobarbital     32\n",
       "ellagic-acid      35\n",
       "yohimbine         35\n",
       "amitriptyline     36\n",
       "clozapine         40\n",
       "orantinib         42\n",
       "ginkgolide-b      42\n",
       "ursolic-acid      44\n",
       "serotonin         48\n",
       "dovitinib         50\n",
       "tozasertib        56\n",
       "dasatinib         60\n",
       "guggulsterone     60\n",
       "topiramate        66\n",
       "bromocriptine     70\n",
       "sunitinib         80\n",
       "regorafenib       96\n",
       "etomidate         96\n",
       "sorafenib        132\n",
       "Name: target, dtype: int64"
      ]
     },
     "execution_count": 31,
     "metadata": {},
     "output_type": "execute_result"
    }
   ],
   "source": [
    "# what drugs have the most targets? \n",
    "druginfo4.groupby('cmap_name').count()['target'].sort_values().tail(25)"
   ]
  },
  {
   "cell_type": "code",
   "execution_count": 34,
   "metadata": {},
   "outputs": [
    {
     "data": {
      "text/plain": [
       "target\n",
       "EGFR       54\n",
       "MTOR       55\n",
       "FGFR1      57\n",
       "ADRB2      57\n",
       "GABRA1     58\n",
       "AR         61\n",
       "FLT4       63\n",
       "CHRM1      64\n",
       "HTR2C      65\n",
       "SLC6A2     69\n",
       "PGR        73\n",
       "SLC6A4     74\n",
       "FLT1       75\n",
       "ESR1       76\n",
       "PDGFRB     77\n",
       "KIT        83\n",
       "FLT3       84\n",
       "HTR1A      86\n",
       "HRH1       88\n",
       "PTGS1      95\n",
       "PTGS2      99\n",
       "KDR       105\n",
       "HTR2A     112\n",
       "NR3C1     112\n",
       "DRD2      118\n",
       "Name: cmap_name, dtype: int64"
      ]
     },
     "execution_count": 34,
     "metadata": {},
     "output_type": "execute_result"
    }
   ],
   "source": [
    "# what targets are shared by the most drugs? \n",
    "druginfo4.groupby('target').count()['cmap_name'].sort_values().tail(25)"
   ]
  },
  {
   "cell_type": "code",
   "execution_count": null,
   "metadata": {},
   "outputs": [],
   "source": []
  }
 ],
 "metadata": {
  "interpreter": {
   "hash": "1d16fc2ce73c0d2d0d6cd84412b0a30f5096651be430be85f05f88617bad4a03"
  },
  "kernelspec": {
   "display_name": "Python 3.9.7 64-bit ('waddle': conda)",
   "name": "python3"
  },
  "language_info": {
   "codemirror_mode": {
    "name": "ipython",
    "version": 3
   },
   "file_extension": ".py",
   "mimetype": "text/x-python",
   "name": "python",
   "nbconvert_exporter": "python",
   "pygments_lexer": "ipython3",
   "version": "3.9.7"
  },
  "orig_nbformat": 2
 },
 "nbformat": 4,
 "nbformat_minor": 2
}
