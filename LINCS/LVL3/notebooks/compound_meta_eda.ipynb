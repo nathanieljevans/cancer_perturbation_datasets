{
 "metadata": {
  "language_info": {
   "codemirror_mode": {
    "name": "ipython",
    "version": 3
   },
   "file_extension": ".py",
   "mimetype": "text/x-python",
   "name": "python",
   "nbconvert_exporter": "python",
   "pygments_lexer": "ipython3",
   "version": "3.8.5"
  },
  "orig_nbformat": 2,
  "kernelspec": {
   "name": "python385jvsc74a57bd0df76dc7eefd3519b618d4f742ac9d22003ce12e4db2fef6c1d63a51a9f543aa2",
   "display_name": "Python 3.8.5 64-bit ('gcnvae': conda)"
  }
 },
 "nbformat": 4,
 "nbformat_minor": 2,
 "cells": [
  {
   "cell_type": "code",
   "execution_count": 4,
   "metadata": {},
   "outputs": [],
   "source": [
    "import pandas as pd \n",
    "from matplotlib import pyplot as plt\n",
    "import numpy as np\n",
    "import seaborn as sbn\n",
    "import pickle as pkl \n",
    "\n",
    "pd.set_option('display.max_columns', None)"
   ]
  },
  {
   "cell_type": "code",
   "execution_count": 10,
   "metadata": {},
   "outputs": [
    {
     "output_type": "execute_result",
     "data": {
      "text/plain": [
       "           pert_id  cmap_name target            moa  \\\n",
       "602  BRD-A50311610  meclizine  NR1I3    CAR agonist   \n",
       "603  BRD-K30743633    TCPOBOP  NR1I3    CAR agonist   \n",
       "604  BRD-K39381259       DMH1  ACVR1  ALK inhibitor   \n",
       "605  BRD-K43002773   GDC-0068   AKT3  Akt inhibitor   \n",
       "606  BRD-K43002773   GDC-0068   AKT1  Akt inhibitor   \n",
       "\n",
       "                                      canonical_smiles  \\\n",
       "602      Cc1cccc(CN2CCN(CC2)C(c2ccccc2)c2ccc(Cl)cc2)c1   \n",
       "603         Clc1cnc(Oc2ccc(Oc3ncc(Cl)cc3Cl)cc2)c(Cl)c1   \n",
       "604    CC(C)Oc1ccc(cc1)-c1cnc2c(cnn2c1)-c1ccnc2ccccc12   \n",
       "605  C[C@@H]1C[C@H](C2=C1C(=NC=N2)N3CCN(CC3)C(=O)[C...   \n",
       "606  C[C@@H]1C[C@H](C2=C1C(=NC=N2)N3CCN(CC3)C(=O)[C...   \n",
       "\n",
       "                       inchi_key compound_aliases  \n",
       "602  OCJYIGYOJCODJL-UHFFFAOYSA-N        meclozine  \n",
       "603  BAFKRPOFIYPKBQ-UHFFFAOYSA-N          tcpobop  \n",
       "604  JMIFGARJSWXZSH-UHFFFAOYSA-N            DMH-1  \n",
       "605  GRZXWCHAXNAUHY-NSISKUIASA-N      ipatasertib  \n",
       "606  GRZXWCHAXNAUHY-NSISKUIASA-N      ipatasertib  "
      ],
      "text/html": "<div>\n<style scoped>\n    .dataframe tbody tr th:only-of-type {\n        vertical-align: middle;\n    }\n\n    .dataframe tbody tr th {\n        vertical-align: top;\n    }\n\n    .dataframe thead th {\n        text-align: right;\n    }\n</style>\n<table border=\"1\" class=\"dataframe\">\n  <thead>\n    <tr style=\"text-align: right;\">\n      <th></th>\n      <th>pert_id</th>\n      <th>cmap_name</th>\n      <th>target</th>\n      <th>moa</th>\n      <th>canonical_smiles</th>\n      <th>inchi_key</th>\n      <th>compound_aliases</th>\n    </tr>\n  </thead>\n  <tbody>\n    <tr>\n      <th>602</th>\n      <td>BRD-A50311610</td>\n      <td>meclizine</td>\n      <td>NR1I3</td>\n      <td>CAR agonist</td>\n      <td>Cc1cccc(CN2CCN(CC2)C(c2ccccc2)c2ccc(Cl)cc2)c1</td>\n      <td>OCJYIGYOJCODJL-UHFFFAOYSA-N</td>\n      <td>meclozine</td>\n    </tr>\n    <tr>\n      <th>603</th>\n      <td>BRD-K30743633</td>\n      <td>TCPOBOP</td>\n      <td>NR1I3</td>\n      <td>CAR agonist</td>\n      <td>Clc1cnc(Oc2ccc(Oc3ncc(Cl)cc3Cl)cc2)c(Cl)c1</td>\n      <td>BAFKRPOFIYPKBQ-UHFFFAOYSA-N</td>\n      <td>tcpobop</td>\n    </tr>\n    <tr>\n      <th>604</th>\n      <td>BRD-K39381259</td>\n      <td>DMH1</td>\n      <td>ACVR1</td>\n      <td>ALK inhibitor</td>\n      <td>CC(C)Oc1ccc(cc1)-c1cnc2c(cnn2c1)-c1ccnc2ccccc12</td>\n      <td>JMIFGARJSWXZSH-UHFFFAOYSA-N</td>\n      <td>DMH-1</td>\n    </tr>\n    <tr>\n      <th>605</th>\n      <td>BRD-K43002773</td>\n      <td>GDC-0068</td>\n      <td>AKT3</td>\n      <td>Akt inhibitor</td>\n      <td>C[C@@H]1C[C@H](C2=C1C(=NC=N2)N3CCN(CC3)C(=O)[C...</td>\n      <td>GRZXWCHAXNAUHY-NSISKUIASA-N</td>\n      <td>ipatasertib</td>\n    </tr>\n    <tr>\n      <th>606</th>\n      <td>BRD-K43002773</td>\n      <td>GDC-0068</td>\n      <td>AKT1</td>\n      <td>Akt inhibitor</td>\n      <td>C[C@@H]1C[C@H](C2=C1C(=NC=N2)N3CCN(CC3)C(=O)[C...</td>\n      <td>GRZXWCHAXNAUHY-NSISKUIASA-N</td>\n      <td>ipatasertib</td>\n    </tr>\n  </tbody>\n</table>\n</div>"
     },
     "metadata": {},
     "execution_count": 10
    }
   ],
   "source": [
    "# Metadata for cell lines (note there is one entry per compound/moa/target/structure combination, so some compounds appear more than once)\n",
    "druginfo = pd.read_csv('../data/raw/compoundinfo_beta.txt', sep='\\t')\n",
    "druginfo2 = druginfo[lambda x: ~x.target.isna()]\n",
    "druginfo2.head()"
   ]
  },
  {
   "cell_type": "code",
   "execution_count": 12,
   "metadata": {},
   "outputs": [],
   "source": [
    "with open('../../../DDS_graph.pkl', 'rb') as f: \n",
    "        DDS_graph = pkl.load(f)\n",
    "\n",
    "with open('../../../PPI_graph.pkl', 'rb') as f: \n",
    "    PPI_graph = pkl.load(f)\n",
    "\n",
    "drugs = DDS_graph['nodelist']\n",
    "genes = PPI_graph['nodelist']\n",
    "all2symb = PPI_graph['genemap']"
   ]
  },
  {
   "cell_type": "code",
   "execution_count": 35,
   "metadata": {},
   "outputs": [
    {
     "output_type": "execute_result",
     "data": {
      "text/plain": [
       "1224"
      ]
     },
     "metadata": {},
     "execution_count": 35
    }
   ],
   "source": [
    "len(drugs)"
   ]
  },
  {
   "cell_type": "code",
   "execution_count": 36,
   "metadata": {},
   "outputs": [
    {
     "output_type": "execute_result",
     "data": {
      "text/plain": [
       "13565"
      ]
     },
     "metadata": {},
     "execution_count": 36
    }
   ],
   "source": [
    "len(genes)"
   ]
  },
  {
   "cell_type": "code",
   "execution_count": 9,
   "metadata": {},
   "outputs": [
    {
     "output_type": "execute_result",
     "data": {
      "text/plain": [
       "755"
      ]
     },
     "metadata": {},
     "execution_count": 9
    }
   ],
   "source": [
    "# how many drugs in our drug-drug network have targets in cmap meta? \n",
    "druginfo2 = druginfo[lambda x: ~x.target.isna()]\n",
    "drug_overlap = set(druginfo2.cmap_name.str.lower().unique()).intersection(set(drugs))\n",
    "len(drug_overlap)"
   ]
  },
  {
   "cell_type": "code",
   "execution_count": 16,
   "metadata": {},
   "outputs": [
    {
     "output_type": "execute_result",
     "data": {
      "text/plain": [
       "848"
      ]
     },
     "metadata": {},
     "execution_count": 16
    }
   ],
   "source": [
    "# how many of the targets overlap with genes in our network? \n",
    "gene_overlap = set(druginfo2.target.str.upper().map(all2symb).values).intersection(set(genes))\n",
    "len(gene_overlap)"
   ]
  },
  {
   "cell_type": "code",
   "execution_count": 20,
   "metadata": {},
   "outputs": [
    {
     "output_type": "stream",
     "name": "stdout",
     "text": [
      "# dropped obs: 166\n"
     ]
    },
    {
     "output_type": "execute_result",
     "data": {
      "text/plain": [
       "745"
      ]
     },
     "metadata": {},
     "execution_count": 20
    }
   ],
   "source": [
    "# if we filter to targets that are in our gene graph... how many drugs in our graph have protein targets?\n",
    "druginfo3 = druginfo2.assign(target2 = lambda x: x.target.str.upper().map(all2symb))\n",
    "druginfo3 = druginfo3[lambda x: x.target2.isin(genes)]\n",
    "print('# dropped obs:', druginfo2.shape[0] - druginfo3.shape[0])\n",
    "drug_overlap2 = set(druginfo3.cmap_name.str.lower().unique()).intersection(set(drugs))\n",
    "len(drug_overlap2)"
   ]
  },
  {
   "cell_type": "code",
   "execution_count": 37,
   "metadata": {},
   "outputs": [
    {
     "output_type": "execute_result",
     "data": {
      "text/plain": [
       "moa\n",
       "KIT inhibitor                        114\n",
       "FLT3 inhibitor                       121\n",
       "Acetylcholine receptor antagonist    138\n",
       "Cyclooxygenase inhibitor             149\n",
       "PDGFR inhibitor                      164\n",
       "Adrenergic receptor antagonist       194\n",
       "VEGFR inhibitor                      199\n",
       "Dopamine receptor antagonist         216\n",
       "Dopamine receptor agonist            216\n",
       "Serotonin receptor antagonist        276\n",
       "Name: target, dtype: int64"
      ]
     },
     "metadata": {},
     "execution_count": 37
    }
   ],
   "source": [
    "# what are the moa (mode of action) types we have? \n",
    "druginfo3.fillna('yourmom').groupby('moa').count()['target'].sort_values().tail(10)"
   ]
  },
  {
   "cell_type": "code",
   "execution_count": 27,
   "metadata": {},
   "outputs": [
    {
     "output_type": "execute_result",
     "data": {
      "text/plain": [
       "           pert_id  cmap_name target            moa  \\\n",
       "602  BRD-A50311610  meclizine  NR1I3    CAR agonist   \n",
       "603  BRD-K30743633    TCPOBOP  NR1I3    CAR agonist   \n",
       "604  BRD-K39381259       DMH1  ACVR1  ALK inhibitor   \n",
       "605  BRD-K43002773   GDC-0068   AKT3  Akt inhibitor   \n",
       "606  BRD-K43002773   GDC-0068   AKT1  Akt inhibitor   \n",
       "\n",
       "                                      canonical_smiles  \\\n",
       "602      Cc1cccc(CN2CCN(CC2)C(c2ccccc2)c2ccc(Cl)cc2)c1   \n",
       "603         Clc1cnc(Oc2ccc(Oc3ncc(Cl)cc3Cl)cc2)c(Cl)c1   \n",
       "604    CC(C)Oc1ccc(cc1)-c1cnc2c(cnn2c1)-c1ccnc2ccccc12   \n",
       "605  C[C@@H]1C[C@H](C2=C1C(=NC=N2)N3CCN(CC3)C(=O)[C...   \n",
       "606  C[C@@H]1C[C@H](C2=C1C(=NC=N2)N3CCN(CC3)C(=O)[C...   \n",
       "\n",
       "                       inchi_key compound_aliases target2   moa_type  \n",
       "602  OCJYIGYOJCODJL-UHFFFAOYSA-N        meclozine   NR1I3    agonist  \n",
       "603  BAFKRPOFIYPKBQ-UHFFFAOYSA-N          tcpobop   NR1I3    agonist  \n",
       "604  JMIFGARJSWXZSH-UHFFFAOYSA-N            DMH-1   ACVR1  inhibitor  \n",
       "605  GRZXWCHAXNAUHY-NSISKUIASA-N      ipatasertib    AKT3  inhibitor  \n",
       "606  GRZXWCHAXNAUHY-NSISKUIASA-N      ipatasertib    AKT1  inhibitor  "
      ],
      "text/html": "<div>\n<style scoped>\n    .dataframe tbody tr th:only-of-type {\n        vertical-align: middle;\n    }\n\n    .dataframe tbody tr th {\n        vertical-align: top;\n    }\n\n    .dataframe thead th {\n        text-align: right;\n    }\n</style>\n<table border=\"1\" class=\"dataframe\">\n  <thead>\n    <tr style=\"text-align: right;\">\n      <th></th>\n      <th>pert_id</th>\n      <th>cmap_name</th>\n      <th>target</th>\n      <th>moa</th>\n      <th>canonical_smiles</th>\n      <th>inchi_key</th>\n      <th>compound_aliases</th>\n      <th>target2</th>\n      <th>moa_type</th>\n    </tr>\n  </thead>\n  <tbody>\n    <tr>\n      <th>602</th>\n      <td>BRD-A50311610</td>\n      <td>meclizine</td>\n      <td>NR1I3</td>\n      <td>CAR agonist</td>\n      <td>Cc1cccc(CN2CCN(CC2)C(c2ccccc2)c2ccc(Cl)cc2)c1</td>\n      <td>OCJYIGYOJCODJL-UHFFFAOYSA-N</td>\n      <td>meclozine</td>\n      <td>NR1I3</td>\n      <td>agonist</td>\n    </tr>\n    <tr>\n      <th>603</th>\n      <td>BRD-K30743633</td>\n      <td>TCPOBOP</td>\n      <td>NR1I3</td>\n      <td>CAR agonist</td>\n      <td>Clc1cnc(Oc2ccc(Oc3ncc(Cl)cc3Cl)cc2)c(Cl)c1</td>\n      <td>BAFKRPOFIYPKBQ-UHFFFAOYSA-N</td>\n      <td>tcpobop</td>\n      <td>NR1I3</td>\n      <td>agonist</td>\n    </tr>\n    <tr>\n      <th>604</th>\n      <td>BRD-K39381259</td>\n      <td>DMH1</td>\n      <td>ACVR1</td>\n      <td>ALK inhibitor</td>\n      <td>CC(C)Oc1ccc(cc1)-c1cnc2c(cnn2c1)-c1ccnc2ccccc12</td>\n      <td>JMIFGARJSWXZSH-UHFFFAOYSA-N</td>\n      <td>DMH-1</td>\n      <td>ACVR1</td>\n      <td>inhibitor</td>\n    </tr>\n    <tr>\n      <th>605</th>\n      <td>BRD-K43002773</td>\n      <td>GDC-0068</td>\n      <td>AKT3</td>\n      <td>Akt inhibitor</td>\n      <td>C[C@@H]1C[C@H](C2=C1C(=NC=N2)N3CCN(CC3)C(=O)[C...</td>\n      <td>GRZXWCHAXNAUHY-NSISKUIASA-N</td>\n      <td>ipatasertib</td>\n      <td>AKT3</td>\n      <td>inhibitor</td>\n    </tr>\n    <tr>\n      <th>606</th>\n      <td>BRD-K43002773</td>\n      <td>GDC-0068</td>\n      <td>AKT1</td>\n      <td>Akt inhibitor</td>\n      <td>C[C@@H]1C[C@H](C2=C1C(=NC=N2)N3CCN(CC3)C(=O)[C...</td>\n      <td>GRZXWCHAXNAUHY-NSISKUIASA-N</td>\n      <td>ipatasertib</td>\n      <td>AKT1</td>\n      <td>inhibitor</td>\n    </tr>\n  </tbody>\n</table>\n</div>"
     },
     "metadata": {},
     "execution_count": 27
    }
   ],
   "source": [
    "druginfo4 = druginfo3.assign(moa_type = lambda x: x.moa.str.lower().str.split(' '))\n",
    "druginfo4.moa_type = [x[-1] for x in druginfo4.moa_type]\n",
    "druginfo4.head()"
   ]
  },
  {
   "cell_type": "code",
   "execution_count": 28,
   "metadata": {},
   "outputs": [
    {
     "output_type": "execute_result",
     "data": {
      "text/plain": [
       "moa_type\n",
       "intercalator            1\n",
       "cells                   1\n",
       "sympatholytic           1\n",
       "antiviral               1\n",
       "antifibrinolytic        1\n",
       "compounds               1\n",
       "potentiator             1\n",
       "corrector               1\n",
       "stabilizer              1\n",
       "activity                1\n",
       "steroid                 1\n",
       "antiarrhythmic          2\n",
       "anesthetic              2\n",
       "anti-hcve2              3\n",
       "progestin               3\n",
       "scavenger               3\n",
       "antifolate              3\n",
       "antihistamine           3\n",
       "drug                    3\n",
       "acid                    3\n",
       "inducer                 4\n",
       "effects                 4\n",
       "vasodilator             6\n",
       "antioxidant             6\n",
       "b                       7\n",
       "sulfonylurea            8\n",
       "hormone                 8\n",
       "neurotransmitter        9\n",
       "diuretic                9\n",
       "precursor              10\n",
       "analog                 11\n",
       "immunosuppressant      13\n",
       "antidepressant         14\n",
       "sensitizer             14\n",
       "enhancer               14\n",
       "secretagogue           18\n",
       "antiepileptic          26\n",
       "ligand                 35\n",
       "stimulant              45\n",
       "agent                  69\n",
       "modulator             135\n",
       "activator             168\n",
       "blocker               286\n",
       "agonist              1307\n",
       "antagonist           1618\n",
       "inhibitor            4000\n",
       "Name: target, dtype: int64"
      ]
     },
     "metadata": {},
     "execution_count": 28
    }
   ],
   "source": [
    "druginfo4.groupby('moa_type').count()['target'].sort_values()"
   ]
  },
  {
   "cell_type": "code",
   "execution_count": 31,
   "metadata": {},
   "outputs": [
    {
     "output_type": "execute_result",
     "data": {
      "text/plain": [
       "cmap_name\n",
       "LY-294002         28\n",
       "zonisamide        28\n",
       "asenapine         28\n",
       "ponatinib         30\n",
       "BMS-777607        30\n",
       "cabergoline       30\n",
       "pentobarbital     32\n",
       "ellagic-acid      35\n",
       "yohimbine         35\n",
       "amitriptyline     36\n",
       "clozapine         40\n",
       "orantinib         42\n",
       "ginkgolide-b      42\n",
       "ursolic-acid      44\n",
       "serotonin         48\n",
       "dovitinib         50\n",
       "tozasertib        56\n",
       "dasatinib         60\n",
       "guggulsterone     60\n",
       "topiramate        66\n",
       "bromocriptine     70\n",
       "sunitinib         80\n",
       "regorafenib       96\n",
       "etomidate         96\n",
       "sorafenib        132\n",
       "Name: target, dtype: int64"
      ]
     },
     "metadata": {},
     "execution_count": 31
    }
   ],
   "source": [
    "# what drugs have the most targets? \n",
    "druginfo4.groupby('cmap_name').count()['target'].sort_values().tail(25)"
   ]
  },
  {
   "cell_type": "code",
   "execution_count": 34,
   "metadata": {},
   "outputs": [
    {
     "output_type": "execute_result",
     "data": {
      "text/plain": [
       "target\n",
       "EGFR       54\n",
       "MTOR       55\n",
       "FGFR1      57\n",
       "ADRB2      57\n",
       "GABRA1     58\n",
       "AR         61\n",
       "FLT4       63\n",
       "CHRM1      64\n",
       "HTR2C      65\n",
       "SLC6A2     69\n",
       "PGR        73\n",
       "SLC6A4     74\n",
       "FLT1       75\n",
       "ESR1       76\n",
       "PDGFRB     77\n",
       "KIT        83\n",
       "FLT3       84\n",
       "HTR1A      86\n",
       "HRH1       88\n",
       "PTGS1      95\n",
       "PTGS2      99\n",
       "KDR       105\n",
       "HTR2A     112\n",
       "NR3C1     112\n",
       "DRD2      118\n",
       "Name: cmap_name, dtype: int64"
      ]
     },
     "metadata": {},
     "execution_count": 34
    }
   ],
   "source": [
    "# what targets are shared by the most drugs? \n",
    "druginfo4.groupby('target').count()['cmap_name'].sort_values().tail(25)"
   ]
  },
  {
   "cell_type": "code",
   "execution_count": null,
   "metadata": {},
   "outputs": [],
   "source": []
  }
 ]
}