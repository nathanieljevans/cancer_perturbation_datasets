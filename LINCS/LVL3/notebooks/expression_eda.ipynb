{
 "metadata": {
  "language_info": {
   "codemirror_mode": {
    "name": "ipython",
    "version": 3
   },
   "file_extension": ".py",
   "mimetype": "text/x-python",
   "name": "python",
   "nbconvert_exporter": "python",
   "pygments_lexer": "ipython3",
   "version": "3.8.5"
  },
  "orig_nbformat": 2,
  "kernelspec": {
   "name": "python385jvsc74a57bd0df76dc7eefd3519b618d4f742ac9d22003ce12e4db2fef6c1d63a51a9f543aa2",
   "display_name": "Python 3.8.5 64-bit ('gcnvae': conda)"
  }
 },
 "nbformat": 4,
 "nbformat_minor": 2,
 "cells": [
  {
   "cell_type": "code",
   "execution_count": 2,
   "metadata": {},
   "outputs": [],
   "source": [
    "import pandas as pd\n",
    "import numpy as np\n",
    "from matplotlib import pyplot as plt \n",
    "import networkx as nx \n",
    "import pickle as pkl\n",
    "\n",
    "import h5py"
   ]
  },
  {
   "cell_type": "code",
   "execution_count": 29,
   "metadata": {},
   "outputs": [
    {
     "output_type": "stream",
     "name": "stderr",
     "text": [
      "C:\\Users\\natha\\miniconda3\\envs\\gcnvae\\lib\\site-packages\\IPython\\core\\interactiveshell.py:3155: DtypeWarning: Columns (4) have mixed types.Specify dtype option on import or set low_memory=False.\n  has_raised = await self.run_ast_nodes(code_ast.body, cell_name,\n"
     ]
    }
   ],
   "source": [
    "# gene id mapping\n",
    "with open('../../../GENEID_MAPPING/data/processed/all2genesymbol.pkl', 'rb') as f: \n",
    "    all2symb = pkl.load(f)\n",
    "\n",
    "geneinfo = pd.read_csv('../data/raw/geneinfo_beta.txt', sep='\\t', dtype=str)\n",
    "id2symb = geneinfo.set_index('gene_id')['gene_symbol'].to_dict()\n",
    "\n",
    "expr_info = pd.read_csv('../data/raw/instinfo_beta.txt', sep='\\t')\n",
    "expr_info.head()\n",
    "\n",
    "sampinfo = pd.read_csv('../data/raw/instinfo_beta.txt', '\\t', dtype=str)\n"
   ]
  },
  {
   "cell_type": "code",
   "execution_count": 11,
   "metadata": {},
   "outputs": [
    {
     "output_type": "stream",
     "name": "stdout",
     "text": [
      "keys: dict_keys(['unpert_expr', 'linc_ccle_lines', 'meta', 'source', 'creation_date'])\n"
     ]
    },
    {
     "output_type": "execute_result",
     "data": {
      "text/plain": [
       "138"
      ]
     },
     "metadata": {},
     "execution_count": 11
    }
   ],
   "source": [
    "with open('../../../cell_baseline.pkl', 'rb') as f: \n",
    "    baseline_expr = pkl.load(f)\n",
    "    \n",
    "print('keys:', baseline_expr.keys())\n",
    "\n",
    "cell_lines = baseline_expr['linc_ccle_lines']\n",
    "len(cell_lines)"
   ]
  },
  {
   "cell_type": "code",
   "execution_count": 12,
   "metadata": {},
   "outputs": [],
   "source": [
    "with open('../../../DDS_graph.pkl', 'rb') as f: \n",
    "    DDS_graph = pkl.load(f)\n",
    "\n",
    "with open('../../../PPI_graph.pkl', 'rb') as f: \n",
    "    PPI_graph = pkl.load(f)"
   ]
  },
  {
   "cell_type": "code",
   "execution_count": 13,
   "metadata": {},
   "outputs": [],
   "source": [
    "drugs = DDS_graph['nodelist']\n",
    "genes = PPI_graph['nodelist']"
   ]
  },
  {
   "cell_type": "code",
   "execution_count": 14,
   "metadata": {},
   "outputs": [],
   "source": [
    "cp = h5py.File('../data/raw/level3_beta_trt_cp_n1805898x12328.gctx', 'r')\n",
    "\n",
    "h5_data= cp['0']['DATA']['0']['matrix']\n",
    "\n",
    "sample_meta = np.array(cp['0']['META']['COL']['id'], dtype=str)\n",
    "gene_meta = np.array(cp['0']['META']['ROW']['id'], dtype=str)"
   ]
  },
  {
   "cell_type": "code",
   "execution_count": 16,
   "metadata": {},
   "outputs": [
    {
     "output_type": "execute_result",
     "data": {
      "text/plain": [
       "array(['10', '100', '1000', ..., '9992', '9993', '9997'], dtype='<U12')"
      ]
     },
     "metadata": {},
     "execution_count": 16
    }
   ],
   "source": [
    "gene_meta"
   ]
  },
  {
   "cell_type": "code",
   "execution_count": 17,
   "metadata": {},
   "outputs": [
    {
     "output_type": "execute_result",
     "data": {
      "text/plain": [
       "array(['ABY001_A375_XH_X1_B15:A13', 'ABY001_A375_XH_X1_B15:A14',\n",
       "       'ABY001_A375_XH_X1_B15:A15', ..., 'TSAI002_NPC-8_XH_X1_B18:J16',\n",
       "       'TSAI002_NPC-8_XH_X1_B18:J20', 'TSAI002_NPC-8_XH_X1_B18:J22'],\n",
       "      dtype='<U47')"
      ]
     },
     "metadata": {},
     "execution_count": 17
    }
   ],
   "source": [
    "sample_meta"
   ]
  },
  {
   "cell_type": "code",
   "execution_count": 18,
   "metadata": {},
   "outputs": [
    {
     "output_type": "execute_result",
     "data": {
      "text/plain": [
       "12328"
      ]
     },
     "metadata": {},
     "execution_count": 18
    }
   ],
   "source": [
    "gene_meta_symb = np.array([all2symb[id2symb[x].upper()][0] if id2symb[x].upper() in all2symb else None for x in gene_meta])\n",
    "len(gene_meta_symb)"
   ]
  },
  {
   "cell_type": "code",
   "execution_count": 19,
   "metadata": {},
   "outputs": [
    {
     "output_type": "execute_result",
     "data": {
      "text/plain": [
       "9829"
      ]
     },
     "metadata": {},
     "execution_count": 19
    }
   ],
   "source": [
    "gene_selector = np.array([x in genes for x in gene_meta_symb])\n",
    "np.sum(gene_selector)"
   ]
  },
  {
   "cell_type": "code",
   "execution_count": 20,
   "metadata": {},
   "outputs": [
    {
     "output_type": "execute_result",
     "data": {
      "text/plain": [
       "1224"
      ]
     },
     "metadata": {},
     "execution_count": 20
    }
   ],
   "source": [
    "len(drugs)"
   ]
  },
  {
   "cell_type": "code",
   "execution_count": 21,
   "metadata": {},
   "outputs": [
    {
     "output_type": "execute_result",
     "data": {
      "text/plain": [
       "1191"
      ]
     },
     "metadata": {},
     "execution_count": 21
    }
   ],
   "source": [
    "overlap_ = set(expr_info.cmap_name.str.lower().unique()).intersection(set(drugs))\n",
    "len(overlap_)"
   ]
  },
  {
   "cell_type": "code",
   "execution_count": 22,
   "metadata": {},
   "outputs": [
    {
     "output_type": "execute_result",
     "data": {
      "text/plain": [
       "(446874, 30)"
      ]
     },
     "metadata": {},
     "execution_count": 22
    }
   ],
   "source": [
    "mydrug_obs = expr_info[lambda x: x.cmap_name.str.lower().isin(drugs)]\n",
    "mydrug_obs.shape"
   ]
  },
  {
   "cell_type": "code",
   "execution_count": 23,
   "metadata": {},
   "outputs": [
    {
     "output_type": "execute_result",
     "data": {
      "text/plain": [
       "   bead_batch  nearest_dose  pert_dose pert_dose_unit pert_idose  pert_time  \\\n",
       "7       f1b10         0.002     0.0015             uM   0.002 uM        6.0   \n",
       "28        b10         0.004     0.0045             uM   0.004 uM       24.0   \n",
       "49         b1        15.000    17.1026             uM      15 uM        6.0   \n",
       "51         b1        80.000    80.0000             uM      80 uM       24.0   \n",
       "53        b10         0.004     0.0045             uM   0.004 uM       24.0   \n",
       "\n",
       "   pert_itime pert_time_unit cell_mfc_name             pert_mfc_id  ...  \\\n",
       "7         6 h              h          A549           BRD-A61304759  ...   \n",
       "28       24 h              h          MCF7           BRD-A61304759  ...   \n",
       "49        6 h              h          U2OS  BRD-A78377521-001-02-2  ...   \n",
       "51       24 h              h        HCC515  BRD-K57080016-001-04-3  ...   \n",
       "53       24 h              h          MCF7           BRD-A84481105  ...   \n",
       "\n",
       "                                  sample_id pert_type cell_iname qc_pass  \\\n",
       "7               HOG001_A549_6H_X4_F1B10:P11    trt_cp       A549     1.0   \n",
       "28               HOG003_MCF7_24H_X1_B10:P10    trt_cp       MCF7     0.0   \n",
       "49        PAC005_U2OS_6H_X3_B1_UNI4445L:K10    trt_cp       U2OS     1.0   \n",
       "51  CPC006_HCC515_24H_X5_B1_DUO52HI53LO:D04    trt_cp     HCC515     1.0   \n",
       "53               HOG001_MCF7_24H_X1_B10:G10    trt_cp       MCF7     1.0   \n",
       "\n",
       "    dyn_range  inv_level_10  build_name  failure_mode  project_code  \\\n",
       "7    12.47150        2301.0         NaN           NaN           HOG   \n",
       "28    5.22482        6484.0         NaN      count_cv           HOG   \n",
       "49   13.14520        3260.0         NaN           NaN           PAC   \n",
       "51    8.29863        2431.5         NaN           NaN           CPC   \n",
       "53    5.13618        3903.5         NaN           NaN           HOG   \n",
       "\n",
       "       cmap_name  \n",
       "7   tanespimycin  \n",
       "28  tanespimycin  \n",
       "49     monastrol  \n",
       "51   selumetinib  \n",
       "53  thioridazine  \n",
       "\n",
       "[5 rows x 30 columns]"
      ],
      "text/html": "<div>\n<style scoped>\n    .dataframe tbody tr th:only-of-type {\n        vertical-align: middle;\n    }\n\n    .dataframe tbody tr th {\n        vertical-align: top;\n    }\n\n    .dataframe thead th {\n        text-align: right;\n    }\n</style>\n<table border=\"1\" class=\"dataframe\">\n  <thead>\n    <tr style=\"text-align: right;\">\n      <th></th>\n      <th>bead_batch</th>\n      <th>nearest_dose</th>\n      <th>pert_dose</th>\n      <th>pert_dose_unit</th>\n      <th>pert_idose</th>\n      <th>pert_time</th>\n      <th>pert_itime</th>\n      <th>pert_time_unit</th>\n      <th>cell_mfc_name</th>\n      <th>pert_mfc_id</th>\n      <th>...</th>\n      <th>sample_id</th>\n      <th>pert_type</th>\n      <th>cell_iname</th>\n      <th>qc_pass</th>\n      <th>dyn_range</th>\n      <th>inv_level_10</th>\n      <th>build_name</th>\n      <th>failure_mode</th>\n      <th>project_code</th>\n      <th>cmap_name</th>\n    </tr>\n  </thead>\n  <tbody>\n    <tr>\n      <th>7</th>\n      <td>f1b10</td>\n      <td>0.002</td>\n      <td>0.0015</td>\n      <td>uM</td>\n      <td>0.002 uM</td>\n      <td>6.0</td>\n      <td>6 h</td>\n      <td>h</td>\n      <td>A549</td>\n      <td>BRD-A61304759</td>\n      <td>...</td>\n      <td>HOG001_A549_6H_X4_F1B10:P11</td>\n      <td>trt_cp</td>\n      <td>A549</td>\n      <td>1.0</td>\n      <td>12.47150</td>\n      <td>2301.0</td>\n      <td>NaN</td>\n      <td>NaN</td>\n      <td>HOG</td>\n      <td>tanespimycin</td>\n    </tr>\n    <tr>\n      <th>28</th>\n      <td>b10</td>\n      <td>0.004</td>\n      <td>0.0045</td>\n      <td>uM</td>\n      <td>0.004 uM</td>\n      <td>24.0</td>\n      <td>24 h</td>\n      <td>h</td>\n      <td>MCF7</td>\n      <td>BRD-A61304759</td>\n      <td>...</td>\n      <td>HOG003_MCF7_24H_X1_B10:P10</td>\n      <td>trt_cp</td>\n      <td>MCF7</td>\n      <td>0.0</td>\n      <td>5.22482</td>\n      <td>6484.0</td>\n      <td>NaN</td>\n      <td>count_cv</td>\n      <td>HOG</td>\n      <td>tanespimycin</td>\n    </tr>\n    <tr>\n      <th>49</th>\n      <td>b1</td>\n      <td>15.000</td>\n      <td>17.1026</td>\n      <td>uM</td>\n      <td>15 uM</td>\n      <td>6.0</td>\n      <td>6 h</td>\n      <td>h</td>\n      <td>U2OS</td>\n      <td>BRD-A78377521-001-02-2</td>\n      <td>...</td>\n      <td>PAC005_U2OS_6H_X3_B1_UNI4445L:K10</td>\n      <td>trt_cp</td>\n      <td>U2OS</td>\n      <td>1.0</td>\n      <td>13.14520</td>\n      <td>3260.0</td>\n      <td>NaN</td>\n      <td>NaN</td>\n      <td>PAC</td>\n      <td>monastrol</td>\n    </tr>\n    <tr>\n      <th>51</th>\n      <td>b1</td>\n      <td>80.000</td>\n      <td>80.0000</td>\n      <td>uM</td>\n      <td>80 uM</td>\n      <td>24.0</td>\n      <td>24 h</td>\n      <td>h</td>\n      <td>HCC515</td>\n      <td>BRD-K57080016-001-04-3</td>\n      <td>...</td>\n      <td>CPC006_HCC515_24H_X5_B1_DUO52HI53LO:D04</td>\n      <td>trt_cp</td>\n      <td>HCC515</td>\n      <td>1.0</td>\n      <td>8.29863</td>\n      <td>2431.5</td>\n      <td>NaN</td>\n      <td>NaN</td>\n      <td>CPC</td>\n      <td>selumetinib</td>\n    </tr>\n    <tr>\n      <th>53</th>\n      <td>b10</td>\n      <td>0.004</td>\n      <td>0.0045</td>\n      <td>uM</td>\n      <td>0.004 uM</td>\n      <td>24.0</td>\n      <td>24 h</td>\n      <td>h</td>\n      <td>MCF7</td>\n      <td>BRD-A84481105</td>\n      <td>...</td>\n      <td>HOG001_MCF7_24H_X1_B10:G10</td>\n      <td>trt_cp</td>\n      <td>MCF7</td>\n      <td>1.0</td>\n      <td>5.13618</td>\n      <td>3903.5</td>\n      <td>NaN</td>\n      <td>NaN</td>\n      <td>HOG</td>\n      <td>thioridazine</td>\n    </tr>\n  </tbody>\n</table>\n<p>5 rows × 30 columns</p>\n</div>"
     },
     "metadata": {},
     "execution_count": 23
    }
   ],
   "source": [
    "mydrug_obs.head()"
   ]
  },
  {
   "cell_type": "code",
   "execution_count": null,
   "metadata": {},
   "outputs": [],
   "source": [
    "# what do we need from this? \n",
    "\n",
    "# 1 ) unperturbed expression (replicates?)\n",
    "    # -> this is going to be in the `_ctl_` file. \n",
    "    # CHANGE - all unperturbed data will come from CCLE (expression [mutation, cnv, methyl])\n",
    "\n",
    "# 2 ) perturbed expression (replicates? treat replicates as separate observations)"
   ]
  },
  {
   "cell_type": "code",
   "execution_count": 28,
   "metadata": {},
   "outputs": [
    {
     "output_type": "execute_result",
     "data": {
      "text/plain": [
       "array(['trt_sh', 'ctl_vector', 'trt_lig', 'trt_oe', 'trt_cp', 'trt_aby',\n",
       "       'trt_xpr', 'ctl_x', 'ctl_vehicle', 'ctl_untrt', 'trt_si'],\n",
       "      dtype=object)"
      ]
     },
     "metadata": {},
     "execution_count": 28
    }
   ],
   "source": [
    "expr_info.pert_type.unique()"
   ]
  },
  {
   "cell_type": "code",
   "execution_count": 51,
   "metadata": {},
   "outputs": [
    {
     "output_type": "execute_result",
     "data": {
      "text/plain": [
       "       bead_batch  nearest_dose  pert_dose pert_dose_unit pert_idose  \\\n",
       "117138        b12           NaN        NaN            NaN        NaN   \n",
       "117151       f1b7           NaN        NaN            NaN        NaN   \n",
       "117157        b11           NaN        NaN            NaN        NaN   \n",
       "117158       f1b7           NaN        NaN            NaN        NaN   \n",
       "117161       f1b7           NaN        NaN            NaN        NaN   \n",
       "\n",
       "        pert_time pert_itime pert_time_unit cell_mfc_name pert_mfc_id  ...  \\\n",
       "117138       48.0       48 h              h          A375    CMAP-000  ...   \n",
       "117151        6.0        6 h              h          MCF7    CMAP-000  ...   \n",
       "117157      120.0      120 h              h           PC3    CMAP-000  ...   \n",
       "117158        6.0        6 h              h          MCF7    CMAP-000  ...   \n",
       "117161        6.0        6 h              h          MCF7    CMAP-000  ...   \n",
       "\n",
       "                                       sample_id  pert_type cell_iname  \\\n",
       "117138             OEC001_A375_48H_X1.A2_B12:P09  ctl_untrt       A375   \n",
       "117151  CRCGN004_MCF7_6H_X2_F1B7_DUO52HI53LO:B24  ctl_untrt       MCF7   \n",
       "117157                ERG013_PC3_120H_X3_B11:L12  ctl_untrt        PC3   \n",
       "117158  CRCGN004_MCF7_6H_X2_F1B7_DUO52HI53LO:P03  ctl_untrt       MCF7   \n",
       "117161  CRCGN004_MCF7_6H_X1_F1B7_DUO52HI53LO:M22  ctl_untrt       MCF7   \n",
       "\n",
       "       qc_pass  dyn_range  inv_level_10  build_name  failure_mode  \\\n",
       "117138     1.0   11.96920        2334.0         NaN           NaN   \n",
       "117151     0.0    4.60337        2594.0         NaN     dyn_range   \n",
       "117157     1.0    7.80414        4144.0         NaN           NaN   \n",
       "117158     1.0    6.07042        2586.0         NaN           NaN   \n",
       "117161     1.0    6.33742        2845.5         NaN           NaN   \n",
       "\n",
       "        project_code cmap_name  \n",
       "117138           OEC     UnTrt  \n",
       "117151         CRCGN     UnTrt  \n",
       "117157           ERG     UnTrt  \n",
       "117158         CRCGN     UnTrt  \n",
       "117161         CRCGN     UnTrt  \n",
       "\n",
       "[5 rows x 30 columns]"
      ],
      "text/html": "<div>\n<style scoped>\n    .dataframe tbody tr th:only-of-type {\n        vertical-align: middle;\n    }\n\n    .dataframe tbody tr th {\n        vertical-align: top;\n    }\n\n    .dataframe thead th {\n        text-align: right;\n    }\n</style>\n<table border=\"1\" class=\"dataframe\">\n  <thead>\n    <tr style=\"text-align: right;\">\n      <th></th>\n      <th>bead_batch</th>\n      <th>nearest_dose</th>\n      <th>pert_dose</th>\n      <th>pert_dose_unit</th>\n      <th>pert_idose</th>\n      <th>pert_time</th>\n      <th>pert_itime</th>\n      <th>pert_time_unit</th>\n      <th>cell_mfc_name</th>\n      <th>pert_mfc_id</th>\n      <th>...</th>\n      <th>sample_id</th>\n      <th>pert_type</th>\n      <th>cell_iname</th>\n      <th>qc_pass</th>\n      <th>dyn_range</th>\n      <th>inv_level_10</th>\n      <th>build_name</th>\n      <th>failure_mode</th>\n      <th>project_code</th>\n      <th>cmap_name</th>\n    </tr>\n  </thead>\n  <tbody>\n    <tr>\n      <th>117138</th>\n      <td>b12</td>\n      <td>NaN</td>\n      <td>NaN</td>\n      <td>NaN</td>\n      <td>NaN</td>\n      <td>48.0</td>\n      <td>48 h</td>\n      <td>h</td>\n      <td>A375</td>\n      <td>CMAP-000</td>\n      <td>...</td>\n      <td>OEC001_A375_48H_X1.A2_B12:P09</td>\n      <td>ctl_untrt</td>\n      <td>A375</td>\n      <td>1.0</td>\n      <td>11.96920</td>\n      <td>2334.0</td>\n      <td>NaN</td>\n      <td>NaN</td>\n      <td>OEC</td>\n      <td>UnTrt</td>\n    </tr>\n    <tr>\n      <th>117151</th>\n      <td>f1b7</td>\n      <td>NaN</td>\n      <td>NaN</td>\n      <td>NaN</td>\n      <td>NaN</td>\n      <td>6.0</td>\n      <td>6 h</td>\n      <td>h</td>\n      <td>MCF7</td>\n      <td>CMAP-000</td>\n      <td>...</td>\n      <td>CRCGN004_MCF7_6H_X2_F1B7_DUO52HI53LO:B24</td>\n      <td>ctl_untrt</td>\n      <td>MCF7</td>\n      <td>0.0</td>\n      <td>4.60337</td>\n      <td>2594.0</td>\n      <td>NaN</td>\n      <td>dyn_range</td>\n      <td>CRCGN</td>\n      <td>UnTrt</td>\n    </tr>\n    <tr>\n      <th>117157</th>\n      <td>b11</td>\n      <td>NaN</td>\n      <td>NaN</td>\n      <td>NaN</td>\n      <td>NaN</td>\n      <td>120.0</td>\n      <td>120 h</td>\n      <td>h</td>\n      <td>PC3</td>\n      <td>CMAP-000</td>\n      <td>...</td>\n      <td>ERG013_PC3_120H_X3_B11:L12</td>\n      <td>ctl_untrt</td>\n      <td>PC3</td>\n      <td>1.0</td>\n      <td>7.80414</td>\n      <td>4144.0</td>\n      <td>NaN</td>\n      <td>NaN</td>\n      <td>ERG</td>\n      <td>UnTrt</td>\n    </tr>\n    <tr>\n      <th>117158</th>\n      <td>f1b7</td>\n      <td>NaN</td>\n      <td>NaN</td>\n      <td>NaN</td>\n      <td>NaN</td>\n      <td>6.0</td>\n      <td>6 h</td>\n      <td>h</td>\n      <td>MCF7</td>\n      <td>CMAP-000</td>\n      <td>...</td>\n      <td>CRCGN004_MCF7_6H_X2_F1B7_DUO52HI53LO:P03</td>\n      <td>ctl_untrt</td>\n      <td>MCF7</td>\n      <td>1.0</td>\n      <td>6.07042</td>\n      <td>2586.0</td>\n      <td>NaN</td>\n      <td>NaN</td>\n      <td>CRCGN</td>\n      <td>UnTrt</td>\n    </tr>\n    <tr>\n      <th>117161</th>\n      <td>f1b7</td>\n      <td>NaN</td>\n      <td>NaN</td>\n      <td>NaN</td>\n      <td>NaN</td>\n      <td>6.0</td>\n      <td>6 h</td>\n      <td>h</td>\n      <td>MCF7</td>\n      <td>CMAP-000</td>\n      <td>...</td>\n      <td>CRCGN004_MCF7_6H_X1_F1B7_DUO52HI53LO:M22</td>\n      <td>ctl_untrt</td>\n      <td>MCF7</td>\n      <td>1.0</td>\n      <td>6.33742</td>\n      <td>2845.5</td>\n      <td>NaN</td>\n      <td>NaN</td>\n      <td>CRCGN</td>\n      <td>UnTrt</td>\n    </tr>\n  </tbody>\n</table>\n<p>5 rows × 30 columns</p>\n</div>"
     },
     "metadata": {},
     "execution_count": 51
    }
   ],
   "source": [
    "# does each cell line have unperturbed expression? and if so, are there replicates? \n",
    "    # no, only 62/? have untreated controls ... the vehicle controls have more tho -can we use those??\n",
    "ctl_obs = expr_info[lambda x: (x.pert_type == 'ctl_untrt')]# & (x.pert_time == 0.)]\n",
    "\n",
    "lines_w_ctrl = ctl_obs.cell_iname.unique()\n",
    "ctl_obs.head()"
   ]
  },
  {
   "cell_type": "code",
   "execution_count": 25,
   "metadata": {},
   "outputs": [
    {
     "output_type": "execute_result",
     "data": {
      "text/plain": [
       "(1189,)"
      ]
     },
     "metadata": {},
     "execution_count": 25
    }
   ],
   "source": [
    "# Using the cell lines in CCLE, how many obs do we have? \n",
    "mydruglines_obs = mydrug_obs[lambda x: x.cell_iname.isin(cell_lines.cell_iname.values)]\n",
    "mydruglines_obs.cmap_name.unique().shape"
   ]
  },
  {
   "cell_type": "code",
   "execution_count": 26,
   "metadata": {},
   "outputs": [
    {
     "output_type": "execute_result",
     "data": {
      "text/plain": [
       "(337790, 30)"
      ]
     },
     "metadata": {},
     "execution_count": 26
    }
   ],
   "source": [
    "# how many observations are there if we only use cell lines that have untreated controls? \n",
    "mydruglines_obs.shape # 300k + obs ... dropped ~100k "
   ]
  },
  {
   "cell_type": "code",
   "execution_count": 28,
   "metadata": {},
   "outputs": [
    {
     "output_type": "execute_result",
     "data": {
      "text/plain": [
       "(132,)"
      ]
     },
     "metadata": {},
     "execution_count": 28
    }
   ],
   "source": [
    "mydruglines_obs.cell_iname.unique().shape"
   ]
  },
  {
   "cell_type": "code",
   "execution_count": 33,
   "metadata": {},
   "outputs": [
    {
     "output_type": "execute_result",
     "data": {
      "text/plain": [
       "(227,)"
      ]
     },
     "metadata": {},
     "execution_count": 33
    }
   ],
   "source": [
    "# how many cell lines have vehcile controls? \n",
    "expr_info[lambda x: x.pert_type == 'ctl_vehicle'].cell_iname.unique().shape"
   ]
  },
  {
   "cell_type": "code",
   "execution_count": 54,
   "metadata": {},
   "outputs": [
    {
     "output_type": "execute_result",
     "data": {
      "text/plain": [
       "array([  24.,    6.,   72.,    1.,    2.,    4.,    3.,   48., -666.,\n",
       "         12.,  120.,   96.])"
      ]
     },
     "metadata": {},
     "execution_count": 54
    }
   ],
   "source": [
    "# how many cell lines have vehcile controls AND pert time == 0? could -666 (na val) mean 0 time? \n",
    "expr_info[lambda x: (x.pert_type == 'ctl_vehicle')].pert_time.unique()"
   ]
  },
  {
   "cell_type": "code",
   "execution_count": 45,
   "metadata": {},
   "outputs": [
    {
     "output_type": "execute_result",
     "data": {
      "text/plain": [
       "cell_iname\n",
       "P2X2B2        6\n",
       "MCH58         8\n",
       "NCIH716       8\n",
       "NAMEC8       10\n",
       "HUH751       13\n",
       "           ... \n",
       "HA1E       2421\n",
       "A375       2669\n",
       "A549       2976\n",
       "MCF7       3353\n",
       "PC3        3448\n",
       "Name: cmap_name, Length: 62, dtype: int64"
      ]
     },
     "metadata": {},
     "execution_count": 45
    }
   ],
   "source": [
    "# how many replicates are there for each cell line (untreated controls)? \n",
    "ctl_obs.groupby('cell_iname').count()['cmap_name'].sort_values()"
   ]
  },
  {
   "cell_type": "code",
   "execution_count": 46,
   "metadata": {},
   "outputs": [
    {
     "output_type": "execute_result",
     "data": {
      "text/plain": [
       "        bead_batch  nearest_dose  pert_dose pert_dose_unit pert_idose  \\\n",
       "117157         b11           NaN        NaN            NaN        NaN   \n",
       "117173         b11           NaN        NaN            NaN        NaN   \n",
       "117268          b1           NaN        NaN            NaN        NaN   \n",
       "117281          b1           NaN        NaN            NaN        NaN   \n",
       "117351          b1           NaN        NaN            NaN        NaN   \n",
       "...            ...           ...        ...            ...        ...   \n",
       "1275546        b37           NaN        NaN        Unknown        NaN   \n",
       "1276201        b40           NaN        NaN        Unknown        NaN   \n",
       "1276227        b40           NaN        NaN        Unknown        NaN   \n",
       "1276543        b37           NaN        NaN        Unknown        NaN   \n",
       "1277977        b40           NaN        NaN        Unknown        NaN   \n",
       "\n",
       "         pert_time pert_itime pert_time_unit cell_mfc_name pert_mfc_id  ...  \\\n",
       "117157       120.0      120 h              h           PC3    CMAP-000  ...   \n",
       "117173        72.0       72 h              h           PC3    CMAP-000  ...   \n",
       "117268       144.0      144 h              h           PC3    CMAP-000  ...   \n",
       "117281       144.0      144 h              h           PC3    CMAP-000  ...   \n",
       "117351       144.0      144 h              h           PC3    CMAP-000  ...   \n",
       "...            ...        ...            ...           ...         ...  ...   \n",
       "1275546       96.0       96 h              h      PC3.311B    CMAP-000  ...   \n",
       "1276201       96.0       96 h              h      PC3.311B    CMAP-000  ...   \n",
       "1276227       96.0       96 h              h      PC3.311B    CMAP-000  ...   \n",
       "1276543       96.0       96 h              h      PC3.311B    CMAP-000  ...   \n",
       "1277977       96.0       96 h              h      PC3.311B    CMAP-000  ...   \n",
       "\n",
       "                                     sample_id  pert_type cell_iname qc_pass  \\\n",
       "117157              ERG013_PC3_120H_X3_B11:L12  ctl_untrt        PC3     1.0   \n",
       "117173               ERG013_PC3_72H_X1_B11:P12  ctl_untrt        PC3     1.0   \n",
       "117268   KDA007_PC3_144H_X1_B1_DUO44HI45LO:B18  ctl_untrt        PC3     0.0   \n",
       "117281   KDB002_PC3_144H_X3_B1_DUO53HI52LO:M10  ctl_untrt        PC3     1.0   \n",
       "117351   KDA004_PC3_144H_X1_B1_DUO45HI44LO:P21  ctl_untrt        PC3     1.0   \n",
       "...                                        ...        ...        ...     ...   \n",
       "1275546         XPR027_PC3.311B_96H_X3_B37:P23  ctl_untrt        PC3     1.0   \n",
       "1276201         XPR032_PC3.311B_96H_X1_B40:H16  ctl_untrt        PC3     1.0   \n",
       "1276227         XPR030_PC3.311B_96H_X1_B40:H24  ctl_untrt        PC3     1.0   \n",
       "1276543         XPR027_PC3.311B_96H_X3_B37:E10  ctl_untrt        PC3     1.0   \n",
       "1277977         XPR030_PC3.311B_96H_X1_B40:D01  ctl_untrt        PC3     1.0   \n",
       "\n",
       "         dyn_range  inv_level_10  build_name  failure_mode  project_code  \\\n",
       "117157     7.80414        4144.0         NaN           NaN           ERG   \n",
       "117173     7.48322        3345.0         NaN           NaN           ERG   \n",
       "117268     6.13288        5446.0         NaN        qc_iqr           KDA   \n",
       "117281    12.87110        4344.0         NaN           NaN           KDB   \n",
       "117351     4.87489        5474.5         NaN           NaN           KDA   \n",
       "...            ...           ...         ...           ...           ...   \n",
       "1275546   21.67350        3186.0         NaN           NaN           XPR   \n",
       "1276201   10.03410        4997.0         NaN           NaN           XPR   \n",
       "1276227    5.36529        5148.0         NaN           NaN           XPR   \n",
       "1276543   18.01040        3458.0         NaN           NaN           XPR   \n",
       "1277977    6.36160        6263.0         NaN           NaN           XPR   \n",
       "\n",
       "        cmap_name  \n",
       "117157      UnTrt  \n",
       "117173      UnTrt  \n",
       "117268      UnTrt  \n",
       "117281      UnTrt  \n",
       "117351      UnTrt  \n",
       "...           ...  \n",
       "1275546     UnTrt  \n",
       "1276201     UnTrt  \n",
       "1276227     UnTrt  \n",
       "1276543     UnTrt  \n",
       "1277977     UnTrt  \n",
       "\n",
       "[3448 rows x 30 columns]"
      ],
      "text/html": "<div>\n<style scoped>\n    .dataframe tbody tr th:only-of-type {\n        vertical-align: middle;\n    }\n\n    .dataframe tbody tr th {\n        vertical-align: top;\n    }\n\n    .dataframe thead th {\n        text-align: right;\n    }\n</style>\n<table border=\"1\" class=\"dataframe\">\n  <thead>\n    <tr style=\"text-align: right;\">\n      <th></th>\n      <th>bead_batch</th>\n      <th>nearest_dose</th>\n      <th>pert_dose</th>\n      <th>pert_dose_unit</th>\n      <th>pert_idose</th>\n      <th>pert_time</th>\n      <th>pert_itime</th>\n      <th>pert_time_unit</th>\n      <th>cell_mfc_name</th>\n      <th>pert_mfc_id</th>\n      <th>...</th>\n      <th>sample_id</th>\n      <th>pert_type</th>\n      <th>cell_iname</th>\n      <th>qc_pass</th>\n      <th>dyn_range</th>\n      <th>inv_level_10</th>\n      <th>build_name</th>\n      <th>failure_mode</th>\n      <th>project_code</th>\n      <th>cmap_name</th>\n    </tr>\n  </thead>\n  <tbody>\n    <tr>\n      <th>117157</th>\n      <td>b11</td>\n      <td>NaN</td>\n      <td>NaN</td>\n      <td>NaN</td>\n      <td>NaN</td>\n      <td>120.0</td>\n      <td>120 h</td>\n      <td>h</td>\n      <td>PC3</td>\n      <td>CMAP-000</td>\n      <td>...</td>\n      <td>ERG013_PC3_120H_X3_B11:L12</td>\n      <td>ctl_untrt</td>\n      <td>PC3</td>\n      <td>1.0</td>\n      <td>7.80414</td>\n      <td>4144.0</td>\n      <td>NaN</td>\n      <td>NaN</td>\n      <td>ERG</td>\n      <td>UnTrt</td>\n    </tr>\n    <tr>\n      <th>117173</th>\n      <td>b11</td>\n      <td>NaN</td>\n      <td>NaN</td>\n      <td>NaN</td>\n      <td>NaN</td>\n      <td>72.0</td>\n      <td>72 h</td>\n      <td>h</td>\n      <td>PC3</td>\n      <td>CMAP-000</td>\n      <td>...</td>\n      <td>ERG013_PC3_72H_X1_B11:P12</td>\n      <td>ctl_untrt</td>\n      <td>PC3</td>\n      <td>1.0</td>\n      <td>7.48322</td>\n      <td>3345.0</td>\n      <td>NaN</td>\n      <td>NaN</td>\n      <td>ERG</td>\n      <td>UnTrt</td>\n    </tr>\n    <tr>\n      <th>117268</th>\n      <td>b1</td>\n      <td>NaN</td>\n      <td>NaN</td>\n      <td>NaN</td>\n      <td>NaN</td>\n      <td>144.0</td>\n      <td>144 h</td>\n      <td>h</td>\n      <td>PC3</td>\n      <td>CMAP-000</td>\n      <td>...</td>\n      <td>KDA007_PC3_144H_X1_B1_DUO44HI45LO:B18</td>\n      <td>ctl_untrt</td>\n      <td>PC3</td>\n      <td>0.0</td>\n      <td>6.13288</td>\n      <td>5446.0</td>\n      <td>NaN</td>\n      <td>qc_iqr</td>\n      <td>KDA</td>\n      <td>UnTrt</td>\n    </tr>\n    <tr>\n      <th>117281</th>\n      <td>b1</td>\n      <td>NaN</td>\n      <td>NaN</td>\n      <td>NaN</td>\n      <td>NaN</td>\n      <td>144.0</td>\n      <td>144 h</td>\n      <td>h</td>\n      <td>PC3</td>\n      <td>CMAP-000</td>\n      <td>...</td>\n      <td>KDB002_PC3_144H_X3_B1_DUO53HI52LO:M10</td>\n      <td>ctl_untrt</td>\n      <td>PC3</td>\n      <td>1.0</td>\n      <td>12.87110</td>\n      <td>4344.0</td>\n      <td>NaN</td>\n      <td>NaN</td>\n      <td>KDB</td>\n      <td>UnTrt</td>\n    </tr>\n    <tr>\n      <th>117351</th>\n      <td>b1</td>\n      <td>NaN</td>\n      <td>NaN</td>\n      <td>NaN</td>\n      <td>NaN</td>\n      <td>144.0</td>\n      <td>144 h</td>\n      <td>h</td>\n      <td>PC3</td>\n      <td>CMAP-000</td>\n      <td>...</td>\n      <td>KDA004_PC3_144H_X1_B1_DUO45HI44LO:P21</td>\n      <td>ctl_untrt</td>\n      <td>PC3</td>\n      <td>1.0</td>\n      <td>4.87489</td>\n      <td>5474.5</td>\n      <td>NaN</td>\n      <td>NaN</td>\n      <td>KDA</td>\n      <td>UnTrt</td>\n    </tr>\n    <tr>\n      <th>...</th>\n      <td>...</td>\n      <td>...</td>\n      <td>...</td>\n      <td>...</td>\n      <td>...</td>\n      <td>...</td>\n      <td>...</td>\n      <td>...</td>\n      <td>...</td>\n      <td>...</td>\n      <td>...</td>\n      <td>...</td>\n      <td>...</td>\n      <td>...</td>\n      <td>...</td>\n      <td>...</td>\n      <td>...</td>\n      <td>...</td>\n      <td>...</td>\n      <td>...</td>\n      <td>...</td>\n    </tr>\n    <tr>\n      <th>1275546</th>\n      <td>b37</td>\n      <td>NaN</td>\n      <td>NaN</td>\n      <td>Unknown</td>\n      <td>NaN</td>\n      <td>96.0</td>\n      <td>96 h</td>\n      <td>h</td>\n      <td>PC3.311B</td>\n      <td>CMAP-000</td>\n      <td>...</td>\n      <td>XPR027_PC3.311B_96H_X3_B37:P23</td>\n      <td>ctl_untrt</td>\n      <td>PC3</td>\n      <td>1.0</td>\n      <td>21.67350</td>\n      <td>3186.0</td>\n      <td>NaN</td>\n      <td>NaN</td>\n      <td>XPR</td>\n      <td>UnTrt</td>\n    </tr>\n    <tr>\n      <th>1276201</th>\n      <td>b40</td>\n      <td>NaN</td>\n      <td>NaN</td>\n      <td>Unknown</td>\n      <td>NaN</td>\n      <td>96.0</td>\n      <td>96 h</td>\n      <td>h</td>\n      <td>PC3.311B</td>\n      <td>CMAP-000</td>\n      <td>...</td>\n      <td>XPR032_PC3.311B_96H_X1_B40:H16</td>\n      <td>ctl_untrt</td>\n      <td>PC3</td>\n      <td>1.0</td>\n      <td>10.03410</td>\n      <td>4997.0</td>\n      <td>NaN</td>\n      <td>NaN</td>\n      <td>XPR</td>\n      <td>UnTrt</td>\n    </tr>\n    <tr>\n      <th>1276227</th>\n      <td>b40</td>\n      <td>NaN</td>\n      <td>NaN</td>\n      <td>Unknown</td>\n      <td>NaN</td>\n      <td>96.0</td>\n      <td>96 h</td>\n      <td>h</td>\n      <td>PC3.311B</td>\n      <td>CMAP-000</td>\n      <td>...</td>\n      <td>XPR030_PC3.311B_96H_X1_B40:H24</td>\n      <td>ctl_untrt</td>\n      <td>PC3</td>\n      <td>1.0</td>\n      <td>5.36529</td>\n      <td>5148.0</td>\n      <td>NaN</td>\n      <td>NaN</td>\n      <td>XPR</td>\n      <td>UnTrt</td>\n    </tr>\n    <tr>\n      <th>1276543</th>\n      <td>b37</td>\n      <td>NaN</td>\n      <td>NaN</td>\n      <td>Unknown</td>\n      <td>NaN</td>\n      <td>96.0</td>\n      <td>96 h</td>\n      <td>h</td>\n      <td>PC3.311B</td>\n      <td>CMAP-000</td>\n      <td>...</td>\n      <td>XPR027_PC3.311B_96H_X3_B37:E10</td>\n      <td>ctl_untrt</td>\n      <td>PC3</td>\n      <td>1.0</td>\n      <td>18.01040</td>\n      <td>3458.0</td>\n      <td>NaN</td>\n      <td>NaN</td>\n      <td>XPR</td>\n      <td>UnTrt</td>\n    </tr>\n    <tr>\n      <th>1277977</th>\n      <td>b40</td>\n      <td>NaN</td>\n      <td>NaN</td>\n      <td>Unknown</td>\n      <td>NaN</td>\n      <td>96.0</td>\n      <td>96 h</td>\n      <td>h</td>\n      <td>PC3.311B</td>\n      <td>CMAP-000</td>\n      <td>...</td>\n      <td>XPR030_PC3.311B_96H_X1_B40:D01</td>\n      <td>ctl_untrt</td>\n      <td>PC3</td>\n      <td>1.0</td>\n      <td>6.36160</td>\n      <td>6263.0</td>\n      <td>NaN</td>\n      <td>NaN</td>\n      <td>XPR</td>\n      <td>UnTrt</td>\n    </tr>\n  </tbody>\n</table>\n<p>3448 rows × 30 columns</p>\n</div>"
     },
     "metadata": {},
     "execution_count": 46
    }
   ],
   "source": [
    "ctl_obs[lambda x: x.cell_iname == 'PC3']"
   ]
  },
  {
   "cell_type": "code",
   "execution_count": null,
   "metadata": {},
   "outputs": [],
   "source": []
  },
  {
   "cell_type": "code",
   "execution_count": 37,
   "metadata": {},
   "outputs": [
    {
     "output_type": "execute_result",
     "data": {
      "text/plain": [
       "cell_iname\n",
       "HME       18\n",
       "NAMEC8    10\n",
       "Name: sample_id, dtype: int64"
      ]
     },
     "metadata": {},
     "execution_count": 37
    }
   ],
   "source": [
    "sampinfo[lambda x: x.pert_dose.isna()][lambda x: x.pert_time == '0'][lambda x: x.pert_type == 'ctl_untrt'].groupby('cell_iname').count()['sample_id']"
   ]
  },
  {
   "cell_type": "code",
   "execution_count": null,
   "metadata": {},
   "outputs": [],
   "source": []
  },
  {
   "cell_type": "code",
   "execution_count": null,
   "metadata": {},
   "outputs": [],
   "source": []
  },
  {
   "cell_type": "code",
   "execution_count": null,
   "metadata": {},
   "outputs": [],
   "source": [
    "cp = h5py.File('../data/raw/level5_beta_trt_cp_n720216x12328.gctx', 'r')\n",
    "cp_data = cp['0']['DATA']['0']['matrix']\n",
    "\n",
    "sample_meta = np.array(cp['0']['META']['COL']['id'], dtype=str)\n",
    "gene_meta = np.array(cp['0']['META']['ROW']['id'], dtype=str)\n",
    "\n",
    "gene_meta_symb = np.array([all2symb[id2symb[x].upper()][0] if id2symb[x].upper() in all2symb else None for x in gene_meta])\n",
    "\n",
    "gene_selector = np.array([x in genes for x in gene_meta_symb])\n",
    "\n",
    "overlap_ = set(siginfo.cmap_name.str.lower().unique()).intersection(set(drugs))\n",
    "\n",
    "mydrugs = siginfo[lambda x: x.cmap_name.str.lower().isin(drugs) & (x.pert_time == 24.0) & (x.pert_dose == 10.)]\n",
    "\n",
    "\n",
    "sample_selector = pd.Series(sample_meta).isin(mydrugs.sig_id.values).values \n",
    "\n",
    "mysamples_all_drugs = cp_data[sample_selector.nonzero()[0], :]\n",
    "\n",
    "mysamples_mygenes = mysamples_all_drugs[:, gene_selector]\n",
    "\n",
    "mydata = pd.DataFrame(mysamples_mygenes)\n",
    "mydata.columns = gene_meta_symb[gene_selector]\n",
    "mydata.index = sample_meta[sample_selector]\n",
    "mydata = mydata.merge(siginfo, left_index=True, right_on='sig_id', how='left')\n",
    "\n",
    "return mydata, gene_meta_symb[gene_selector]\n",
    "\n",
    "\n",
    "\n"
   ]
  }
 ]
}