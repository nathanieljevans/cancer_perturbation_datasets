{
 "metadata": {
  "language_info": {
   "codemirror_mode": {
    "name": "ipython",
    "version": 3
   },
   "file_extension": ".py",
   "mimetype": "text/x-python",
   "name": "python",
   "nbconvert_exporter": "python",
   "pygments_lexer": "ipython3",
   "version": "3.8.5"
  },
  "orig_nbformat": 2,
  "kernelspec": {
   "name": "python385jvsc74a57bd0df76dc7eefd3519b618d4f742ac9d22003ce12e4db2fef6c1d63a51a9f543aa2",
   "display_name": "Python 3.8.5 64-bit ('gcnvae': conda)"
  }
 },
 "nbformat": 4,
 "nbformat_minor": 2,
 "cells": [
  {
   "cell_type": "code",
   "execution_count": 1,
   "metadata": {},
   "outputs": [],
   "source": [
    "import pandas as pd\n",
    "import numpy as np\n",
    "from matplotlib import pyplot as plt \n",
    "import networkx as nx \n",
    "import pickle as pkl\n",
    "import datetime as dt\n",
    "\n",
    "import h5py\n",
    "\n",
    "pd.set_option('display.max_columns', 100)\n"
   ]
  },
  {
   "cell_type": "code",
   "execution_count": 2,
   "metadata": {},
   "outputs": [
    {
     "output_type": "stream",
     "name": "stderr",
     "text": [
      "C:\\Users\\natha\\miniconda3\\envs\\gcnvae\\lib\\site-packages\\IPython\\core\\interactiveshell.py:3155: DtypeWarning: Columns (4) have mixed types.Specify dtype option on import or set low_memory=False.\n  has_raised = await self.run_ast_nodes(code_ast.body, cell_name,\n"
     ]
    },
    {
     "output_type": "execute_result",
     "data": {
      "text/plain": [
       "  bead_batch  nearest_dose  pert_dose pert_dose_unit pert_idose  pert_time  \\\n",
       "0        b11           NaN      20.00             uL      20 uL       72.0   \n",
       "1        b10           NaN       1.00             uL       1 uL       96.0   \n",
       "2        b12           NaN       0.10          ng/ml  0.1 ng/ml        2.0   \n",
       "3        b12           NaN     150.00             ng     150 ng       48.0   \n",
       "4       f3b5          6.66       5.33             uM    6.66 uM       24.0   \n",
       "\n",
       "  pert_itime pert_time_unit cell_mfc_name     pert_mfc_id  \\\n",
       "0       72 h              h          VCAP          ERG_11   \n",
       "1       96 h              h          U2OS  TRCN0000072237   \n",
       "2        2 h              h         HEPG2            SOD3   \n",
       "3       48 h              h       HEK293T      ENTRY00543   \n",
       "4       24 h              h          A375   BRD-K79781870   \n",
       "\n",
       "                             det_plate det_well              rna_plate  \\\n",
       "0               ERG013_VCAP_72H_X3_B11      O14     ERG013_VCAP_72H_X3   \n",
       "1   TAK004_U2OS_96H_X2_B10_DUO52HI53LO      D10     TAK004_U2OS_96H_X1   \n",
       "2               CYT001_HEPG2_2H_X2_B12      N12     CYT001_HEPG2_2H_X2   \n",
       "3            HSF038_HEK293T_48H_X2_B12      M01  HSF038_HEK293T_48H_X2   \n",
       "4  DOS043_A375_24H_X1_F3B5_DUO52HI53LO      D17     DOS043_A375_24H_X1   \n",
       "\n",
       "  rna_well  count_mean  count_cv  qc_f_logp  qc_iqr  qc_slope         pert_id  \\\n",
       "0      O14          59        18        7.3   11.74        66          ERG_11   \n",
       "1      D10          67        18        5.7   14.98        67  TRCN0000072237   \n",
       "2      N12          60        17        7.3   11.45        65            SOD3   \n",
       "3      M01          75        15        5.9    9.25        59      ENTRY00543   \n",
       "4      D17          58        26        6.3   15.87        68   BRD-K79781870   \n",
       "\n",
       "                                 sample_id   pert_type cell_iname  qc_pass  \\\n",
       "0               ERG013_VCAP_72H_X3_B11:O14      trt_sh       VCAP      0.0   \n",
       "1   TAK004_U2OS_96H_X2_B10_DUO52HI53LO:D10  ctl_vector       U2OS      0.0   \n",
       "2               CYT001_HEPG2_2H_X2_B12:N12     trt_lig      HEPG2      1.0   \n",
       "3            HSF038_HEK293T_48H_X2_B12:M01      trt_oe    HEK293T      0.0   \n",
       "4  DOS043_A375_24H_X1_F3B5_DUO52HI53LO:D17      trt_cp       A375      0.0   \n",
       "\n",
       "   dyn_range  inv_level_10  build_name         failure_mode project_code  \\\n",
       "0    4.20788        4220.5         NaN            dyn_range          ERG   \n",
       "1    4.73906        1462.0         NaN         inv_level_10          TAK   \n",
       "2    6.79642        3038.0         NaN                  NaN          CYT   \n",
       "3   23.79710        1642.0         NaN         inv_level_10          HSF   \n",
       "4    6.78867        1558.0         NaN  inv_level_10,qc_iqr          DOS   \n",
       "\n",
       "       cmap_name  \n",
       "0            ERG  \n",
       "1           LACZ  \n",
       "2           SOD3  \n",
       "3         PDGFRA  \n",
       "4  BRD-K79781870  "
      ],
      "text/html": "<div>\n<style scoped>\n    .dataframe tbody tr th:only-of-type {\n        vertical-align: middle;\n    }\n\n    .dataframe tbody tr th {\n        vertical-align: top;\n    }\n\n    .dataframe thead th {\n        text-align: right;\n    }\n</style>\n<table border=\"1\" class=\"dataframe\">\n  <thead>\n    <tr style=\"text-align: right;\">\n      <th></th>\n      <th>bead_batch</th>\n      <th>nearest_dose</th>\n      <th>pert_dose</th>\n      <th>pert_dose_unit</th>\n      <th>pert_idose</th>\n      <th>pert_time</th>\n      <th>pert_itime</th>\n      <th>pert_time_unit</th>\n      <th>cell_mfc_name</th>\n      <th>pert_mfc_id</th>\n      <th>det_plate</th>\n      <th>det_well</th>\n      <th>rna_plate</th>\n      <th>rna_well</th>\n      <th>count_mean</th>\n      <th>count_cv</th>\n      <th>qc_f_logp</th>\n      <th>qc_iqr</th>\n      <th>qc_slope</th>\n      <th>pert_id</th>\n      <th>sample_id</th>\n      <th>pert_type</th>\n      <th>cell_iname</th>\n      <th>qc_pass</th>\n      <th>dyn_range</th>\n      <th>inv_level_10</th>\n      <th>build_name</th>\n      <th>failure_mode</th>\n      <th>project_code</th>\n      <th>cmap_name</th>\n    </tr>\n  </thead>\n  <tbody>\n    <tr>\n      <th>0</th>\n      <td>b11</td>\n      <td>NaN</td>\n      <td>20.00</td>\n      <td>uL</td>\n      <td>20 uL</td>\n      <td>72.0</td>\n      <td>72 h</td>\n      <td>h</td>\n      <td>VCAP</td>\n      <td>ERG_11</td>\n      <td>ERG013_VCAP_72H_X3_B11</td>\n      <td>O14</td>\n      <td>ERG013_VCAP_72H_X3</td>\n      <td>O14</td>\n      <td>59</td>\n      <td>18</td>\n      <td>7.3</td>\n      <td>11.74</td>\n      <td>66</td>\n      <td>ERG_11</td>\n      <td>ERG013_VCAP_72H_X3_B11:O14</td>\n      <td>trt_sh</td>\n      <td>VCAP</td>\n      <td>0.0</td>\n      <td>4.20788</td>\n      <td>4220.5</td>\n      <td>NaN</td>\n      <td>dyn_range</td>\n      <td>ERG</td>\n      <td>ERG</td>\n    </tr>\n    <tr>\n      <th>1</th>\n      <td>b10</td>\n      <td>NaN</td>\n      <td>1.00</td>\n      <td>uL</td>\n      <td>1 uL</td>\n      <td>96.0</td>\n      <td>96 h</td>\n      <td>h</td>\n      <td>U2OS</td>\n      <td>TRCN0000072237</td>\n      <td>TAK004_U2OS_96H_X2_B10_DUO52HI53LO</td>\n      <td>D10</td>\n      <td>TAK004_U2OS_96H_X1</td>\n      <td>D10</td>\n      <td>67</td>\n      <td>18</td>\n      <td>5.7</td>\n      <td>14.98</td>\n      <td>67</td>\n      <td>TRCN0000072237</td>\n      <td>TAK004_U2OS_96H_X2_B10_DUO52HI53LO:D10</td>\n      <td>ctl_vector</td>\n      <td>U2OS</td>\n      <td>0.0</td>\n      <td>4.73906</td>\n      <td>1462.0</td>\n      <td>NaN</td>\n      <td>inv_level_10</td>\n      <td>TAK</td>\n      <td>LACZ</td>\n    </tr>\n    <tr>\n      <th>2</th>\n      <td>b12</td>\n      <td>NaN</td>\n      <td>0.10</td>\n      <td>ng/ml</td>\n      <td>0.1 ng/ml</td>\n      <td>2.0</td>\n      <td>2 h</td>\n      <td>h</td>\n      <td>HEPG2</td>\n      <td>SOD3</td>\n      <td>CYT001_HEPG2_2H_X2_B12</td>\n      <td>N12</td>\n      <td>CYT001_HEPG2_2H_X2</td>\n      <td>N12</td>\n      <td>60</td>\n      <td>17</td>\n      <td>7.3</td>\n      <td>11.45</td>\n      <td>65</td>\n      <td>SOD3</td>\n      <td>CYT001_HEPG2_2H_X2_B12:N12</td>\n      <td>trt_lig</td>\n      <td>HEPG2</td>\n      <td>1.0</td>\n      <td>6.79642</td>\n      <td>3038.0</td>\n      <td>NaN</td>\n      <td>NaN</td>\n      <td>CYT</td>\n      <td>SOD3</td>\n    </tr>\n    <tr>\n      <th>3</th>\n      <td>b12</td>\n      <td>NaN</td>\n      <td>150.00</td>\n      <td>ng</td>\n      <td>150 ng</td>\n      <td>48.0</td>\n      <td>48 h</td>\n      <td>h</td>\n      <td>HEK293T</td>\n      <td>ENTRY00543</td>\n      <td>HSF038_HEK293T_48H_X2_B12</td>\n      <td>M01</td>\n      <td>HSF038_HEK293T_48H_X2</td>\n      <td>M01</td>\n      <td>75</td>\n      <td>15</td>\n      <td>5.9</td>\n      <td>9.25</td>\n      <td>59</td>\n      <td>ENTRY00543</td>\n      <td>HSF038_HEK293T_48H_X2_B12:M01</td>\n      <td>trt_oe</td>\n      <td>HEK293T</td>\n      <td>0.0</td>\n      <td>23.79710</td>\n      <td>1642.0</td>\n      <td>NaN</td>\n      <td>inv_level_10</td>\n      <td>HSF</td>\n      <td>PDGFRA</td>\n    </tr>\n    <tr>\n      <th>4</th>\n      <td>f3b5</td>\n      <td>6.66</td>\n      <td>5.33</td>\n      <td>uM</td>\n      <td>6.66 uM</td>\n      <td>24.0</td>\n      <td>24 h</td>\n      <td>h</td>\n      <td>A375</td>\n      <td>BRD-K79781870</td>\n      <td>DOS043_A375_24H_X1_F3B5_DUO52HI53LO</td>\n      <td>D17</td>\n      <td>DOS043_A375_24H_X1</td>\n      <td>D17</td>\n      <td>58</td>\n      <td>26</td>\n      <td>6.3</td>\n      <td>15.87</td>\n      <td>68</td>\n      <td>BRD-K79781870</td>\n      <td>DOS043_A375_24H_X1_F3B5_DUO52HI53LO:D17</td>\n      <td>trt_cp</td>\n      <td>A375</td>\n      <td>0.0</td>\n      <td>6.78867</td>\n      <td>1558.0</td>\n      <td>NaN</td>\n      <td>inv_level_10,qc_iqr</td>\n      <td>DOS</td>\n      <td>BRD-K79781870</td>\n    </tr>\n  </tbody>\n</table>\n</div>"
     },
     "metadata": {},
     "execution_count": 2
    }
   ],
   "source": [
    "# gene id mapping\n",
    "with open('../../../GENEID_MAPPING/data/processed/all2genesymbol.pkl', 'rb') as f: \n",
    "    all2symb = pkl.load(f)\n",
    "\n",
    "sampinfo = pd.read_csv('../data/raw/instinfo_beta.txt', '\\t', dtype=str)\n",
    "\n",
    "geneinfo = pd.read_csv('../data/raw/geneinfo_beta.txt', sep='\\t', dtype=str)\n",
    "id2symb = geneinfo.set_index('gene_id')['gene_symbol'].to_dict()\n",
    "\n",
    "expr_info = pd.read_csv('../data/raw/instinfo_beta.txt', sep='\\t')\n",
    "expr_info.head()"
   ]
  },
  {
   "cell_type": "code",
   "execution_count": 3,
   "metadata": {},
   "outputs": [
    {
     "output_type": "stream",
     "name": "stdout",
     "text": [
      "keys: dict_keys(['unpert_expr', 'linc_ccle_lines', 'meta', 'source', 'creation_date'])\n"
     ]
    },
    {
     "output_type": "execute_result",
     "data": {
      "text/plain": [
       "138"
      ]
     },
     "metadata": {},
     "execution_count": 3
    }
   ],
   "source": [
    "with open('../../../cell_baseline.pkl', 'rb') as f: \n",
    "    baseline_expr = pkl.load(f)\n",
    "    \n",
    "print('keys:', baseline_expr.keys())\n",
    "\n",
    "cell_lines = baseline_expr['linc_ccle_lines']\n",
    "len(cell_lines)"
   ]
  },
  {
   "cell_type": "code",
   "execution_count": 4,
   "metadata": {},
   "outputs": [
    {
     "output_type": "stream",
     "name": "stdout",
     "text": [
      "# cell lines:\t 138\n# drugs:     \t 1224\n# genes:     \t 13565\n"
     ]
    }
   ],
   "source": [
    "with open('../../../DDS_graph.pkl', 'rb') as f: \n",
    "    DDS_graph = pkl.load(f)\n",
    "\n",
    "with open('../../../PPI_graph.pkl', 'rb') as f: \n",
    "    PPI_graph = pkl.load(f)\n",
    "\n",
    "with open('../../../cell_baseline.pkl', 'rb') as f: \n",
    "    cell_baseline = pkl.load(f)\n",
    "\n",
    "lines = cell_baseline['linc_ccle_lines'].cell_iname.unique()\n",
    "drugs = DDS_graph['nodelist']\n",
    "genes = PPI_graph['nodelist']\n",
    "\n",
    "print('# cell lines:\\t', len(lines))\n",
    "print('# drugs:     \\t', len(drugs))\n",
    "print('# genes:     \\t', len(genes))"
   ]
  },
  {
   "cell_type": "code",
   "execution_count": 5,
   "metadata": {},
   "outputs": [
    {
     "output_type": "stream",
     "name": "stdout",
     "text": [
      "sample meta: ['ABY001_A375_XH_X1_B15:A13' 'ABY001_A375_XH_X1_B15:A14'\n 'ABY001_A375_XH_X1_B15:A15' 'ABY001_A375_XH_X1_B15:A16'\n 'ABY001_A375_XH_X1_B15:A17']\ngene meta: ['10' '100' '1000' '10000' '10001']\n(1805898, 12328)\n"
     ]
    }
   ],
   "source": [
    "cp = h5py.File('../data/raw/level3_beta_trt_cp_n1805898x12328.gctx', 'r')\n",
    "\n",
    "h5_data= cp['0']['DATA']['0']['matrix']\n",
    "\n",
    "sample_meta = np.array(cp['0']['META']['COL']['id'], dtype=str)\n",
    "gene_meta = np.array(cp['0']['META']['ROW']['id'], dtype=str)\n",
    "\n",
    "print('sample meta:', sample_meta[0:5])\n",
    "print('gene meta:', gene_meta[0:5])\n",
    "print(h5_data.shape)"
   ]
  },
  {
   "source": [
    "# Step 1: Select `Best Inferred` Genes and intersect with `PPI_graph` gene nodes. \n",
    "\n",
    "Use this to make the gene selector. "
   ],
   "cell_type": "markdown",
   "metadata": {}
  },
  {
   "cell_type": "code",
   "execution_count": 6,
   "metadata": {},
   "outputs": [
    {
     "output_type": "stream",
     "name": "stdout",
     "text": [
      "shape: (8240, 8)\n"
     ]
    },
    {
     "output_type": "execute_result",
     "data": {
      "text/plain": [
       "     gene_id gene_symbol       ensembl_id  \\\n",
       "2155      23       ABCF1  ENSG00000204574   \n",
       "2156      25        ABL1  ENSG00000097007   \n",
       "2157      30       ACAA1  ENSG00000060971   \n",
       "2158      39       ACAT2  ENSG00000120437   \n",
       "2159      47        ACLY  ENSG00000131473   \n",
       "\n",
       "                                             gene_title       gene_type   src  \\\n",
       "2155          ATP binding cassette subfamily F member 1  protein-coding  NCBI   \n",
       "2156  ABL proto-oncogene 1, non-receptor tyrosine ki...  protein-coding  NCBI   \n",
       "2157                       acetyl-CoA acyltransferase 1  protein-coding  NCBI   \n",
       "2158                     acetyl-CoA acetyltransferase 2  protein-coding  NCBI   \n",
       "2159                                  ATP citrate lyase  protein-coding  NCBI   \n",
       "\n",
       "     feature_space   myid  \n",
       "2155      landmark  ABCF1  \n",
       "2156      landmark   ABL1  \n",
       "2157      landmark  ACAA1  \n",
       "2158      landmark  ACAT2  \n",
       "2159      landmark   ACLY  "
      ],
      "text/html": "<div>\n<style scoped>\n    .dataframe tbody tr th:only-of-type {\n        vertical-align: middle;\n    }\n\n    .dataframe tbody tr th {\n        vertical-align: top;\n    }\n\n    .dataframe thead th {\n        text-align: right;\n    }\n</style>\n<table border=\"1\" class=\"dataframe\">\n  <thead>\n    <tr style=\"text-align: right;\">\n      <th></th>\n      <th>gene_id</th>\n      <th>gene_symbol</th>\n      <th>ensembl_id</th>\n      <th>gene_title</th>\n      <th>gene_type</th>\n      <th>src</th>\n      <th>feature_space</th>\n      <th>myid</th>\n    </tr>\n  </thead>\n  <tbody>\n    <tr>\n      <th>2155</th>\n      <td>23</td>\n      <td>ABCF1</td>\n      <td>ENSG00000204574</td>\n      <td>ATP binding cassette subfamily F member 1</td>\n      <td>protein-coding</td>\n      <td>NCBI</td>\n      <td>landmark</td>\n      <td>ABCF1</td>\n    </tr>\n    <tr>\n      <th>2156</th>\n      <td>25</td>\n      <td>ABL1</td>\n      <td>ENSG00000097007</td>\n      <td>ABL proto-oncogene 1, non-receptor tyrosine ki...</td>\n      <td>protein-coding</td>\n      <td>NCBI</td>\n      <td>landmark</td>\n      <td>ABL1</td>\n    </tr>\n    <tr>\n      <th>2157</th>\n      <td>30</td>\n      <td>ACAA1</td>\n      <td>ENSG00000060971</td>\n      <td>acetyl-CoA acyltransferase 1</td>\n      <td>protein-coding</td>\n      <td>NCBI</td>\n      <td>landmark</td>\n      <td>ACAA1</td>\n    </tr>\n    <tr>\n      <th>2158</th>\n      <td>39</td>\n      <td>ACAT2</td>\n      <td>ENSG00000120437</td>\n      <td>acetyl-CoA acetyltransferase 2</td>\n      <td>protein-coding</td>\n      <td>NCBI</td>\n      <td>landmark</td>\n      <td>ACAT2</td>\n    </tr>\n    <tr>\n      <th>2159</th>\n      <td>47</td>\n      <td>ACLY</td>\n      <td>ENSG00000131473</td>\n      <td>ATP citrate lyase</td>\n      <td>protein-coding</td>\n      <td>NCBI</td>\n      <td>landmark</td>\n      <td>ACLY</td>\n    </tr>\n  </tbody>\n</table>\n</div>"
     },
     "metadata": {},
     "execution_count": 6
    }
   ],
   "source": [
    "# select subset of genes we want to train with\n",
    "geneinfo2 = geneinfo[lambda x: x.feature_space.isin(['best inferred', 'landmark'])]\n",
    "\n",
    "# we want to focus on protein coding genes - select subset\n",
    "geneinfo2 = geneinfo2[lambda x: x.gene_type == 'protein-coding']\n",
    "\n",
    "# make sure we're using the same gene id's \n",
    "geneinfo2 = geneinfo2.assign(myid = lambda x: x.gene_symbol.str.upper().map(PPI_graph['genemap']))\n",
    "\n",
    "# filter any genes that don't have a gene id mapping \n",
    "geneinfo2 = geneinfo2[lambda x: ~x.myid.isna()]\n",
    "\n",
    "# filter to genes in PPI graph \n",
    "geneinfo2 = geneinfo2[lambda x: x.myid.isin(PPI_graph['nodelist'])]\n",
    "\n",
    "print('shape:', geneinfo2.shape)\n",
    "geneinfo2.head()"
   ]
  },
  {
   "cell_type": "code",
   "execution_count": 7,
   "metadata": {},
   "outputs": [
    {
     "output_type": "stream",
     "name": "stdout",
     "text": [
      "[False  True  True  True  True]\n8240\n"
     ]
    }
   ],
   "source": [
    "gene_selector = np.array([x in geneinfo2.gene_id.values for x in gene_meta])\n",
    "print(gene_selector[0:5])\n",
    "print(sum(gene_selector))"
   ]
  },
  {
   "source": [
    "# Step 2: Filter by `DDS_graph` drugs and the CCLE/LINCS cell lines we'll use\n",
    "\n",
    "Use this to make the sample selector"
   ],
   "cell_type": "markdown",
   "metadata": {}
  },
  {
   "cell_type": "code",
   "execution_count": 8,
   "metadata": {},
   "outputs": [
    {
     "output_type": "execute_result",
     "data": {
      "text/plain": [
       "array(['ABY001_A375_XH_X1_B15:A13', 'ABY001_A375_XH_X1_B15:A14',\n",
       "       'ABY001_A375_XH_X1_B15:A15', 'ABY001_A375_XH_X1_B15:A16',\n",
       "       'ABY001_A375_XH_X1_B15:A17'], dtype='<U47')"
      ]
     },
     "metadata": {},
     "execution_count": 8
    }
   ],
   "source": [
    "sample_meta[0:5]"
   ]
  },
  {
   "cell_type": "code",
   "execution_count": 9,
   "metadata": {},
   "outputs": [
    {
     "output_type": "execute_result",
     "data": {
      "text/plain": [
       "  bead_batch nearest_dose pert_dose pert_dose_unit pert_idose pert_time  \\\n",
       "0        b11          NaN        20             uL      20 uL        72   \n",
       "1        b10          NaN         1             uL       1 uL        96   \n",
       "2        b12          NaN       0.1          ng/ml  0.1 ng/ml         2   \n",
       "3        b12          NaN       150             ng     150 ng        48   \n",
       "4       f3b5         6.66      5.33             uM    6.66 uM        24   \n",
       "\n",
       "  pert_itime pert_time_unit cell_mfc_name     pert_mfc_id  \\\n",
       "0       72 h              h          VCAP          ERG_11   \n",
       "1       96 h              h          U2OS  TRCN0000072237   \n",
       "2        2 h              h         HEPG2            SOD3   \n",
       "3       48 h              h       HEK293T      ENTRY00543   \n",
       "4       24 h              h          A375   BRD-K79781870   \n",
       "\n",
       "                             det_plate det_well              rna_plate  \\\n",
       "0               ERG013_VCAP_72H_X3_B11      O14     ERG013_VCAP_72H_X3   \n",
       "1   TAK004_U2OS_96H_X2_B10_DUO52HI53LO      D10     TAK004_U2OS_96H_X1   \n",
       "2               CYT001_HEPG2_2H_X2_B12      N12     CYT001_HEPG2_2H_X2   \n",
       "3            HSF038_HEK293T_48H_X2_B12      M01  HSF038_HEK293T_48H_X2   \n",
       "4  DOS043_A375_24H_X1_F3B5_DUO52HI53LO      D17     DOS043_A375_24H_X1   \n",
       "\n",
       "  rna_well count_mean count_cv qc_f_logp qc_iqr qc_slope         pert_id  \\\n",
       "0      O14         59       18       7.3  11.74       66          ERG_11   \n",
       "1      D10         67       18       5.7  14.98       67  TRCN0000072237   \n",
       "2      N12         60       17       7.3  11.45       65            SOD3   \n",
       "3      M01         75       15       5.9   9.25       59      ENTRY00543   \n",
       "4      D17         58       26       6.3  15.87       68   BRD-K79781870   \n",
       "\n",
       "                                 sample_id   pert_type cell_iname qc_pass  \\\n",
       "0               ERG013_VCAP_72H_X3_B11:O14      trt_sh       VCAP       0   \n",
       "1   TAK004_U2OS_96H_X2_B10_DUO52HI53LO:D10  ctl_vector       U2OS       0   \n",
       "2               CYT001_HEPG2_2H_X2_B12:N12     trt_lig      HEPG2       1   \n",
       "3            HSF038_HEK293T_48H_X2_B12:M01      trt_oe    HEK293T       0   \n",
       "4  DOS043_A375_24H_X1_F3B5_DUO52HI53LO:D17      trt_cp       A375       0   \n",
       "\n",
       "  dyn_range inv_level_10 build_name         failure_mode project_code  \\\n",
       "0   4.20788       4220.5        NaN            dyn_range          ERG   \n",
       "1   4.73906         1462        NaN         inv_level_10          TAK   \n",
       "2   6.79642         3038        NaN                  NaN          CYT   \n",
       "3   23.7971         1642        NaN         inv_level_10          HSF   \n",
       "4   6.78867         1558        NaN  inv_level_10,qc_iqr          DOS   \n",
       "\n",
       "       cmap_name  \n",
       "0            ERG  \n",
       "1           LACZ  \n",
       "2           SOD3  \n",
       "3         PDGFRA  \n",
       "4  BRD-K79781870  "
      ],
      "text/html": "<div>\n<style scoped>\n    .dataframe tbody tr th:only-of-type {\n        vertical-align: middle;\n    }\n\n    .dataframe tbody tr th {\n        vertical-align: top;\n    }\n\n    .dataframe thead th {\n        text-align: right;\n    }\n</style>\n<table border=\"1\" class=\"dataframe\">\n  <thead>\n    <tr style=\"text-align: right;\">\n      <th></th>\n      <th>bead_batch</th>\n      <th>nearest_dose</th>\n      <th>pert_dose</th>\n      <th>pert_dose_unit</th>\n      <th>pert_idose</th>\n      <th>pert_time</th>\n      <th>pert_itime</th>\n      <th>pert_time_unit</th>\n      <th>cell_mfc_name</th>\n      <th>pert_mfc_id</th>\n      <th>det_plate</th>\n      <th>det_well</th>\n      <th>rna_plate</th>\n      <th>rna_well</th>\n      <th>count_mean</th>\n      <th>count_cv</th>\n      <th>qc_f_logp</th>\n      <th>qc_iqr</th>\n      <th>qc_slope</th>\n      <th>pert_id</th>\n      <th>sample_id</th>\n      <th>pert_type</th>\n      <th>cell_iname</th>\n      <th>qc_pass</th>\n      <th>dyn_range</th>\n      <th>inv_level_10</th>\n      <th>build_name</th>\n      <th>failure_mode</th>\n      <th>project_code</th>\n      <th>cmap_name</th>\n    </tr>\n  </thead>\n  <tbody>\n    <tr>\n      <th>0</th>\n      <td>b11</td>\n      <td>NaN</td>\n      <td>20</td>\n      <td>uL</td>\n      <td>20 uL</td>\n      <td>72</td>\n      <td>72 h</td>\n      <td>h</td>\n      <td>VCAP</td>\n      <td>ERG_11</td>\n      <td>ERG013_VCAP_72H_X3_B11</td>\n      <td>O14</td>\n      <td>ERG013_VCAP_72H_X3</td>\n      <td>O14</td>\n      <td>59</td>\n      <td>18</td>\n      <td>7.3</td>\n      <td>11.74</td>\n      <td>66</td>\n      <td>ERG_11</td>\n      <td>ERG013_VCAP_72H_X3_B11:O14</td>\n      <td>trt_sh</td>\n      <td>VCAP</td>\n      <td>0</td>\n      <td>4.20788</td>\n      <td>4220.5</td>\n      <td>NaN</td>\n      <td>dyn_range</td>\n      <td>ERG</td>\n      <td>ERG</td>\n    </tr>\n    <tr>\n      <th>1</th>\n      <td>b10</td>\n      <td>NaN</td>\n      <td>1</td>\n      <td>uL</td>\n      <td>1 uL</td>\n      <td>96</td>\n      <td>96 h</td>\n      <td>h</td>\n      <td>U2OS</td>\n      <td>TRCN0000072237</td>\n      <td>TAK004_U2OS_96H_X2_B10_DUO52HI53LO</td>\n      <td>D10</td>\n      <td>TAK004_U2OS_96H_X1</td>\n      <td>D10</td>\n      <td>67</td>\n      <td>18</td>\n      <td>5.7</td>\n      <td>14.98</td>\n      <td>67</td>\n      <td>TRCN0000072237</td>\n      <td>TAK004_U2OS_96H_X2_B10_DUO52HI53LO:D10</td>\n      <td>ctl_vector</td>\n      <td>U2OS</td>\n      <td>0</td>\n      <td>4.73906</td>\n      <td>1462</td>\n      <td>NaN</td>\n      <td>inv_level_10</td>\n      <td>TAK</td>\n      <td>LACZ</td>\n    </tr>\n    <tr>\n      <th>2</th>\n      <td>b12</td>\n      <td>NaN</td>\n      <td>0.1</td>\n      <td>ng/ml</td>\n      <td>0.1 ng/ml</td>\n      <td>2</td>\n      <td>2 h</td>\n      <td>h</td>\n      <td>HEPG2</td>\n      <td>SOD3</td>\n      <td>CYT001_HEPG2_2H_X2_B12</td>\n      <td>N12</td>\n      <td>CYT001_HEPG2_2H_X2</td>\n      <td>N12</td>\n      <td>60</td>\n      <td>17</td>\n      <td>7.3</td>\n      <td>11.45</td>\n      <td>65</td>\n      <td>SOD3</td>\n      <td>CYT001_HEPG2_2H_X2_B12:N12</td>\n      <td>trt_lig</td>\n      <td>HEPG2</td>\n      <td>1</td>\n      <td>6.79642</td>\n      <td>3038</td>\n      <td>NaN</td>\n      <td>NaN</td>\n      <td>CYT</td>\n      <td>SOD3</td>\n    </tr>\n    <tr>\n      <th>3</th>\n      <td>b12</td>\n      <td>NaN</td>\n      <td>150</td>\n      <td>ng</td>\n      <td>150 ng</td>\n      <td>48</td>\n      <td>48 h</td>\n      <td>h</td>\n      <td>HEK293T</td>\n      <td>ENTRY00543</td>\n      <td>HSF038_HEK293T_48H_X2_B12</td>\n      <td>M01</td>\n      <td>HSF038_HEK293T_48H_X2</td>\n      <td>M01</td>\n      <td>75</td>\n      <td>15</td>\n      <td>5.9</td>\n      <td>9.25</td>\n      <td>59</td>\n      <td>ENTRY00543</td>\n      <td>HSF038_HEK293T_48H_X2_B12:M01</td>\n      <td>trt_oe</td>\n      <td>HEK293T</td>\n      <td>0</td>\n      <td>23.7971</td>\n      <td>1642</td>\n      <td>NaN</td>\n      <td>inv_level_10</td>\n      <td>HSF</td>\n      <td>PDGFRA</td>\n    </tr>\n    <tr>\n      <th>4</th>\n      <td>f3b5</td>\n      <td>6.66</td>\n      <td>5.33</td>\n      <td>uM</td>\n      <td>6.66 uM</td>\n      <td>24</td>\n      <td>24 h</td>\n      <td>h</td>\n      <td>A375</td>\n      <td>BRD-K79781870</td>\n      <td>DOS043_A375_24H_X1_F3B5_DUO52HI53LO</td>\n      <td>D17</td>\n      <td>DOS043_A375_24H_X1</td>\n      <td>D17</td>\n      <td>58</td>\n      <td>26</td>\n      <td>6.3</td>\n      <td>15.87</td>\n      <td>68</td>\n      <td>BRD-K79781870</td>\n      <td>DOS043_A375_24H_X1_F3B5_DUO52HI53LO:D17</td>\n      <td>trt_cp</td>\n      <td>A375</td>\n      <td>0</td>\n      <td>6.78867</td>\n      <td>1558</td>\n      <td>NaN</td>\n      <td>inv_level_10,qc_iqr</td>\n      <td>DOS</td>\n      <td>BRD-K79781870</td>\n    </tr>\n  </tbody>\n</table>\n</div>"
     },
     "metadata": {},
     "execution_count": 9
    }
   ],
   "source": [
    "sampinfo.head()"
   ]
  },
  {
   "cell_type": "code",
   "execution_count": 10,
   "metadata": {},
   "outputs": [
    {
     "output_type": "stream",
     "name": "stdout",
     "text": [
      "shape (245235, 30)\n"
     ]
    },
    {
     "output_type": "execute_result",
     "data": {
      "text/plain": [
       "   bead_batch nearest_dose pert_dose pert_dose_unit pert_idose pert_time  \\\n",
       "7       f1b10        0.002    0.0015             uM   0.002 uM         6   \n",
       "49         b1           15   17.1026             uM      15 uM         6   \n",
       "51         b1           80        80             uM      80 uM        24   \n",
       "53        b10        0.004    0.0045             uM   0.004 uM        24   \n",
       "55      f1b10        0.004    0.0045             uM   0.004 uM         6   \n",
       "\n",
       "   pert_itime pert_time_unit cell_mfc_name             pert_mfc_id  \\\n",
       "7         6 h              h          A549           BRD-A61304759   \n",
       "49        6 h              h          U2OS  BRD-A78377521-001-02-2   \n",
       "51       24 h              h        HCC515  BRD-K57080016-001-04-3   \n",
       "53       24 h              h          MCF7           BRD-A84481105   \n",
       "55        6 h              h          MCF7           BRD-K78126613   \n",
       "\n",
       "                              det_plate det_well             rna_plate  \\\n",
       "7               HOG001_A549_6H_X4_F1B10      P11     HOG001_A549_6H_X4   \n",
       "49        PAC005_U2OS_6H_X3_B1_UNI4445L      K10     PAC005_U2OS_6H_X3   \n",
       "51  CPC006_HCC515_24H_X5_B1_DUO52HI53LO      D04  CPC006_HCC515_24H_X5   \n",
       "53               HOG001_MCF7_24H_X1_B10      G10    HOG001_MCF7_24H_X1   \n",
       "55              HOG003_MCF7_6H_X4_F1B10      I21     HOG003_MCF7_6H_X4   \n",
       "\n",
       "   rna_well count_mean count_cv qc_f_logp qc_iqr qc_slope        pert_id  \\\n",
       "7       P11         65       20       9.8   9.95       62  BRD-A61304759   \n",
       "49      K10         82       24       7.5   6.99       65  BRD-A78377521   \n",
       "51      D04         78       20       7.8   7.86       59  BRD-K57080016   \n",
       "53      G10         50       19       6.8  13.14       66  BRD-A84481105   \n",
       "55      I21         76       18       8.2  11.95       62  BRD-K78126613   \n",
       "\n",
       "                                  sample_id pert_type cell_iname qc_pass  \\\n",
       "7               HOG001_A549_6H_X4_F1B10:P11    trt_cp       A549       1   \n",
       "49        PAC005_U2OS_6H_X3_B1_UNI4445L:K10    trt_cp       U2OS       1   \n",
       "51  CPC006_HCC515_24H_X5_B1_DUO52HI53LO:D04    trt_cp     HCC515       1   \n",
       "53               HOG001_MCF7_24H_X1_B10:G10    trt_cp       MCF7       1   \n",
       "55              HOG003_MCF7_6H_X4_F1B10:I21    trt_cp       MCF7       1   \n",
       "\n",
       "   dyn_range inv_level_10 build_name failure_mode project_code     cmap_name  \n",
       "7    12.4715         2301        NaN          NaN          HOG  tanespimycin  \n",
       "49   13.1452         3260        NaN          NaN          PAC     monastrol  \n",
       "51   8.29863       2431.5        NaN          NaN          CPC   selumetinib  \n",
       "53   5.13618       3903.5        NaN          NaN          HOG  thioridazine  \n",
       "55   8.03753         3641        NaN          NaN          HOG     menadione  "
      ],
      "text/html": "<div>\n<style scoped>\n    .dataframe tbody tr th:only-of-type {\n        vertical-align: middle;\n    }\n\n    .dataframe tbody tr th {\n        vertical-align: top;\n    }\n\n    .dataframe thead th {\n        text-align: right;\n    }\n</style>\n<table border=\"1\" class=\"dataframe\">\n  <thead>\n    <tr style=\"text-align: right;\">\n      <th></th>\n      <th>bead_batch</th>\n      <th>nearest_dose</th>\n      <th>pert_dose</th>\n      <th>pert_dose_unit</th>\n      <th>pert_idose</th>\n      <th>pert_time</th>\n      <th>pert_itime</th>\n      <th>pert_time_unit</th>\n      <th>cell_mfc_name</th>\n      <th>pert_mfc_id</th>\n      <th>det_plate</th>\n      <th>det_well</th>\n      <th>rna_plate</th>\n      <th>rna_well</th>\n      <th>count_mean</th>\n      <th>count_cv</th>\n      <th>qc_f_logp</th>\n      <th>qc_iqr</th>\n      <th>qc_slope</th>\n      <th>pert_id</th>\n      <th>sample_id</th>\n      <th>pert_type</th>\n      <th>cell_iname</th>\n      <th>qc_pass</th>\n      <th>dyn_range</th>\n      <th>inv_level_10</th>\n      <th>build_name</th>\n      <th>failure_mode</th>\n      <th>project_code</th>\n      <th>cmap_name</th>\n    </tr>\n  </thead>\n  <tbody>\n    <tr>\n      <th>7</th>\n      <td>f1b10</td>\n      <td>0.002</td>\n      <td>0.0015</td>\n      <td>uM</td>\n      <td>0.002 uM</td>\n      <td>6</td>\n      <td>6 h</td>\n      <td>h</td>\n      <td>A549</td>\n      <td>BRD-A61304759</td>\n      <td>HOG001_A549_6H_X4_F1B10</td>\n      <td>P11</td>\n      <td>HOG001_A549_6H_X4</td>\n      <td>P11</td>\n      <td>65</td>\n      <td>20</td>\n      <td>9.8</td>\n      <td>9.95</td>\n      <td>62</td>\n      <td>BRD-A61304759</td>\n      <td>HOG001_A549_6H_X4_F1B10:P11</td>\n      <td>trt_cp</td>\n      <td>A549</td>\n      <td>1</td>\n      <td>12.4715</td>\n      <td>2301</td>\n      <td>NaN</td>\n      <td>NaN</td>\n      <td>HOG</td>\n      <td>tanespimycin</td>\n    </tr>\n    <tr>\n      <th>49</th>\n      <td>b1</td>\n      <td>15</td>\n      <td>17.1026</td>\n      <td>uM</td>\n      <td>15 uM</td>\n      <td>6</td>\n      <td>6 h</td>\n      <td>h</td>\n      <td>U2OS</td>\n      <td>BRD-A78377521-001-02-2</td>\n      <td>PAC005_U2OS_6H_X3_B1_UNI4445L</td>\n      <td>K10</td>\n      <td>PAC005_U2OS_6H_X3</td>\n      <td>K10</td>\n      <td>82</td>\n      <td>24</td>\n      <td>7.5</td>\n      <td>6.99</td>\n      <td>65</td>\n      <td>BRD-A78377521</td>\n      <td>PAC005_U2OS_6H_X3_B1_UNI4445L:K10</td>\n      <td>trt_cp</td>\n      <td>U2OS</td>\n      <td>1</td>\n      <td>13.1452</td>\n      <td>3260</td>\n      <td>NaN</td>\n      <td>NaN</td>\n      <td>PAC</td>\n      <td>monastrol</td>\n    </tr>\n    <tr>\n      <th>51</th>\n      <td>b1</td>\n      <td>80</td>\n      <td>80</td>\n      <td>uM</td>\n      <td>80 uM</td>\n      <td>24</td>\n      <td>24 h</td>\n      <td>h</td>\n      <td>HCC515</td>\n      <td>BRD-K57080016-001-04-3</td>\n      <td>CPC006_HCC515_24H_X5_B1_DUO52HI53LO</td>\n      <td>D04</td>\n      <td>CPC006_HCC515_24H_X5</td>\n      <td>D04</td>\n      <td>78</td>\n      <td>20</td>\n      <td>7.8</td>\n      <td>7.86</td>\n      <td>59</td>\n      <td>BRD-K57080016</td>\n      <td>CPC006_HCC515_24H_X5_B1_DUO52HI53LO:D04</td>\n      <td>trt_cp</td>\n      <td>HCC515</td>\n      <td>1</td>\n      <td>8.29863</td>\n      <td>2431.5</td>\n      <td>NaN</td>\n      <td>NaN</td>\n      <td>CPC</td>\n      <td>selumetinib</td>\n    </tr>\n    <tr>\n      <th>53</th>\n      <td>b10</td>\n      <td>0.004</td>\n      <td>0.0045</td>\n      <td>uM</td>\n      <td>0.004 uM</td>\n      <td>24</td>\n      <td>24 h</td>\n      <td>h</td>\n      <td>MCF7</td>\n      <td>BRD-A84481105</td>\n      <td>HOG001_MCF7_24H_X1_B10</td>\n      <td>G10</td>\n      <td>HOG001_MCF7_24H_X1</td>\n      <td>G10</td>\n      <td>50</td>\n      <td>19</td>\n      <td>6.8</td>\n      <td>13.14</td>\n      <td>66</td>\n      <td>BRD-A84481105</td>\n      <td>HOG001_MCF7_24H_X1_B10:G10</td>\n      <td>trt_cp</td>\n      <td>MCF7</td>\n      <td>1</td>\n      <td>5.13618</td>\n      <td>3903.5</td>\n      <td>NaN</td>\n      <td>NaN</td>\n      <td>HOG</td>\n      <td>thioridazine</td>\n    </tr>\n    <tr>\n      <th>55</th>\n      <td>f1b10</td>\n      <td>0.004</td>\n      <td>0.0045</td>\n      <td>uM</td>\n      <td>0.004 uM</td>\n      <td>6</td>\n      <td>6 h</td>\n      <td>h</td>\n      <td>MCF7</td>\n      <td>BRD-K78126613</td>\n      <td>HOG003_MCF7_6H_X4_F1B10</td>\n      <td>I21</td>\n      <td>HOG003_MCF7_6H_X4</td>\n      <td>I21</td>\n      <td>76</td>\n      <td>18</td>\n      <td>8.2</td>\n      <td>11.95</td>\n      <td>62</td>\n      <td>BRD-K78126613</td>\n      <td>HOG003_MCF7_6H_X4_F1B10:I21</td>\n      <td>trt_cp</td>\n      <td>MCF7</td>\n      <td>1</td>\n      <td>8.03753</td>\n      <td>3641</td>\n      <td>NaN</td>\n      <td>NaN</td>\n      <td>HOG</td>\n      <td>menadione</td>\n    </tr>\n  </tbody>\n</table>\n</div>"
     },
     "metadata": {},
     "execution_count": 10
    }
   ],
   "source": [
    "# only include samples that have passed qc \n",
    "sampinfo2 = sampinfo[lambda x: x.qc_pass == \"1\"]\n",
    "\n",
    "# grab just the cmp samples \n",
    "sampinfo2 = sampinfo2[lambda x: x.pert_type == 'trt_cp']\n",
    "\n",
    "# grab just the drugs we have in our DDS network \n",
    "sampinfo2 = sampinfo2[lambda x: x.cmap_name.isin(drugs)]\n",
    "\n",
    "# filter to cell lines with CCLE documentation (baseline expr)\n",
    "sampinfo2 = sampinfo2[lambda x: x.cell_iname.isin(lines)]\n",
    "\n",
    "print('shape', sampinfo2.shape)\n",
    "\n",
    "sampinfo2.head()"
   ]
  },
  {
   "cell_type": "code",
   "execution_count": 11,
   "metadata": {},
   "outputs": [
    {
     "output_type": "stream",
     "name": "stdout",
     "text": [
      "245235\n"
     ]
    }
   ],
   "source": [
    "mysamples = set(sampinfo2.sample_id.values)\n",
    "sample_selector = np.array([x in mysamples for x in sample_meta])\n",
    "print(sum(sample_selector))"
   ]
  },
  {
   "source": [
    "# Step 3: Pull observations and genes from the `hdf5` file "
   ],
   "cell_type": "markdown",
   "metadata": {}
  },
  {
   "cell_type": "code",
   "execution_count": 12,
   "metadata": {},
   "outputs": [],
   "source": [
    "# this can take quite a while \n",
    "mydata = h5_data[sample_selector.nonzero()[0], :]"
   ]
  },
  {
   "cell_type": "code",
   "execution_count": 13,
   "metadata": {},
   "outputs": [],
   "source": [
    "mydata = mydata[:, gene_selector]"
   ]
  },
  {
   "cell_type": "code",
   "execution_count": 14,
   "metadata": {},
   "outputs": [],
   "source": [
    "mydata = pd.DataFrame(mydata)"
   ]
  },
  {
   "cell_type": "code",
   "execution_count": 15,
   "metadata": {},
   "outputs": [],
   "source": [
    "gene_cols = pd.Series(gene_meta[gene_selector], name='gene_id').map(geneinfo2[['gene_id', 'myid']].set_index('gene_id')['myid'])"
   ]
  },
  {
   "cell_type": "code",
   "execution_count": 16,
   "metadata": {},
   "outputs": [],
   "source": [
    "mydata.columns = gene_cols.values"
   ]
  },
  {
   "cell_type": "code",
   "execution_count": 17,
   "metadata": {},
   "outputs": [],
   "source": [
    "mydata = mydata.assign(sample_id= sample_meta[sample_selector])"
   ]
  },
  {
   "cell_type": "code",
   "execution_count": 18,
   "metadata": {},
   "outputs": [
    {
     "output_type": "execute_result",
     "data": {
      "text/plain": [
       "(245235, 8241)"
      ]
     },
     "metadata": {},
     "execution_count": 18
    }
   ],
   "source": [
    "mydata.shape"
   ]
  },
  {
   "cell_type": "code",
   "execution_count": 19,
   "metadata": {},
   "outputs": [
    {
     "output_type": "execute_result",
     "data": {
      "text/plain": [
       "      ADA     CDH2    AKT3    MED6    ACOT8    ABI1   GNPDA1   ZBTB33  \\\n",
       "0  7.4924  6.56405  9.1052  7.4510  7.70140  6.1691  12.7639  4.51630   \n",
       "1  7.8669  7.67620  9.2727  8.6112  7.33370  5.8269   9.9611  4.88270   \n",
       "2  7.0399  4.93370  8.4097  8.7282  6.88025  5.9476  12.2874  5.00175   \n",
       "3  7.3355  7.82995  8.7718  8.5942  7.36960  5.2347  10.5120  4.87995   \n",
       "4  6.5117  4.89115  9.2922  8.6256  6.08830  5.6700  12.1923  4.88740   \n",
       "\n",
       "      CDH3    TANK     HDAC6   HDAC5  PDCD6IP     PDCD6  BCL2L10  BCL2L11  \\\n",
       "0  3.89000  5.8605  7.757550  6.0334   8.6218  11.46500   5.1312  5.61460   \n",
       "1  4.11210  6.7078  7.237200  5.7254   9.6843  11.83580   5.3833  5.32835   \n",
       "2  5.78490  7.7989  7.630701  6.3948   9.5346  10.50825   5.2283  5.88760   \n",
       "3  4.38045  6.7828  7.526350  6.2044   9.0221  11.66710   5.2433  5.67045   \n",
       "4  4.07565  5.7264  7.928300  6.6864   9.0390  11.52975   4.8198  5.49380   \n",
       "\n",
       "    SH2B3    CDH4      GNE    FRAT1     TROAP    MED16    PIGK   TIMM23  \\\n",
       "0  9.9082  5.4493  10.9615  5.13505  7.896000  7.17545  9.1745   9.1660   \n",
       "1  9.7847  5.1489  10.1456  5.33220  7.400600  7.40060  8.3440   9.8791   \n",
       "2  8.3057  6.0251  10.1393  5.05570  7.853900  8.32100  7.2045   9.1501   \n",
       "3  9.9296  5.2615  10.1784  5.30880  7.669799  7.31550  8.2922  10.6585   \n",
       "4  9.7140  5.5293  10.1890  4.94060  8.348000  7.84520  8.4415  10.5552   \n",
       "\n",
       "    ZNF783    CDH5  CHAF1A     PARP2    PARP3     CDH6  TOM1L1      TOM1  \\\n",
       "0  6.86060  6.5301  7.0301  8.245100  6.09740  4.62080  7.9811  6.939150   \n",
       "1  7.10435  6.4789  7.5310  8.056749  6.57180  5.69455  7.9109  6.613750   \n",
       "2  6.52810  5.0439  7.2617  8.166300  7.00770  4.29610  6.3065  7.993200   \n",
       "3  6.79955  7.5811  7.5017  8.142750  6.57330  5.16920  8.6652  6.759501   \n",
       "4  6.74630  6.3943  6.5914  8.317900  6.34645  3.99580  7.1892  7.710400   \n",
       "\n",
       "   SH2D3A    RANBP9   DNAJB6     MICA      SMC4      GJC1     AP1M2     UBA2  \\\n",
       "0  4.7799  8.093900   9.1683  7.37600   9.86095  7.088400  6.099300  12.6492   \n",
       "1  5.9759  7.429200  10.4621  6.96025  10.15060  6.710001  7.175299  12.9312   \n",
       "2  5.9494  7.918400  10.6066  7.31960   9.03120  6.665400  7.105000  11.8415   \n",
       "3  5.3115  7.449999  10.4992  7.59480   9.90520  7.231300  5.273200  12.5222   \n",
       "4  4.5792  7.607300   9.4752  8.15950   9.34360  6.952300  6.187800  11.5549   \n",
       "\n",
       "      SAE1    DNM1L    CDH8   ABCC9    ABCF2    NR1H3     COX17   SCAMP2  \\\n",
       "0  10.0071  11.9641  4.6531  5.1027   9.7246  6.29360  12.32085  6.89545   \n",
       "1  10.1099  11.2434  4.9994  4.6937  10.1845  5.83980  10.89900  7.01595   \n",
       "2   9.5809  11.5554  5.0846  4.7913   9.4279  5.93960  10.07950  6.43070   \n",
       "3   9.8343  11.0152  4.6258  4.6459   9.5237  6.52570  11.38280  7.16060   \n",
       "4   9.6343  11.3909  4.9657  4.3824   9.7715  6.45995  10.46650  6.25480   \n",
       "\n",
       "      CDH9    DPP3  ...  ZBTB40     PAN2   ZBTB5     MFN2   KIF14    JOSD1  \\\n",
       "0  4.90380  8.6169  ...  6.3027  6.92500  5.7850  9.73600  6.2285  9.29705   \n",
       "1  4.68190  8.7111  ...  5.9445  6.28910  5.5770  9.80320  7.2063  8.17410   \n",
       "2  4.65705  8.0675  ...  6.5596  6.79485  6.4838  8.81840  5.4951  9.42710   \n",
       "3  4.66325  8.4843  ...  5.8596  3.61560  5.8022  9.88365  6.3250  8.12420   \n",
       "4  4.45710  8.0381  ...  7.2433  6.89940  6.8711  9.65060  5.7351  9.09400   \n",
       "\n",
       "    CDC25A     PUM3   P2RY14    MAFB  DCLRE1A  ARHGAP25     RBM8A   CDC25B  \\\n",
       "0  7.82910  11.0936  3.98790  3.2339  5.22510   5.93670   9.66590  12.1157   \n",
       "1  8.38835  11.4330  6.43275  2.4126  5.09740   4.89450   8.13320  11.6351   \n",
       "2  7.78960  11.1455  4.37490  1.7258  5.19370   5.75950  10.20145  11.5960   \n",
       "3  8.92820  11.3816  4.45100  2.8554  5.33225   4.38970   7.90410  11.7573   \n",
       "4  8.12510  10.2400  3.69970  3.2654  4.64710   5.16705   8.74970  12.0440   \n",
       "\n",
       "      OXSR1    GFPT2     WDR1   CDC25C   GOLGA5  HS3ST3A1  HS3ST2   HS3ST1  \\\n",
       "0  8.251101  6.69920  10.3763  5.94940  7.40000    2.6075  4.5212  1.55980   \n",
       "1  8.719300  6.17270  10.1985  6.46470  7.08770    2.6302  4.2215  4.87610   \n",
       "2  9.301400  5.49065   9.7611  5.42625  6.56105    3.0184  3.8900  3.67660   \n",
       "3  8.915800  5.27770  10.5628  6.10360  6.66780    4.0024  4.4177  3.31975   \n",
       "4  7.914200  5.31860  10.3107  6.37410  7.48150    3.6459  3.4642  1.69770   \n",
       "\n",
       "    USP15   CDC27     USP3      MVP  TNFSF15  THRAP3   MED12   MED13    CDC34  \\\n",
       "0  7.1954  7.3965  10.9709  10.2948  5.51160  6.9417  6.0732  8.5739   9.9106   \n",
       "1  7.4542  7.7907   9.9849   8.9196  5.54835  6.8359  6.1657  8.5109   8.8504   \n",
       "2  7.4895  7.5628  11.1484  11.2133  5.93725  6.8140  7.0941  9.6764   9.8433   \n",
       "3  7.0631  7.8776  10.0913   9.4820  5.89030  6.8097  6.5518  8.1379  10.0362   \n",
       "4  7.6652  7.4850  10.2746  10.2718  5.15430  6.8684  6.9013  8.5739  11.0609   \n",
       "\n",
       "     NUP153       CCS    NR1D2   CLEC2B     RBX1      CDC42   DOP1B   FGFBP1  \\\n",
       "0  8.054500  6.759900  5.41320  12.8118  10.8286   8.566800  4.1036  4.42080   \n",
       "1  8.538200  6.102800  5.39060  12.9333  10.0504   9.640600  3.7262  5.97550   \n",
       "2  8.434600  5.794700  6.18830  13.0425   9.9283   8.516200  4.2390  4.62015   \n",
       "3  8.495501  6.128600  4.96435  12.1622  11.0559  10.768400  3.6575  4.72820   \n",
       "4  8.525300  7.078801  4.64830  11.3046  11.4774   9.974251  4.3214  4.65310   \n",
       "\n",
       "     THOC1     REC8  HNRNPDL    DMTF1  PPP4R1    CDH1  SLC12A6   PTBP3  \\\n",
       "0   9.4023  5.23060  10.0028  7.18005  7.6505  1.1633   4.8897  5.5534   \n",
       "1   9.3739  5.77195  10.3324  6.85075  8.0699  1.8844   4.3627  5.8257   \n",
       "2   9.8843  5.17430  11.3330  7.29980  7.9811  0.9265   5.0362  5.7679   \n",
       "3   9.1671  4.59995  11.5465  6.95590  7.7559  2.5469   4.0316  5.6360   \n",
       "4  10.3432  5.05660  10.9467  6.47340  7.8914  3.2102   4.4431  4.8528   \n",
       "\n",
       "    DGCR2      SCO2                  sample_id  \n",
       "0  6.1668   9.16890  ABY001_A375_XH_X1_B15:A13  \n",
       "1  5.9020   7.61165  ABY001_A375_XH_X1_B15:A14  \n",
       "2  7.1669   9.14580  ABY001_A375_XH_X1_B15:A15  \n",
       "3  6.4808   8.32810  ABY001_A375_XH_X1_B15:A16  \n",
       "4  6.8784  10.49990  ABY001_A375_XH_X1_B15:A17  \n",
       "\n",
       "[5 rows x 8241 columns]"
      ],
      "text/html": "<div>\n<style scoped>\n    .dataframe tbody tr th:only-of-type {\n        vertical-align: middle;\n    }\n\n    .dataframe tbody tr th {\n        vertical-align: top;\n    }\n\n    .dataframe thead th {\n        text-align: right;\n    }\n</style>\n<table border=\"1\" class=\"dataframe\">\n  <thead>\n    <tr style=\"text-align: right;\">\n      <th></th>\n      <th>ADA</th>\n      <th>CDH2</th>\n      <th>AKT3</th>\n      <th>MED6</th>\n      <th>ACOT8</th>\n      <th>ABI1</th>\n      <th>GNPDA1</th>\n      <th>ZBTB33</th>\n      <th>CDH3</th>\n      <th>TANK</th>\n      <th>HDAC6</th>\n      <th>HDAC5</th>\n      <th>PDCD6IP</th>\n      <th>PDCD6</th>\n      <th>BCL2L10</th>\n      <th>BCL2L11</th>\n      <th>SH2B3</th>\n      <th>CDH4</th>\n      <th>GNE</th>\n      <th>FRAT1</th>\n      <th>TROAP</th>\n      <th>MED16</th>\n      <th>PIGK</th>\n      <th>TIMM23</th>\n      <th>ZNF783</th>\n      <th>CDH5</th>\n      <th>CHAF1A</th>\n      <th>PARP2</th>\n      <th>PARP3</th>\n      <th>CDH6</th>\n      <th>TOM1L1</th>\n      <th>TOM1</th>\n      <th>SH2D3A</th>\n      <th>RANBP9</th>\n      <th>DNAJB6</th>\n      <th>MICA</th>\n      <th>SMC4</th>\n      <th>GJC1</th>\n      <th>AP1M2</th>\n      <th>UBA2</th>\n      <th>SAE1</th>\n      <th>DNM1L</th>\n      <th>CDH8</th>\n      <th>ABCC9</th>\n      <th>ABCF2</th>\n      <th>NR1H3</th>\n      <th>COX17</th>\n      <th>SCAMP2</th>\n      <th>CDH9</th>\n      <th>DPP3</th>\n      <th>...</th>\n      <th>ZBTB40</th>\n      <th>PAN2</th>\n      <th>ZBTB5</th>\n      <th>MFN2</th>\n      <th>KIF14</th>\n      <th>JOSD1</th>\n      <th>CDC25A</th>\n      <th>PUM3</th>\n      <th>P2RY14</th>\n      <th>MAFB</th>\n      <th>DCLRE1A</th>\n      <th>ARHGAP25</th>\n      <th>RBM8A</th>\n      <th>CDC25B</th>\n      <th>OXSR1</th>\n      <th>GFPT2</th>\n      <th>WDR1</th>\n      <th>CDC25C</th>\n      <th>GOLGA5</th>\n      <th>HS3ST3A1</th>\n      <th>HS3ST2</th>\n      <th>HS3ST1</th>\n      <th>USP15</th>\n      <th>CDC27</th>\n      <th>USP3</th>\n      <th>MVP</th>\n      <th>TNFSF15</th>\n      <th>THRAP3</th>\n      <th>MED12</th>\n      <th>MED13</th>\n      <th>CDC34</th>\n      <th>NUP153</th>\n      <th>CCS</th>\n      <th>NR1D2</th>\n      <th>CLEC2B</th>\n      <th>RBX1</th>\n      <th>CDC42</th>\n      <th>DOP1B</th>\n      <th>FGFBP1</th>\n      <th>THOC1</th>\n      <th>REC8</th>\n      <th>HNRNPDL</th>\n      <th>DMTF1</th>\n      <th>PPP4R1</th>\n      <th>CDH1</th>\n      <th>SLC12A6</th>\n      <th>PTBP3</th>\n      <th>DGCR2</th>\n      <th>SCO2</th>\n      <th>sample_id</th>\n    </tr>\n  </thead>\n  <tbody>\n    <tr>\n      <th>0</th>\n      <td>7.4924</td>\n      <td>6.56405</td>\n      <td>9.1052</td>\n      <td>7.4510</td>\n      <td>7.70140</td>\n      <td>6.1691</td>\n      <td>12.7639</td>\n      <td>4.51630</td>\n      <td>3.89000</td>\n      <td>5.8605</td>\n      <td>7.757550</td>\n      <td>6.0334</td>\n      <td>8.6218</td>\n      <td>11.46500</td>\n      <td>5.1312</td>\n      <td>5.61460</td>\n      <td>9.9082</td>\n      <td>5.4493</td>\n      <td>10.9615</td>\n      <td>5.13505</td>\n      <td>7.896000</td>\n      <td>7.17545</td>\n      <td>9.1745</td>\n      <td>9.1660</td>\n      <td>6.86060</td>\n      <td>6.5301</td>\n      <td>7.0301</td>\n      <td>8.245100</td>\n      <td>6.09740</td>\n      <td>4.62080</td>\n      <td>7.9811</td>\n      <td>6.939150</td>\n      <td>4.7799</td>\n      <td>8.093900</td>\n      <td>9.1683</td>\n      <td>7.37600</td>\n      <td>9.86095</td>\n      <td>7.088400</td>\n      <td>6.099300</td>\n      <td>12.6492</td>\n      <td>10.0071</td>\n      <td>11.9641</td>\n      <td>4.6531</td>\n      <td>5.1027</td>\n      <td>9.7246</td>\n      <td>6.29360</td>\n      <td>12.32085</td>\n      <td>6.89545</td>\n      <td>4.90380</td>\n      <td>8.6169</td>\n      <td>...</td>\n      <td>6.3027</td>\n      <td>6.92500</td>\n      <td>5.7850</td>\n      <td>9.73600</td>\n      <td>6.2285</td>\n      <td>9.29705</td>\n      <td>7.82910</td>\n      <td>11.0936</td>\n      <td>3.98790</td>\n      <td>3.2339</td>\n      <td>5.22510</td>\n      <td>5.93670</td>\n      <td>9.66590</td>\n      <td>12.1157</td>\n      <td>8.251101</td>\n      <td>6.69920</td>\n      <td>10.3763</td>\n      <td>5.94940</td>\n      <td>7.40000</td>\n      <td>2.6075</td>\n      <td>4.5212</td>\n      <td>1.55980</td>\n      <td>7.1954</td>\n      <td>7.3965</td>\n      <td>10.9709</td>\n      <td>10.2948</td>\n      <td>5.51160</td>\n      <td>6.9417</td>\n      <td>6.0732</td>\n      <td>8.5739</td>\n      <td>9.9106</td>\n      <td>8.054500</td>\n      <td>6.759900</td>\n      <td>5.41320</td>\n      <td>12.8118</td>\n      <td>10.8286</td>\n      <td>8.566800</td>\n      <td>4.1036</td>\n      <td>4.42080</td>\n      <td>9.4023</td>\n      <td>5.23060</td>\n      <td>10.0028</td>\n      <td>7.18005</td>\n      <td>7.6505</td>\n      <td>1.1633</td>\n      <td>4.8897</td>\n      <td>5.5534</td>\n      <td>6.1668</td>\n      <td>9.16890</td>\n      <td>ABY001_A375_XH_X1_B15:A13</td>\n    </tr>\n    <tr>\n      <th>1</th>\n      <td>7.8669</td>\n      <td>7.67620</td>\n      <td>9.2727</td>\n      <td>8.6112</td>\n      <td>7.33370</td>\n      <td>5.8269</td>\n      <td>9.9611</td>\n      <td>4.88270</td>\n      <td>4.11210</td>\n      <td>6.7078</td>\n      <td>7.237200</td>\n      <td>5.7254</td>\n      <td>9.6843</td>\n      <td>11.83580</td>\n      <td>5.3833</td>\n      <td>5.32835</td>\n      <td>9.7847</td>\n      <td>5.1489</td>\n      <td>10.1456</td>\n      <td>5.33220</td>\n      <td>7.400600</td>\n      <td>7.40060</td>\n      <td>8.3440</td>\n      <td>9.8791</td>\n      <td>7.10435</td>\n      <td>6.4789</td>\n      <td>7.5310</td>\n      <td>8.056749</td>\n      <td>6.57180</td>\n      <td>5.69455</td>\n      <td>7.9109</td>\n      <td>6.613750</td>\n      <td>5.9759</td>\n      <td>7.429200</td>\n      <td>10.4621</td>\n      <td>6.96025</td>\n      <td>10.15060</td>\n      <td>6.710001</td>\n      <td>7.175299</td>\n      <td>12.9312</td>\n      <td>10.1099</td>\n      <td>11.2434</td>\n      <td>4.9994</td>\n      <td>4.6937</td>\n      <td>10.1845</td>\n      <td>5.83980</td>\n      <td>10.89900</td>\n      <td>7.01595</td>\n      <td>4.68190</td>\n      <td>8.7111</td>\n      <td>...</td>\n      <td>5.9445</td>\n      <td>6.28910</td>\n      <td>5.5770</td>\n      <td>9.80320</td>\n      <td>7.2063</td>\n      <td>8.17410</td>\n      <td>8.38835</td>\n      <td>11.4330</td>\n      <td>6.43275</td>\n      <td>2.4126</td>\n      <td>5.09740</td>\n      <td>4.89450</td>\n      <td>8.13320</td>\n      <td>11.6351</td>\n      <td>8.719300</td>\n      <td>6.17270</td>\n      <td>10.1985</td>\n      <td>6.46470</td>\n      <td>7.08770</td>\n      <td>2.6302</td>\n      <td>4.2215</td>\n      <td>4.87610</td>\n      <td>7.4542</td>\n      <td>7.7907</td>\n      <td>9.9849</td>\n      <td>8.9196</td>\n      <td>5.54835</td>\n      <td>6.8359</td>\n      <td>6.1657</td>\n      <td>8.5109</td>\n      <td>8.8504</td>\n      <td>8.538200</td>\n      <td>6.102800</td>\n      <td>5.39060</td>\n      <td>12.9333</td>\n      <td>10.0504</td>\n      <td>9.640600</td>\n      <td>3.7262</td>\n      <td>5.97550</td>\n      <td>9.3739</td>\n      <td>5.77195</td>\n      <td>10.3324</td>\n      <td>6.85075</td>\n      <td>8.0699</td>\n      <td>1.8844</td>\n      <td>4.3627</td>\n      <td>5.8257</td>\n      <td>5.9020</td>\n      <td>7.61165</td>\n      <td>ABY001_A375_XH_X1_B15:A14</td>\n    </tr>\n    <tr>\n      <th>2</th>\n      <td>7.0399</td>\n      <td>4.93370</td>\n      <td>8.4097</td>\n      <td>8.7282</td>\n      <td>6.88025</td>\n      <td>5.9476</td>\n      <td>12.2874</td>\n      <td>5.00175</td>\n      <td>5.78490</td>\n      <td>7.7989</td>\n      <td>7.630701</td>\n      <td>6.3948</td>\n      <td>9.5346</td>\n      <td>10.50825</td>\n      <td>5.2283</td>\n      <td>5.88760</td>\n      <td>8.3057</td>\n      <td>6.0251</td>\n      <td>10.1393</td>\n      <td>5.05570</td>\n      <td>7.853900</td>\n      <td>8.32100</td>\n      <td>7.2045</td>\n      <td>9.1501</td>\n      <td>6.52810</td>\n      <td>5.0439</td>\n      <td>7.2617</td>\n      <td>8.166300</td>\n      <td>7.00770</td>\n      <td>4.29610</td>\n      <td>6.3065</td>\n      <td>7.993200</td>\n      <td>5.9494</td>\n      <td>7.918400</td>\n      <td>10.6066</td>\n      <td>7.31960</td>\n      <td>9.03120</td>\n      <td>6.665400</td>\n      <td>7.105000</td>\n      <td>11.8415</td>\n      <td>9.5809</td>\n      <td>11.5554</td>\n      <td>5.0846</td>\n      <td>4.7913</td>\n      <td>9.4279</td>\n      <td>5.93960</td>\n      <td>10.07950</td>\n      <td>6.43070</td>\n      <td>4.65705</td>\n      <td>8.0675</td>\n      <td>...</td>\n      <td>6.5596</td>\n      <td>6.79485</td>\n      <td>6.4838</td>\n      <td>8.81840</td>\n      <td>5.4951</td>\n      <td>9.42710</td>\n      <td>7.78960</td>\n      <td>11.1455</td>\n      <td>4.37490</td>\n      <td>1.7258</td>\n      <td>5.19370</td>\n      <td>5.75950</td>\n      <td>10.20145</td>\n      <td>11.5960</td>\n      <td>9.301400</td>\n      <td>5.49065</td>\n      <td>9.7611</td>\n      <td>5.42625</td>\n      <td>6.56105</td>\n      <td>3.0184</td>\n      <td>3.8900</td>\n      <td>3.67660</td>\n      <td>7.4895</td>\n      <td>7.5628</td>\n      <td>11.1484</td>\n      <td>11.2133</td>\n      <td>5.93725</td>\n      <td>6.8140</td>\n      <td>7.0941</td>\n      <td>9.6764</td>\n      <td>9.8433</td>\n      <td>8.434600</td>\n      <td>5.794700</td>\n      <td>6.18830</td>\n      <td>13.0425</td>\n      <td>9.9283</td>\n      <td>8.516200</td>\n      <td>4.2390</td>\n      <td>4.62015</td>\n      <td>9.8843</td>\n      <td>5.17430</td>\n      <td>11.3330</td>\n      <td>7.29980</td>\n      <td>7.9811</td>\n      <td>0.9265</td>\n      <td>5.0362</td>\n      <td>5.7679</td>\n      <td>7.1669</td>\n      <td>9.14580</td>\n      <td>ABY001_A375_XH_X1_B15:A15</td>\n    </tr>\n    <tr>\n      <th>3</th>\n      <td>7.3355</td>\n      <td>7.82995</td>\n      <td>8.7718</td>\n      <td>8.5942</td>\n      <td>7.36960</td>\n      <td>5.2347</td>\n      <td>10.5120</td>\n      <td>4.87995</td>\n      <td>4.38045</td>\n      <td>6.7828</td>\n      <td>7.526350</td>\n      <td>6.2044</td>\n      <td>9.0221</td>\n      <td>11.66710</td>\n      <td>5.2433</td>\n      <td>5.67045</td>\n      <td>9.9296</td>\n      <td>5.2615</td>\n      <td>10.1784</td>\n      <td>5.30880</td>\n      <td>7.669799</td>\n      <td>7.31550</td>\n      <td>8.2922</td>\n      <td>10.6585</td>\n      <td>6.79955</td>\n      <td>7.5811</td>\n      <td>7.5017</td>\n      <td>8.142750</td>\n      <td>6.57330</td>\n      <td>5.16920</td>\n      <td>8.6652</td>\n      <td>6.759501</td>\n      <td>5.3115</td>\n      <td>7.449999</td>\n      <td>10.4992</td>\n      <td>7.59480</td>\n      <td>9.90520</td>\n      <td>7.231300</td>\n      <td>5.273200</td>\n      <td>12.5222</td>\n      <td>9.8343</td>\n      <td>11.0152</td>\n      <td>4.6258</td>\n      <td>4.6459</td>\n      <td>9.5237</td>\n      <td>6.52570</td>\n      <td>11.38280</td>\n      <td>7.16060</td>\n      <td>4.66325</td>\n      <td>8.4843</td>\n      <td>...</td>\n      <td>5.8596</td>\n      <td>3.61560</td>\n      <td>5.8022</td>\n      <td>9.88365</td>\n      <td>6.3250</td>\n      <td>8.12420</td>\n      <td>8.92820</td>\n      <td>11.3816</td>\n      <td>4.45100</td>\n      <td>2.8554</td>\n      <td>5.33225</td>\n      <td>4.38970</td>\n      <td>7.90410</td>\n      <td>11.7573</td>\n      <td>8.915800</td>\n      <td>5.27770</td>\n      <td>10.5628</td>\n      <td>6.10360</td>\n      <td>6.66780</td>\n      <td>4.0024</td>\n      <td>4.4177</td>\n      <td>3.31975</td>\n      <td>7.0631</td>\n      <td>7.8776</td>\n      <td>10.0913</td>\n      <td>9.4820</td>\n      <td>5.89030</td>\n      <td>6.8097</td>\n      <td>6.5518</td>\n      <td>8.1379</td>\n      <td>10.0362</td>\n      <td>8.495501</td>\n      <td>6.128600</td>\n      <td>4.96435</td>\n      <td>12.1622</td>\n      <td>11.0559</td>\n      <td>10.768400</td>\n      <td>3.6575</td>\n      <td>4.72820</td>\n      <td>9.1671</td>\n      <td>4.59995</td>\n      <td>11.5465</td>\n      <td>6.95590</td>\n      <td>7.7559</td>\n      <td>2.5469</td>\n      <td>4.0316</td>\n      <td>5.6360</td>\n      <td>6.4808</td>\n      <td>8.32810</td>\n      <td>ABY001_A375_XH_X1_B15:A16</td>\n    </tr>\n    <tr>\n      <th>4</th>\n      <td>6.5117</td>\n      <td>4.89115</td>\n      <td>9.2922</td>\n      <td>8.6256</td>\n      <td>6.08830</td>\n      <td>5.6700</td>\n      <td>12.1923</td>\n      <td>4.88740</td>\n      <td>4.07565</td>\n      <td>5.7264</td>\n      <td>7.928300</td>\n      <td>6.6864</td>\n      <td>9.0390</td>\n      <td>11.52975</td>\n      <td>4.8198</td>\n      <td>5.49380</td>\n      <td>9.7140</td>\n      <td>5.5293</td>\n      <td>10.1890</td>\n      <td>4.94060</td>\n      <td>8.348000</td>\n      <td>7.84520</td>\n      <td>8.4415</td>\n      <td>10.5552</td>\n      <td>6.74630</td>\n      <td>6.3943</td>\n      <td>6.5914</td>\n      <td>8.317900</td>\n      <td>6.34645</td>\n      <td>3.99580</td>\n      <td>7.1892</td>\n      <td>7.710400</td>\n      <td>4.5792</td>\n      <td>7.607300</td>\n      <td>9.4752</td>\n      <td>8.15950</td>\n      <td>9.34360</td>\n      <td>6.952300</td>\n      <td>6.187800</td>\n      <td>11.5549</td>\n      <td>9.6343</td>\n      <td>11.3909</td>\n      <td>4.9657</td>\n      <td>4.3824</td>\n      <td>9.7715</td>\n      <td>6.45995</td>\n      <td>10.46650</td>\n      <td>6.25480</td>\n      <td>4.45710</td>\n      <td>8.0381</td>\n      <td>...</td>\n      <td>7.2433</td>\n      <td>6.89940</td>\n      <td>6.8711</td>\n      <td>9.65060</td>\n      <td>5.7351</td>\n      <td>9.09400</td>\n      <td>8.12510</td>\n      <td>10.2400</td>\n      <td>3.69970</td>\n      <td>3.2654</td>\n      <td>4.64710</td>\n      <td>5.16705</td>\n      <td>8.74970</td>\n      <td>12.0440</td>\n      <td>7.914200</td>\n      <td>5.31860</td>\n      <td>10.3107</td>\n      <td>6.37410</td>\n      <td>7.48150</td>\n      <td>3.6459</td>\n      <td>3.4642</td>\n      <td>1.69770</td>\n      <td>7.6652</td>\n      <td>7.4850</td>\n      <td>10.2746</td>\n      <td>10.2718</td>\n      <td>5.15430</td>\n      <td>6.8684</td>\n      <td>6.9013</td>\n      <td>8.5739</td>\n      <td>11.0609</td>\n      <td>8.525300</td>\n      <td>7.078801</td>\n      <td>4.64830</td>\n      <td>11.3046</td>\n      <td>11.4774</td>\n      <td>9.974251</td>\n      <td>4.3214</td>\n      <td>4.65310</td>\n      <td>10.3432</td>\n      <td>5.05660</td>\n      <td>10.9467</td>\n      <td>6.47340</td>\n      <td>7.8914</td>\n      <td>3.2102</td>\n      <td>4.4431</td>\n      <td>4.8528</td>\n      <td>6.8784</td>\n      <td>10.49990</td>\n      <td>ABY001_A375_XH_X1_B15:A17</td>\n    </tr>\n  </tbody>\n</table>\n<p>5 rows × 8241 columns</p>\n</div>"
     },
     "metadata": {},
     "execution_count": 19
    }
   ],
   "source": [
    "mydata.head()"
   ]
  },
  {
   "source": [
    "# summarize"
   ],
   "cell_type": "markdown",
   "metadata": {}
  },
  {
   "cell_type": "code",
   "execution_count": 20,
   "metadata": {},
   "outputs": [
    {
     "output_type": "execute_result",
     "data": {
      "text/plain": [
       "pert_time\n",
       "72        33\n",
       "2        148\n",
       "4        277\n",
       "3       2668\n",
       "48      5102\n",
       "6      53406\n",
       "24    183601\n",
       "Name: sample_id, dtype: int64"
      ]
     },
     "metadata": {},
     "execution_count": 20
    }
   ],
   "source": [
    "sampinfo2.groupby('qc_pass').count()['sample_id']\n",
    "\n",
    "sampinfo2.groupby('failure_mode').count()['sample_id'].sort_values()\n",
    "\n",
    "sampinfo2.groupby('pert_dose').count()['sample_id']\n",
    "\n",
    "sampinfo2.groupby('pert_dose_unit').count()['sample_id'].sort_values()\n",
    "\n",
    "sampinfo2.groupby('pert_time').count()['sample_id'].sort_values()"
   ]
  },
  {
   "source": [
    "# Step 6: Save data"
   ],
   "cell_type": "markdown",
   "metadata": {}
  },
  {
   "cell_type": "code",
   "execution_count": 21,
   "metadata": {},
   "outputs": [],
   "source": [
    "data = {'pert_expr'         :   mydata, \n",
    "        'samp_info'         :   sampinfo2,\n",
    "        'gene_info'         :   geneinfo2,\n",
    "        'meta'              :   'LINCS L1000 LVL3 perturbed expression data',\n",
    "        'source'            :   './LINCS/LVL3/notebooks/make_perturbed_expression.ipynb',\n",
    "        'creation_date'     :   dt.datetime.now().__str__()}"
   ]
  },
  {
   "cell_type": "code",
   "execution_count": 22,
   "metadata": {},
   "outputs": [],
   "source": [
    "with open('../../../cell_pertub.pkl', 'wb') as f: \n",
    "    pkl.dump(data, f)"
   ]
  },
  {
   "cell_type": "code",
   "execution_count": 24,
   "metadata": {},
   "outputs": [
    {
     "output_type": "execute_result",
     "data": {
      "text/plain": [
       "'2021-06-11 11:12:20.384890'"
      ]
     },
     "metadata": {},
     "execution_count": 24
    }
   ],
   "source": [
    "data['creation_date']"
   ]
  },
  {
   "cell_type": "code",
   "execution_count": null,
   "metadata": {},
   "outputs": [],
   "source": []
  }
 ]
}