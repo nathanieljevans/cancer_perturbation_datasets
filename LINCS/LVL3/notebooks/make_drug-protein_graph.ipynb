{
 "metadata": {
  "language_info": {
   "codemirror_mode": {
    "name": "ipython",
    "version": 3
   },
   "file_extension": ".py",
   "mimetype": "text/x-python",
   "name": "python",
   "nbconvert_exporter": "python",
   "pygments_lexer": "ipython3",
   "version": "3.8.5"
  },
  "orig_nbformat": 2,
  "kernelspec": {
   "name": "python385jvsc74a57bd0df76dc7eefd3519b618d4f742ac9d22003ce12e4db2fef6c1d63a51a9f543aa2",
   "display_name": "Python 3.8.5 64-bit ('gcnvae': conda)"
  }
 },
 "nbformat": 4,
 "nbformat_minor": 2,
 "cells": [
  {
   "cell_type": "code",
   "execution_count": 14,
   "metadata": {},
   "outputs": [],
   "source": [
    "import pandas as pd \n",
    "from matplotlib import pyplot as plt\n",
    "import numpy as np\n",
    "import seaborn as sbn\n",
    "import pickle as pkl \n",
    "import networkx as nx \n",
    "import datetime as dt\n",
    "pd.set_option('display.max_columns', None)"
   ]
  },
  {
   "cell_type": "code",
   "execution_count": 2,
   "metadata": {},
   "outputs": [],
   "source": [
    "# Metadata for cell lines (note there is one entry per compound/moa/target/structure combination, so some compounds appear more than once)\n",
    "druginfo = pd.read_csv('../data/raw/compoundinfo_beta.txt', sep='\\t')\n",
    "druginfo2 = druginfo[lambda x: ~x.target.isna()]\n",
    "\n",
    "with open('../../../DDS_graph.pkl', 'rb') as f: \n",
    "        DDS_graph = pkl.load(f)\n",
    "\n",
    "with open('../../../PPI_graph.pkl', 'rb') as f: \n",
    "    PPI_graph = pkl.load(f)\n",
    "\n",
    "drugs = DDS_graph['nodelist']\n",
    "genes = PPI_graph['nodelist']\n",
    "all2symb = PPI_graph['genemap']"
   ]
  },
  {
   "cell_type": "code",
   "execution_count": 3,
   "metadata": {},
   "outputs": [
    {
     "output_type": "execute_result",
     "data": {
      "text/plain": [
       "           pert_id  cmap_name target            moa  \\\n",
       "627  BRD-K42828737  sunitinib   FLT1  KIT inhibitor   \n",
       "628  BRD-K42828737  sunitinib   FLT3  KIT inhibitor   \n",
       "629  BRD-K42828737  sunitinib   FLT4  KIT inhibitor   \n",
       "630  BRD-K42828737  sunitinib    KDR  KIT inhibitor   \n",
       "631  BRD-K42828737  sunitinib    KIT  KIT inhibitor   \n",
       "\n",
       "                                      canonical_smiles  \\\n",
       "627  CCN(CC)CCNC(=O)c1c(C)[nH]c(C=C2/C(=O)Nc3ccc(F)...   \n",
       "628  CCN(CC)CCNC(=O)c1c(C)[nH]c(C=C2/C(=O)Nc3ccc(F)...   \n",
       "629  CCN(CC)CCNC(=O)c1c(C)[nH]c(C=C2/C(=O)Nc3ccc(F)...   \n",
       "630  CCN(CC)CCNC(=O)c1c(C)[nH]c(C=C2/C(=O)Nc3ccc(F)...   \n",
       "631  CCN(CC)CCNC(=O)c1c(C)[nH]c(C=C2/C(=O)Nc3ccc(F)...   \n",
       "\n",
       "                       inchi_key  compound_aliases target2 my_drug_name  \\\n",
       "627  WINHZLLDWRZWRT-ATVHPVEESA-N  sunitinib-malate    FLT1    sunitinib   \n",
       "628  WINHZLLDWRZWRT-ATVHPVEESA-N  sunitinib-malate    FLT3    sunitinib   \n",
       "629  WINHZLLDWRZWRT-ATVHPVEESA-N  sunitinib-malate    FLT4    sunitinib   \n",
       "630  WINHZLLDWRZWRT-ATVHPVEESA-N  sunitinib-malate     KDR    sunitinib   \n",
       "631  WINHZLLDWRZWRT-ATVHPVEESA-N  sunitinib-malate     KIT    sunitinib   \n",
       "\n",
       "      moa_type  \n",
       "627  inhibitor  \n",
       "628  inhibitor  \n",
       "629  inhibitor  \n",
       "630  inhibitor  \n",
       "631  inhibitor  "
      ],
      "text/html": "<div>\n<style scoped>\n    .dataframe tbody tr th:only-of-type {\n        vertical-align: middle;\n    }\n\n    .dataframe tbody tr th {\n        vertical-align: top;\n    }\n\n    .dataframe thead th {\n        text-align: right;\n    }\n</style>\n<table border=\"1\" class=\"dataframe\">\n  <thead>\n    <tr style=\"text-align: right;\">\n      <th></th>\n      <th>pert_id</th>\n      <th>cmap_name</th>\n      <th>target</th>\n      <th>moa</th>\n      <th>canonical_smiles</th>\n      <th>inchi_key</th>\n      <th>compound_aliases</th>\n      <th>target2</th>\n      <th>my_drug_name</th>\n      <th>moa_type</th>\n    </tr>\n  </thead>\n  <tbody>\n    <tr>\n      <th>627</th>\n      <td>BRD-K42828737</td>\n      <td>sunitinib</td>\n      <td>FLT1</td>\n      <td>KIT inhibitor</td>\n      <td>CCN(CC)CCNC(=O)c1c(C)[nH]c(C=C2/C(=O)Nc3ccc(F)...</td>\n      <td>WINHZLLDWRZWRT-ATVHPVEESA-N</td>\n      <td>sunitinib-malate</td>\n      <td>FLT1</td>\n      <td>sunitinib</td>\n      <td>inhibitor</td>\n    </tr>\n    <tr>\n      <th>628</th>\n      <td>BRD-K42828737</td>\n      <td>sunitinib</td>\n      <td>FLT3</td>\n      <td>KIT inhibitor</td>\n      <td>CCN(CC)CCNC(=O)c1c(C)[nH]c(C=C2/C(=O)Nc3ccc(F)...</td>\n      <td>WINHZLLDWRZWRT-ATVHPVEESA-N</td>\n      <td>sunitinib-malate</td>\n      <td>FLT3</td>\n      <td>sunitinib</td>\n      <td>inhibitor</td>\n    </tr>\n    <tr>\n      <th>629</th>\n      <td>BRD-K42828737</td>\n      <td>sunitinib</td>\n      <td>FLT4</td>\n      <td>KIT inhibitor</td>\n      <td>CCN(CC)CCNC(=O)c1c(C)[nH]c(C=C2/C(=O)Nc3ccc(F)...</td>\n      <td>WINHZLLDWRZWRT-ATVHPVEESA-N</td>\n      <td>sunitinib-malate</td>\n      <td>FLT4</td>\n      <td>sunitinib</td>\n      <td>inhibitor</td>\n    </tr>\n    <tr>\n      <th>630</th>\n      <td>BRD-K42828737</td>\n      <td>sunitinib</td>\n      <td>KDR</td>\n      <td>KIT inhibitor</td>\n      <td>CCN(CC)CCNC(=O)c1c(C)[nH]c(C=C2/C(=O)Nc3ccc(F)...</td>\n      <td>WINHZLLDWRZWRT-ATVHPVEESA-N</td>\n      <td>sunitinib-malate</td>\n      <td>KDR</td>\n      <td>sunitinib</td>\n      <td>inhibitor</td>\n    </tr>\n    <tr>\n      <th>631</th>\n      <td>BRD-K42828737</td>\n      <td>sunitinib</td>\n      <td>KIT</td>\n      <td>KIT inhibitor</td>\n      <td>CCN(CC)CCNC(=O)c1c(C)[nH]c(C=C2/C(=O)Nc3ccc(F)...</td>\n      <td>WINHZLLDWRZWRT-ATVHPVEESA-N</td>\n      <td>sunitinib-malate</td>\n      <td>KIT</td>\n      <td>sunitinib</td>\n      <td>inhibitor</td>\n    </tr>\n  </tbody>\n</table>\n</div>"
     },
     "metadata": {},
     "execution_count": 3
    }
   ],
   "source": [
    "druginfo = druginfo[lambda x: ~x.target.isna()]\n",
    "druginfo = druginfo.assign(target2 = lambda x: x.target.str.upper().map(all2symb))\n",
    "druginfo = druginfo[lambda x: x.target2.isin(genes)]\n",
    "druginfo = druginfo.assign(my_drug_name = lambda x: x.cmap_name.str.lower())\n",
    "druginfo = druginfo[lambda x: x.my_drug_name.isin(drugs)]\n",
    "druginfo = druginfo.assign(moa_type = lambda x: x.moa.str.lower().str.split(' '))\n",
    "druginfo.moa_type = [x[-1] for x in druginfo.moa_type]\n",
    "druginfo.head()"
   ]
  },
  {
   "cell_type": "code",
   "execution_count": 4,
   "metadata": {},
   "outputs": [],
   "source": [
    "moa_map = {\n",
    " **{\n",
    "    'agonist':'agonist',\n",
    "    'inhibitor':'inhibitor',\n",
    "    'activator':'agonist',\n",
    "    'antagonist':'inhibitor'\n",
    "    }, \n",
    " **{k:'uncertain' for k in druginfo.moa_type.unique() if k not in ['agonist', 'inhibitor', 'activator', 'antagonist']}\n",
    "}"
   ]
  },
  {
   "cell_type": "code",
   "execution_count": 5,
   "metadata": {},
   "outputs": [
    {
     "output_type": "execute_result",
     "data": {
      "text/plain": [
       "           pert_id  cmap_name target            moa  \\\n",
       "627  BRD-K42828737  sunitinib   FLT1  KIT inhibitor   \n",
       "628  BRD-K42828737  sunitinib   FLT3  KIT inhibitor   \n",
       "629  BRD-K42828737  sunitinib   FLT4  KIT inhibitor   \n",
       "630  BRD-K42828737  sunitinib    KDR  KIT inhibitor   \n",
       "631  BRD-K42828737  sunitinib    KIT  KIT inhibitor   \n",
       "\n",
       "                                      canonical_smiles  \\\n",
       "627  CCN(CC)CCNC(=O)c1c(C)[nH]c(C=C2/C(=O)Nc3ccc(F)...   \n",
       "628  CCN(CC)CCNC(=O)c1c(C)[nH]c(C=C2/C(=O)Nc3ccc(F)...   \n",
       "629  CCN(CC)CCNC(=O)c1c(C)[nH]c(C=C2/C(=O)Nc3ccc(F)...   \n",
       "630  CCN(CC)CCNC(=O)c1c(C)[nH]c(C=C2/C(=O)Nc3ccc(F)...   \n",
       "631  CCN(CC)CCNC(=O)c1c(C)[nH]c(C=C2/C(=O)Nc3ccc(F)...   \n",
       "\n",
       "                       inchi_key  compound_aliases target2 my_drug_name  \\\n",
       "627  WINHZLLDWRZWRT-ATVHPVEESA-N  sunitinib-malate    FLT1    sunitinib   \n",
       "628  WINHZLLDWRZWRT-ATVHPVEESA-N  sunitinib-malate    FLT3    sunitinib   \n",
       "629  WINHZLLDWRZWRT-ATVHPVEESA-N  sunitinib-malate    FLT4    sunitinib   \n",
       "630  WINHZLLDWRZWRT-ATVHPVEESA-N  sunitinib-malate     KDR    sunitinib   \n",
       "631  WINHZLLDWRZWRT-ATVHPVEESA-N  sunitinib-malate     KIT    sunitinib   \n",
       "\n",
       "      moa_type  moa_type2  prob_agonist  prob_inhibitor  \n",
       "627  inhibitor  inhibitor           0.0             1.0  \n",
       "628  inhibitor  inhibitor           0.0             1.0  \n",
       "629  inhibitor  inhibitor           0.0             1.0  \n",
       "630  inhibitor  inhibitor           0.0             1.0  \n",
       "631  inhibitor  inhibitor           0.0             1.0  "
      ],
      "text/html": "<div>\n<style scoped>\n    .dataframe tbody tr th:only-of-type {\n        vertical-align: middle;\n    }\n\n    .dataframe tbody tr th {\n        vertical-align: top;\n    }\n\n    .dataframe thead th {\n        text-align: right;\n    }\n</style>\n<table border=\"1\" class=\"dataframe\">\n  <thead>\n    <tr style=\"text-align: right;\">\n      <th></th>\n      <th>pert_id</th>\n      <th>cmap_name</th>\n      <th>target</th>\n      <th>moa</th>\n      <th>canonical_smiles</th>\n      <th>inchi_key</th>\n      <th>compound_aliases</th>\n      <th>target2</th>\n      <th>my_drug_name</th>\n      <th>moa_type</th>\n      <th>moa_type2</th>\n      <th>prob_agonist</th>\n      <th>prob_inhibitor</th>\n    </tr>\n  </thead>\n  <tbody>\n    <tr>\n      <th>627</th>\n      <td>BRD-K42828737</td>\n      <td>sunitinib</td>\n      <td>FLT1</td>\n      <td>KIT inhibitor</td>\n      <td>CCN(CC)CCNC(=O)c1c(C)[nH]c(C=C2/C(=O)Nc3ccc(F)...</td>\n      <td>WINHZLLDWRZWRT-ATVHPVEESA-N</td>\n      <td>sunitinib-malate</td>\n      <td>FLT1</td>\n      <td>sunitinib</td>\n      <td>inhibitor</td>\n      <td>inhibitor</td>\n      <td>0.0</td>\n      <td>1.0</td>\n    </tr>\n    <tr>\n      <th>628</th>\n      <td>BRD-K42828737</td>\n      <td>sunitinib</td>\n      <td>FLT3</td>\n      <td>KIT inhibitor</td>\n      <td>CCN(CC)CCNC(=O)c1c(C)[nH]c(C=C2/C(=O)Nc3ccc(F)...</td>\n      <td>WINHZLLDWRZWRT-ATVHPVEESA-N</td>\n      <td>sunitinib-malate</td>\n      <td>FLT3</td>\n      <td>sunitinib</td>\n      <td>inhibitor</td>\n      <td>inhibitor</td>\n      <td>0.0</td>\n      <td>1.0</td>\n    </tr>\n    <tr>\n      <th>629</th>\n      <td>BRD-K42828737</td>\n      <td>sunitinib</td>\n      <td>FLT4</td>\n      <td>KIT inhibitor</td>\n      <td>CCN(CC)CCNC(=O)c1c(C)[nH]c(C=C2/C(=O)Nc3ccc(F)...</td>\n      <td>WINHZLLDWRZWRT-ATVHPVEESA-N</td>\n      <td>sunitinib-malate</td>\n      <td>FLT4</td>\n      <td>sunitinib</td>\n      <td>inhibitor</td>\n      <td>inhibitor</td>\n      <td>0.0</td>\n      <td>1.0</td>\n    </tr>\n    <tr>\n      <th>630</th>\n      <td>BRD-K42828737</td>\n      <td>sunitinib</td>\n      <td>KDR</td>\n      <td>KIT inhibitor</td>\n      <td>CCN(CC)CCNC(=O)c1c(C)[nH]c(C=C2/C(=O)Nc3ccc(F)...</td>\n      <td>WINHZLLDWRZWRT-ATVHPVEESA-N</td>\n      <td>sunitinib-malate</td>\n      <td>KDR</td>\n      <td>sunitinib</td>\n      <td>inhibitor</td>\n      <td>inhibitor</td>\n      <td>0.0</td>\n      <td>1.0</td>\n    </tr>\n    <tr>\n      <th>631</th>\n      <td>BRD-K42828737</td>\n      <td>sunitinib</td>\n      <td>KIT</td>\n      <td>KIT inhibitor</td>\n      <td>CCN(CC)CCNC(=O)c1c(C)[nH]c(C=C2/C(=O)Nc3ccc(F)...</td>\n      <td>WINHZLLDWRZWRT-ATVHPVEESA-N</td>\n      <td>sunitinib-malate</td>\n      <td>KIT</td>\n      <td>sunitinib</td>\n      <td>inhibitor</td>\n      <td>inhibitor</td>\n      <td>0.0</td>\n      <td>1.0</td>\n    </tr>\n  </tbody>\n</table>\n</div>"
     },
     "metadata": {},
     "execution_count": 5
    }
   ],
   "source": [
    "druginfo = druginfo.assign(moa_type2 = lambda x: x.moa_type.map(moa_map))\n",
    "druginfo = druginfo.assign(prob_agonist=lambda x: (x.moa_type2 == 'agonist')*1., prob_inhibitor=lambda x: (x.moa_type2 == 'inhibitor')*1.)\n",
    "druginfo.prob_agonist += (druginfo.moa_type2 == 'uncertain')*0.5\n",
    "druginfo.prob_inhibitor += (druginfo.moa_type2 == 'uncertain')*0.5\n",
    "\n",
    "assert (druginfo.prob_agonist + druginfo.prob_inhibitor == 1.).all(), 'prob_agonist + prob_inhibitor != 1'\n",
    "druginfo.head()"
   ]
  },
  {
   "cell_type": "code",
   "execution_count": 6,
   "metadata": {},
   "outputs": [
    {
     "output_type": "execute_result",
     "data": {
      "text/plain": [
       "moa_type2\n",
       "uncertain     402\n",
       "agonist       622\n",
       "inhibitor    2239\n",
       "Name: target, dtype: int64"
      ]
     },
     "metadata": {},
     "execution_count": 6
    }
   ],
   "source": [
    "druginfo.groupby('moa_type2').count()['target'].sort_values()"
   ]
  },
  {
   "cell_type": "code",
   "execution_count": 10,
   "metadata": {},
   "outputs": [
    {
     "output_type": "execute_result",
     "data": {
      "text/plain": [
       "networkx.classes.reportviews.NodeView"
      ]
     },
     "metadata": {},
     "execution_count": 10
    }
   ],
   "source": []
  },
  {
   "cell_type": "code",
   "execution_count": 7,
   "metadata": {},
   "outputs": [],
   "source": [
    "# build our graph (directed)\n",
    "dG = nx.DiGraph()\n",
    "\n",
    "# add all drug nodes \n",
    "_ = [dG.add_node(drug) for drug in drugs]\n",
    "\n",
    "# add all gene nodes \n",
    "_ = [dG.add_node(gene) for gene in genes]\n",
    "\n",
    "# add drug-protein edges (targets)- edge attribute is probability of moa \n",
    "for i,row in druginfo.iterrows(): \n",
    "    dG.add_edge(row.my_drug_name, row.target2, agonist=row.prob_agonist, inhibitor=row.prob_inhibitor)\n"
   ]
  },
  {
   "cell_type": "code",
   "execution_count": 18,
   "metadata": {},
   "outputs": [
    {
     "output_type": "stream",
     "name": "stdout",
     "text": [
      "# nodes in drug->protein graph [expect: 14789]: 14789\n# edges in drug->protein graph: 1663\nnetwork density: 1.520806619003996e-05\n"
     ]
    }
   ],
   "source": [
    "print(f'# nodes in drug->protein graph [expect: {len(genes) + len(drugs)}]:', len(dG))\n",
    "print(f'# edges in drug->protein graph:', len(dG.edges()))\n",
    "print(f'network density:', nx.density(dG.to_undirected()))"
   ]
  },
  {
   "cell_type": "code",
   "execution_count": 9,
   "metadata": {},
   "outputs": [],
   "source": [
    "nodeorder = drugs + genes\n",
    "agonist_adj = nx.adjacency_matrix(dG, nodelist=nodeorder, weight='agonist')\n",
    "inhibitor_adj = nx.adjacency_matrix(dG, nodelist=nodeorder, weight='inhibitor')"
   ]
  },
  {
   "cell_type": "code",
   "execution_count": 10,
   "metadata": {},
   "outputs": [
    {
     "output_type": "execute_result",
     "data": {
      "text/plain": [
       "matrix([[0., 0., 0., ..., 0., 0., 0.],\n",
       "        [0., 0., 0., ..., 0., 0., 0.],\n",
       "        [0., 0., 0., ..., 0., 0., 0.],\n",
       "        ...,\n",
       "        [0., 0., 0., ..., 0., 0., 0.],\n",
       "        [0., 0., 0., ..., 0., 0., 0.],\n",
       "        [0., 0., 0., ..., 0., 0., 0.]])"
      ]
     },
     "metadata": {},
     "execution_count": 10
    }
   ],
   "source": [
    "agonist_adj.todense()"
   ]
  },
  {
   "cell_type": "code",
   "execution_count": 15,
   "metadata": {},
   "outputs": [],
   "source": [
    "DPI_graph = {'nodelist'         : nodeorder,           # adjacency ordered drug node list \n",
    "             'graphs'           : {\n",
    "                 'agonist'  : agonist_adj,\n",
    "                 'inhibitor': inhibitor_adj\n",
    "                },\n",
    "             'meta'             : 'drug->protein graph based on drug targets. contains two graphs: inhibitor targets & agonist targets (value indicates probability)',\n",
    "             'creation_date'    :dt.datetime.now().__str__()}   \n",
    "                                                       # edge prob is attr \n",
    "with open('../../../DPI_graph.pkl', 'wb') as f: \n",
    "    pkl.dump(DPI_graph, f)"
   ]
  },
  {
   "cell_type": "code",
   "execution_count": null,
   "metadata": {},
   "outputs": [],
   "source": []
  }
 ]
}