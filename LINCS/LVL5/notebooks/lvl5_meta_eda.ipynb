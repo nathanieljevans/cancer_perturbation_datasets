{
 "metadata": {
  "language_info": {
   "codemirror_mode": {
    "name": "ipython",
    "version": 3
   },
   "file_extension": ".py",
   "mimetype": "text/x-python",
   "name": "python",
   "nbconvert_exporter": "python",
   "pygments_lexer": "ipython3",
   "version": "3.8.5"
  },
  "orig_nbformat": 2,
  "kernelspec": {
   "name": "python385jvsc74a57bd0df76dc7eefd3519b618d4f742ac9d22003ce12e4db2fef6c1d63a51a9f543aa2",
   "display_name": "Python 3.8.5 64-bit ('gcnvae': conda)"
  }
 },
 "nbformat": 4,
 "nbformat_minor": 2,
 "cells": [
  {
   "cell_type": "code",
   "execution_count": 4,
   "metadata": {},
   "outputs": [],
   "source": [
    "import pandas as pd \n",
    "from matplotlib import pyplot as plt\n",
    "import numpy as np\n",
    "import seaborn as sbn\n",
    "\n",
    "pd.set_option('display.max_columns', None)"
   ]
  },
  {
   "cell_type": "code",
   "execution_count": null,
   "metadata": {},
   "outputs": [],
   "source": []
  },
  {
   "cell_type": "code",
   "execution_count": 7,
   "metadata": {},
   "outputs": [
    {
     "output_type": "stream",
     "name": "stderr",
     "text": [
      "C:\\Users\\natha\\miniconda3\\envs\\gcnvae\\lib\\site-packages\\IPython\\core\\interactiveshell.py:3155: DtypeWarning: Columns (0,3,4,28,29) have mixed types.Specify dtype option on import or set low_memory=False.\n  has_raised = await self.run_ast_nodes(code_ast.body, cell_name,\n"
     ]
    },
    {
     "output_type": "execute_result",
     "data": {
      "text/plain": [
       "  bead_batch  nearest_dose  pert_dose pert_dose_unit pert_idose pert_itime  \\\n",
       "0        b17           NaN      100.0          ug/ml  100 ug/ml      336 h   \n",
       "1        b15          10.0       10.0             uM      10 uM        3 h   \n",
       "2        b15           2.5        2.5             uM     2.5 uM       24 h   \n",
       "3        b18          10.0       10.0             uM      10 uM        3 h   \n",
       "4        b15          10.0       10.0             uM      10 uM        3 h   \n",
       "\n",
       "   pert_time pert_time_unit cell_mfc_name    pert_mfc_id  nsample  cc_q75  \\\n",
       "0      336.0              h            N8  BRD-U44432129        4  0.6164   \n",
       "1        3.0              h          A549  BRD-K81418486        3  0.4900   \n",
       "2       24.0              h          HT29  BRD-K70511574        2  0.4000   \n",
       "3        3.0              h          HME1  BRD-K81418486        1  0.0000   \n",
       "4        3.0              h         H1975  BRD-A61304759        3  0.3678   \n",
       "\n",
       "   ss_ngene       tas  pct_self_rank_q25                   wt  \\\n",
       "0       446  0.530187           0.000000  0.26,0.26,0.22,0.26   \n",
       "1       263  0.363000           0.544959       0.34,0.34,0.31   \n",
       "2       138  0.237575           0.000000            0.50,0.50   \n",
       "3         0  0.000000           0.000000                 1.00   \n",
       "4       263  0.314495           2.624310       0.37,0.40,0.23   \n",
       "\n",
       "   median_recall_rank_spearman  median_recall_rank_wtcs_50  \\\n",
       "0                     0.925926                    1.157410   \n",
       "1                     1.907360                    0.544959   \n",
       "2                     0.285714                    0.285714   \n",
       "3                     0.000000                    0.000000   \n",
       "4                    13.812200                   25.276200   \n",
       "\n",
       "   median_recall_score_spearman  median_recall_score_wtcs_50  \\\n",
       "0                      0.548655                     0.705263   \n",
       "1                      0.426195                     0.777817   \n",
       "2                      0.396519                     0.685816   \n",
       "3                      0.000000                     0.000000   \n",
       "4                      0.217361                     0.507420   \n",
       "\n",
       "   batch_effect_tstat  batch_effect_tstat_pct  is_hiq  qc_pass        pert_id  \\\n",
       "0               -2.31                0.488085       1        1  BRD-U44432129   \n",
       "1               17.02               71.748500       1        1  BRD-K81418486   \n",
       "2               23.55               85.443600       1        1  BRD-K70511574   \n",
       "3                8.13               32.299700       0        1  BRD-K81418486   \n",
       "4               32.10               93.626200       0        1  BRD-A61304759   \n",
       "\n",
       "                                sig_id pert_type cell_iname        det_wells  \\\n",
       "0   MET001_N8_XH:BRD-U44432129:100:336    trt_cp     NAMEC8  H05|H06|H07|H08   \n",
       "1    ABY001_A549_XH:BRD-K81418486:10:3    trt_cp       A549      L04|L08|L12   \n",
       "2  ABY001_HT29_XH:BRD-K70511574:2.5:24    trt_cp       HT29          E18|E22   \n",
       "3      LTC002_HME1_3H:BRD-K81418486:10    trt_cp       HME1              F19   \n",
       "4   ABY001_H1975_XH:BRD-A61304759:10:3    trt_cp      H1975      P01|P05|P09   \n",
       "\n",
       "               det_plates                                         distil_ids  \\\n",
       "0     MET001_N8_XH_X1_B17  MET001_N8_XH_X1_B17:H05|MET001_N8_XH_X1_B17:H0...   \n",
       "1   ABY001_A549_XH_X1_B15  ABY001_A549_XH_X1_B15:L04|ABY001_A549_XH_X1_B1...   \n",
       "2   ABY001_HT29_XH_X1_B15  ABY001_HT29_XH_X1_B15:E18|ABY001_HT29_XH_X1_B1...   \n",
       "3   LTC002_HME1_3H_X1_B18                          LTC002_HME1_3H_X1_B18:F19   \n",
       "4  ABY001_H1975_XH_X1_B15  ABY001_H1975_XH_X1_B15:P01|ABY001_H1975_XH_X1_...   \n",
       "\n",
       "   build_name project_code      cmap_name  is_ncs_exemplar  \n",
       "0         NaN          MET  BRD-U44432129                0  \n",
       "1         NaN          ABY     vorinostat                0  \n",
       "2         NaN          ABY        HMN-214                0  \n",
       "3         NaN          LTC     vorinostat                0  \n",
       "4         NaN          ABY   tanespimycin                0  "
      ],
      "text/html": "<div>\n<style scoped>\n    .dataframe tbody tr th:only-of-type {\n        vertical-align: middle;\n    }\n\n    .dataframe tbody tr th {\n        vertical-align: top;\n    }\n\n    .dataframe thead th {\n        text-align: right;\n    }\n</style>\n<table border=\"1\" class=\"dataframe\">\n  <thead>\n    <tr style=\"text-align: right;\">\n      <th></th>\n      <th>bead_batch</th>\n      <th>nearest_dose</th>\n      <th>pert_dose</th>\n      <th>pert_dose_unit</th>\n      <th>pert_idose</th>\n      <th>pert_itime</th>\n      <th>pert_time</th>\n      <th>pert_time_unit</th>\n      <th>cell_mfc_name</th>\n      <th>pert_mfc_id</th>\n      <th>nsample</th>\n      <th>cc_q75</th>\n      <th>ss_ngene</th>\n      <th>tas</th>\n      <th>pct_self_rank_q25</th>\n      <th>wt</th>\n      <th>median_recall_rank_spearman</th>\n      <th>median_recall_rank_wtcs_50</th>\n      <th>median_recall_score_spearman</th>\n      <th>median_recall_score_wtcs_50</th>\n      <th>batch_effect_tstat</th>\n      <th>batch_effect_tstat_pct</th>\n      <th>is_hiq</th>\n      <th>qc_pass</th>\n      <th>pert_id</th>\n      <th>sig_id</th>\n      <th>pert_type</th>\n      <th>cell_iname</th>\n      <th>det_wells</th>\n      <th>det_plates</th>\n      <th>distil_ids</th>\n      <th>build_name</th>\n      <th>project_code</th>\n      <th>cmap_name</th>\n      <th>is_ncs_exemplar</th>\n    </tr>\n  </thead>\n  <tbody>\n    <tr>\n      <th>0</th>\n      <td>b17</td>\n      <td>NaN</td>\n      <td>100.0</td>\n      <td>ug/ml</td>\n      <td>100 ug/ml</td>\n      <td>336 h</td>\n      <td>336.0</td>\n      <td>h</td>\n      <td>N8</td>\n      <td>BRD-U44432129</td>\n      <td>4</td>\n      <td>0.6164</td>\n      <td>446</td>\n      <td>0.530187</td>\n      <td>0.000000</td>\n      <td>0.26,0.26,0.22,0.26</td>\n      <td>0.925926</td>\n      <td>1.157410</td>\n      <td>0.548655</td>\n      <td>0.705263</td>\n      <td>-2.31</td>\n      <td>0.488085</td>\n      <td>1</td>\n      <td>1</td>\n      <td>BRD-U44432129</td>\n      <td>MET001_N8_XH:BRD-U44432129:100:336</td>\n      <td>trt_cp</td>\n      <td>NAMEC8</td>\n      <td>H05|H06|H07|H08</td>\n      <td>MET001_N8_XH_X1_B17</td>\n      <td>MET001_N8_XH_X1_B17:H05|MET001_N8_XH_X1_B17:H0...</td>\n      <td>NaN</td>\n      <td>MET</td>\n      <td>BRD-U44432129</td>\n      <td>0</td>\n    </tr>\n    <tr>\n      <th>1</th>\n      <td>b15</td>\n      <td>10.0</td>\n      <td>10.0</td>\n      <td>uM</td>\n      <td>10 uM</td>\n      <td>3 h</td>\n      <td>3.0</td>\n      <td>h</td>\n      <td>A549</td>\n      <td>BRD-K81418486</td>\n      <td>3</td>\n      <td>0.4900</td>\n      <td>263</td>\n      <td>0.363000</td>\n      <td>0.544959</td>\n      <td>0.34,0.34,0.31</td>\n      <td>1.907360</td>\n      <td>0.544959</td>\n      <td>0.426195</td>\n      <td>0.777817</td>\n      <td>17.02</td>\n      <td>71.748500</td>\n      <td>1</td>\n      <td>1</td>\n      <td>BRD-K81418486</td>\n      <td>ABY001_A549_XH:BRD-K81418486:10:3</td>\n      <td>trt_cp</td>\n      <td>A549</td>\n      <td>L04|L08|L12</td>\n      <td>ABY001_A549_XH_X1_B15</td>\n      <td>ABY001_A549_XH_X1_B15:L04|ABY001_A549_XH_X1_B1...</td>\n      <td>NaN</td>\n      <td>ABY</td>\n      <td>vorinostat</td>\n      <td>0</td>\n    </tr>\n    <tr>\n      <th>2</th>\n      <td>b15</td>\n      <td>2.5</td>\n      <td>2.5</td>\n      <td>uM</td>\n      <td>2.5 uM</td>\n      <td>24 h</td>\n      <td>24.0</td>\n      <td>h</td>\n      <td>HT29</td>\n      <td>BRD-K70511574</td>\n      <td>2</td>\n      <td>0.4000</td>\n      <td>138</td>\n      <td>0.237575</td>\n      <td>0.000000</td>\n      <td>0.50,0.50</td>\n      <td>0.285714</td>\n      <td>0.285714</td>\n      <td>0.396519</td>\n      <td>0.685816</td>\n      <td>23.55</td>\n      <td>85.443600</td>\n      <td>1</td>\n      <td>1</td>\n      <td>BRD-K70511574</td>\n      <td>ABY001_HT29_XH:BRD-K70511574:2.5:24</td>\n      <td>trt_cp</td>\n      <td>HT29</td>\n      <td>E18|E22</td>\n      <td>ABY001_HT29_XH_X1_B15</td>\n      <td>ABY001_HT29_XH_X1_B15:E18|ABY001_HT29_XH_X1_B1...</td>\n      <td>NaN</td>\n      <td>ABY</td>\n      <td>HMN-214</td>\n      <td>0</td>\n    </tr>\n    <tr>\n      <th>3</th>\n      <td>b18</td>\n      <td>10.0</td>\n      <td>10.0</td>\n      <td>uM</td>\n      <td>10 uM</td>\n      <td>3 h</td>\n      <td>3.0</td>\n      <td>h</td>\n      <td>HME1</td>\n      <td>BRD-K81418486</td>\n      <td>1</td>\n      <td>0.0000</td>\n      <td>0</td>\n      <td>0.000000</td>\n      <td>0.000000</td>\n      <td>1.00</td>\n      <td>0.000000</td>\n      <td>0.000000</td>\n      <td>0.000000</td>\n      <td>0.000000</td>\n      <td>8.13</td>\n      <td>32.299700</td>\n      <td>0</td>\n      <td>1</td>\n      <td>BRD-K81418486</td>\n      <td>LTC002_HME1_3H:BRD-K81418486:10</td>\n      <td>trt_cp</td>\n      <td>HME1</td>\n      <td>F19</td>\n      <td>LTC002_HME1_3H_X1_B18</td>\n      <td>LTC002_HME1_3H_X1_B18:F19</td>\n      <td>NaN</td>\n      <td>LTC</td>\n      <td>vorinostat</td>\n      <td>0</td>\n    </tr>\n    <tr>\n      <th>4</th>\n      <td>b15</td>\n      <td>10.0</td>\n      <td>10.0</td>\n      <td>uM</td>\n      <td>10 uM</td>\n      <td>3 h</td>\n      <td>3.0</td>\n      <td>h</td>\n      <td>H1975</td>\n      <td>BRD-A61304759</td>\n      <td>3</td>\n      <td>0.3678</td>\n      <td>263</td>\n      <td>0.314495</td>\n      <td>2.624310</td>\n      <td>0.37,0.40,0.23</td>\n      <td>13.812200</td>\n      <td>25.276200</td>\n      <td>0.217361</td>\n      <td>0.507420</td>\n      <td>32.10</td>\n      <td>93.626200</td>\n      <td>0</td>\n      <td>1</td>\n      <td>BRD-A61304759</td>\n      <td>ABY001_H1975_XH:BRD-A61304759:10:3</td>\n      <td>trt_cp</td>\n      <td>H1975</td>\n      <td>P01|P05|P09</td>\n      <td>ABY001_H1975_XH_X1_B15</td>\n      <td>ABY001_H1975_XH_X1_B15:P01|ABY001_H1975_XH_X1_...</td>\n      <td>NaN</td>\n      <td>ABY</td>\n      <td>tanespimycin</td>\n      <td>0</td>\n    </tr>\n  </tbody>\n</table>\n</div>"
     },
     "metadata": {},
     "execution_count": 7
    }
   ],
   "source": [
    "meta = pd.read_csv('../data/raw/siginfo_beta.txt', sep='\\t')\n",
    "meta = meta[lambda x: (x.pert_type.isin(['trt_cp', 'trt_sh', 'trt_xpr', 'trt_oe'])) | (x.pert_type.str.contains('ctl'))]\n",
    "\n",
    "meta.head()"
   ]
  },
  {
   "cell_type": "code",
   "execution_count": null,
   "metadata": {},
   "outputs": [],
   "source": []
  },
  {
   "cell_type": "code",
   "execution_count": 8,
   "metadata": {},
   "outputs": [
    {
     "output_type": "execute_result",
     "data": {
      "text/plain": [
       "(1133285, 35)"
      ]
     },
     "metadata": {},
     "execution_count": 8
    }
   ],
   "source": [
    "meta.shape"
   ]
  },
  {
   "cell_type": "code",
   "execution_count": 10,
   "metadata": {},
   "outputs": [
    {
     "output_type": "execute_result",
     "data": {
      "text/plain": [
       "pert_time\n",
       " 0.5           6\n",
       " 288.0         6\n",
       " 240.0         6\n",
       " 336.0         6\n",
       " 0.0          33\n",
       " 408.0        36\n",
       " 192.0        81\n",
       " 1.0         147\n",
       " 20.0        148\n",
       " 30.0        148\n",
       " 2.0         194\n",
       "-666.0       257\n",
       " 12.0        386\n",
       " 168.0       711\n",
       " 72.0       3334\n",
       " 4.0        5368\n",
       " 48.0       6915\n",
       " 3.0       12661\n",
       " 144.0     14174\n",
       " 120.0     26286\n",
       " 6.0      144892\n",
       " 96.0     326164\n",
       " 24.0     591326\n",
       "Name: cell_mfc_name, dtype: int64"
      ]
     },
     "metadata": {},
     "execution_count": 10
    }
   ],
   "source": [
    "meta.groupby('pert_time').count()['cell_mfc_name'].sort_values()"
   ]
  },
  {
   "cell_type": "code",
   "execution_count": 13,
   "metadata": {},
   "outputs": [
    {
     "output_type": "execute_result",
     "data": {
      "text/plain": [
       "pert_type\n",
       "ctl_vector.cns          2\n",
       "ctl_untrt.cns           6\n",
       "ctl_vehicle.cns        26\n",
       "trt_sh                 41\n",
       "ctl_vector            147\n",
       "ctl_untrt             205\n",
       "trt_oe                675\n",
       "ctl_vehicle         31061\n",
       "trt_cp             559163\n",
       "Name: cell_mfc_name, dtype: int64"
      ]
     },
     "metadata": {},
     "execution_count": 13
    }
   ],
   "source": [
    "meta[lambda x: x.pert_time == 24.].groupby('pert_type').count()['cell_mfc_name'].sort_values()"
   ]
  },
  {
   "cell_type": "code",
   "execution_count": null,
   "metadata": {},
   "outputs": [],
   "source": []
  }
 ]
}