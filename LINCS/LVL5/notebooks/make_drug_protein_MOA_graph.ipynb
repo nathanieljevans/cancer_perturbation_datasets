{
 "metadata": {
  "language_info": {
   "codemirror_mode": {
    "name": "ipython",
    "version": 3
   },
   "file_extension": ".py",
   "mimetype": "text/x-python",
   "name": "python",
   "nbconvert_exporter": "python",
   "pygments_lexer": "ipython3",
   "version": "3.8.5"
  },
  "orig_nbformat": 2,
  "kernelspec": {
   "name": "python385jvsc74a57bd0df76dc7eefd3519b618d4f742ac9d22003ce12e4db2fef6c1d63a51a9f543aa2",
   "display_name": "Python 3.8.5 64-bit ('gcnvae': conda)"
  }
 },
 "nbformat": 4,
 "nbformat_minor": 2,
 "cells": [
  {
   "cell_type": "code",
   "execution_count": 33,
   "metadata": {},
   "outputs": [],
   "source": [
    "%load_ext autoreload\n",
    "%autoreload 2\n",
    "\n",
    "import pandas as pd\n",
    "import numpy as np\n",
    "from matplotlib import pyplot as plt \n",
    "import networkx as nx \n",
    "import pickle as pkl\n",
    "\n",
    "import h5py\n",
    "\n",
    "import sys\n",
    "sys.path.append('../src/')\n",
    "%aimport utils"
   ]
  },
  {
   "source": [
    "# Overview \n",
    "\n",
    "(This is on the back-burner; worried it's too cyclic... data leak)\n",
    "We will use the LINCS lvl 5 data to create a drug-protein MOA graph. \n",
    "\n",
    "We will create a similarity matrix between drugs (rows) and genetic perturbations (shRNA, crispr, cDNA), where similarity is calculated by transcriptional profile distance metrics. \n",
    "\n",
    "This is a naive approach to inferring drug targets and is intended to be a stand-in for more refined methods later. "
   ],
   "cell_type": "markdown",
   "metadata": {}
  },
  {
   "cell_type": "code",
   "execution_count": 35,
   "metadata": {},
   "outputs": [
    {
     "output_type": "stream",
     "name": "stderr",
     "text": [
      "C:\\Users\\natha\\miniconda3\\envs\\gcnvae\\lib\\site-packages\\IPython\\core\\interactiveshell.py:3347: DtypeWarning: Columns (0,3,4,28,29) have mixed types.Specify dtype option on import or set low_memory=False.\n  if (await self.run_code(code, result,  async_=asy)):\n"
     ]
    },
    {
     "output_type": "execute_result",
     "data": {
      "text/plain": [
       "            ADA      CDH2      AKT3      MED6     ACOT8      ABI1    GNPDA1  \\\n",
       "53972  1.393475 -0.938388  0.033532  0.776472 -0.587603  2.055929  2.599445   \n",
       "35118  0.540987 -0.331108 -1.019858 -1.025045 -0.724501 -0.497458  2.144441   \n",
       "19148  1.040050 -1.871763 -0.345414 -2.843074  2.428420  0.618698 -2.903616   \n",
       "42730  0.610513 -1.868991 -0.478798 -1.505409 -0.710490  0.274694  9.111989   \n",
       "47917  0.330001 -0.531912  0.675849  0.897185  0.235430 -0.995797 -0.277181   \n",
       "\n",
       "         ZBTB33      CDH3      TANK  ...                              sig_id  \\\n",
       "53972  0.992974  1.755998  0.490936  ...  ABY001_A375_XH:BRD-A61304759:10:24   \n",
       "35118  0.731610  1.299909  0.294763  ...  ABY001_A375_XH:BRD-K19687926:10:24   \n",
       "19148  2.932698  1.715469  1.445842  ...  ABY001_A375_XH:BRD-K21680192:10:24   \n",
       "42730 -0.225553 -0.656211  0.142181  ...  ABY001_A375_XH:BRD-K66175015:10:24   \n",
       "47917 -0.121663  0.504133  0.854838  ...  ABY001_A375_XH:BRD-K70401845:10:24   \n",
       "\n",
       "       pert_type  cell_iname    det_wells             det_plates  \\\n",
       "53972     trt_cp        A375  H13|H17|H21  ABY001_A375_XH_X1_B15   \n",
       "35118     trt_cp        A375  A16|A20|A24  ABY001_A375_XH_X1_B15   \n",
       "19148     trt_cp        A375  G13|G17|G21  ABY001_A375_XH_X1_B15   \n",
       "42730     trt_cp        A375  A13|A17|A21  ABY001_A375_XH_X1_B15   \n",
       "47917     trt_cp        A375  A14|A18|A22  ABY001_A375_XH_X1_B15   \n",
       "\n",
       "                                              distil_ids  build_name  \\\n",
       "53972  ABY001_A375_XH_X1_B15:H13|ABY001_A375_XH_X1_B1...         NaN   \n",
       "35118  ABY001_A375_XH_X1_B15:A16|ABY001_A375_XH_X1_B1...         NaN   \n",
       "19148  ABY001_A375_XH_X1_B15:G13|ABY001_A375_XH_X1_B1...         NaN   \n",
       "42730  ABY001_A375_XH_X1_B15:A13|ABY001_A375_XH_X1_B1...         NaN   \n",
       "47917  ABY001_A375_XH_X1_B15:A14|ABY001_A375_XH_X1_B1...         NaN   \n",
       "\n",
       "       project_code     cmap_name  is_ncs_exemplar  \n",
       "53972           ABY  tanespimycin                0  \n",
       "35118           ABY     lapatinib                0  \n",
       "19148           ABY  mitoxantrone                0  \n",
       "42730           ABY      afatinib                0  \n",
       "47917           ABY     erlotinib                0  \n",
       "\n",
       "[5 rows x 9864 columns]"
      ],
      "text/html": "<div>\n<style scoped>\n    .dataframe tbody tr th:only-of-type {\n        vertical-align: middle;\n    }\n\n    .dataframe tbody tr th {\n        vertical-align: top;\n    }\n\n    .dataframe thead th {\n        text-align: right;\n    }\n</style>\n<table border=\"1\" class=\"dataframe\">\n  <thead>\n    <tr style=\"text-align: right;\">\n      <th></th>\n      <th>ADA</th>\n      <th>CDH2</th>\n      <th>AKT3</th>\n      <th>MED6</th>\n      <th>ACOT8</th>\n      <th>ABI1</th>\n      <th>GNPDA1</th>\n      <th>ZBTB33</th>\n      <th>CDH3</th>\n      <th>TANK</th>\n      <th>...</th>\n      <th>sig_id</th>\n      <th>pert_type</th>\n      <th>cell_iname</th>\n      <th>det_wells</th>\n      <th>det_plates</th>\n      <th>distil_ids</th>\n      <th>build_name</th>\n      <th>project_code</th>\n      <th>cmap_name</th>\n      <th>is_ncs_exemplar</th>\n    </tr>\n  </thead>\n  <tbody>\n    <tr>\n      <th>53972</th>\n      <td>1.393475</td>\n      <td>-0.938388</td>\n      <td>0.033532</td>\n      <td>0.776472</td>\n      <td>-0.587603</td>\n      <td>2.055929</td>\n      <td>2.599445</td>\n      <td>0.992974</td>\n      <td>1.755998</td>\n      <td>0.490936</td>\n      <td>...</td>\n      <td>ABY001_A375_XH:BRD-A61304759:10:24</td>\n      <td>trt_cp</td>\n      <td>A375</td>\n      <td>H13|H17|H21</td>\n      <td>ABY001_A375_XH_X1_B15</td>\n      <td>ABY001_A375_XH_X1_B15:H13|ABY001_A375_XH_X1_B1...</td>\n      <td>NaN</td>\n      <td>ABY</td>\n      <td>tanespimycin</td>\n      <td>0</td>\n    </tr>\n    <tr>\n      <th>35118</th>\n      <td>0.540987</td>\n      <td>-0.331108</td>\n      <td>-1.019858</td>\n      <td>-1.025045</td>\n      <td>-0.724501</td>\n      <td>-0.497458</td>\n      <td>2.144441</td>\n      <td>0.731610</td>\n      <td>1.299909</td>\n      <td>0.294763</td>\n      <td>...</td>\n      <td>ABY001_A375_XH:BRD-K19687926:10:24</td>\n      <td>trt_cp</td>\n      <td>A375</td>\n      <td>A16|A20|A24</td>\n      <td>ABY001_A375_XH_X1_B15</td>\n      <td>ABY001_A375_XH_X1_B15:A16|ABY001_A375_XH_X1_B1...</td>\n      <td>NaN</td>\n      <td>ABY</td>\n      <td>lapatinib</td>\n      <td>0</td>\n    </tr>\n    <tr>\n      <th>19148</th>\n      <td>1.040050</td>\n      <td>-1.871763</td>\n      <td>-0.345414</td>\n      <td>-2.843074</td>\n      <td>2.428420</td>\n      <td>0.618698</td>\n      <td>-2.903616</td>\n      <td>2.932698</td>\n      <td>1.715469</td>\n      <td>1.445842</td>\n      <td>...</td>\n      <td>ABY001_A375_XH:BRD-K21680192:10:24</td>\n      <td>trt_cp</td>\n      <td>A375</td>\n      <td>G13|G17|G21</td>\n      <td>ABY001_A375_XH_X1_B15</td>\n      <td>ABY001_A375_XH_X1_B15:G13|ABY001_A375_XH_X1_B1...</td>\n      <td>NaN</td>\n      <td>ABY</td>\n      <td>mitoxantrone</td>\n      <td>0</td>\n    </tr>\n    <tr>\n      <th>42730</th>\n      <td>0.610513</td>\n      <td>-1.868991</td>\n      <td>-0.478798</td>\n      <td>-1.505409</td>\n      <td>-0.710490</td>\n      <td>0.274694</td>\n      <td>9.111989</td>\n      <td>-0.225553</td>\n      <td>-0.656211</td>\n      <td>0.142181</td>\n      <td>...</td>\n      <td>ABY001_A375_XH:BRD-K66175015:10:24</td>\n      <td>trt_cp</td>\n      <td>A375</td>\n      <td>A13|A17|A21</td>\n      <td>ABY001_A375_XH_X1_B15</td>\n      <td>ABY001_A375_XH_X1_B15:A13|ABY001_A375_XH_X1_B1...</td>\n      <td>NaN</td>\n      <td>ABY</td>\n      <td>afatinib</td>\n      <td>0</td>\n    </tr>\n    <tr>\n      <th>47917</th>\n      <td>0.330001</td>\n      <td>-0.531912</td>\n      <td>0.675849</td>\n      <td>0.897185</td>\n      <td>0.235430</td>\n      <td>-0.995797</td>\n      <td>-0.277181</td>\n      <td>-0.121663</td>\n      <td>0.504133</td>\n      <td>0.854838</td>\n      <td>...</td>\n      <td>ABY001_A375_XH:BRD-K70401845:10:24</td>\n      <td>trt_cp</td>\n      <td>A375</td>\n      <td>A14|A18|A22</td>\n      <td>ABY001_A375_XH_X1_B15</td>\n      <td>ABY001_A375_XH_X1_B15:A14|ABY001_A375_XH_X1_B1...</td>\n      <td>NaN</td>\n      <td>ABY</td>\n      <td>erlotinib</td>\n      <td>0</td>\n    </tr>\n  </tbody>\n</table>\n<p>5 rows × 9864 columns</p>\n</div>"
     },
     "metadata": {},
     "execution_count": 35
    }
   ],
   "source": [
    "cmp_data, gene_sel = utils.get_lvl5_cmp_data()\n",
    "cmp_data.head()"
   ]
  },
  {
   "cell_type": "code",
   "execution_count": null,
   "metadata": {},
   "outputs": [],
   "source": []
  }
 ]
}