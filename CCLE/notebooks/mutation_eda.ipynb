{
 "metadata": {
  "language_info": {
   "codemirror_mode": {
    "name": "ipython",
    "version": 3
   },
   "file_extension": ".py",
   "mimetype": "text/x-python",
   "name": "python",
   "nbconvert_exporter": "python",
   "pygments_lexer": "ipython3",
   "version": "3.8.5"
  },
  "orig_nbformat": 2,
  "kernelspec": {
   "name": "python385jvsc74a57bd0df76dc7eefd3519b618d4f742ac9d22003ce12e4db2fef6c1d63a51a9f543aa2",
   "display_name": "Python 3.8.5 64-bit ('gcnvae': conda)"
  }
 },
 "nbformat": 4,
 "nbformat_minor": 2,
 "cells": [
  {
   "cell_type": "code",
   "execution_count": 1,
   "metadata": {},
   "outputs": [],
   "source": [
    "import pandas as pd \n",
    "import numpy as np \n",
    "from matplotlib import pyplot as plt \n",
    "import seaborn as sbn\n",
    "import pickle as pkl \n",
    "\n",
    "pd.set_option('display.max_columns', 100)"
   ]
  },
  {
   "cell_type": "code",
   "execution_count": 2,
   "metadata": {},
   "outputs": [
    {
     "output_type": "execute_result",
     "data": {
      "text/plain": [
       "    DepMap_ID cell_line_name stripped_cell_line_name  \\\n",
       "0  ACH-000001    NIH:OVCAR-3               NIHOVCAR3   \n",
       "1  ACH-000002          HL-60                    HL60   \n",
       "2  ACH-000003          CACO2                   CACO2   \n",
       "3  ACH-000004            HEL                     HEL   \n",
       "4  ACH-000005     HEL 92.1.7                 HEL9217   \n",
       "\n",
       "                                    CCLE_Name          Alias  COSMICID  \\\n",
       "0                             NIHOVCAR3_OVARY         OVCAR3  905933.0   \n",
       "1     HL60_HAEMATOPOIETIC_AND_LYMPHOID_TISSUE            NaN  905938.0   \n",
       "2                       CACO2_LARGE_INTESTINE  CACO2, CaCo-2       NaN   \n",
       "3      HEL_HAEMATOPOIETIC_AND_LYMPHOID_TISSUE            NaN  907053.0   \n",
       "4  HEL9217_HAEMATOPOIETIC_AND_LYMPHOID_TISSUE            NaN       NaN   \n",
       "\n",
       "      sex source  Achilles_n_replicates  cell_line_NNMD culture_type  \\\n",
       "0  Female   ATCC                    NaN             NaN          NaN   \n",
       "1  Female   ATCC                    NaN             NaN          NaN   \n",
       "2    Male   ATCC                    NaN             NaN          NaN   \n",
       "3    Male   DSMZ                    2.0       -3.079202   Suspension   \n",
       "4    Male   ATCC                    2.0       -2.404409   Suspension   \n",
       "\n",
       "   culture_medium  cas9_activity       RRID  WTSI_Master_Cell_ID  \\\n",
       "0             NaN            NaN  CVCL_0465               2201.0   \n",
       "1             NaN            NaN  CVCL_0002                 55.0   \n",
       "2             NaN            NaN  CVCL_0025                  NaN   \n",
       "3  RPMI + 10% FBS           52.4  CVCL_0001                783.0   \n",
       "4  RPMI + 10% FBS           86.6  CVCL_2481                  NaN   \n",
       "\n",
       "               sample_collection_site primary_or_metastasis  \\\n",
       "0                             ascites            Metastasis   \n",
       "1  haematopoietic_and_lymphoid_tissue               Primary   \n",
       "2                               Colon                   NaN   \n",
       "3  haematopoietic_and_lymphoid_tissue                   NaN   \n",
       "4                         bone_marrow                   NaN   \n",
       "\n",
       "           primary_disease                                            Subtype  \\\n",
       "0           Ovarian Cancer                  Adenocarcinoma, high grade serous   \n",
       "1                 Leukemia  Acute Myelogenous Leukemia (AML), M3 (Promyelo...   \n",
       "2  Colon/Colorectal Cancer                                     Adenocarcinoma   \n",
       "3                 Leukemia  Acute Myelogenous Leukemia (AML), M6 (Erythrol...   \n",
       "4                 Leukemia  Acute Myelogenous Leukemia (AML), M6 (Erythrol...   \n",
       "\n",
       "    age Sanger_Model_ID depmap_public_comments     lineage  \\\n",
       "0  60.0       SIDM00105                    NaN       ovary   \n",
       "1  35.0       SIDM00829                    NaN       blood   \n",
       "2   NaN       SIDM00891                    NaN  colorectal   \n",
       "3  30.0       SIDM00594                    NaN       blood   \n",
       "4  30.0       SIDM00593                    NaN       blood   \n",
       "\n",
       "             lineage_subtype lineage_sub_subtype lineage_molecular_subtype  \n",
       "0       ovary_adenocarcinoma   high_grade_serous                       NaN  \n",
       "1                        AML                  M3                       NaN  \n",
       "2  colorectal_adenocarcinoma                 NaN                       NaN  \n",
       "3                        AML                  M6                       NaN  \n",
       "4                        AML                  M6                       NaN  "
      ],
      "text/html": "<div>\n<style scoped>\n    .dataframe tbody tr th:only-of-type {\n        vertical-align: middle;\n    }\n\n    .dataframe tbody tr th {\n        vertical-align: top;\n    }\n\n    .dataframe thead th {\n        text-align: right;\n    }\n</style>\n<table border=\"1\" class=\"dataframe\">\n  <thead>\n    <tr style=\"text-align: right;\">\n      <th></th>\n      <th>DepMap_ID</th>\n      <th>cell_line_name</th>\n      <th>stripped_cell_line_name</th>\n      <th>CCLE_Name</th>\n      <th>Alias</th>\n      <th>COSMICID</th>\n      <th>sex</th>\n      <th>source</th>\n      <th>Achilles_n_replicates</th>\n      <th>cell_line_NNMD</th>\n      <th>culture_type</th>\n      <th>culture_medium</th>\n      <th>cas9_activity</th>\n      <th>RRID</th>\n      <th>WTSI_Master_Cell_ID</th>\n      <th>sample_collection_site</th>\n      <th>primary_or_metastasis</th>\n      <th>primary_disease</th>\n      <th>Subtype</th>\n      <th>age</th>\n      <th>Sanger_Model_ID</th>\n      <th>depmap_public_comments</th>\n      <th>lineage</th>\n      <th>lineage_subtype</th>\n      <th>lineage_sub_subtype</th>\n      <th>lineage_molecular_subtype</th>\n    </tr>\n  </thead>\n  <tbody>\n    <tr>\n      <th>0</th>\n      <td>ACH-000001</td>\n      <td>NIH:OVCAR-3</td>\n      <td>NIHOVCAR3</td>\n      <td>NIHOVCAR3_OVARY</td>\n      <td>OVCAR3</td>\n      <td>905933.0</td>\n      <td>Female</td>\n      <td>ATCC</td>\n      <td>NaN</td>\n      <td>NaN</td>\n      <td>NaN</td>\n      <td>NaN</td>\n      <td>NaN</td>\n      <td>CVCL_0465</td>\n      <td>2201.0</td>\n      <td>ascites</td>\n      <td>Metastasis</td>\n      <td>Ovarian Cancer</td>\n      <td>Adenocarcinoma, high grade serous</td>\n      <td>60.0</td>\n      <td>SIDM00105</td>\n      <td>NaN</td>\n      <td>ovary</td>\n      <td>ovary_adenocarcinoma</td>\n      <td>high_grade_serous</td>\n      <td>NaN</td>\n    </tr>\n    <tr>\n      <th>1</th>\n      <td>ACH-000002</td>\n      <td>HL-60</td>\n      <td>HL60</td>\n      <td>HL60_HAEMATOPOIETIC_AND_LYMPHOID_TISSUE</td>\n      <td>NaN</td>\n      <td>905938.0</td>\n      <td>Female</td>\n      <td>ATCC</td>\n      <td>NaN</td>\n      <td>NaN</td>\n      <td>NaN</td>\n      <td>NaN</td>\n      <td>NaN</td>\n      <td>CVCL_0002</td>\n      <td>55.0</td>\n      <td>haematopoietic_and_lymphoid_tissue</td>\n      <td>Primary</td>\n      <td>Leukemia</td>\n      <td>Acute Myelogenous Leukemia (AML), M3 (Promyelo...</td>\n      <td>35.0</td>\n      <td>SIDM00829</td>\n      <td>NaN</td>\n      <td>blood</td>\n      <td>AML</td>\n      <td>M3</td>\n      <td>NaN</td>\n    </tr>\n    <tr>\n      <th>2</th>\n      <td>ACH-000003</td>\n      <td>CACO2</td>\n      <td>CACO2</td>\n      <td>CACO2_LARGE_INTESTINE</td>\n      <td>CACO2, CaCo-2</td>\n      <td>NaN</td>\n      <td>Male</td>\n      <td>ATCC</td>\n      <td>NaN</td>\n      <td>NaN</td>\n      <td>NaN</td>\n      <td>NaN</td>\n      <td>NaN</td>\n      <td>CVCL_0025</td>\n      <td>NaN</td>\n      <td>Colon</td>\n      <td>NaN</td>\n      <td>Colon/Colorectal Cancer</td>\n      <td>Adenocarcinoma</td>\n      <td>NaN</td>\n      <td>SIDM00891</td>\n      <td>NaN</td>\n      <td>colorectal</td>\n      <td>colorectal_adenocarcinoma</td>\n      <td>NaN</td>\n      <td>NaN</td>\n    </tr>\n    <tr>\n      <th>3</th>\n      <td>ACH-000004</td>\n      <td>HEL</td>\n      <td>HEL</td>\n      <td>HEL_HAEMATOPOIETIC_AND_LYMPHOID_TISSUE</td>\n      <td>NaN</td>\n      <td>907053.0</td>\n      <td>Male</td>\n      <td>DSMZ</td>\n      <td>2.0</td>\n      <td>-3.079202</td>\n      <td>Suspension</td>\n      <td>RPMI + 10% FBS</td>\n      <td>52.4</td>\n      <td>CVCL_0001</td>\n      <td>783.0</td>\n      <td>haematopoietic_and_lymphoid_tissue</td>\n      <td>NaN</td>\n      <td>Leukemia</td>\n      <td>Acute Myelogenous Leukemia (AML), M6 (Erythrol...</td>\n      <td>30.0</td>\n      <td>SIDM00594</td>\n      <td>NaN</td>\n      <td>blood</td>\n      <td>AML</td>\n      <td>M6</td>\n      <td>NaN</td>\n    </tr>\n    <tr>\n      <th>4</th>\n      <td>ACH-000005</td>\n      <td>HEL 92.1.7</td>\n      <td>HEL9217</td>\n      <td>HEL9217_HAEMATOPOIETIC_AND_LYMPHOID_TISSUE</td>\n      <td>NaN</td>\n      <td>NaN</td>\n      <td>Male</td>\n      <td>ATCC</td>\n      <td>2.0</td>\n      <td>-2.404409</td>\n      <td>Suspension</td>\n      <td>RPMI + 10% FBS</td>\n      <td>86.6</td>\n      <td>CVCL_2481</td>\n      <td>NaN</td>\n      <td>bone_marrow</td>\n      <td>NaN</td>\n      <td>Leukemia</td>\n      <td>Acute Myelogenous Leukemia (AML), M6 (Erythrol...</td>\n      <td>30.0</td>\n      <td>SIDM00593</td>\n      <td>NaN</td>\n      <td>blood</td>\n      <td>AML</td>\n      <td>M6</td>\n      <td>NaN</td>\n    </tr>\n  </tbody>\n</table>\n</div>"
     },
     "metadata": {},
     "execution_count": 2
    }
   ],
   "source": [
    "info = pd.read_csv('../data/raw/ccle_info.txt')\n",
    "info.head()"
   ]
  },
  {
   "cell_type": "code",
   "execution_count": 3,
   "metadata": {},
   "outputs": [
    {
     "output_type": "stream",
     "name": "stderr",
     "text": [
      "C:\\Users\\natha\\miniconda3\\envs\\gcnvae\\lib\\site-packages\\IPython\\core\\interactiveshell.py:3155: DtypeWarning: Columns (3,19,22,27,28,29,30,31) have mixed types.Specify dtype option on import or set low_memory=False.\n  has_raised = await self.run_ast_nodes(code_ast.body, cell_name,\n"
     ]
    },
    {
     "output_type": "execute_result",
     "data": {
      "text/plain": [
       "  Hugo_Symbol  Entrez_Gene_Id  NCBI_Build Chromosome  Start_position  \\\n",
       "0      VPS13D           55187          37          1        12359347   \n",
       "1     AADACL4          343066          37          1        12726308   \n",
       "2      IFNLR1          163702          37          1        24484172   \n",
       "3      TMEM57           55219          37          1        25785018   \n",
       "4     ZSCAN20            7579          37          1        33954141   \n",
       "\n",
       "   End_position Strand Variant_Classification Variant_Type Reference_Allele  \\\n",
       "0      12359347      +      Nonsense_Mutation          SNP                C   \n",
       "1      12726322      +           In_Frame_Del          DEL  CTGGCGTGACGCCAT   \n",
       "2      24484172      +                 Silent          SNP                G   \n",
       "3      25785019      +        Frame_Shift_Ins          INS                -   \n",
       "4      33954141      +      Missense_Mutation          SNP                T   \n",
       "\n",
       "  Tumor_Seq_Allele1                                        dbSNP_RS  \\\n",
       "0                 A                                             NaN   \n",
       "1                 -  rs58218425|rs139261871|rs369427733|rs560787141   \n",
       "2                 A                                             NaN   \n",
       "3                 A                                             NaN   \n",
       "4                 G                                             NaN   \n",
       "\n",
       "  dbSNP_Val_Status                               Genome_Change  \\\n",
       "0              NaN                          g.chr1:12359347C>A   \n",
       "1      byFrequency  g.chr1:12726308_12726322delCTGGCGTGACGCCAT   \n",
       "2              NaN                          g.chr1:24484172G>A   \n",
       "3              NaN                g.chr1:25785018_25785019insA   \n",
       "4              NaN                          g.chr1:33954141T>G   \n",
       "\n",
       "  Annotation_Transcript   DepMap_ID                  cDNA_Change  \\\n",
       "0     ENST00000358136.3  ACH-000001                    c.6122C>A   \n",
       "1     ENST00000376221.1  ACH-000001  c.786_800delCTGGCGTGACGCCAT   \n",
       "2     ENST00000327535.1  ACH-000001                    c.1011C>T   \n",
       "3     ENST00000374343.4  ACH-000001                c.789_790insA   \n",
       "4     ENST00000361328.3  ACH-000001                     c.494T>G   \n",
       "\n",
       "                        Codon_Change Protein_Change isDeleterious  \\\n",
       "0               c.(6121-6123)tCa>tAa       p.S2041*          True   \n",
       "1  c.(784-801)tcctggcgtgacgccatc>tcc  p.WRDAI263del         False   \n",
       "2               c.(1009-1011)ggC>ggT        p.G337G         False   \n",
       "3                   c.(790-792)aaafs       p.K264fs          True   \n",
       "4                 c.(493-495)gTg>gGg        p.V165G         False   \n",
       "\n",
       "   isTCGAhotspot  TCGAhsCnt isCOSMIChotspot  COSMIChsCnt  ExAC_AF  \\\n",
       "0          False        NaN           False          0.0      NaN   \n",
       "1          False        NaN           False          3.0      NaN   \n",
       "2          False        NaN           False          0.0      NaN   \n",
       "3          False        0.0           False          0.0      NaN   \n",
       "4          False        NaN           False          0.0      NaN   \n",
       "\n",
       "     Variant_annotation CGA_WES_AC HC_AC RD_AC RNAseq_AC SangerWES_AC WGS_AC  \n",
       "0              damaging     34:213   NaN   NaN       NaN       34:221    NaN  \n",
       "1  other non-conserving     57:141   NaN   NaN       NaN          9:0  28:32  \n",
       "2                silent      118:0   NaN   NaN      10:0        118:0   18:0  \n",
       "3              damaging        NaN   NaN   NaN      6:28          NaN    NaN  \n",
       "4  other non-conserving      28:62   NaN   NaN       NaN        27:61    NaN  "
      ],
      "text/html": "<div>\n<style scoped>\n    .dataframe tbody tr th:only-of-type {\n        vertical-align: middle;\n    }\n\n    .dataframe tbody tr th {\n        vertical-align: top;\n    }\n\n    .dataframe thead th {\n        text-align: right;\n    }\n</style>\n<table border=\"1\" class=\"dataframe\">\n  <thead>\n    <tr style=\"text-align: right;\">\n      <th></th>\n      <th>Hugo_Symbol</th>\n      <th>Entrez_Gene_Id</th>\n      <th>NCBI_Build</th>\n      <th>Chromosome</th>\n      <th>Start_position</th>\n      <th>End_position</th>\n      <th>Strand</th>\n      <th>Variant_Classification</th>\n      <th>Variant_Type</th>\n      <th>Reference_Allele</th>\n      <th>Tumor_Seq_Allele1</th>\n      <th>dbSNP_RS</th>\n      <th>dbSNP_Val_Status</th>\n      <th>Genome_Change</th>\n      <th>Annotation_Transcript</th>\n      <th>DepMap_ID</th>\n      <th>cDNA_Change</th>\n      <th>Codon_Change</th>\n      <th>Protein_Change</th>\n      <th>isDeleterious</th>\n      <th>isTCGAhotspot</th>\n      <th>TCGAhsCnt</th>\n      <th>isCOSMIChotspot</th>\n      <th>COSMIChsCnt</th>\n      <th>ExAC_AF</th>\n      <th>Variant_annotation</th>\n      <th>CGA_WES_AC</th>\n      <th>HC_AC</th>\n      <th>RD_AC</th>\n      <th>RNAseq_AC</th>\n      <th>SangerWES_AC</th>\n      <th>WGS_AC</th>\n    </tr>\n  </thead>\n  <tbody>\n    <tr>\n      <th>0</th>\n      <td>VPS13D</td>\n      <td>55187</td>\n      <td>37</td>\n      <td>1</td>\n      <td>12359347</td>\n      <td>12359347</td>\n      <td>+</td>\n      <td>Nonsense_Mutation</td>\n      <td>SNP</td>\n      <td>C</td>\n      <td>A</td>\n      <td>NaN</td>\n      <td>NaN</td>\n      <td>g.chr1:12359347C&gt;A</td>\n      <td>ENST00000358136.3</td>\n      <td>ACH-000001</td>\n      <td>c.6122C&gt;A</td>\n      <td>c.(6121-6123)tCa&gt;tAa</td>\n      <td>p.S2041*</td>\n      <td>True</td>\n      <td>False</td>\n      <td>NaN</td>\n      <td>False</td>\n      <td>0.0</td>\n      <td>NaN</td>\n      <td>damaging</td>\n      <td>34:213</td>\n      <td>NaN</td>\n      <td>NaN</td>\n      <td>NaN</td>\n      <td>34:221</td>\n      <td>NaN</td>\n    </tr>\n    <tr>\n      <th>1</th>\n      <td>AADACL4</td>\n      <td>343066</td>\n      <td>37</td>\n      <td>1</td>\n      <td>12726308</td>\n      <td>12726322</td>\n      <td>+</td>\n      <td>In_Frame_Del</td>\n      <td>DEL</td>\n      <td>CTGGCGTGACGCCAT</td>\n      <td>-</td>\n      <td>rs58218425|rs139261871|rs369427733|rs560787141</td>\n      <td>byFrequency</td>\n      <td>g.chr1:12726308_12726322delCTGGCGTGACGCCAT</td>\n      <td>ENST00000376221.1</td>\n      <td>ACH-000001</td>\n      <td>c.786_800delCTGGCGTGACGCCAT</td>\n      <td>c.(784-801)tcctggcgtgacgccatc&gt;tcc</td>\n      <td>p.WRDAI263del</td>\n      <td>False</td>\n      <td>False</td>\n      <td>NaN</td>\n      <td>False</td>\n      <td>3.0</td>\n      <td>NaN</td>\n      <td>other non-conserving</td>\n      <td>57:141</td>\n      <td>NaN</td>\n      <td>NaN</td>\n      <td>NaN</td>\n      <td>9:0</td>\n      <td>28:32</td>\n    </tr>\n    <tr>\n      <th>2</th>\n      <td>IFNLR1</td>\n      <td>163702</td>\n      <td>37</td>\n      <td>1</td>\n      <td>24484172</td>\n      <td>24484172</td>\n      <td>+</td>\n      <td>Silent</td>\n      <td>SNP</td>\n      <td>G</td>\n      <td>A</td>\n      <td>NaN</td>\n      <td>NaN</td>\n      <td>g.chr1:24484172G&gt;A</td>\n      <td>ENST00000327535.1</td>\n      <td>ACH-000001</td>\n      <td>c.1011C&gt;T</td>\n      <td>c.(1009-1011)ggC&gt;ggT</td>\n      <td>p.G337G</td>\n      <td>False</td>\n      <td>False</td>\n      <td>NaN</td>\n      <td>False</td>\n      <td>0.0</td>\n      <td>NaN</td>\n      <td>silent</td>\n      <td>118:0</td>\n      <td>NaN</td>\n      <td>NaN</td>\n      <td>10:0</td>\n      <td>118:0</td>\n      <td>18:0</td>\n    </tr>\n    <tr>\n      <th>3</th>\n      <td>TMEM57</td>\n      <td>55219</td>\n      <td>37</td>\n      <td>1</td>\n      <td>25785018</td>\n      <td>25785019</td>\n      <td>+</td>\n      <td>Frame_Shift_Ins</td>\n      <td>INS</td>\n      <td>-</td>\n      <td>A</td>\n      <td>NaN</td>\n      <td>NaN</td>\n      <td>g.chr1:25785018_25785019insA</td>\n      <td>ENST00000374343.4</td>\n      <td>ACH-000001</td>\n      <td>c.789_790insA</td>\n      <td>c.(790-792)aaafs</td>\n      <td>p.K264fs</td>\n      <td>True</td>\n      <td>False</td>\n      <td>0.0</td>\n      <td>False</td>\n      <td>0.0</td>\n      <td>NaN</td>\n      <td>damaging</td>\n      <td>NaN</td>\n      <td>NaN</td>\n      <td>NaN</td>\n      <td>6:28</td>\n      <td>NaN</td>\n      <td>NaN</td>\n    </tr>\n    <tr>\n      <th>4</th>\n      <td>ZSCAN20</td>\n      <td>7579</td>\n      <td>37</td>\n      <td>1</td>\n      <td>33954141</td>\n      <td>33954141</td>\n      <td>+</td>\n      <td>Missense_Mutation</td>\n      <td>SNP</td>\n      <td>T</td>\n      <td>G</td>\n      <td>NaN</td>\n      <td>NaN</td>\n      <td>g.chr1:33954141T&gt;G</td>\n      <td>ENST00000361328.3</td>\n      <td>ACH-000001</td>\n      <td>c.494T&gt;G</td>\n      <td>c.(493-495)gTg&gt;gGg</td>\n      <td>p.V165G</td>\n      <td>False</td>\n      <td>False</td>\n      <td>NaN</td>\n      <td>False</td>\n      <td>0.0</td>\n      <td>NaN</td>\n      <td>other non-conserving</td>\n      <td>28:62</td>\n      <td>NaN</td>\n      <td>NaN</td>\n      <td>NaN</td>\n      <td>27:61</td>\n      <td>NaN</td>\n    </tr>\n  </tbody>\n</table>\n</div>"
     },
     "metadata": {},
     "execution_count": 3
    }
   ],
   "source": [
    "mutation = pd.read_csv('../data/raw/ccle_mutation.txt')\n",
    "mutation.head()"
   ]
  },
  {
   "cell_type": "code",
   "execution_count": 7,
   "metadata": {},
   "outputs": [
    {
     "output_type": "execute_result",
     "data": {
      "text/plain": [
       "Variant_Classification\n",
       "5'UTR                           32\n",
       "3'UTR                           56\n",
       "5'Flank                         73\n",
       "IGR                             85\n",
       "Start_Codon_Ins                 94\n",
       "Stop_Codon_Ins                 137\n",
       "Start_Codon_Del                141\n",
       "Stop_Codon_Del                 184\n",
       "Intron                         342\n",
       "Nonstop_Mutation               922\n",
       "Start_Codon_SNP               1354\n",
       "In_Frame_Ins                  3341\n",
       "De_novo_Start_OutOfFrame      4295\n",
       "In_Frame_Del                  7939\n",
       "Frame_Shift_Ins              25411\n",
       "Nonsense_Mutation            40217\n",
       "Frame_Shift_Del              42583\n",
       "Splice_Site                  43310\n",
       "Silent                      396199\n",
       "Missense_Mutation           703284\n",
       "Name: Hugo_Symbol, dtype: int64"
      ]
     },
     "metadata": {},
     "execution_count": 7
    }
   ],
   "source": [
    "# how many variant classifications? \n",
    "mutation.groupby('Variant_Classification').count()['Hugo_Symbol'].sort_values()"
   ]
  },
  {
   "cell_type": "code",
   "execution_count": 8,
   "metadata": {},
   "outputs": [
    {
     "output_type": "execute_result",
     "data": {
      "text/plain": [
       "Variant_Type\n",
       "TNP          2\n",
       "DNP        628\n",
       "INS      30695\n",
       "DEL      53884\n",
       "SNP    1184790\n",
       "Name: Hugo_Symbol, dtype: int64"
      ]
     },
     "metadata": {},
     "execution_count": 8
    }
   ],
   "source": [
    "mutation.groupby('Variant_Type').count()['Hugo_Symbol'].sort_values()"
   ]
  },
  {
   "cell_type": "code",
   "execution_count": 10,
   "metadata": {},
   "outputs": [
    {
     "output_type": "execute_result",
     "data": {
      "text/plain": [
       "isDeleterious\n",
       "False    1112163\n",
       "True      157835\n",
       "Name: Hugo_Symbol, dtype: int64"
      ]
     },
     "metadata": {},
     "execution_count": 10
    }
   ],
   "source": [
    "# deleterious proportions \n",
    "mutation.groupby('isDeleterious').count()['Hugo_Symbol']"
   ]
  },
  {
   "cell_type": "code",
   "execution_count": 12,
   "metadata": {},
   "outputs": [
    {
     "output_type": "execute_result",
     "data": {
      "text/plain": [
       "Variant_annotation\n",
       "other conserving           588\n",
       "damaging                157352\n",
       "silent                  396066\n",
       "other non-conserving    715516\n",
       "Name: Hugo_Symbol, dtype: int64"
      ]
     },
     "metadata": {},
     "execution_count": 12
    }
   ],
   "source": [
    "mutation.groupby('Variant_annotation').count()['Hugo_Symbol'].sort_values()"
   ]
  },
  {
   "cell_type": "code",
   "execution_count": null,
   "metadata": {},
   "outputs": [],
   "source": []
  },
  {
   "cell_type": "code",
   "execution_count": null,
   "metadata": {},
   "outputs": [],
   "source": []
  }
 ]
}