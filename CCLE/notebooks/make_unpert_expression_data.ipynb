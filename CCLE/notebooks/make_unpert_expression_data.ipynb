{
 "metadata": {
  "language_info": {
   "codemirror_mode": {
    "name": "ipython",
    "version": 3
   },
   "file_extension": ".py",
   "mimetype": "text/x-python",
   "name": "python",
   "nbconvert_exporter": "python",
   "pygments_lexer": "ipython3",
   "version": "3.8.5"
  },
  "orig_nbformat": 2,
  "kernelspec": {
   "name": "python385jvsc74a57bd0df76dc7eefd3519b618d4f742ac9d22003ce12e4db2fef6c1d63a51a9f543aa2",
   "display_name": "Python 3.8.5 64-bit ('gcnvae': conda)"
  }
 },
 "nbformat": 4,
 "nbformat_minor": 2,
 "cells": [
  {
   "cell_type": "code",
   "execution_count": 1,
   "metadata": {},
   "outputs": [],
   "source": [
    "import pandas as pd \n",
    "import numpy as np \n",
    "from matplotlib import pyplot as plt \n",
    "import seaborn as sbn\n",
    "import pickle as pkl \n",
    "import datetime as dt\n",
    "import random\n",
    "\n",
    "pd.set_option('display.max_columns', 100)\n",
    "\n",
    "# reproducibility\n",
    "random.seed(0)\n",
    "np.random.seed(0)"
   ]
  },
  {
   "cell_type": "code",
   "execution_count": 2,
   "metadata": {},
   "outputs": [
    {
     "output_type": "execute_result",
     "data": {
      "text/plain": [
       "    DepMap_ID cell_line_name stripped_cell_line_name  \\\n",
       "0  ACH-000001    NIH:OVCAR-3               NIHOVCAR3   \n",
       "1  ACH-000002          HL-60                    HL60   \n",
       "2  ACH-000003          CACO2                   CACO2   \n",
       "3  ACH-000004            HEL                     HEL   \n",
       "4  ACH-000005     HEL 92.1.7                 HEL9217   \n",
       "\n",
       "                                    CCLE_Name          Alias  COSMICID  \\\n",
       "0                             NIHOVCAR3_OVARY         OVCAR3  905933.0   \n",
       "1     HL60_HAEMATOPOIETIC_AND_LYMPHOID_TISSUE            NaN  905938.0   \n",
       "2                       CACO2_LARGE_INTESTINE  CACO2, CaCo-2       NaN   \n",
       "3      HEL_HAEMATOPOIETIC_AND_LYMPHOID_TISSUE            NaN  907053.0   \n",
       "4  HEL9217_HAEMATOPOIETIC_AND_LYMPHOID_TISSUE            NaN       NaN   \n",
       "\n",
       "      sex source  Achilles_n_replicates  cell_line_NNMD culture_type  \\\n",
       "0  Female   ATCC                    NaN             NaN          NaN   \n",
       "1  Female   ATCC                    NaN             NaN          NaN   \n",
       "2    Male   ATCC                    NaN             NaN          NaN   \n",
       "3    Male   DSMZ                    2.0       -3.079202   Suspension   \n",
       "4    Male   ATCC                    2.0       -2.404409   Suspension   \n",
       "\n",
       "   culture_medium  cas9_activity       RRID  WTSI_Master_Cell_ID  \\\n",
       "0             NaN            NaN  CVCL_0465               2201.0   \n",
       "1             NaN            NaN  CVCL_0002                 55.0   \n",
       "2             NaN            NaN  CVCL_0025                  NaN   \n",
       "3  RPMI + 10% FBS           52.4  CVCL_0001                783.0   \n",
       "4  RPMI + 10% FBS           86.6  CVCL_2481                  NaN   \n",
       "\n",
       "               sample_collection_site primary_or_metastasis  \\\n",
       "0                             ascites            Metastasis   \n",
       "1  haematopoietic_and_lymphoid_tissue               Primary   \n",
       "2                               Colon                   NaN   \n",
       "3  haematopoietic_and_lymphoid_tissue                   NaN   \n",
       "4                         bone_marrow                   NaN   \n",
       "\n",
       "           primary_disease                                            Subtype  \\\n",
       "0           Ovarian Cancer                  Adenocarcinoma, high grade serous   \n",
       "1                 Leukemia  Acute Myelogenous Leukemia (AML), M3 (Promyelo...   \n",
       "2  Colon/Colorectal Cancer                                     Adenocarcinoma   \n",
       "3                 Leukemia  Acute Myelogenous Leukemia (AML), M6 (Erythrol...   \n",
       "4                 Leukemia  Acute Myelogenous Leukemia (AML), M6 (Erythrol...   \n",
       "\n",
       "    age Sanger_Model_ID depmap_public_comments     lineage  \\\n",
       "0  60.0       SIDM00105                    NaN       ovary   \n",
       "1  35.0       SIDM00829                    NaN       blood   \n",
       "2   NaN       SIDM00891                    NaN  colorectal   \n",
       "3  30.0       SIDM00594                    NaN       blood   \n",
       "4  30.0       SIDM00593                    NaN       blood   \n",
       "\n",
       "             lineage_subtype lineage_sub_subtype lineage_molecular_subtype  \n",
       "0       ovary_adenocarcinoma   high_grade_serous                       NaN  \n",
       "1                        AML                  M3                       NaN  \n",
       "2  colorectal_adenocarcinoma                 NaN                       NaN  \n",
       "3                        AML                  M6                       NaN  \n",
       "4                        AML                  M6                       NaN  "
      ],
      "text/html": "<div>\n<style scoped>\n    .dataframe tbody tr th:only-of-type {\n        vertical-align: middle;\n    }\n\n    .dataframe tbody tr th {\n        vertical-align: top;\n    }\n\n    .dataframe thead th {\n        text-align: right;\n    }\n</style>\n<table border=\"1\" class=\"dataframe\">\n  <thead>\n    <tr style=\"text-align: right;\">\n      <th></th>\n      <th>DepMap_ID</th>\n      <th>cell_line_name</th>\n      <th>stripped_cell_line_name</th>\n      <th>CCLE_Name</th>\n      <th>Alias</th>\n      <th>COSMICID</th>\n      <th>sex</th>\n      <th>source</th>\n      <th>Achilles_n_replicates</th>\n      <th>cell_line_NNMD</th>\n      <th>culture_type</th>\n      <th>culture_medium</th>\n      <th>cas9_activity</th>\n      <th>RRID</th>\n      <th>WTSI_Master_Cell_ID</th>\n      <th>sample_collection_site</th>\n      <th>primary_or_metastasis</th>\n      <th>primary_disease</th>\n      <th>Subtype</th>\n      <th>age</th>\n      <th>Sanger_Model_ID</th>\n      <th>depmap_public_comments</th>\n      <th>lineage</th>\n      <th>lineage_subtype</th>\n      <th>lineage_sub_subtype</th>\n      <th>lineage_molecular_subtype</th>\n    </tr>\n  </thead>\n  <tbody>\n    <tr>\n      <th>0</th>\n      <td>ACH-000001</td>\n      <td>NIH:OVCAR-3</td>\n      <td>NIHOVCAR3</td>\n      <td>NIHOVCAR3_OVARY</td>\n      <td>OVCAR3</td>\n      <td>905933.0</td>\n      <td>Female</td>\n      <td>ATCC</td>\n      <td>NaN</td>\n      <td>NaN</td>\n      <td>NaN</td>\n      <td>NaN</td>\n      <td>NaN</td>\n      <td>CVCL_0465</td>\n      <td>2201.0</td>\n      <td>ascites</td>\n      <td>Metastasis</td>\n      <td>Ovarian Cancer</td>\n      <td>Adenocarcinoma, high grade serous</td>\n      <td>60.0</td>\n      <td>SIDM00105</td>\n      <td>NaN</td>\n      <td>ovary</td>\n      <td>ovary_adenocarcinoma</td>\n      <td>high_grade_serous</td>\n      <td>NaN</td>\n    </tr>\n    <tr>\n      <th>1</th>\n      <td>ACH-000002</td>\n      <td>HL-60</td>\n      <td>HL60</td>\n      <td>HL60_HAEMATOPOIETIC_AND_LYMPHOID_TISSUE</td>\n      <td>NaN</td>\n      <td>905938.0</td>\n      <td>Female</td>\n      <td>ATCC</td>\n      <td>NaN</td>\n      <td>NaN</td>\n      <td>NaN</td>\n      <td>NaN</td>\n      <td>NaN</td>\n      <td>CVCL_0002</td>\n      <td>55.0</td>\n      <td>haematopoietic_and_lymphoid_tissue</td>\n      <td>Primary</td>\n      <td>Leukemia</td>\n      <td>Acute Myelogenous Leukemia (AML), M3 (Promyelo...</td>\n      <td>35.0</td>\n      <td>SIDM00829</td>\n      <td>NaN</td>\n      <td>blood</td>\n      <td>AML</td>\n      <td>M3</td>\n      <td>NaN</td>\n    </tr>\n    <tr>\n      <th>2</th>\n      <td>ACH-000003</td>\n      <td>CACO2</td>\n      <td>CACO2</td>\n      <td>CACO2_LARGE_INTESTINE</td>\n      <td>CACO2, CaCo-2</td>\n      <td>NaN</td>\n      <td>Male</td>\n      <td>ATCC</td>\n      <td>NaN</td>\n      <td>NaN</td>\n      <td>NaN</td>\n      <td>NaN</td>\n      <td>NaN</td>\n      <td>CVCL_0025</td>\n      <td>NaN</td>\n      <td>Colon</td>\n      <td>NaN</td>\n      <td>Colon/Colorectal Cancer</td>\n      <td>Adenocarcinoma</td>\n      <td>NaN</td>\n      <td>SIDM00891</td>\n      <td>NaN</td>\n      <td>colorectal</td>\n      <td>colorectal_adenocarcinoma</td>\n      <td>NaN</td>\n      <td>NaN</td>\n    </tr>\n    <tr>\n      <th>3</th>\n      <td>ACH-000004</td>\n      <td>HEL</td>\n      <td>HEL</td>\n      <td>HEL_HAEMATOPOIETIC_AND_LYMPHOID_TISSUE</td>\n      <td>NaN</td>\n      <td>907053.0</td>\n      <td>Male</td>\n      <td>DSMZ</td>\n      <td>2.0</td>\n      <td>-3.079202</td>\n      <td>Suspension</td>\n      <td>RPMI + 10% FBS</td>\n      <td>52.4</td>\n      <td>CVCL_0001</td>\n      <td>783.0</td>\n      <td>haematopoietic_and_lymphoid_tissue</td>\n      <td>NaN</td>\n      <td>Leukemia</td>\n      <td>Acute Myelogenous Leukemia (AML), M6 (Erythrol...</td>\n      <td>30.0</td>\n      <td>SIDM00594</td>\n      <td>NaN</td>\n      <td>blood</td>\n      <td>AML</td>\n      <td>M6</td>\n      <td>NaN</td>\n    </tr>\n    <tr>\n      <th>4</th>\n      <td>ACH-000005</td>\n      <td>HEL 92.1.7</td>\n      <td>HEL9217</td>\n      <td>HEL9217_HAEMATOPOIETIC_AND_LYMPHOID_TISSUE</td>\n      <td>NaN</td>\n      <td>NaN</td>\n      <td>Male</td>\n      <td>ATCC</td>\n      <td>2.0</td>\n      <td>-2.404409</td>\n      <td>Suspension</td>\n      <td>RPMI + 10% FBS</td>\n      <td>86.6</td>\n      <td>CVCL_2481</td>\n      <td>NaN</td>\n      <td>bone_marrow</td>\n      <td>NaN</td>\n      <td>Leukemia</td>\n      <td>Acute Myelogenous Leukemia (AML), M6 (Erythrol...</td>\n      <td>30.0</td>\n      <td>SIDM00593</td>\n      <td>NaN</td>\n      <td>blood</td>\n      <td>AML</td>\n      <td>M6</td>\n      <td>NaN</td>\n    </tr>\n  </tbody>\n</table>\n</div>"
     },
     "metadata": {},
     "execution_count": 2
    }
   ],
   "source": [
    "info = pd.read_csv('../data/raw/ccle_info.txt')\n",
    "info.head()"
   ]
  },
  {
   "cell_type": "code",
   "execution_count": 3,
   "metadata": {},
   "outputs": [
    {
     "output_type": "execute_result",
     "data": {
      "text/plain": [
       "  cell_iname cellosaurus_id donor_age  donor_age_death  \\\n",
       "0       1HAE            NaN       NaN              NaN   \n",
       "1       AALE            NaN       NaN              NaN   \n",
       "2  AG06263_2            NaN       NaN              NaN   \n",
       "3  AG06840_A            NaN       NaN              NaN   \n",
       "4  AG078N1_1            NaN       NaN              NaN   \n",
       "\n",
       "   donor_disease_age_onset doubling_time growth_medium provider_catalog_id  \\\n",
       "0                      NaN           NaN           NaN                 NaN   \n",
       "1                      NaN           NaN           NaN                 NaN   \n",
       "2                      NaN           NaN           NaN                 NaN   \n",
       "3                      NaN           NaN           NaN                 NaN   \n",
       "4                      NaN           NaN           NaN                 NaN   \n",
       "\n",
       "  feature_id cell_type donor_ethnicity donor_sex donor_tumor_phase  \\\n",
       "0        NaN    normal         Unknown   Unknown           Unknown   \n",
       "1        NaN    normal         Unknown   Unknown           Unknown   \n",
       "2        NaN     tumor         Unknown   Unknown           Unknown   \n",
       "3        NaN     tumor         Unknown   Unknown           Unknown   \n",
       "4        NaN     tumor         Unknown   Unknown           Unknown   \n",
       "\n",
       "  cell_lineage primary_disease                   subtype provider_name  \\\n",
       "0      unknown         unknown  normal fibroblast sample           NaN   \n",
       "1      unknown         unknown  normal epithelium sample           NaN   \n",
       "2      unknown         unknown                   unknown           NaN   \n",
       "3      unknown         unknown                   unknown           NaN   \n",
       "4      unknown         unknown                   unknown           NaN   \n",
       "\n",
       "  growth_pattern ccle_name cell_alias  \n",
       "0        unknown       NaN        NaN  \n",
       "1        unknown       NaN        NaN  \n",
       "2        unknown       NaN        NaN  \n",
       "3        unknown       NaN        NaN  \n",
       "4        unknown       NaN        NaN  "
      ],
      "text/html": "<div>\n<style scoped>\n    .dataframe tbody tr th:only-of-type {\n        vertical-align: middle;\n    }\n\n    .dataframe tbody tr th {\n        vertical-align: top;\n    }\n\n    .dataframe thead th {\n        text-align: right;\n    }\n</style>\n<table border=\"1\" class=\"dataframe\">\n  <thead>\n    <tr style=\"text-align: right;\">\n      <th></th>\n      <th>cell_iname</th>\n      <th>cellosaurus_id</th>\n      <th>donor_age</th>\n      <th>donor_age_death</th>\n      <th>donor_disease_age_onset</th>\n      <th>doubling_time</th>\n      <th>growth_medium</th>\n      <th>provider_catalog_id</th>\n      <th>feature_id</th>\n      <th>cell_type</th>\n      <th>donor_ethnicity</th>\n      <th>donor_sex</th>\n      <th>donor_tumor_phase</th>\n      <th>cell_lineage</th>\n      <th>primary_disease</th>\n      <th>subtype</th>\n      <th>provider_name</th>\n      <th>growth_pattern</th>\n      <th>ccle_name</th>\n      <th>cell_alias</th>\n    </tr>\n  </thead>\n  <tbody>\n    <tr>\n      <th>0</th>\n      <td>1HAE</td>\n      <td>NaN</td>\n      <td>NaN</td>\n      <td>NaN</td>\n      <td>NaN</td>\n      <td>NaN</td>\n      <td>NaN</td>\n      <td>NaN</td>\n      <td>NaN</td>\n      <td>normal</td>\n      <td>Unknown</td>\n      <td>Unknown</td>\n      <td>Unknown</td>\n      <td>unknown</td>\n      <td>unknown</td>\n      <td>normal fibroblast sample</td>\n      <td>NaN</td>\n      <td>unknown</td>\n      <td>NaN</td>\n      <td>NaN</td>\n    </tr>\n    <tr>\n      <th>1</th>\n      <td>AALE</td>\n      <td>NaN</td>\n      <td>NaN</td>\n      <td>NaN</td>\n      <td>NaN</td>\n      <td>NaN</td>\n      <td>NaN</td>\n      <td>NaN</td>\n      <td>NaN</td>\n      <td>normal</td>\n      <td>Unknown</td>\n      <td>Unknown</td>\n      <td>Unknown</td>\n      <td>unknown</td>\n      <td>unknown</td>\n      <td>normal epithelium sample</td>\n      <td>NaN</td>\n      <td>unknown</td>\n      <td>NaN</td>\n      <td>NaN</td>\n    </tr>\n    <tr>\n      <th>2</th>\n      <td>AG06263_2</td>\n      <td>NaN</td>\n      <td>NaN</td>\n      <td>NaN</td>\n      <td>NaN</td>\n      <td>NaN</td>\n      <td>NaN</td>\n      <td>NaN</td>\n      <td>NaN</td>\n      <td>tumor</td>\n      <td>Unknown</td>\n      <td>Unknown</td>\n      <td>Unknown</td>\n      <td>unknown</td>\n      <td>unknown</td>\n      <td>unknown</td>\n      <td>NaN</td>\n      <td>unknown</td>\n      <td>NaN</td>\n      <td>NaN</td>\n    </tr>\n    <tr>\n      <th>3</th>\n      <td>AG06840_A</td>\n      <td>NaN</td>\n      <td>NaN</td>\n      <td>NaN</td>\n      <td>NaN</td>\n      <td>NaN</td>\n      <td>NaN</td>\n      <td>NaN</td>\n      <td>NaN</td>\n      <td>tumor</td>\n      <td>Unknown</td>\n      <td>Unknown</td>\n      <td>Unknown</td>\n      <td>unknown</td>\n      <td>unknown</td>\n      <td>unknown</td>\n      <td>NaN</td>\n      <td>unknown</td>\n      <td>NaN</td>\n      <td>NaN</td>\n    </tr>\n    <tr>\n      <th>4</th>\n      <td>AG078N1_1</td>\n      <td>NaN</td>\n      <td>NaN</td>\n      <td>NaN</td>\n      <td>NaN</td>\n      <td>NaN</td>\n      <td>NaN</td>\n      <td>NaN</td>\n      <td>NaN</td>\n      <td>tumor</td>\n      <td>Unknown</td>\n      <td>Unknown</td>\n      <td>Unknown</td>\n      <td>unknown</td>\n      <td>unknown</td>\n      <td>unknown</td>\n      <td>NaN</td>\n      <td>unknown</td>\n      <td>NaN</td>\n      <td>NaN</td>\n    </tr>\n  </tbody>\n</table>\n</div>"
     },
     "metadata": {},
     "execution_count": 3
    }
   ],
   "source": [
    "lincs_cells = pd.read_csv('../../LINCS/LVL3/data/raw/cellinfo_beta.txt', sep='\\t')\n",
    "lincs_cells.head()"
   ]
  },
  {
   "cell_type": "code",
   "execution_count": 4,
   "metadata": {},
   "outputs": [],
   "source": [
    "with open('../../PPI_graph.pkl', 'rb') as f: \n",
    "    PPI_graph = pkl.load(f)"
   ]
  },
  {
   "cell_type": "code",
   "execution_count": 5,
   "metadata": {},
   "outputs": [
    {
     "output_type": "execute_result",
     "data": {
      "text/plain": [
       "    DepMap_ID    TSPAN6      TNMD      DPM1     SCYL3  C1ORF112       FGR  \\\n",
       "0  ACH-001113  4.990501  0.000000  7.273702  2.765535  4.480265  0.028569   \n",
       "1  ACH-001289  5.209843  0.545968  7.070604  2.538538  3.510962  0.000000   \n",
       "2  ACH-001339  3.779260  0.000000  7.346425  2.339137  4.254745  0.056584   \n",
       "3  ACH-001538  5.726831  0.000000  7.086189  2.543496  3.102658  0.000000   \n",
       "4  ACH-000242  7.465648  0.000000  6.435462  2.414136  3.864929  0.831877   \n",
       "\n",
       "        CFH     FUCA2      GCLC      NFYA     STPG1    NIPAL3     LAS1L  \\\n",
       "0  1.269033  3.058316  6.483171  5.053980  3.456806  4.415488  4.766595   \n",
       "1  0.176323  3.836934  4.200850  3.832890  1.910733  3.374344  4.861955   \n",
       "2  1.339137  6.724241  3.671293  3.775051  2.895303  3.613532  4.300856   \n",
       "3  5.914565  6.099716  4.475733  4.294253  2.472488  4.573496  5.314697   \n",
       "4  7.198003  5.452530  7.112492  4.710944  1.914565  2.746313  5.010780   \n",
       "\n",
       "      ENPP4    SEMA3F      CFTR    ANKIB1   CYP51A1     KRIT1     RAD52  \\\n",
       "0  2.280956  3.237258  0.000000  5.125982  6.636770  5.638364  3.881665   \n",
       "1  3.625270  1.275007  0.028569  5.177121  7.130313  5.061776  3.023255   \n",
       "2  0.799087  0.275007  0.042644  4.149747  5.655352  4.858976  2.675816   \n",
       "3  3.488001  2.980025  0.028569  3.872829  6.176921  3.714795  2.726831   \n",
       "4  0.871844  5.815319  0.070389  4.269033  6.759156  4.878725  3.157044   \n",
       "\n",
       "        BAD      LAP3      CD99    HS3ST1      AOC1     WNT16     HECW1  \\\n",
       "0  5.156639  4.775051  5.904966  0.097611  0.111031  0.042644  2.847997   \n",
       "1  5.542258  6.305423  6.641546  0.084064  0.014355  0.275007  0.189034   \n",
       "2  4.560715  6.170125  8.182245  0.389567  0.084064  0.084064  0.084064   \n",
       "3  5.565293  5.230357  6.811728  2.657640  0.084064  0.124328  0.367371   \n",
       "4  6.103917  5.683135  7.321026  3.247928  0.014355  0.014355  0.000000   \n",
       "\n",
       "     MAD1L1     LASP1     SNX11  TMEM176A      M6PR    KLHL13   CYP26B1  \\\n",
       "0  3.336283  5.371210  4.313971  0.000000  7.536830  5.207893  2.965323   \n",
       "1  2.903038  4.955127  4.421560  0.042644  7.133091  2.861955  0.124328   \n",
       "2  5.733625  6.274262  4.407353  0.214125  7.361417  0.137504  0.454176   \n",
       "3  4.161888  6.703211  3.541019  0.070389  7.208478  0.014355  1.124328   \n",
       "4  4.205549  7.029342  4.006298  0.000000  7.275752  2.025029  0.669027   \n",
       "\n",
       "       ICA1    DBNDD1      ALS2    CASP10     CFLAR      TFPI   NDUFAF7  \\\n",
       "0  1.922198  2.049631  4.478972  2.077243  5.101818  0.056584  4.614710   \n",
       "1  3.513491  4.056584  4.286142  0.333424  4.520422  0.070389  3.987321   \n",
       "2  2.301588  3.317594  3.746313  1.232661  4.750607  3.914565  3.723559   \n",
       "3  3.946731  3.237258  2.931683  2.797013  4.591560  3.122673  3.554589   \n",
       "4  5.591859  2.528571  3.613532  1.992768  4.440288  0.807355  3.430285   \n",
       "\n",
       "       RBM5     MTMR7    SLC7A2      ARF5     SARM1   POLDIP2    PLXND1  \\\n",
       "0  5.286142  0.545968  1.613532  7.381197  2.611172  5.929081  5.293885   \n",
       "1  6.192391  3.163499  2.185867  7.792530  2.427606  6.269407  3.785551   \n",
       "2  5.008541  0.545968  1.400538  6.864558  2.241840  6.123087  7.242793   \n",
       "3  5.383359  0.111031  1.084064  7.403779  1.974529  5.444270  0.970854   \n",
       "4  6.788555  1.207893  4.161888  7.643856  3.168321  6.096557  2.513491   \n",
       "\n",
       "        AK2  ...  FAM240A    FAM95C    LITAFD    PRRT1B  BX276092.9  ETDC  \\\n",
       "0  6.730640  ...      0.0  2.724650  0.042644  0.000000    0.000000   0.0   \n",
       "1  7.327059  ...      0.0  0.918386  0.000000  0.042644    0.000000   0.0   \n",
       "2  8.119875  ...      0.0  0.000000  0.000000  0.000000    0.028569   0.0   \n",
       "3  7.954487  ...      0.0  0.641546  0.000000  0.000000    0.014355   0.0   \n",
       "4  7.792595  ...      0.0  2.277985  0.000000  0.056584    0.000000   0.0   \n",
       "\n",
       "   LMLN2    MYOCOS     HSFX3  VSIG10L2    PRSS50     CPHXL  AC131160.1  \\\n",
       "0    0.0  0.000000  0.000000       0.0  0.748461  0.042644    1.782409   \n",
       "1    0.0  0.000000  0.111031       0.0  0.000000  0.000000    1.799087   \n",
       "2    0.0  0.028569  0.028569       0.0  0.014355  0.000000    0.992768   \n",
       "3    0.0  0.028569  0.000000       0.0  0.000000  0.000000    0.641546   \n",
       "4    0.0  0.000000  0.000000       0.0  0.014355  0.000000    0.748461   \n",
       "\n",
       "   TPTEP2-CSNK1E     GNG14    SLURP2  AC069544.2      SCO2   C2ORF81  \\\n",
       "0       0.356144  0.650765  0.411426    2.895303  0.765535  1.731183   \n",
       "1       0.526069  0.000000  0.000000    4.202418  0.298658  0.765535   \n",
       "2       0.201634  0.000000  0.014355    3.209453  0.344828  0.555816   \n",
       "3       0.042644  0.000000  1.454176    2.438293  0.678072  1.117695   \n",
       "4       0.163499  0.226509  0.000000    3.201634  1.739848  0.823749   \n",
       "\n",
       "     PERCC1     THSD8  LYNX1-SLURP2  OR8B3    OR4F16  OR8B2  TMEM247  \\\n",
       "0  0.056584  0.695994      0.070389    0.0  0.070389    0.0      0.0   \n",
       "1  0.000000  4.173927      0.189034    0.0  0.014355    0.0      0.0   \n",
       "2  0.000000  2.952334      0.070389    0.0  0.014355    0.0      0.0   \n",
       "3  0.000000  0.000000      0.150560    0.0  0.000000    0.0      0.0   \n",
       "4  0.000000  0.042644      0.000000    0.0  0.014355    0.0      0.0   \n",
       "\n",
       "     SMIM38  OR8S1    OR4F29  EEF1AKMT4  AC022414.1      TBCE  SMIM41  \\\n",
       "0  0.389567    0.0  0.070389   4.578335    0.000000  5.761019     0.0   \n",
       "1  0.028569    0.0  0.014355   2.182692    0.042644  5.771357     0.0   \n",
       "2  0.028569    0.0  0.014355   3.012569    0.000000  4.744699     0.0   \n",
       "3  0.124328    0.0  0.000000   3.000000    0.000000  4.164304     0.0   \n",
       "4  0.014355    0.0  0.014355   2.700440    0.000000  4.673556     0.0   \n",
       "\n",
       "   AC008397.1  GCSAML-AS1    CCDC39  EEF1AKMT4-ECE2  AP000812.4   UPK3BL2  \\\n",
       "0    0.000000         0.0  0.028569        0.000000    1.464668  5.234961   \n",
       "1    0.000000         0.0  1.090853        0.000000    1.490570  0.941106   \n",
       "2    0.000000         0.0  0.000000        0.000000    0.985500  1.124328   \n",
       "3    0.454176         0.0  0.000000        0.000000    1.448901  0.201634   \n",
       "4    1.056584         0.0  0.000000        0.014355    0.516015  4.925050   \n",
       "\n",
       "   AC093512.2  ARHGAP11B  AC004593.2  AC090517.4  AL160269.1  ABCF2-H2BE1  \\\n",
       "0    4.139961   1.214125    0.000000    0.111031    0.150560     1.427606   \n",
       "1    4.107688   1.835924    0.000000    0.310340    0.000000     0.807355   \n",
       "2    2.313246   1.823749    0.084064    0.176323    0.042644     1.384050   \n",
       "3    3.001802   0.871844    0.137504    0.263034    2.485427     0.713696   \n",
       "4    2.056584   2.324811    0.163499    0.163499    0.000000     1.117695   \n",
       "\n",
       "    POLR2J3  H2BE1  AL445238.1  GET1-SH3BGR  AC113348.1  \n",
       "0  5.781884    0.0    0.000000     0.799087    0.000000  \n",
       "1  4.704319    0.0    0.000000     0.464668    0.070389  \n",
       "2  4.931683    0.0    0.028569     0.263034    0.000000  \n",
       "3  3.858976    0.0    0.000000     0.000000    0.000000  \n",
       "4  4.990501    0.0    0.000000     0.000000    0.000000  \n",
       "\n",
       "[5 rows x 19178 columns]"
      ],
      "text/html": "<div>\n<style scoped>\n    .dataframe tbody tr th:only-of-type {\n        vertical-align: middle;\n    }\n\n    .dataframe tbody tr th {\n        vertical-align: top;\n    }\n\n    .dataframe thead th {\n        text-align: right;\n    }\n</style>\n<table border=\"1\" class=\"dataframe\">\n  <thead>\n    <tr style=\"text-align: right;\">\n      <th></th>\n      <th>DepMap_ID</th>\n      <th>TSPAN6</th>\n      <th>TNMD</th>\n      <th>DPM1</th>\n      <th>SCYL3</th>\n      <th>C1ORF112</th>\n      <th>FGR</th>\n      <th>CFH</th>\n      <th>FUCA2</th>\n      <th>GCLC</th>\n      <th>NFYA</th>\n      <th>STPG1</th>\n      <th>NIPAL3</th>\n      <th>LAS1L</th>\n      <th>ENPP4</th>\n      <th>SEMA3F</th>\n      <th>CFTR</th>\n      <th>ANKIB1</th>\n      <th>CYP51A1</th>\n      <th>KRIT1</th>\n      <th>RAD52</th>\n      <th>BAD</th>\n      <th>LAP3</th>\n      <th>CD99</th>\n      <th>HS3ST1</th>\n      <th>AOC1</th>\n      <th>WNT16</th>\n      <th>HECW1</th>\n      <th>MAD1L1</th>\n      <th>LASP1</th>\n      <th>SNX11</th>\n      <th>TMEM176A</th>\n      <th>M6PR</th>\n      <th>KLHL13</th>\n      <th>CYP26B1</th>\n      <th>ICA1</th>\n      <th>DBNDD1</th>\n      <th>ALS2</th>\n      <th>CASP10</th>\n      <th>CFLAR</th>\n      <th>TFPI</th>\n      <th>NDUFAF7</th>\n      <th>RBM5</th>\n      <th>MTMR7</th>\n      <th>SLC7A2</th>\n      <th>ARF5</th>\n      <th>SARM1</th>\n      <th>POLDIP2</th>\n      <th>PLXND1</th>\n      <th>AK2</th>\n      <th>...</th>\n      <th>FAM240A</th>\n      <th>FAM95C</th>\n      <th>LITAFD</th>\n      <th>PRRT1B</th>\n      <th>BX276092.9</th>\n      <th>ETDC</th>\n      <th>LMLN2</th>\n      <th>MYOCOS</th>\n      <th>HSFX3</th>\n      <th>VSIG10L2</th>\n      <th>PRSS50</th>\n      <th>CPHXL</th>\n      <th>AC131160.1</th>\n      <th>TPTEP2-CSNK1E</th>\n      <th>GNG14</th>\n      <th>SLURP2</th>\n      <th>AC069544.2</th>\n      <th>SCO2</th>\n      <th>C2ORF81</th>\n      <th>PERCC1</th>\n      <th>THSD8</th>\n      <th>LYNX1-SLURP2</th>\n      <th>OR8B3</th>\n      <th>OR4F16</th>\n      <th>OR8B2</th>\n      <th>TMEM247</th>\n      <th>SMIM38</th>\n      <th>OR8S1</th>\n      <th>OR4F29</th>\n      <th>EEF1AKMT4</th>\n      <th>AC022414.1</th>\n      <th>TBCE</th>\n      <th>SMIM41</th>\n      <th>AC008397.1</th>\n      <th>GCSAML-AS1</th>\n      <th>CCDC39</th>\n      <th>EEF1AKMT4-ECE2</th>\n      <th>AP000812.4</th>\n      <th>UPK3BL2</th>\n      <th>AC093512.2</th>\n      <th>ARHGAP11B</th>\n      <th>AC004593.2</th>\n      <th>AC090517.4</th>\n      <th>AL160269.1</th>\n      <th>ABCF2-H2BE1</th>\n      <th>POLR2J3</th>\n      <th>H2BE1</th>\n      <th>AL445238.1</th>\n      <th>GET1-SH3BGR</th>\n      <th>AC113348.1</th>\n    </tr>\n  </thead>\n  <tbody>\n    <tr>\n      <th>0</th>\n      <td>ACH-001113</td>\n      <td>4.990501</td>\n      <td>0.000000</td>\n      <td>7.273702</td>\n      <td>2.765535</td>\n      <td>4.480265</td>\n      <td>0.028569</td>\n      <td>1.269033</td>\n      <td>3.058316</td>\n      <td>6.483171</td>\n      <td>5.053980</td>\n      <td>3.456806</td>\n      <td>4.415488</td>\n      <td>4.766595</td>\n      <td>2.280956</td>\n      <td>3.237258</td>\n      <td>0.000000</td>\n      <td>5.125982</td>\n      <td>6.636770</td>\n      <td>5.638364</td>\n      <td>3.881665</td>\n      <td>5.156639</td>\n      <td>4.775051</td>\n      <td>5.904966</td>\n      <td>0.097611</td>\n      <td>0.111031</td>\n      <td>0.042644</td>\n      <td>2.847997</td>\n      <td>3.336283</td>\n      <td>5.371210</td>\n      <td>4.313971</td>\n      <td>0.000000</td>\n      <td>7.536830</td>\n      <td>5.207893</td>\n      <td>2.965323</td>\n      <td>1.922198</td>\n      <td>2.049631</td>\n      <td>4.478972</td>\n      <td>2.077243</td>\n      <td>5.101818</td>\n      <td>0.056584</td>\n      <td>4.614710</td>\n      <td>5.286142</td>\n      <td>0.545968</td>\n      <td>1.613532</td>\n      <td>7.381197</td>\n      <td>2.611172</td>\n      <td>5.929081</td>\n      <td>5.293885</td>\n      <td>6.730640</td>\n      <td>...</td>\n      <td>0.0</td>\n      <td>2.724650</td>\n      <td>0.042644</td>\n      <td>0.000000</td>\n      <td>0.000000</td>\n      <td>0.0</td>\n      <td>0.0</td>\n      <td>0.000000</td>\n      <td>0.000000</td>\n      <td>0.0</td>\n      <td>0.748461</td>\n      <td>0.042644</td>\n      <td>1.782409</td>\n      <td>0.356144</td>\n      <td>0.650765</td>\n      <td>0.411426</td>\n      <td>2.895303</td>\n      <td>0.765535</td>\n      <td>1.731183</td>\n      <td>0.056584</td>\n      <td>0.695994</td>\n      <td>0.070389</td>\n      <td>0.0</td>\n      <td>0.070389</td>\n      <td>0.0</td>\n      <td>0.0</td>\n      <td>0.389567</td>\n      <td>0.0</td>\n      <td>0.070389</td>\n      <td>4.578335</td>\n      <td>0.000000</td>\n      <td>5.761019</td>\n      <td>0.0</td>\n      <td>0.000000</td>\n      <td>0.0</td>\n      <td>0.028569</td>\n      <td>0.000000</td>\n      <td>1.464668</td>\n      <td>5.234961</td>\n      <td>4.139961</td>\n      <td>1.214125</td>\n      <td>0.000000</td>\n      <td>0.111031</td>\n      <td>0.150560</td>\n      <td>1.427606</td>\n      <td>5.781884</td>\n      <td>0.0</td>\n      <td>0.000000</td>\n      <td>0.799087</td>\n      <td>0.000000</td>\n    </tr>\n    <tr>\n      <th>1</th>\n      <td>ACH-001289</td>\n      <td>5.209843</td>\n      <td>0.545968</td>\n      <td>7.070604</td>\n      <td>2.538538</td>\n      <td>3.510962</td>\n      <td>0.000000</td>\n      <td>0.176323</td>\n      <td>3.836934</td>\n      <td>4.200850</td>\n      <td>3.832890</td>\n      <td>1.910733</td>\n      <td>3.374344</td>\n      <td>4.861955</td>\n      <td>3.625270</td>\n      <td>1.275007</td>\n      <td>0.028569</td>\n      <td>5.177121</td>\n      <td>7.130313</td>\n      <td>5.061776</td>\n      <td>3.023255</td>\n      <td>5.542258</td>\n      <td>6.305423</td>\n      <td>6.641546</td>\n      <td>0.084064</td>\n      <td>0.014355</td>\n      <td>0.275007</td>\n      <td>0.189034</td>\n      <td>2.903038</td>\n      <td>4.955127</td>\n      <td>4.421560</td>\n      <td>0.042644</td>\n      <td>7.133091</td>\n      <td>2.861955</td>\n      <td>0.124328</td>\n      <td>3.513491</td>\n      <td>4.056584</td>\n      <td>4.286142</td>\n      <td>0.333424</td>\n      <td>4.520422</td>\n      <td>0.070389</td>\n      <td>3.987321</td>\n      <td>6.192391</td>\n      <td>3.163499</td>\n      <td>2.185867</td>\n      <td>7.792530</td>\n      <td>2.427606</td>\n      <td>6.269407</td>\n      <td>3.785551</td>\n      <td>7.327059</td>\n      <td>...</td>\n      <td>0.0</td>\n      <td>0.918386</td>\n      <td>0.000000</td>\n      <td>0.042644</td>\n      <td>0.000000</td>\n      <td>0.0</td>\n      <td>0.0</td>\n      <td>0.000000</td>\n      <td>0.111031</td>\n      <td>0.0</td>\n      <td>0.000000</td>\n      <td>0.000000</td>\n      <td>1.799087</td>\n      <td>0.526069</td>\n      <td>0.000000</td>\n      <td>0.000000</td>\n      <td>4.202418</td>\n      <td>0.298658</td>\n      <td>0.765535</td>\n      <td>0.000000</td>\n      <td>4.173927</td>\n      <td>0.189034</td>\n      <td>0.0</td>\n      <td>0.014355</td>\n      <td>0.0</td>\n      <td>0.0</td>\n      <td>0.028569</td>\n      <td>0.0</td>\n      <td>0.014355</td>\n      <td>2.182692</td>\n      <td>0.042644</td>\n      <td>5.771357</td>\n      <td>0.0</td>\n      <td>0.000000</td>\n      <td>0.0</td>\n      <td>1.090853</td>\n      <td>0.000000</td>\n      <td>1.490570</td>\n      <td>0.941106</td>\n      <td>4.107688</td>\n      <td>1.835924</td>\n      <td>0.000000</td>\n      <td>0.310340</td>\n      <td>0.000000</td>\n      <td>0.807355</td>\n      <td>4.704319</td>\n      <td>0.0</td>\n      <td>0.000000</td>\n      <td>0.464668</td>\n      <td>0.070389</td>\n    </tr>\n    <tr>\n      <th>2</th>\n      <td>ACH-001339</td>\n      <td>3.779260</td>\n      <td>0.000000</td>\n      <td>7.346425</td>\n      <td>2.339137</td>\n      <td>4.254745</td>\n      <td>0.056584</td>\n      <td>1.339137</td>\n      <td>6.724241</td>\n      <td>3.671293</td>\n      <td>3.775051</td>\n      <td>2.895303</td>\n      <td>3.613532</td>\n      <td>4.300856</td>\n      <td>0.799087</td>\n      <td>0.275007</td>\n      <td>0.042644</td>\n      <td>4.149747</td>\n      <td>5.655352</td>\n      <td>4.858976</td>\n      <td>2.675816</td>\n      <td>4.560715</td>\n      <td>6.170125</td>\n      <td>8.182245</td>\n      <td>0.389567</td>\n      <td>0.084064</td>\n      <td>0.084064</td>\n      <td>0.084064</td>\n      <td>5.733625</td>\n      <td>6.274262</td>\n      <td>4.407353</td>\n      <td>0.214125</td>\n      <td>7.361417</td>\n      <td>0.137504</td>\n      <td>0.454176</td>\n      <td>2.301588</td>\n      <td>3.317594</td>\n      <td>3.746313</td>\n      <td>1.232661</td>\n      <td>4.750607</td>\n      <td>3.914565</td>\n      <td>3.723559</td>\n      <td>5.008541</td>\n      <td>0.545968</td>\n      <td>1.400538</td>\n      <td>6.864558</td>\n      <td>2.241840</td>\n      <td>6.123087</td>\n      <td>7.242793</td>\n      <td>8.119875</td>\n      <td>...</td>\n      <td>0.0</td>\n      <td>0.000000</td>\n      <td>0.000000</td>\n      <td>0.000000</td>\n      <td>0.028569</td>\n      <td>0.0</td>\n      <td>0.0</td>\n      <td>0.028569</td>\n      <td>0.028569</td>\n      <td>0.0</td>\n      <td>0.014355</td>\n      <td>0.000000</td>\n      <td>0.992768</td>\n      <td>0.201634</td>\n      <td>0.000000</td>\n      <td>0.014355</td>\n      <td>3.209453</td>\n      <td>0.344828</td>\n      <td>0.555816</td>\n      <td>0.000000</td>\n      <td>2.952334</td>\n      <td>0.070389</td>\n      <td>0.0</td>\n      <td>0.014355</td>\n      <td>0.0</td>\n      <td>0.0</td>\n      <td>0.028569</td>\n      <td>0.0</td>\n      <td>0.014355</td>\n      <td>3.012569</td>\n      <td>0.000000</td>\n      <td>4.744699</td>\n      <td>0.0</td>\n      <td>0.000000</td>\n      <td>0.0</td>\n      <td>0.000000</td>\n      <td>0.000000</td>\n      <td>0.985500</td>\n      <td>1.124328</td>\n      <td>2.313246</td>\n      <td>1.823749</td>\n      <td>0.084064</td>\n      <td>0.176323</td>\n      <td>0.042644</td>\n      <td>1.384050</td>\n      <td>4.931683</td>\n      <td>0.0</td>\n      <td>0.028569</td>\n      <td>0.263034</td>\n      <td>0.000000</td>\n    </tr>\n    <tr>\n      <th>3</th>\n      <td>ACH-001538</td>\n      <td>5.726831</td>\n      <td>0.000000</td>\n      <td>7.086189</td>\n      <td>2.543496</td>\n      <td>3.102658</td>\n      <td>0.000000</td>\n      <td>5.914565</td>\n      <td>6.099716</td>\n      <td>4.475733</td>\n      <td>4.294253</td>\n      <td>2.472488</td>\n      <td>4.573496</td>\n      <td>5.314697</td>\n      <td>3.488001</td>\n      <td>2.980025</td>\n      <td>0.028569</td>\n      <td>3.872829</td>\n      <td>6.176921</td>\n      <td>3.714795</td>\n      <td>2.726831</td>\n      <td>5.565293</td>\n      <td>5.230357</td>\n      <td>6.811728</td>\n      <td>2.657640</td>\n      <td>0.084064</td>\n      <td>0.124328</td>\n      <td>0.367371</td>\n      <td>4.161888</td>\n      <td>6.703211</td>\n      <td>3.541019</td>\n      <td>0.070389</td>\n      <td>7.208478</td>\n      <td>0.014355</td>\n      <td>1.124328</td>\n      <td>3.946731</td>\n      <td>3.237258</td>\n      <td>2.931683</td>\n      <td>2.797013</td>\n      <td>4.591560</td>\n      <td>3.122673</td>\n      <td>3.554589</td>\n      <td>5.383359</td>\n      <td>0.111031</td>\n      <td>1.084064</td>\n      <td>7.403779</td>\n      <td>1.974529</td>\n      <td>5.444270</td>\n      <td>0.970854</td>\n      <td>7.954487</td>\n      <td>...</td>\n      <td>0.0</td>\n      <td>0.641546</td>\n      <td>0.000000</td>\n      <td>0.000000</td>\n      <td>0.014355</td>\n      <td>0.0</td>\n      <td>0.0</td>\n      <td>0.028569</td>\n      <td>0.000000</td>\n      <td>0.0</td>\n      <td>0.000000</td>\n      <td>0.000000</td>\n      <td>0.641546</td>\n      <td>0.042644</td>\n      <td>0.000000</td>\n      <td>1.454176</td>\n      <td>2.438293</td>\n      <td>0.678072</td>\n      <td>1.117695</td>\n      <td>0.000000</td>\n      <td>0.000000</td>\n      <td>0.150560</td>\n      <td>0.0</td>\n      <td>0.000000</td>\n      <td>0.0</td>\n      <td>0.0</td>\n      <td>0.124328</td>\n      <td>0.0</td>\n      <td>0.000000</td>\n      <td>3.000000</td>\n      <td>0.000000</td>\n      <td>4.164304</td>\n      <td>0.0</td>\n      <td>0.454176</td>\n      <td>0.0</td>\n      <td>0.000000</td>\n      <td>0.000000</td>\n      <td>1.448901</td>\n      <td>0.201634</td>\n      <td>3.001802</td>\n      <td>0.871844</td>\n      <td>0.137504</td>\n      <td>0.263034</td>\n      <td>2.485427</td>\n      <td>0.713696</td>\n      <td>3.858976</td>\n      <td>0.0</td>\n      <td>0.000000</td>\n      <td>0.000000</td>\n      <td>0.000000</td>\n    </tr>\n    <tr>\n      <th>4</th>\n      <td>ACH-000242</td>\n      <td>7.465648</td>\n      <td>0.000000</td>\n      <td>6.435462</td>\n      <td>2.414136</td>\n      <td>3.864929</td>\n      <td>0.831877</td>\n      <td>7.198003</td>\n      <td>5.452530</td>\n      <td>7.112492</td>\n      <td>4.710944</td>\n      <td>1.914565</td>\n      <td>2.746313</td>\n      <td>5.010780</td>\n      <td>0.871844</td>\n      <td>5.815319</td>\n      <td>0.070389</td>\n      <td>4.269033</td>\n      <td>6.759156</td>\n      <td>4.878725</td>\n      <td>3.157044</td>\n      <td>6.103917</td>\n      <td>5.683135</td>\n      <td>7.321026</td>\n      <td>3.247928</td>\n      <td>0.014355</td>\n      <td>0.014355</td>\n      <td>0.000000</td>\n      <td>4.205549</td>\n      <td>7.029342</td>\n      <td>4.006298</td>\n      <td>0.000000</td>\n      <td>7.275752</td>\n      <td>2.025029</td>\n      <td>0.669027</td>\n      <td>5.591859</td>\n      <td>2.528571</td>\n      <td>3.613532</td>\n      <td>1.992768</td>\n      <td>4.440288</td>\n      <td>0.807355</td>\n      <td>3.430285</td>\n      <td>6.788555</td>\n      <td>1.207893</td>\n      <td>4.161888</td>\n      <td>7.643856</td>\n      <td>3.168321</td>\n      <td>6.096557</td>\n      <td>2.513491</td>\n      <td>7.792595</td>\n      <td>...</td>\n      <td>0.0</td>\n      <td>2.277985</td>\n      <td>0.000000</td>\n      <td>0.056584</td>\n      <td>0.000000</td>\n      <td>0.0</td>\n      <td>0.0</td>\n      <td>0.000000</td>\n      <td>0.000000</td>\n      <td>0.0</td>\n      <td>0.014355</td>\n      <td>0.000000</td>\n      <td>0.748461</td>\n      <td>0.163499</td>\n      <td>0.226509</td>\n      <td>0.000000</td>\n      <td>3.201634</td>\n      <td>1.739848</td>\n      <td>0.823749</td>\n      <td>0.000000</td>\n      <td>0.042644</td>\n      <td>0.000000</td>\n      <td>0.0</td>\n      <td>0.014355</td>\n      <td>0.0</td>\n      <td>0.0</td>\n      <td>0.014355</td>\n      <td>0.0</td>\n      <td>0.014355</td>\n      <td>2.700440</td>\n      <td>0.000000</td>\n      <td>4.673556</td>\n      <td>0.0</td>\n      <td>1.056584</td>\n      <td>0.0</td>\n      <td>0.000000</td>\n      <td>0.014355</td>\n      <td>0.516015</td>\n      <td>4.925050</td>\n      <td>2.056584</td>\n      <td>2.324811</td>\n      <td>0.163499</td>\n      <td>0.163499</td>\n      <td>0.000000</td>\n      <td>1.117695</td>\n      <td>4.990501</td>\n      <td>0.0</td>\n      <td>0.000000</td>\n      <td>0.000000</td>\n      <td>0.000000</td>\n    </tr>\n  </tbody>\n</table>\n<p>5 rows × 19178 columns</p>\n</div>"
     },
     "metadata": {},
     "execution_count": 5
    }
   ],
   "source": [
    "ccle_expr = pd.read_csv('../data/raw/ccle_expression.txt')#.rename({'Unnamed:0':'DepMap_ID'}, axis=1)\n",
    "ccle_expr.columns = ['DepMap_ID'] + [x.split(' ')[0].upper() for x in ccle_expr.columns[1:]]\n",
    "ccle_genes = list(ccle_expr.columns[1:])\n",
    "ccle_expr.head()"
   ]
  },
  {
   "cell_type": "code",
   "execution_count": 6,
   "metadata": {},
   "outputs": [
    {
     "output_type": "execute_result",
     "data": {
      "text/plain": [
       "  cell_iname                                   ccle_name  \\\n",
       "0    OCILY10  OCILY10_HAEMATOPOIETIC_AND_LYMPHOID_TISSUE   \n",
       "1       TC32                                   TC32_BONE   \n",
       "2     HCC515                                 HCC515_LUNG   \n",
       "3       SALE                                   SALE_LUNG   \n",
       "4     SHSY5Y                    SHSY5Y_AUTONOMIC_GANGLIA   \n",
       "\n",
       "                                    CCLE_Name   DepMap_ID  \n",
       "0  OCILY10_HAEMATOPOIETIC_AND_LYMPHOID_TISSUE  ACH-001146  \n",
       "1                                   TC32_BONE  ACH-001205  \n",
       "2                                 HCC515_LUNG  ACH-000872  \n",
       "3                                   SALE_LUNG  ACH-000064  \n",
       "4                    SHSY5Y_AUTONOMIC_GANGLIA  ACH-001188  "
      ],
      "text/html": "<div>\n<style scoped>\n    .dataframe tbody tr th:only-of-type {\n        vertical-align: middle;\n    }\n\n    .dataframe tbody tr th {\n        vertical-align: top;\n    }\n\n    .dataframe thead th {\n        text-align: right;\n    }\n</style>\n<table border=\"1\" class=\"dataframe\">\n  <thead>\n    <tr style=\"text-align: right;\">\n      <th></th>\n      <th>cell_iname</th>\n      <th>ccle_name</th>\n      <th>CCLE_Name</th>\n      <th>DepMap_ID</th>\n    </tr>\n  </thead>\n  <tbody>\n    <tr>\n      <th>0</th>\n      <td>OCILY10</td>\n      <td>OCILY10_HAEMATOPOIETIC_AND_LYMPHOID_TISSUE</td>\n      <td>OCILY10_HAEMATOPOIETIC_AND_LYMPHOID_TISSUE</td>\n      <td>ACH-001146</td>\n    </tr>\n    <tr>\n      <th>1</th>\n      <td>TC32</td>\n      <td>TC32_BONE</td>\n      <td>TC32_BONE</td>\n      <td>ACH-001205</td>\n    </tr>\n    <tr>\n      <th>2</th>\n      <td>HCC515</td>\n      <td>HCC515_LUNG</td>\n      <td>HCC515_LUNG</td>\n      <td>ACH-000872</td>\n    </tr>\n    <tr>\n      <th>3</th>\n      <td>SALE</td>\n      <td>SALE_LUNG</td>\n      <td>SALE_LUNG</td>\n      <td>ACH-000064</td>\n    </tr>\n    <tr>\n      <th>4</th>\n      <td>SHSY5Y</td>\n      <td>SHSY5Y_AUTONOMIC_GANGLIA</td>\n      <td>SHSY5Y_AUTONOMIC_GANGLIA</td>\n      <td>ACH-001188</td>\n    </tr>\n  </tbody>\n</table>\n</div>"
     },
     "metadata": {},
     "execution_count": 6
    }
   ],
   "source": [
    "# Step 1: what cell lines are in LINCS? \n",
    "linc_lines = lincs_cells[['cell_iname', 'ccle_name']].merge(info[['CCLE_Name', 'DepMap_ID']], left_on='ccle_name', right_on='CCLE_Name')\n",
    "linc_lines.head()"
   ]
  },
  {
   "cell_type": "code",
   "execution_count": 7,
   "metadata": {},
   "outputs": [
    {
     "output_type": "execute_result",
     "data": {
      "text/plain": [
       "13283"
      ]
     },
     "metadata": {},
     "execution_count": 7
    }
   ],
   "source": [
    "overlap_genes = set(PPI_graph['nodelist']).intersection(set(ccle_genes))\n",
    "len(overlap_genes)"
   ]
  },
  {
   "cell_type": "code",
   "execution_count": 8,
   "metadata": {},
   "outputs": [
    {
     "output_type": "execute_result",
     "data": {
      "text/plain": [
       "13565"
      ]
     },
     "metadata": {},
     "execution_count": 8
    }
   ],
   "source": [
    "len(PPI_graph['nodelist'])"
   ]
  },
  {
   "cell_type": "code",
   "execution_count": 9,
   "metadata": {},
   "outputs": [
    {
     "output_type": "stream",
     "name": "stdout",
     "text": [
      "shape (133, 13286)\n"
     ]
    },
    {
     "output_type": "execute_result",
     "data": {
      "text/plain": [
       "    DepMap_ID cell_iname                ccle_name   ST3GAL2     GRIN1  \\\n",
       "0  ACH-000123     COV434             COV434_OVARY  0.308293  0.029133   \n",
       "1  ACH-000465     SKMEL1              SKMEL1_SKIN  1.002036 -0.683018   \n",
       "2  ACH-000999    SNU1040  SNU1040_LARGE_INTESTINE -0.807224  0.145635   \n",
       "3  ACH-000017      SKBR3             SKBR3_BREAST -2.016029  1.361690   \n",
       "4  ACH-000587   NCIH1975            NCIH1975_LUNG  0.708107  1.294905   \n",
       "\n",
       "      SLIT2     EGLN2     PEX13     KCNH8    COL4A5    LMBRD1    RUVBL1  \\\n",
       "0 -0.149332 -0.622608  2.109737 -0.244858  1.148072 -0.569996  0.022964   \n",
       "1 -0.035610  1.289642 -0.955581  0.544522 -1.170356 -0.737431 -0.744249   \n",
       "2 -0.414071  0.274888  0.296583  0.399910 -0.868891  0.708434  1.126769   \n",
       "3 -0.823237  0.165522 -0.103936 -0.435080 -0.314680 -0.544161 -1.045753   \n",
       "4 -0.539657 -2.209432  0.040090 -0.453390 -0.846903 -1.332346  0.927683   \n",
       "\n",
       "      SRXN1      TFEC      LTO1       CFP     RPRD2    ZNF169    ADGRB3  \\\n",
       "0 -0.316437 -0.314477 -0.873786 -0.261498  0.010050  0.094754  1.435845   \n",
       "1 -0.474254 -0.222868 -0.059288 -0.449767 -0.896285 -1.069726 -0.164731   \n",
       "2  0.952953 -0.397951  0.080261 -0.645772  0.458910 -0.111461 -0.409548   \n",
       "3  0.921816 -0.369582 -0.396651 -0.522471  0.092567  1.115010 -0.426114   \n",
       "4  0.581850 -0.383696  0.821754 -0.162692  0.580834 -0.022159 -0.426114   \n",
       "\n",
       "        CBL     EHBP1     MAST1     MTHFR    TMSB10     CHST5      KXD1  \\\n",
       "0  0.796264 -0.656091  0.986760  0.778326 -1.486876 -0.487234  0.063411   \n",
       "1  0.742613  0.996012  0.686164  1.096561 -1.827324  0.060776  0.884327   \n",
       "2  0.367298  0.180324 -0.051144  0.188384 -0.188274  0.584490  0.563205   \n",
       "3 -0.532899 -0.399915 -0.470171 -0.388019 -0.851854 -0.354696 -0.822275   \n",
       "4 -0.004074  0.009170  0.922582 -0.327148  0.734117  0.330275  0.855232   \n",
       "\n",
       "       DGKH     EGFL8   SELENON     SP140      GJA5    UAP1L1     DNAI1  \\\n",
       "0 -0.219447 -0.323744  0.742922 -0.568103 -0.342143 -0.247021 -0.508756   \n",
       "1 -0.045098 -0.221243  1.235396 -0.848681 -0.380149  2.293523 -0.171288   \n",
       "2  0.012051 -0.120067  0.394558 -0.671676  0.193627  0.508319 -0.374128   \n",
       "3 -0.187659 -1.159396 -0.186145 -0.601525  4.784246  1.613273  2.079951   \n",
       "4 -0.433633 -0.326968  0.706412  1.706895 -0.329715  0.768091  0.017905   \n",
       "\n",
       "     ZNF814    ZBTB17      SCTR   ZNF354C     AKIP1      EGR3     KIF4B  \\\n",
       "0  0.528948 -0.326922 -0.339212  1.218003  1.452817 -0.510043 -0.027840   \n",
       "1  0.735416  0.938012 -0.299863  0.745654  0.708787  3.625428  0.776908   \n",
       "2 -0.502798  0.069870 -0.108784 -0.876789  0.030122 -0.445147 -0.147044   \n",
       "3 -0.438200 -0.394547 -0.299863 -0.819035 -0.156465 -0.606034  0.090265   \n",
       "4  1.997586 -0.788919 -0.339212  1.106899  0.540892 -0.288793  0.552091   \n",
       "\n",
       "     TMIGD3      MOB4  PPP1R14A     LYRM4     GNGT2   PPP2R5C      BBS5  \\\n",
       "0  0.568765  0.119529  0.603517 -0.117628 -0.469200  0.166790  0.896044   \n",
       "1 -0.131072  0.477550 -0.592164  0.360353 -0.526862 -2.972592  1.646099   \n",
       "2 -0.196520 -0.013882  0.864936 -0.127888 -0.450703  1.038819  0.928466   \n",
       "3 -0.131072 -0.083675 -0.531011 -2.295716 -0.507266 -1.064128 -0.527740   \n",
       "4 -0.098819 -0.559015 -0.606451  0.194044 -0.526862  0.747720  0.375896   \n",
       "\n",
       "      PTPN7     FBXO6      GCLC  ...      CTSS     ALAS2       MAF     OR8J1  \\\n",
       "0 -0.414308  1.168229 -1.379842  ... -1.080364  0.015214 -0.634084 -0.053919   \n",
       "1 -0.165629  1.116914 -0.074435  ... -0.854341 -0.190008 -0.128647 -0.053919   \n",
       "2 -0.391457  1.992813  0.432799  ... -1.133223 -0.190008  0.045222 -0.053919   \n",
       "3 -0.437984  0.541273 -0.177746  ... -0.335279 -0.064543 -0.680782 -0.053919   \n",
       "4 -0.475177  0.254844 -0.340075  ...  0.402018 -0.126362 -0.377598 -0.053919   \n",
       "\n",
       "      IGSF8   PACSIN3     IFNA4     FFAR3     HYOU1     AP1B1     SGIP1  \\\n",
       "0 -0.786133  0.787870 -0.104702 -0.241910 -0.413598  0.389321 -0.533022   \n",
       "1  2.353328  1.244539 -0.104702  0.076027  0.007392  1.897811  0.042712   \n",
       "2  1.315036  1.016542 -0.104702 -0.241910  1.181839  0.214126 -0.484775   \n",
       "3  1.111740 -0.096000 -0.104702 -0.241910  0.498529  0.782152 -0.503792   \n",
       "4  0.223996 -0.359605 -0.104702 -0.241910 -0.302671  1.369951 -0.533022   \n",
       "\n",
       "       CBX5     MYH15  ARHGAP26     RPS21     OR5M9     PLCG1     WDR41  \\\n",
       "0  0.689149 -0.608955 -1.389345 -0.690005 -0.072929 -0.558275 -0.147552   \n",
       "1  0.414003 -0.695517 -0.073870  0.077024 -0.072929  2.018530 -0.322697   \n",
       "2 -0.340810 -0.643080  0.259435  0.498065 -0.072929  0.348954 -0.194283   \n",
       "3 -1.229997 -0.695517 -0.927601  1.353941 -0.072929 -0.491987 -0.709535   \n",
       "4  0.370697  1.993086  1.248827 -0.284255 -0.072929 -0.525393  0.138171   \n",
       "\n",
       "     ARID5B      ASPM    SLC4A2    CRYBA2    NAP1L4    ZNF565  TNFRSF11B  \\\n",
       "0  3.202295 -0.530673  0.606923 -0.448273  0.452219 -0.316291  -0.132816   \n",
       "1  0.965510 -0.754514  1.268144 -0.448273  2.328345 -0.381683   0.243400   \n",
       "2 -1.248385 -1.239608  0.109354  1.393199  0.306835  0.187338  -0.194645   \n",
       "3 -0.083240 -0.083343  1.060421 -0.333103 -0.303839 -0.528598  -0.647771   \n",
       "4  0.375216  0.161191  0.979050  0.580406  0.340331 -1.103135  -0.434149   \n",
       "\n",
       "      TRIP6      BAG3      CD24     RPL24     WDTC1     GHITM     PINX1  \\\n",
       "0 -2.099342 -0.230162 -1.109056 -0.122863 -0.350468 -0.261988  0.375490   \n",
       "1 -2.014144  0.634769 -1.315049 -0.943167  1.250493  0.510878  2.345159   \n",
       "2  0.819895  0.510243  0.443006 -0.037145  0.958024  0.996063 -0.172958   \n",
       "3  0.865640  0.528961  1.128220 -1.175414 -1.035601 -1.263951 -0.784960   \n",
       "4  1.023172  0.840681  0.324323  0.060476 -0.269565  0.963132  0.370533   \n",
       "\n",
       "     PLAAT4     HOXA2     TRHDE  ATP6V1B1     PNMA1      PCCB    PLXNA1  \\\n",
       "0 -0.619965 -0.893428 -0.519380  0.211129  0.400512  1.578057 -0.682470   \n",
       "1 -1.168007 -0.726712 -0.546379 -0.644031 -1.227850  0.341964  2.264866   \n",
       "2 -1.062957 -0.958420 -0.573908  0.321418 -0.382475  2.378465 -0.154600   \n",
       "3  1.375061 -0.975071 -0.587877  3.167763 -0.822839 -0.440010 -0.355407   \n",
       "4  0.217363 -0.958420 -0.573908 -0.429568  0.849279  0.596077  0.296663   \n",
       "\n",
       "      GSK3B    SNRPD1     INTS2     CXCR4      KLC3    ZNF365    ZNF740  \\\n",
       "0 -0.562465 -0.300559 -0.148964 -0.305835 -0.440886 -0.455093 -0.229296   \n",
       "1  0.837974 -0.878977  0.554996 -0.775009 -0.226745  2.380571 -0.873418   \n",
       "2  1.570402  0.597254  0.034146  0.291371  1.213802  2.996629  1.040858   \n",
       "3 -0.711718 -0.668907 -1.848046 -0.377605  1.108825 -0.794638 -0.189262   \n",
       "4  0.685377 -0.372672  0.794836 -0.785599  0.612083 -0.144886  0.727006   \n",
       "\n",
       "       ECM1     MYOZ2   ATP6V0C    CSF2RB  \n",
       "0 -1.171512 -0.161561  0.402694 -0.365711  \n",
       "1  1.424484 -0.185402  1.780890 -0.365711  \n",
       "2 -0.486868 -0.283115  0.659535 -0.365711  \n",
       "3 -0.954282 -0.137946  0.776237  0.879781  \n",
       "4 -0.405210 -0.233779  0.090316 -0.376656  \n",
       "\n",
       "[5 rows x 13286 columns]"
      ],
      "text/html": "<div>\n<style scoped>\n    .dataframe tbody tr th:only-of-type {\n        vertical-align: middle;\n    }\n\n    .dataframe tbody tr th {\n        vertical-align: top;\n    }\n\n    .dataframe thead th {\n        text-align: right;\n    }\n</style>\n<table border=\"1\" class=\"dataframe\">\n  <thead>\n    <tr style=\"text-align: right;\">\n      <th></th>\n      <th>DepMap_ID</th>\n      <th>cell_iname</th>\n      <th>ccle_name</th>\n      <th>ST3GAL2</th>\n      <th>GRIN1</th>\n      <th>SLIT2</th>\n      <th>EGLN2</th>\n      <th>PEX13</th>\n      <th>KCNH8</th>\n      <th>COL4A5</th>\n      <th>LMBRD1</th>\n      <th>RUVBL1</th>\n      <th>SRXN1</th>\n      <th>TFEC</th>\n      <th>LTO1</th>\n      <th>CFP</th>\n      <th>RPRD2</th>\n      <th>ZNF169</th>\n      <th>ADGRB3</th>\n      <th>CBL</th>\n      <th>EHBP1</th>\n      <th>MAST1</th>\n      <th>MTHFR</th>\n      <th>TMSB10</th>\n      <th>CHST5</th>\n      <th>KXD1</th>\n      <th>DGKH</th>\n      <th>EGFL8</th>\n      <th>SELENON</th>\n      <th>SP140</th>\n      <th>GJA5</th>\n      <th>UAP1L1</th>\n      <th>DNAI1</th>\n      <th>ZNF814</th>\n      <th>ZBTB17</th>\n      <th>SCTR</th>\n      <th>ZNF354C</th>\n      <th>AKIP1</th>\n      <th>EGR3</th>\n      <th>KIF4B</th>\n      <th>TMIGD3</th>\n      <th>MOB4</th>\n      <th>PPP1R14A</th>\n      <th>LYRM4</th>\n      <th>GNGT2</th>\n      <th>PPP2R5C</th>\n      <th>BBS5</th>\n      <th>PTPN7</th>\n      <th>FBXO6</th>\n      <th>GCLC</th>\n      <th>...</th>\n      <th>CTSS</th>\n      <th>ALAS2</th>\n      <th>MAF</th>\n      <th>OR8J1</th>\n      <th>IGSF8</th>\n      <th>PACSIN3</th>\n      <th>IFNA4</th>\n      <th>FFAR3</th>\n      <th>HYOU1</th>\n      <th>AP1B1</th>\n      <th>SGIP1</th>\n      <th>CBX5</th>\n      <th>MYH15</th>\n      <th>ARHGAP26</th>\n      <th>RPS21</th>\n      <th>OR5M9</th>\n      <th>PLCG1</th>\n      <th>WDR41</th>\n      <th>ARID5B</th>\n      <th>ASPM</th>\n      <th>SLC4A2</th>\n      <th>CRYBA2</th>\n      <th>NAP1L4</th>\n      <th>ZNF565</th>\n      <th>TNFRSF11B</th>\n      <th>TRIP6</th>\n      <th>BAG3</th>\n      <th>CD24</th>\n      <th>RPL24</th>\n      <th>WDTC1</th>\n      <th>GHITM</th>\n      <th>PINX1</th>\n      <th>PLAAT4</th>\n      <th>HOXA2</th>\n      <th>TRHDE</th>\n      <th>ATP6V1B1</th>\n      <th>PNMA1</th>\n      <th>PCCB</th>\n      <th>PLXNA1</th>\n      <th>GSK3B</th>\n      <th>SNRPD1</th>\n      <th>INTS2</th>\n      <th>CXCR4</th>\n      <th>KLC3</th>\n      <th>ZNF365</th>\n      <th>ZNF740</th>\n      <th>ECM1</th>\n      <th>MYOZ2</th>\n      <th>ATP6V0C</th>\n      <th>CSF2RB</th>\n    </tr>\n  </thead>\n  <tbody>\n    <tr>\n      <th>0</th>\n      <td>ACH-000123</td>\n      <td>COV434</td>\n      <td>COV434_OVARY</td>\n      <td>0.308293</td>\n      <td>0.029133</td>\n      <td>-0.149332</td>\n      <td>-0.622608</td>\n      <td>2.109737</td>\n      <td>-0.244858</td>\n      <td>1.148072</td>\n      <td>-0.569996</td>\n      <td>0.022964</td>\n      <td>-0.316437</td>\n      <td>-0.314477</td>\n      <td>-0.873786</td>\n      <td>-0.261498</td>\n      <td>0.010050</td>\n      <td>0.094754</td>\n      <td>1.435845</td>\n      <td>0.796264</td>\n      <td>-0.656091</td>\n      <td>0.986760</td>\n      <td>0.778326</td>\n      <td>-1.486876</td>\n      <td>-0.487234</td>\n      <td>0.063411</td>\n      <td>-0.219447</td>\n      <td>-0.323744</td>\n      <td>0.742922</td>\n      <td>-0.568103</td>\n      <td>-0.342143</td>\n      <td>-0.247021</td>\n      <td>-0.508756</td>\n      <td>0.528948</td>\n      <td>-0.326922</td>\n      <td>-0.339212</td>\n      <td>1.218003</td>\n      <td>1.452817</td>\n      <td>-0.510043</td>\n      <td>-0.027840</td>\n      <td>0.568765</td>\n      <td>0.119529</td>\n      <td>0.603517</td>\n      <td>-0.117628</td>\n      <td>-0.469200</td>\n      <td>0.166790</td>\n      <td>0.896044</td>\n      <td>-0.414308</td>\n      <td>1.168229</td>\n      <td>-1.379842</td>\n      <td>...</td>\n      <td>-1.080364</td>\n      <td>0.015214</td>\n      <td>-0.634084</td>\n      <td>-0.053919</td>\n      <td>-0.786133</td>\n      <td>0.787870</td>\n      <td>-0.104702</td>\n      <td>-0.241910</td>\n      <td>-0.413598</td>\n      <td>0.389321</td>\n      <td>-0.533022</td>\n      <td>0.689149</td>\n      <td>-0.608955</td>\n      <td>-1.389345</td>\n      <td>-0.690005</td>\n      <td>-0.072929</td>\n      <td>-0.558275</td>\n      <td>-0.147552</td>\n      <td>3.202295</td>\n      <td>-0.530673</td>\n      <td>0.606923</td>\n      <td>-0.448273</td>\n      <td>0.452219</td>\n      <td>-0.316291</td>\n      <td>-0.132816</td>\n      <td>-2.099342</td>\n      <td>-0.230162</td>\n      <td>-1.109056</td>\n      <td>-0.122863</td>\n      <td>-0.350468</td>\n      <td>-0.261988</td>\n      <td>0.375490</td>\n      <td>-0.619965</td>\n      <td>-0.893428</td>\n      <td>-0.519380</td>\n      <td>0.211129</td>\n      <td>0.400512</td>\n      <td>1.578057</td>\n      <td>-0.682470</td>\n      <td>-0.562465</td>\n      <td>-0.300559</td>\n      <td>-0.148964</td>\n      <td>-0.305835</td>\n      <td>-0.440886</td>\n      <td>-0.455093</td>\n      <td>-0.229296</td>\n      <td>-1.171512</td>\n      <td>-0.161561</td>\n      <td>0.402694</td>\n      <td>-0.365711</td>\n    </tr>\n    <tr>\n      <th>1</th>\n      <td>ACH-000465</td>\n      <td>SKMEL1</td>\n      <td>SKMEL1_SKIN</td>\n      <td>1.002036</td>\n      <td>-0.683018</td>\n      <td>-0.035610</td>\n      <td>1.289642</td>\n      <td>-0.955581</td>\n      <td>0.544522</td>\n      <td>-1.170356</td>\n      <td>-0.737431</td>\n      <td>-0.744249</td>\n      <td>-0.474254</td>\n      <td>-0.222868</td>\n      <td>-0.059288</td>\n      <td>-0.449767</td>\n      <td>-0.896285</td>\n      <td>-1.069726</td>\n      <td>-0.164731</td>\n      <td>0.742613</td>\n      <td>0.996012</td>\n      <td>0.686164</td>\n      <td>1.096561</td>\n      <td>-1.827324</td>\n      <td>0.060776</td>\n      <td>0.884327</td>\n      <td>-0.045098</td>\n      <td>-0.221243</td>\n      <td>1.235396</td>\n      <td>-0.848681</td>\n      <td>-0.380149</td>\n      <td>2.293523</td>\n      <td>-0.171288</td>\n      <td>0.735416</td>\n      <td>0.938012</td>\n      <td>-0.299863</td>\n      <td>0.745654</td>\n      <td>0.708787</td>\n      <td>3.625428</td>\n      <td>0.776908</td>\n      <td>-0.131072</td>\n      <td>0.477550</td>\n      <td>-0.592164</td>\n      <td>0.360353</td>\n      <td>-0.526862</td>\n      <td>-2.972592</td>\n      <td>1.646099</td>\n      <td>-0.165629</td>\n      <td>1.116914</td>\n      <td>-0.074435</td>\n      <td>...</td>\n      <td>-0.854341</td>\n      <td>-0.190008</td>\n      <td>-0.128647</td>\n      <td>-0.053919</td>\n      <td>2.353328</td>\n      <td>1.244539</td>\n      <td>-0.104702</td>\n      <td>0.076027</td>\n      <td>0.007392</td>\n      <td>1.897811</td>\n      <td>0.042712</td>\n      <td>0.414003</td>\n      <td>-0.695517</td>\n      <td>-0.073870</td>\n      <td>0.077024</td>\n      <td>-0.072929</td>\n      <td>2.018530</td>\n      <td>-0.322697</td>\n      <td>0.965510</td>\n      <td>-0.754514</td>\n      <td>1.268144</td>\n      <td>-0.448273</td>\n      <td>2.328345</td>\n      <td>-0.381683</td>\n      <td>0.243400</td>\n      <td>-2.014144</td>\n      <td>0.634769</td>\n      <td>-1.315049</td>\n      <td>-0.943167</td>\n      <td>1.250493</td>\n      <td>0.510878</td>\n      <td>2.345159</td>\n      <td>-1.168007</td>\n      <td>-0.726712</td>\n      <td>-0.546379</td>\n      <td>-0.644031</td>\n      <td>-1.227850</td>\n      <td>0.341964</td>\n      <td>2.264866</td>\n      <td>0.837974</td>\n      <td>-0.878977</td>\n      <td>0.554996</td>\n      <td>-0.775009</td>\n      <td>-0.226745</td>\n      <td>2.380571</td>\n      <td>-0.873418</td>\n      <td>1.424484</td>\n      <td>-0.185402</td>\n      <td>1.780890</td>\n      <td>-0.365711</td>\n    </tr>\n    <tr>\n      <th>2</th>\n      <td>ACH-000999</td>\n      <td>SNU1040</td>\n      <td>SNU1040_LARGE_INTESTINE</td>\n      <td>-0.807224</td>\n      <td>0.145635</td>\n      <td>-0.414071</td>\n      <td>0.274888</td>\n      <td>0.296583</td>\n      <td>0.399910</td>\n      <td>-0.868891</td>\n      <td>0.708434</td>\n      <td>1.126769</td>\n      <td>0.952953</td>\n      <td>-0.397951</td>\n      <td>0.080261</td>\n      <td>-0.645772</td>\n      <td>0.458910</td>\n      <td>-0.111461</td>\n      <td>-0.409548</td>\n      <td>0.367298</td>\n      <td>0.180324</td>\n      <td>-0.051144</td>\n      <td>0.188384</td>\n      <td>-0.188274</td>\n      <td>0.584490</td>\n      <td>0.563205</td>\n      <td>0.012051</td>\n      <td>-0.120067</td>\n      <td>0.394558</td>\n      <td>-0.671676</td>\n      <td>0.193627</td>\n      <td>0.508319</td>\n      <td>-0.374128</td>\n      <td>-0.502798</td>\n      <td>0.069870</td>\n      <td>-0.108784</td>\n      <td>-0.876789</td>\n      <td>0.030122</td>\n      <td>-0.445147</td>\n      <td>-0.147044</td>\n      <td>-0.196520</td>\n      <td>-0.013882</td>\n      <td>0.864936</td>\n      <td>-0.127888</td>\n      <td>-0.450703</td>\n      <td>1.038819</td>\n      <td>0.928466</td>\n      <td>-0.391457</td>\n      <td>1.992813</td>\n      <td>0.432799</td>\n      <td>...</td>\n      <td>-1.133223</td>\n      <td>-0.190008</td>\n      <td>0.045222</td>\n      <td>-0.053919</td>\n      <td>1.315036</td>\n      <td>1.016542</td>\n      <td>-0.104702</td>\n      <td>-0.241910</td>\n      <td>1.181839</td>\n      <td>0.214126</td>\n      <td>-0.484775</td>\n      <td>-0.340810</td>\n      <td>-0.643080</td>\n      <td>0.259435</td>\n      <td>0.498065</td>\n      <td>-0.072929</td>\n      <td>0.348954</td>\n      <td>-0.194283</td>\n      <td>-1.248385</td>\n      <td>-1.239608</td>\n      <td>0.109354</td>\n      <td>1.393199</td>\n      <td>0.306835</td>\n      <td>0.187338</td>\n      <td>-0.194645</td>\n      <td>0.819895</td>\n      <td>0.510243</td>\n      <td>0.443006</td>\n      <td>-0.037145</td>\n      <td>0.958024</td>\n      <td>0.996063</td>\n      <td>-0.172958</td>\n      <td>-1.062957</td>\n      <td>-0.958420</td>\n      <td>-0.573908</td>\n      <td>0.321418</td>\n      <td>-0.382475</td>\n      <td>2.378465</td>\n      <td>-0.154600</td>\n      <td>1.570402</td>\n      <td>0.597254</td>\n      <td>0.034146</td>\n      <td>0.291371</td>\n      <td>1.213802</td>\n      <td>2.996629</td>\n      <td>1.040858</td>\n      <td>-0.486868</td>\n      <td>-0.283115</td>\n      <td>0.659535</td>\n      <td>-0.365711</td>\n    </tr>\n    <tr>\n      <th>3</th>\n      <td>ACH-000017</td>\n      <td>SKBR3</td>\n      <td>SKBR3_BREAST</td>\n      <td>-2.016029</td>\n      <td>1.361690</td>\n      <td>-0.823237</td>\n      <td>0.165522</td>\n      <td>-0.103936</td>\n      <td>-0.435080</td>\n      <td>-0.314680</td>\n      <td>-0.544161</td>\n      <td>-1.045753</td>\n      <td>0.921816</td>\n      <td>-0.369582</td>\n      <td>-0.396651</td>\n      <td>-0.522471</td>\n      <td>0.092567</td>\n      <td>1.115010</td>\n      <td>-0.426114</td>\n      <td>-0.532899</td>\n      <td>-0.399915</td>\n      <td>-0.470171</td>\n      <td>-0.388019</td>\n      <td>-0.851854</td>\n      <td>-0.354696</td>\n      <td>-0.822275</td>\n      <td>-0.187659</td>\n      <td>-1.159396</td>\n      <td>-0.186145</td>\n      <td>-0.601525</td>\n      <td>4.784246</td>\n      <td>1.613273</td>\n      <td>2.079951</td>\n      <td>-0.438200</td>\n      <td>-0.394547</td>\n      <td>-0.299863</td>\n      <td>-0.819035</td>\n      <td>-0.156465</td>\n      <td>-0.606034</td>\n      <td>0.090265</td>\n      <td>-0.131072</td>\n      <td>-0.083675</td>\n      <td>-0.531011</td>\n      <td>-2.295716</td>\n      <td>-0.507266</td>\n      <td>-1.064128</td>\n      <td>-0.527740</td>\n      <td>-0.437984</td>\n      <td>0.541273</td>\n      <td>-0.177746</td>\n      <td>...</td>\n      <td>-0.335279</td>\n      <td>-0.064543</td>\n      <td>-0.680782</td>\n      <td>-0.053919</td>\n      <td>1.111740</td>\n      <td>-0.096000</td>\n      <td>-0.104702</td>\n      <td>-0.241910</td>\n      <td>0.498529</td>\n      <td>0.782152</td>\n      <td>-0.503792</td>\n      <td>-1.229997</td>\n      <td>-0.695517</td>\n      <td>-0.927601</td>\n      <td>1.353941</td>\n      <td>-0.072929</td>\n      <td>-0.491987</td>\n      <td>-0.709535</td>\n      <td>-0.083240</td>\n      <td>-0.083343</td>\n      <td>1.060421</td>\n      <td>-0.333103</td>\n      <td>-0.303839</td>\n      <td>-0.528598</td>\n      <td>-0.647771</td>\n      <td>0.865640</td>\n      <td>0.528961</td>\n      <td>1.128220</td>\n      <td>-1.175414</td>\n      <td>-1.035601</td>\n      <td>-1.263951</td>\n      <td>-0.784960</td>\n      <td>1.375061</td>\n      <td>-0.975071</td>\n      <td>-0.587877</td>\n      <td>3.167763</td>\n      <td>-0.822839</td>\n      <td>-0.440010</td>\n      <td>-0.355407</td>\n      <td>-0.711718</td>\n      <td>-0.668907</td>\n      <td>-1.848046</td>\n      <td>-0.377605</td>\n      <td>1.108825</td>\n      <td>-0.794638</td>\n      <td>-0.189262</td>\n      <td>-0.954282</td>\n      <td>-0.137946</td>\n      <td>0.776237</td>\n      <td>0.879781</td>\n    </tr>\n    <tr>\n      <th>4</th>\n      <td>ACH-000587</td>\n      <td>NCIH1975</td>\n      <td>NCIH1975_LUNG</td>\n      <td>0.708107</td>\n      <td>1.294905</td>\n      <td>-0.539657</td>\n      <td>-2.209432</td>\n      <td>0.040090</td>\n      <td>-0.453390</td>\n      <td>-0.846903</td>\n      <td>-1.332346</td>\n      <td>0.927683</td>\n      <td>0.581850</td>\n      <td>-0.383696</td>\n      <td>0.821754</td>\n      <td>-0.162692</td>\n      <td>0.580834</td>\n      <td>-0.022159</td>\n      <td>-0.426114</td>\n      <td>-0.004074</td>\n      <td>0.009170</td>\n      <td>0.922582</td>\n      <td>-0.327148</td>\n      <td>0.734117</td>\n      <td>0.330275</td>\n      <td>0.855232</td>\n      <td>-0.433633</td>\n      <td>-0.326968</td>\n      <td>0.706412</td>\n      <td>1.706895</td>\n      <td>-0.329715</td>\n      <td>0.768091</td>\n      <td>0.017905</td>\n      <td>1.997586</td>\n      <td>-0.788919</td>\n      <td>-0.339212</td>\n      <td>1.106899</td>\n      <td>0.540892</td>\n      <td>-0.288793</td>\n      <td>0.552091</td>\n      <td>-0.098819</td>\n      <td>-0.559015</td>\n      <td>-0.606451</td>\n      <td>0.194044</td>\n      <td>-0.526862</td>\n      <td>0.747720</td>\n      <td>0.375896</td>\n      <td>-0.475177</td>\n      <td>0.254844</td>\n      <td>-0.340075</td>\n      <td>...</td>\n      <td>0.402018</td>\n      <td>-0.126362</td>\n      <td>-0.377598</td>\n      <td>-0.053919</td>\n      <td>0.223996</td>\n      <td>-0.359605</td>\n      <td>-0.104702</td>\n      <td>-0.241910</td>\n      <td>-0.302671</td>\n      <td>1.369951</td>\n      <td>-0.533022</td>\n      <td>0.370697</td>\n      <td>1.993086</td>\n      <td>1.248827</td>\n      <td>-0.284255</td>\n      <td>-0.072929</td>\n      <td>-0.525393</td>\n      <td>0.138171</td>\n      <td>0.375216</td>\n      <td>0.161191</td>\n      <td>0.979050</td>\n      <td>0.580406</td>\n      <td>0.340331</td>\n      <td>-1.103135</td>\n      <td>-0.434149</td>\n      <td>1.023172</td>\n      <td>0.840681</td>\n      <td>0.324323</td>\n      <td>0.060476</td>\n      <td>-0.269565</td>\n      <td>0.963132</td>\n      <td>0.370533</td>\n      <td>0.217363</td>\n      <td>-0.958420</td>\n      <td>-0.573908</td>\n      <td>-0.429568</td>\n      <td>0.849279</td>\n      <td>0.596077</td>\n      <td>0.296663</td>\n      <td>0.685377</td>\n      <td>-0.372672</td>\n      <td>0.794836</td>\n      <td>-0.785599</td>\n      <td>0.612083</td>\n      <td>-0.144886</td>\n      <td>0.727006</td>\n      <td>-0.405210</td>\n      <td>-0.233779</td>\n      <td>0.090316</td>\n      <td>-0.376656</td>\n    </tr>\n  </tbody>\n</table>\n<p>5 rows × 13286 columns</p>\n</div>"
     },
     "metadata": {},
     "execution_count": 9
    }
   ],
   "source": [
    "ccle_expr_zscored = ccle_expr\n",
    "\n",
    "# zscore \n",
    "ccle_expr_zscored[ccle_genes] = (ccle_expr_zscored[ccle_genes].values - ccle_expr_zscored[ccle_genes].values.mean(axis=0))/ccle_expr_zscored[ccle_genes].values.std(axis=0)\n",
    "\n",
    "# merge with lincs cell names \n",
    "ccle_expr_zscored = ccle_expr_zscored.merge(linc_lines, on='DepMap_ID')\n",
    "\n",
    "# select PPI graph genes \n",
    "ccle_expr_zscored = ccle_expr_zscored[['DepMap_ID', 'cell_iname', 'ccle_name'] + list(overlap_genes)]\n",
    "\n",
    "print('shape', ccle_expr_zscored.shape)\n",
    "ccle_expr_zscored.head()"
   ]
  },
  {
   "cell_type": "code",
   "execution_count": 10,
   "metadata": {},
   "outputs": [
    {
     "output_type": "execute_result",
     "data": {
      "text/plain": [
       "False"
      ]
     },
     "metadata": {},
     "execution_count": 10
    }
   ],
   "source": [
    "ccle_expr_zscored.isna().any().any()"
   ]
  },
  {
   "cell_type": "code",
   "execution_count": 15,
   "metadata": {},
   "outputs": [],
   "source": [
    "expr  =    {'unpert_expr'      : ccle_expr_zscored, \n",
    "            'linc_ccle_lines'  : linc_lines,        \n",
    "            'meta'             : 'z-scored CCLE rna expression', \n",
    "            'source'           : './CCLE/notebooks/make_unpert_expression_data.ipynb',\n",
    "            'creation_date'    : dt.datetime.now().__str__()} \n",
    "\n",
    "with open('../../cell_baseline.pkl', 'wb') as f: \n",
    "    pkl.dump(expr, f)"
   ]
  },
  {
   "cell_type": "code",
   "execution_count": null,
   "metadata": {},
   "outputs": [],
   "source": []
  }
 ]
}