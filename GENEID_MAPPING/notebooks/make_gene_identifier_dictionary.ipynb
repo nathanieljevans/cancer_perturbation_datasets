{
 "metadata": {
  "language_info": {
   "codemirror_mode": {
    "name": "ipython",
    "version": 3
   },
   "file_extension": ".py",
   "mimetype": "text/x-python",
   "name": "python",
   "nbconvert_exporter": "python",
   "pygments_lexer": "ipython3",
   "version": "3.8.5"
  },
  "orig_nbformat": 2,
  "kernelspec": {
   "name": "python385jvsc74a57bd0df76dc7eefd3519b618d4f742ac9d22003ce12e4db2fef6c1d63a51a9f543aa2",
   "display_name": "Python 3.8.5 64-bit ('gcnvae': conda)"
  }
 },
 "nbformat": 4,
 "nbformat_minor": 2,
 "cells": [
  {
   "cell_type": "code",
   "execution_count": 3,
   "metadata": {},
   "outputs": [],
   "source": [
    "import pandas as pd \n",
    "import numpy as np \n",
    "import pickle as pkl"
   ]
  },
  {
   "source": [
    "# Create gene id dictionary   \n"
   ],
   "cell_type": "markdown",
   "metadata": {}
  },
  {
   "cell_type": "code",
   "execution_count": 4,
   "metadata": {},
   "outputs": [],
   "source": [
    "data_dir = '../data/raw/'"
   ]
  },
  {
   "cell_type": "code",
   "execution_count": 5,
   "metadata": {},
   "outputs": [
    {
     "output_type": "execute_result",
     "data": {
      "text/plain": [
       "      HGNC ID Approved symbol                   Approved name    Status  \\\n",
       "0      HGNC:5            A1BG          alpha-1-B glycoprotein  Approved   \n",
       "1  HGNC:37133        A1BG-AS1            A1BG antisense RNA 1  Approved   \n",
       "2  HGNC:24086            A1CF  APOBEC1 complementation factor  Approved   \n",
       "3      HGNC:7             A2M           alpha-2-macroglobulin  Approved   \n",
       "4  HGNC:27057         A2M-AS1             A2M antisense RNA 1  Approved   \n",
       "\n",
       "                       Alias symbols RefSeq IDs  \\\n",
       "0                                NaN  NM_130786   \n",
       "1                           FLJ23569  NR_015380   \n",
       "2  ACF, ASP, ACF64, ACF65, APOBEC1CF  NM_014576   \n",
       "3             FWP007, S863-7, CPAMD5  NM_000014   \n",
       "4                                NaN  NR_026971   \n",
       "\n",
       "  UniProt ID(supplied by UniProt) Ensembl ID(supplied by Ensembl)  \n",
       "0                          P04217                 ENSG00000121410  \n",
       "1                             NaN                 ENSG00000268895  \n",
       "2                          Q9NQ94                 ENSG00000148584  \n",
       "3                          P01023                 ENSG00000175899  \n",
       "4                             NaN                 ENSG00000245105  "
      ],
      "text/html": "<div>\n<style scoped>\n    .dataframe tbody tr th:only-of-type {\n        vertical-align: middle;\n    }\n\n    .dataframe tbody tr th {\n        vertical-align: top;\n    }\n\n    .dataframe thead th {\n        text-align: right;\n    }\n</style>\n<table border=\"1\" class=\"dataframe\">\n  <thead>\n    <tr style=\"text-align: right;\">\n      <th></th>\n      <th>HGNC ID</th>\n      <th>Approved symbol</th>\n      <th>Approved name</th>\n      <th>Status</th>\n      <th>Alias symbols</th>\n      <th>RefSeq IDs</th>\n      <th>UniProt ID(supplied by UniProt)</th>\n      <th>Ensembl ID(supplied by Ensembl)</th>\n    </tr>\n  </thead>\n  <tbody>\n    <tr>\n      <th>0</th>\n      <td>HGNC:5</td>\n      <td>A1BG</td>\n      <td>alpha-1-B glycoprotein</td>\n      <td>Approved</td>\n      <td>NaN</td>\n      <td>NM_130786</td>\n      <td>P04217</td>\n      <td>ENSG00000121410</td>\n    </tr>\n    <tr>\n      <th>1</th>\n      <td>HGNC:37133</td>\n      <td>A1BG-AS1</td>\n      <td>A1BG antisense RNA 1</td>\n      <td>Approved</td>\n      <td>FLJ23569</td>\n      <td>NR_015380</td>\n      <td>NaN</td>\n      <td>ENSG00000268895</td>\n    </tr>\n    <tr>\n      <th>2</th>\n      <td>HGNC:24086</td>\n      <td>A1CF</td>\n      <td>APOBEC1 complementation factor</td>\n      <td>Approved</td>\n      <td>ACF, ASP, ACF64, ACF65, APOBEC1CF</td>\n      <td>NM_014576</td>\n      <td>Q9NQ94</td>\n      <td>ENSG00000148584</td>\n    </tr>\n    <tr>\n      <th>3</th>\n      <td>HGNC:7</td>\n      <td>A2M</td>\n      <td>alpha-2-macroglobulin</td>\n      <td>Approved</td>\n      <td>FWP007, S863-7, CPAMD5</td>\n      <td>NM_000014</td>\n      <td>P01023</td>\n      <td>ENSG00000175899</td>\n    </tr>\n    <tr>\n      <th>4</th>\n      <td>HGNC:27057</td>\n      <td>A2M-AS1</td>\n      <td>A2M antisense RNA 1</td>\n      <td>Approved</td>\n      <td>NaN</td>\n      <td>NR_026971</td>\n      <td>NaN</td>\n      <td>ENSG00000245105</td>\n    </tr>\n  </tbody>\n</table>\n</div>"
     },
     "metadata": {},
     "execution_count": 5
    }
   ],
   "source": [
    "genemap = pd.read_csv(data_dir + '/geneid_map.txt', sep='\\t')\n",
    "#genemap = genemap[lambda x: x.Status == 'Approved' ]\n",
    "genemap.head()"
   ]
  },
  {
   "cell_type": "code",
   "execution_count": 8,
   "metadata": {},
   "outputs": [
    {
     "output_type": "execute_result",
     "data": {
      "text/plain": [
       "False"
      ]
     },
     "metadata": {},
     "execution_count": 8
    }
   ],
   "source": [
    "'TARP' in genemap['Approved symbol'].values"
   ]
  },
  {
   "cell_type": "code",
   "execution_count": 6,
   "metadata": {},
   "outputs": [
    {
     "output_type": "stream",
     "name": "stdout",
     "text": [
      "number of gene id mappings: 156231\nnumber of non-unique mappings: 1609\n"
     ]
    }
   ],
   "source": [
    "all2ensembl = {**{HGNC.upper() : [ensembl.upper()] for HGNC, ensembl in genemap[['HGNC ID', \n",
    "                                                    'Ensembl ID(supplied by Ensembl)']].values if type(ensembl) is not float},\n",
    "           **{ensembl.upper() : [ensembl.upper()] for ensembl in genemap['Ensembl ID(supplied by Ensembl)'].values if type(ensembl) is not float},\n",
    "           **{symb.upper() : [ensembl.upper()] for symb, ensembl in genemap[['Approved symbol', 'Ensembl ID(supplied by Ensembl)']].values if type(ensembl) is not float}}\n",
    "\n",
    "for alias, ensembl in genemap[['Alias symbols', 'Ensembl ID(supplied by Ensembl)']].values: \n",
    "    if (type(alias) is not float) & (type(ensembl) is not float): \n",
    "        for alias2 in alias.split(','): \n",
    "            if alias2.upper().strip() in all2ensembl: \n",
    "                all2ensembl[alias2.upper().strip()] += [ensembl.upper()]\n",
    "            else: \n",
    "                all2ensembl[alias2.upper().strip()] = [ensembl.upper()]\n",
    "\n",
    "print('number of gene id mappings:', len(all2ensembl))\n",
    "print('number of non-unique mappings:', len([x for x in all2ensembl.values() if len(x) > 1]))\n",
    "\n",
    "with open('../data/processed/all2ensembl.pkl', 'wb') as f: \n",
    "    pkl.dump(all2ensembl, f)"
   ]
  },
  {
   "cell_type": "code",
   "execution_count": null,
   "metadata": {},
   "outputs": [],
   "source": []
  },
  {
   "cell_type": "code",
   "execution_count": 9,
   "metadata": {},
   "outputs": [
    {
     "output_type": "stream",
     "name": "stdout",
     "text": [
      "number of gene id mappings: 164349\nnumber of non-unique mappings: 1640\n"
     ]
    }
   ],
   "source": [
    "all2symb = {**{HGNC.upper() : [symb.upper()] for HGNC, symb in genemap[['HGNC ID', \n",
    "                                                    'Approved symbol']].values},\n",
    "\n",
    "           **{symb.upper() : [symb.upper()] for symb in genemap['Approved symbol'].values},\n",
    "\n",
    "           **{ensembl.upper() : [symb.upper()] for symb, ensembl in genemap[['Approved symbol', 'Ensembl ID(supplied by Ensembl)']].values if type(ensembl) is not float}}\n",
    "\n",
    "for alias, symb in genemap[['Alias symbols', 'Approved symbol']].values: \n",
    "    if (type(alias) is not float) & (type(symb) is not float): \n",
    "        for alias2 in alias.split(','): \n",
    "            if alias2.upper().strip() in all2symb: \n",
    "                all2symb[alias2.upper().strip()] += [symb.upper()]\n",
    "            else: \n",
    "                all2symb[alias2.upper().strip()] = [symb.upper()]\n",
    "\n",
    "print('number of gene id mappings:', len(all2symb))\n",
    "print('number of non-unique mappings:', len([x for x in all2symb.values() if len(x) > 1]))\n",
    "\n",
    "with open('../data/processed/all2genesymbol.pkl', 'wb') as f: \n",
    "    pkl.dump(all2symb, f)"
   ]
  },
  {
   "cell_type": "code",
   "execution_count": null,
   "metadata": {},
   "outputs": [],
   "source": []
  }
 ]
}