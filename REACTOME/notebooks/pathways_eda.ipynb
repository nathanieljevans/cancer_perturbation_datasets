{
 "metadata": {
  "language_info": {
   "codemirror_mode": {
    "name": "ipython",
    "version": 3
   },
   "file_extension": ".py",
   "mimetype": "text/x-python",
   "name": "python",
   "nbconvert_exporter": "python",
   "pygments_lexer": "ipython3",
   "version": "3.8.5"
  },
  "orig_nbformat": 2,
  "kernelspec": {
   "name": "python3",
   "display_name": "Python 3.8.5 64-bit ('gcnvae': conda)"
  },
  "interpreter": {
   "hash": "df76dc7eefd3519b618d4f742ac9d22003ce12e4db2fef6c1d63a51a9f543aa2"
  }
 },
 "nbformat": 4,
 "nbformat_minor": 2,
 "cells": [
  {
   "cell_type": "code",
   "execution_count": 1,
   "metadata": {},
   "outputs": [],
   "source": [
    "import numpy as np\n",
    "import pandas as pd\n",
    "from matplotlib import pyplot as plt\n",
    "import seaborn as sbn\n",
    "import networkx as nx \n",
    "import datetime as dt\n",
    "import time\n",
    "import random\n",
    "import pickle as pkl\n",
    "\n",
    "# reproducibility\n",
    "random.seed(0)\n",
    "np.random.seed(0)"
   ]
  },
  {
   "cell_type": "code",
   "execution_count": 3,
   "metadata": {},
   "outputs": [
    {
     "output_type": "execute_result",
     "data": {
      "text/plain": [
       "               0                                                  1  \\\n",
       "0    R-BTA-73843         5-Phosphoribose 1-diphosphate biosynthesis   \n",
       "1  R-BTA-1971475  A tetrasaccharide linker sequence is required ...   \n",
       "2  R-BTA-1369062              ABC transporters in lipid homeostasis   \n",
       "3   R-BTA-382556             ABC-family proteins mediated transport   \n",
       "4  R-BTA-9033807                       ABO blood group biosynthesis   \n",
       "\n",
       "            2  \n",
       "0  Bos taurus  \n",
       "1  Bos taurus  \n",
       "2  Bos taurus  \n",
       "3  Bos taurus  \n",
       "4  Bos taurus  "
      ],
      "text/html": "<div>\n<style scoped>\n    .dataframe tbody tr th:only-of-type {\n        vertical-align: middle;\n    }\n\n    .dataframe tbody tr th {\n        vertical-align: top;\n    }\n\n    .dataframe thead th {\n        text-align: right;\n    }\n</style>\n<table border=\"1\" class=\"dataframe\">\n  <thead>\n    <tr style=\"text-align: right;\">\n      <th></th>\n      <th>0</th>\n      <th>1</th>\n      <th>2</th>\n    </tr>\n  </thead>\n  <tbody>\n    <tr>\n      <th>0</th>\n      <td>R-BTA-73843</td>\n      <td>5-Phosphoribose 1-diphosphate biosynthesis</td>\n      <td>Bos taurus</td>\n    </tr>\n    <tr>\n      <th>1</th>\n      <td>R-BTA-1971475</td>\n      <td>A tetrasaccharide linker sequence is required ...</td>\n      <td>Bos taurus</td>\n    </tr>\n    <tr>\n      <th>2</th>\n      <td>R-BTA-1369062</td>\n      <td>ABC transporters in lipid homeostasis</td>\n      <td>Bos taurus</td>\n    </tr>\n    <tr>\n      <th>3</th>\n      <td>R-BTA-382556</td>\n      <td>ABC-family proteins mediated transport</td>\n      <td>Bos taurus</td>\n    </tr>\n    <tr>\n      <th>4</th>\n      <td>R-BTA-9033807</td>\n      <td>ABO blood group biosynthesis</td>\n      <td>Bos taurus</td>\n    </tr>\n  </tbody>\n</table>\n</div>"
     },
     "metadata": {},
     "execution_count": 3
    }
   ],
   "source": [
    "pathways = pd.read_csv('../data/raw/ReactomePathways.txt', sep='\\t', header=None)\n",
    "pathways.head()"
   ]
  },
  {
   "cell_type": "code",
   "execution_count": 12,
   "metadata": {},
   "outputs": [
    {
     "output_type": "execute_result",
     "data": {
      "text/plain": [
       "                  0                                                  1  \\\n",
       "10008  R-HSA-176187  Activation of ATR in response to replication s...   \n",
       "\n",
       "                  2  \n",
       "10008  Homo sapiens  "
      ],
      "text/html": "<div>\n<style scoped>\n    .dataframe tbody tr th:only-of-type {\n        vertical-align: middle;\n    }\n\n    .dataframe tbody tr th {\n        vertical-align: top;\n    }\n\n    .dataframe thead th {\n        text-align: right;\n    }\n</style>\n<table border=\"1\" class=\"dataframe\">\n  <thead>\n    <tr style=\"text-align: right;\">\n      <th></th>\n      <th>0</th>\n      <th>1</th>\n      <th>2</th>\n    </tr>\n  </thead>\n  <tbody>\n    <tr>\n      <th>10008</th>\n      <td>R-HSA-176187</td>\n      <td>Activation of ATR in response to replication s...</td>\n      <td>Homo sapiens</td>\n    </tr>\n  </tbody>\n</table>\n</div>"
     },
     "metadata": {},
     "execution_count": 12
    }
   ],
   "source": [
    "pathways[pathways[0] == 'R-HSA-176187']"
   ]
  },
  {
   "cell_type": "code",
   "execution_count": 6,
   "metadata": {},
   "outputs": [
    {
     "output_type": "execute_result",
     "data": {
      "text/plain": [
       "dict_keys(['nodelist', 'graphs', 'genemap', 'meta', 'creation_date'])"
      ]
     },
     "metadata": {},
     "execution_count": 6
    }
   ],
   "source": [
    "with open('../../PPI_graph.pkl', 'rb') as f: \n",
    "    PPI_graph = pkl.load(f)\n",
    "\n",
    "PPI_graph.keys()"
   ]
  },
  {
   "cell_type": "code",
   "execution_count": 10,
   "metadata": {},
   "outputs": [
    {
     "output_type": "stream",
     "name": "stdout",
     "text": [
      "2484\n"
     ]
    }
   ],
   "source": [
    "with open('../data/raw/ReactomePathways.gmt', 'r') as f: \n",
    "    lines = f.readlines()\n",
    "\n",
    "genesets = {}\n",
    "for line in lines: \n",
    "    name, pathid, genes = line.split('\\t', maxsplit=2)\n",
    "    genesets[pathid] = set([PPI_graph['genemap'][x.upper()] for x in genes.split('\\t') if (x.upper() in PPI_graph['genemap'])])\n",
    "\n",
    "print(len(genesets))"
   ]
  },
  {
   "cell_type": "code",
   "execution_count": 11,
   "metadata": {},
   "outputs": [
    {
     "output_type": "execute_result",
     "data": {
      "text/plain": [
       "36"
      ]
     },
     "metadata": {},
     "execution_count": 11
    }
   ],
   "source": [
    "atr_geneset = genesets['R-HSA-176187']\n",
    "len(mapk_geneset)"
   ]
  },
  {
   "cell_type": "code",
   "execution_count": 41,
   "metadata": {},
   "outputs": [],
   "source": [
    "with open('../../ATR_geneset.txt', 'w') as f: \n",
    "    _ = [f.write(x + '\\n') for x in mapk_geneset] "
   ]
  },
  {
   "cell_type": "code",
   "execution_count": null,
   "metadata": {},
   "outputs": [],
   "source": []
  }
 ]
}