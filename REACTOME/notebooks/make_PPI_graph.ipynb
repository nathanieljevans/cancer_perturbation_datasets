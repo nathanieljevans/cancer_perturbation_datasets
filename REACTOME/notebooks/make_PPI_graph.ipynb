{
 "metadata": {
  "language_info": {
   "codemirror_mode": {
    "name": "ipython",
    "version": 3
   },
   "file_extension": ".py",
   "mimetype": "text/x-python",
   "name": "python",
   "nbconvert_exporter": "python",
   "pygments_lexer": "ipython3",
   "version": "3.8.5"
  },
  "orig_nbformat": 2,
  "kernelspec": {
   "name": "python3",
   "display_name": "Python 3.8.5 64-bit ('gcnvae': conda)"
  },
  "interpreter": {
   "hash": "df76dc7eefd3519b618d4f742ac9d22003ce12e4db2fef6c1d63a51a9f543aa2"
  }
 },
 "nbformat": 4,
 "nbformat_minor": 2,
 "cells": [
  {
   "cell_type": "code",
   "execution_count": 38,
   "metadata": {},
   "outputs": [],
   "source": [
    "import numpy as np\n",
    "import pandas as pd\n",
    "from matplotlib import pyplot as plt\n",
    "import seaborn as sbn\n",
    "import networkx as nx \n",
    "import datetime as dt\n",
    "import time\n",
    "import random\n",
    "import pickle as pkl\n",
    "from scipy.sparse import csr_matrix\n",
    "\n",
    "# reproducibility\n",
    "random.seed(0)\n",
    "np.random.seed(0)"
   ]
  },
  {
   "cell_type": "code",
   "execution_count": 3,
   "metadata": {},
   "outputs": [
    {
     "output_type": "execute_result",
     "data": {
      "text/plain": [
       "    Gene1    Gene2                    Annotation Direction  Score\n",
       "0  16-5-5    CDC42                     predicted         -   0.98\n",
       "1  16-5-5    PARD3                     predicted         -   1.00\n",
       "2  16-5-5   PARD3B                     predicted         -   1.00\n",
       "3    A1CF  APOBEC1  catalyzed by; complex; input        <-   1.00\n",
       "4    A1CF    EP300       expression regulated by        <-   1.00"
      ],
      "text/html": "<div>\n<style scoped>\n    .dataframe tbody tr th:only-of-type {\n        vertical-align: middle;\n    }\n\n    .dataframe tbody tr th {\n        vertical-align: top;\n    }\n\n    .dataframe thead th {\n        text-align: right;\n    }\n</style>\n<table border=\"1\" class=\"dataframe\">\n  <thead>\n    <tr style=\"text-align: right;\">\n      <th></th>\n      <th>Gene1</th>\n      <th>Gene2</th>\n      <th>Annotation</th>\n      <th>Direction</th>\n      <th>Score</th>\n    </tr>\n  </thead>\n  <tbody>\n    <tr>\n      <th>0</th>\n      <td>16-5-5</td>\n      <td>CDC42</td>\n      <td>predicted</td>\n      <td>-</td>\n      <td>0.98</td>\n    </tr>\n    <tr>\n      <th>1</th>\n      <td>16-5-5</td>\n      <td>PARD3</td>\n      <td>predicted</td>\n      <td>-</td>\n      <td>1.00</td>\n    </tr>\n    <tr>\n      <th>2</th>\n      <td>16-5-5</td>\n      <td>PARD3B</td>\n      <td>predicted</td>\n      <td>-</td>\n      <td>1.00</td>\n    </tr>\n    <tr>\n      <th>3</th>\n      <td>A1CF</td>\n      <td>APOBEC1</td>\n      <td>catalyzed by; complex; input</td>\n      <td>&lt;-</td>\n      <td>1.00</td>\n    </tr>\n    <tr>\n      <th>4</th>\n      <td>A1CF</td>\n      <td>EP300</td>\n      <td>expression regulated by</td>\n      <td>&lt;-</td>\n      <td>1.00</td>\n    </tr>\n  </tbody>\n</table>\n</div>"
     },
     "metadata": {},
     "execution_count": 3
    }
   ],
   "source": [
    "fi = pd.read_csv('../data/raw/FIsInGene_020720_with_annotations.txt', sep='\\t', header=0)\n",
    "fi.head()"
   ]
  },
  {
   "cell_type": "code",
   "execution_count": 4,
   "metadata": {},
   "outputs": [],
   "source": [
    "with open('../../GENEID_MAPPING/data/processed/all2genesymbol.pkl', 'rb') as f: \n",
    "    all2symb = pkl.load(f)"
   ]
  },
  {
   "cell_type": "code",
   "execution_count": 5,
   "metadata": {},
   "outputs": [],
   "source": [
    "edgetype = {\n",
    "    'activated by; reaction'                                    :'activate',\n",
    "    'activate; inhibited by; reaction'                          :'activate;inhibit',\n",
    "    'activated by; complex; input; reaction'                    :'activate;complex',\n",
    "    'PPrel: activation; complex; input; reaction'               :'activate;complex',\n",
    "    'PPrel: inhibition, dephosphorylation'                      :'inhibit' ,\n",
    "    'PPrel: activation; PPrel: activation, indirect effect'     :'activate;uncertain',\n",
    "    'PPrel: binding/association; predicted'                     :'complex;uncertain',\n",
    "    'PPrel: activation; catalyze; complex; input'               :'activate;catalyze;complex',\n",
    "    'PPrel: activation; catalyze; catalyzed by; complex; input' :'activate;catalyze;complex',\n",
    "    'GErel: expression; expression regulates'                   :'regulate',\n",
    "    'catalyze; complex; input; reaction'                        :'catalyze;complex',\n",
    "    'PPrel: activated by; PPrel: activated by, phosphorylation' :'activate',\n",
    "    'catalyze; catalyzed by; complex; inhibit; input'           :'catalyze;complex;inhibit',\n",
    "    'catalyze; catalyzed by; complex; inhibite; input'          :'catalyze;complex;inhibit',\n",
    "    'PPrel: activated by; activated by'                         :'activate',\n",
    "    'complex; inhibite; input'                                  :'complex;inhibit',\n",
    "    'PPrel: activation; PPrel: activation, phosphorylation'     :'activate',\n",
    "    'activated by; complex; inhibited by; input'                :'activate;complex;inhibit',\n",
    "    'activate; activated by'                                    :'activate',\n",
    "    'PPrel: activation; activate'                               :'activate',\n",
    "    'PPrel: activation; PPrel: binding/association'             :'activate;complex',\n",
    "    'PCrel: binding/association'                                :'complex',\n",
    "    'activate; reaction'                                        :'activate',\n",
    "    'complex; inhibit; input'                                   :'complex;inhibit',\n",
    "    'PPrel: activated by, phosphorylation; catalyzed by'        :'activate;catalyze',\n",
    "    'PCrel: inhibited by; PPrel; PPrel: activated by; PPrel: inhibited by':'inhibit;activate',\n",
    "    'PPrel: activation; complex'                        :'activate;complex',\n",
    "    'activated by; input'                               :'activate',\n",
    "    'PPrel: inhibition, indirect effect'                :'inhibit',\n",
    "    'catalyze; inhibited by'                            :'catalyze;inhibit',\n",
    "    'PPrel: inhibited, indirect effect'                 :'inhibit',\n",
    "    'PPrel: activated by, dephosphorylation'            :'activate',\n",
    "    'catalyzed by; inhibited by'                        :'catalyze;inhibit',\n",
    "    'PPrel: phosphorylated by'                          :'activate;inhibit;uncertain',\n",
    "    'GErel: expression by; expression regulated by'     :'regulate',\n",
    "    'PPrel: activated by; PPrel: activated by, phosphorylation; complex; input' :'activate;complex',\n",
    "    'complex; inhibited by; input'                      :'complex;inhibit',\n",
    "    'catalyze; catalyzed by; complex; input; reaction'  :'catalyze;complex',\n",
    "    'GErel: expression, indirect effect'                :'regulate;uncertain',\n",
    "    'PPrel'                                             :'uncertain',\n",
    "    'catalyze; complex'                                 :'catalyze;complex',\n",
    "    'PPrel: activated binding/association'              :'activate;complex',\n",
    "    'activated by; catalyzed by'                        :'activate;catalyze',\n",
    "    'activated by; inhibite'                            :'activate;inhibit',\n",
    "    'PPrel: binding/association; complex'               :'complex',\n",
    "    'activate; catalyze; complex; input'                :'activate;catalyze;complex',\n",
    "    'activated by; inhibit'                             :'activate;inhibit',\n",
    "    'catalyzed by; input'                               :'catalyze',\n",
    "    'PPrel: indirect effect'                            :'uncertain',\n",
    "    'activated by; catalyzed by; complex; input'        :'activate;catalyze;complex',\n",
    "    'activate; catalyze; catalyzed by; complex; input'  :'activate;catalyze;complex', \n",
    "    'activated by; inhibited by'                        :'activate;inhibit',\n",
    "    'PPrel: activation, phosphorylation'                :'activate',\n",
    "    'PPrel: inhibition'                                 :'inhibit',\n",
    "    'activate; catalyze'                                :'activate;catalyze',\n",
    "    'complex; input; predicted'                         :'complex;uncertain',\n",
    "    'PPrel: compound'                                   :'uncertain',\n",
    "    'inhibit'                                           :'inhibit',\n",
    "    'PPrel: activation, binding/association'            :'activate',\n",
    "    'activate; input'                                   :'activate',\n",
    "    'PPrel: inhibited by, dephosphorylation'            :'inhibit',\n",
    "    'inhibite'                                          :'inhibit',\n",
    "    'PPrel: activated, indirect effect'                 :'activate',\n",
    "    'PPrel: binding/association; complex; input'        :'complex',\n",
    "    'catalyze; input'                                   :'catalyze',\n",
    "    'complex; reaction'                                 :'complex',\n",
    "    'PPrel: activation, indirect effect'                :'activate',\n",
    "    'activate; inhibited by'                            :'activate',\n",
    "    'PPrel: inhibited by'                               :'inhibit',\n",
    "    'PPrel: activated by, phosphorylation'              :'activate',\n",
    "    'complex; predicted'                                :'complex;uncertain',\n",
    "    'activate; complex; input'                          :'complex;activate',\n",
    "    'activated by; complex; input'                      :'complex;activate',\n",
    "    'PPrel: activation; complex; input'                 :'complex;activate',\n",
    "    'inhibited by'                                      :'inhibit',\n",
    "    'PPrel: inhibited by, phosphorylated by'            :'inhibit',\n",
    "    'PPrel: activated by; complex; input'               :'complex;activate',\n",
    "    'complex; input; reaction'                          :'complex;activate',\n",
    "    'PPrel: inhibition, phosphorylation'                :'inhibit',\n",
    "    'GErel: expression'                                 :'regulate',\n",
    "    'GErel: expression by'                              :'regulate',\n",
    "    'ECrel: compound'                                   :'uncertain',\n",
    "    'PPrel: binding/association'                        :'complex',\n",
    "    'reaction'                                          :'uncertain',\n",
    "    'catalyze; complex; input'                          :'catalyze;complex',\n",
    "    'catalyzed by; complex; input'                      :'catalyze;complex',\n",
    "    'expression regulates'                              :'regulate',\n",
    "    'PPrel: activated by'                               :'activate',\n",
    "    'expression regulated by'                           :'regulate',\n",
    "    'PPrel: activation'                                 :'activate',\n",
    "    'catalyze; catalyzed by; input'                     :'catalyze',\n",
    "    'activate'                                          :'activate',\n",
    "    'activated by'                                      :'activate',\n",
    "    'catalyze; catalyzed by; complex; input'            :'catalyze',\n",
    "    'input'                                             :'uncertain',\n",
    "    'catalyze'                                          :'catalyze',\n",
    "    'catalyzed by'                                      :'catalyze',\n",
    "    'predicted'                                         :'uncertain',\n",
    "    'complex'                                           :'complex',\n",
    "    'complex; input'                                    :'complex'\n",
    "}"
   ]
  },
  {
   "cell_type": "code",
   "execution_count": 36,
   "metadata": {},
   "outputs": [
    {
     "output_type": "stream",
     "name": "stdout",
     "text": [
      "# of edges dropped in mapping: 0 [0.0%]\n"
     ]
    },
    {
     "output_type": "execute_result",
     "data": {
      "text/plain": [
       "    Gene1    Gene2                    Annotation Direction  Score  \\\n",
       "0  16-5-5    CDC42                     predicted         -   0.98   \n",
       "1  16-5-5    PARD3                     predicted         -   1.00   \n",
       "2  16-5-5   PARD3B                     predicted         -   1.00   \n",
       "3    A1CF  APOBEC1  catalyzed by; complex; input        <-   1.00   \n",
       "4    A1CF    EP300       expression regulated by        <-   1.00   \n",
       "\n",
       "           edgetype  catalyze  complex  regulate  activate  inhibit  \n",
       "0         uncertain       0.2      0.2       0.2       0.2      0.2  \n",
       "1         uncertain       0.2      0.2       0.2       0.2      0.2  \n",
       "2         uncertain       0.2      0.2       0.2       0.2      0.2  \n",
       "3  catalyze;complex       0.5      0.5       0.0       0.0      0.0  \n",
       "4          regulate       0.0      0.0       1.0       0.0      0.0  "
      ],
      "text/html": "<div>\n<style scoped>\n    .dataframe tbody tr th:only-of-type {\n        vertical-align: middle;\n    }\n\n    .dataframe tbody tr th {\n        vertical-align: top;\n    }\n\n    .dataframe thead th {\n        text-align: right;\n    }\n</style>\n<table border=\"1\" class=\"dataframe\">\n  <thead>\n    <tr style=\"text-align: right;\">\n      <th></th>\n      <th>Gene1</th>\n      <th>Gene2</th>\n      <th>Annotation</th>\n      <th>Direction</th>\n      <th>Score</th>\n      <th>edgetype</th>\n      <th>catalyze</th>\n      <th>complex</th>\n      <th>regulate</th>\n      <th>activate</th>\n      <th>inhibit</th>\n    </tr>\n  </thead>\n  <tbody>\n    <tr>\n      <th>0</th>\n      <td>16-5-5</td>\n      <td>CDC42</td>\n      <td>predicted</td>\n      <td>-</td>\n      <td>0.98</td>\n      <td>uncertain</td>\n      <td>0.2</td>\n      <td>0.2</td>\n      <td>0.2</td>\n      <td>0.2</td>\n      <td>0.2</td>\n    </tr>\n    <tr>\n      <th>1</th>\n      <td>16-5-5</td>\n      <td>PARD3</td>\n      <td>predicted</td>\n      <td>-</td>\n      <td>1.00</td>\n      <td>uncertain</td>\n      <td>0.2</td>\n      <td>0.2</td>\n      <td>0.2</td>\n      <td>0.2</td>\n      <td>0.2</td>\n    </tr>\n    <tr>\n      <th>2</th>\n      <td>16-5-5</td>\n      <td>PARD3B</td>\n      <td>predicted</td>\n      <td>-</td>\n      <td>1.00</td>\n      <td>uncertain</td>\n      <td>0.2</td>\n      <td>0.2</td>\n      <td>0.2</td>\n      <td>0.2</td>\n      <td>0.2</td>\n    </tr>\n    <tr>\n      <th>3</th>\n      <td>A1CF</td>\n      <td>APOBEC1</td>\n      <td>catalyzed by; complex; input</td>\n      <td>&lt;-</td>\n      <td>1.00</td>\n      <td>catalyze;complex</td>\n      <td>0.5</td>\n      <td>0.5</td>\n      <td>0.0</td>\n      <td>0.0</td>\n      <td>0.0</td>\n    </tr>\n    <tr>\n      <th>4</th>\n      <td>A1CF</td>\n      <td>EP300</td>\n      <td>expression regulated by</td>\n      <td>&lt;-</td>\n      <td>1.00</td>\n      <td>regulate</td>\n      <td>0.0</td>\n      <td>0.0</td>\n      <td>1.0</td>\n      <td>0.0</td>\n      <td>0.0</td>\n    </tr>\n  </tbody>\n</table>\n</div>"
     },
     "metadata": {},
     "execution_count": 36
    }
   ],
   "source": [
    "fi2     = fi.assign(edgetype = [edgetype[x] if x in edgetype else 'uncertain' for x in fi.Annotation.tolist()])\n",
    "fi2     = fi2[lambda x: ~x.edgetype.isna()]\n",
    "print(f'# of edges dropped in mapping: {fi.shape[0] - fi2.shape[0]} [{100*(fi.shape[0] - fi2.shape[0])/fi.shape[0]:.1f}%]')\n",
    "\n",
    "max_prob = 0.95\n",
    "fi2 = fi2.assign(catalyze   =   [max_prob if 'catalyze' in x else 0. for x in fi2.edgetype],\n",
    "                 complex    =   [max_prob if 'complex' in x else 0. for x in fi2.edgetype], \n",
    "                 regulate   =   [max_prob if 'regulate' in x else 0. for x in fi2.edgetype], \n",
    "                 activate   =   [max_prob if 'activate' in x else 0. for x in fi2.edgetype], \n",
    "                 inhibit    =   [max_prob if 'inhibit' in x else 0. for x in fi2.edgetype])\n",
    "\n",
    "# add uncertain edges \n",
    "for et in ['catalyze', 'complex', 'regulate', 'activate', 'inhibit']: \n",
    "    fi2[et] = fi2[et].values + fi2['edgetype'].str.contains('uncertain').values * 1.\n",
    "\n",
    "# normalize probability\n",
    "fi2[['catalyze', 'complex', 'regulate', 'activate', 'inhibit']] = fi2[['catalyze', 'complex', 'regulate', 'activate', 'inhibit']].values / fi2[['catalyze', 'complex', 'regulate', 'activate', 'inhibit']].values.sum(axis=1).reshape(-1,1)\n",
    "\n",
    "fi2.head()"
   ]
  },
  {
   "cell_type": "code",
   "execution_count": 7,
   "metadata": {},
   "outputs": [
    {
     "output_type": "execute_result",
     "data": {
      "text/plain": [
       "(268857, 11)"
      ]
     },
     "metadata": {},
     "execution_count": 7
    }
   ],
   "source": [
    "fi2.shape"
   ]
  },
  {
   "cell_type": "code",
   "execution_count": 8,
   "metadata": {},
   "outputs": [
    {
     "output_type": "execute_result",
     "data": {
      "text/plain": [
       "edgetype\n",
       "activate;uncertain               86\n",
       "activate;complex;inhibit        101\n",
       "inhibit;activate                125\n",
       "activate;inhibit;uncertain      159\n",
       "catalyze;complex;inhibit        192\n",
       "regulate;uncertain              197\n",
       "catalyze;inhibit                288\n",
       "complex;inhibit                 412\n",
       "activate;catalyze               802\n",
       "activate;complex                835\n",
       "activate;inhibit               1034\n",
       "activate;catalyze;complex      1183\n",
       "complex;uncertain              1371\n",
       "complex;activate               5858\n",
       "catalyze;complex               7533\n",
       "inhibit                        7793\n",
       "regulate                      13398\n",
       "activate                      27675\n",
       "catalyze                      36581\n",
       "uncertain                     79710\n",
       "complex                       83524\n",
       "Name: Gene1, dtype: int64"
      ]
     },
     "metadata": {},
     "execution_count": 8
    }
   ],
   "source": [
    "fi2.groupby('edgetype').count()['Gene1'].sort_values()\n"
   ]
  },
  {
   "cell_type": "code",
   "execution_count": 9,
   "metadata": {},
   "outputs": [
    {
     "output_type": "execute_result",
     "data": {
      "text/plain": [
       "catalyze    128102\n",
       "complex     181161\n",
       "regulate     94921\n",
       "activate    119136\n",
       "inhibit      91468\n",
       "dtype: int64"
      ]
     },
     "metadata": {},
     "execution_count": 9
    }
   ],
   "source": [
    "# how many of each edge type do we have (non-zero values for)? \n",
    "\n",
    "(fi2[['catalyze', 'complex', 'regulate', 'activate', 'inhibit']] > 0.).sum(axis=0)"
   ]
  },
  {
   "cell_type": "code",
   "execution_count": 10,
   "metadata": {},
   "outputs": [],
   "source": [
    "# TODO: check for redundant edges, as is, will overwrite edges - probably should append"
   ]
  },
  {
   "cell_type": "code",
   "execution_count": 11,
   "metadata": {},
   "outputs": [
    {
     "output_type": "execute_result",
     "data": {
      "text/plain": [
       "400.0"
      ]
     },
     "metadata": {},
     "execution_count": 11
    }
   ],
   "source": [
    "1e8 * 32 / 8 / 1000 / 1000"
   ]
  },
  {
   "cell_type": "code",
   "execution_count": 12,
   "metadata": {},
   "outputs": [
    {
     "output_type": "stream",
     "name": "stdout",
     "text": [
      "# nodes in G 13565\n# edges in G 272060\n"
     ]
    }
   ],
   "source": [
    "G = nx.Graph()\n",
    "\n",
    "for i, row in fi2.iterrows(): \n",
    "    if row.Gene1.upper() in all2symb and row.Gene2.upper() in all2symb:\n",
    "        G.add_edge(all2symb[row.Gene1.upper()][0], all2symb[row.Gene2.upper()][0], catalyze=row.catalyze, complex=row.complex, regulate=row.regulate, activate=row.activate, inhibit=row.inhibit)\n",
    "\n",
    "# add self edges - DO NOT ADD SELF EDGES\n",
    "#for node in G.nodes(): \n",
    "#    G.add_edge(node, node, catalyze=1., complex=1., regulate=1., activate=1., inhibit=1.)\n",
    "\n",
    "print('# nodes in G', len(G))\n",
    "print('# edges in G', len(G.edges()))"
   ]
  },
  {
   "cell_type": "code",
   "execution_count": 13,
   "metadata": {},
   "outputs": [
    {
     "output_type": "stream",
     "name": "stdout",
     "text": [
      "larget comp size: 13369\nsize G: 13369\n"
     ]
    }
   ],
   "source": [
    "# one large comp, rest are small (2-4 nodes)\n",
    "largest_comp = next(nx.connected_components(G))\n",
    "print('larget comp size:', len(largest_comp))\n",
    "\n",
    "toremove = G.nodes()-largest_comp\n",
    "G.remove_nodes_from(toremove)\n",
    "print('size G:', len(G))"
   ]
  },
  {
   "cell_type": "code",
   "execution_count": 14,
   "metadata": {},
   "outputs": [],
   "source": [
    "PPI_nodelist = list(G.nodes())\n",
    "\n",
    "catalyze_adj = nx.adjacency_matrix(G, nodelist=PPI_nodelist, weight='catalyze')\n",
    "complex_adj  = nx.adjacency_matrix(G, nodelist=PPI_nodelist, weight='complex')\n",
    "regulate_adj = nx.adjacency_matrix(G, nodelist=PPI_nodelist, weight='regulate')\n",
    "activate_adj = nx.adjacency_matrix(G, nodelist=PPI_nodelist, weight='activate')\n",
    "inhibit_adj  = nx.adjacency_matrix(G, nodelist=PPI_nodelist, weight='inhibit')"
   ]
  },
  {
   "cell_type": "code",
   "execution_count": 45,
   "metadata": {},
   "outputs": [
    {
     "output_type": "stream",
     "name": "stdout",
     "text": [
      "# edges: len(graph.tocoo().row) --> 968.936 MB\n# edges: len(graph.tocoo().row) --> 1396.016 MB\n# edges: len(graph.tocoo().row) --> 724.144 MB\n# edges: len(graph.tocoo().row) --> 911.208 MB\n# edges: len(graph.tocoo().row) --> 697.128 MB\n"
     ]
    }
   ],
   "source": [
    "# remove edges that have probability of zero\n",
    "new_graphs = []\n",
    "for graph in [catalyze_adj, complex_adj, regulate_adj, activate_adj, inhibit_adj]: \n",
    "    coo = graph.tocoo() \n",
    "    sel = coo.data > 0\n",
    "    new_row = coo.row[sel]\n",
    "    new_col = coo.col[sel]\n",
    "    new_data = coo.data[sel]\n",
    "    new_graphs.append( csr_matrix((new_data, (new_row, new_col))) ) \n",
    "\n",
    "for graph in new_graphs: \n",
    "    print('# edges: len(graph.tocoo().row) -->', len(graph.tocoo().row) * 4 / 1000, 'MB')"
   ]
  },
  {
   "cell_type": "code",
   "execution_count": null,
   "metadata": {},
   "outputs": [],
   "source": [
    "catalyze    128102\n",
    "complex     181161\n",
    "regulate     94921\n",
    "activate    119136\n",
    "inhibit      91468"
   ]
  },
  {
   "cell_type": "code",
   "execution_count": 15,
   "metadata": {},
   "outputs": [
    {
     "output_type": "execute_result",
     "data": {
      "text/plain": [
       "['A1CF', 'APOBEC1', 'EP300', 'KHSRP', 'A2M']"
      ]
     },
     "metadata": {},
     "execution_count": 15
    }
   ],
   "source": [
    "PPI_nodelist[0:5]"
   ]
  },
  {
   "cell_type": "code",
   "execution_count": 27,
   "metadata": {},
   "outputs": [
    {
     "output_type": "execute_result",
     "data": {
      "text/plain": [
       "178730161"
      ]
     },
     "metadata": {},
     "execution_count": 27
    }
   ],
   "source": [
    "len(PPI_nodelist)**2"
   ]
  },
  {
   "cell_type": "code",
   "execution_count": 25,
   "metadata": {},
   "outputs": [
    {
     "output_type": "execute_result",
     "data": {
      "text/plain": [
       "(530109,)"
      ]
     },
     "metadata": {},
     "execution_count": 25
    }
   ],
   "source": [
    "catalyze_adj.indices.shape"
   ]
  },
  {
   "cell_type": "code",
   "execution_count": 23,
   "metadata": {},
   "outputs": [
    {
     "output_type": "execute_result",
     "data": {
      "text/plain": [
       "matrix([[1. , 0.5, 0. , ..., 0. , 0. , 0. ],\n",
       "        [0.5, 1. , 0. , ..., 0. , 0. , 0. ],\n",
       "        [0. , 0. , 1. , ..., 0. , 0. , 0. ],\n",
       "        ...,\n",
       "        [0. , 0. , 0. , ..., 1. , 0. , 0. ],\n",
       "        [0. , 0. , 0. , ..., 0. , 1. , 0. ],\n",
       "        [0. , 0. , 0. , ..., 0. , 0. , 1. ]])"
      ]
     },
     "metadata": {},
     "execution_count": 23
    }
   ],
   "source": [
    "complex_adj.todense()"
   ]
  },
  {
   "cell_type": "code",
   "execution_count": 72,
   "metadata": {},
   "outputs": [],
   "source": [
    "PPI_graph = {'nodelist'         : PPI_nodelist,                              # adjacency ordered gene list \n",
    "             'graphs'           : {\n",
    "                    'catalyze'         : catalyze_adj,                           # adjacency matrices (with self edges)\n",
    "                    'complex'          : complex_adj,                            # stored as scipy sparse matrices \n",
    "                    'regulate'         : regulate_adj,                           # edge values (probability of edge) \n",
    "                    'activate'         : activate_adj,                                  #                            \n",
    "                    'inhibit'          : inhibit_adj,                                   #              \n",
    "             },\n",
    "             \n",
    "             'genemap'          : {k:v[0] for k,v in all2symb.items()},          # all gene ids -> valid node labels \n",
    "             'meta'             : 'protein-protein interaction network; based on the reactome functional interactions (Wu et al.)',\n",
    "             'creation_date'    :dt.datetime.now().__str__()}         \n",
    "\n",
    "with open('../../PPI_graph.pkl', 'wb') as f: \n",
    "    pkl.dump(PPI_graph, f)"
   ]
  },
  {
   "cell_type": "code",
   "execution_count": null,
   "metadata": {},
   "outputs": [],
   "source": []
  }
 ]
}