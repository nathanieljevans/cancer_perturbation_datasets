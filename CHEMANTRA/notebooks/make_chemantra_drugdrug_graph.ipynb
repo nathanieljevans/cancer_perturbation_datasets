{
 "metadata": {
  "language_info": {
   "codemirror_mode": {
    "name": "ipython",
    "version": 3
   },
   "file_extension": ".py",
   "mimetype": "text/x-python",
   "name": "python",
   "nbconvert_exporter": "python",
   "pygments_lexer": "ipython3",
   "version": "3.8.5"
  },
  "orig_nbformat": 2,
  "kernelspec": {
   "name": "python385jvsc74a57bd0df76dc7eefd3519b618d4f742ac9d22003ce12e4db2fef6c1d63a51a9f543aa2",
   "display_name": "Python 3.8.5 64-bit ('gcnvae': conda)"
  }
 },
 "nbformat": 4,
 "nbformat_minor": 2,
 "cells": [
  {
   "cell_type": "code",
   "execution_count": 1,
   "metadata": {},
   "outputs": [],
   "source": [
    "import pandas as pd \n",
    "import numpy as np \n",
    "from matplotlib import pyplot as plt \n",
    "import networkx as nx\n",
    "import pickle as pkl\n",
    "import datetime as dt"
   ]
  },
  {
   "cell_type": "code",
   "execution_count": 2,
   "metadata": {},
   "outputs": [],
   "source": [
    "edges = pd.read_csv('../data/raw/edges.txt', sep='\\t')\n",
    "nodes = pd.read_csv('../data/raw/nodes.txt', sep='\\t')\n",
    "lincs_cmp = pd.read_csv('./../../LINCS/LVL3/data/raw/compoundinfo_beta.txt', sep='\\t')"
   ]
  },
  {
   "cell_type": "code",
   "execution_count": 3,
   "metadata": {},
   "outputs": [
    {
     "output_type": "execute_result",
     "data": {
      "text/plain": [
       "1274"
      ]
     },
     "metadata": {},
     "execution_count": 3
    }
   ],
   "source": [
    "overlap1 = set(lincs_cmp.cmap_name.unique()).intersection(set(nodes.Name.str.lower().unique()))\n",
    "overlap2 = set(lincs_cmp.compound_aliases.unique()).intersection(set(nodes.Name.str.lower().unique()))\n",
    "overlap = overlap1.union(overlap2)\n",
    "len(overlap)"
   ]
  },
  {
   "cell_type": "code",
   "execution_count": 4,
   "metadata": {},
   "outputs": [],
   "source": [
    "nodes = nodes.assign(name=lambda x: x.Name.str.lower())\n",
    "namedict = nodes.set_index('idx')['name'].to_dict()\n",
    "\n",
    "edges = edges.assign(edge_from= lambda x: x.Var1.map(namedict), edge_to=lambda x: x.Var2.map(namedict))"
   ]
  },
  {
   "cell_type": "code",
   "execution_count": 5,
   "metadata": {},
   "outputs": [],
   "source": [
    "# filter to only include edges if they are less than the n% most similar\n",
    "q = 0.05\n",
    "\n",
    "# filter to cmap drugs\n",
    "edges2 = edges[lambda x: x.edge_from.isin(overlap) & x.edge_to.isin(overlap)]\n",
    "\n",
    "# filter to most similar edges\n",
    "edges2 = edges2[lambda x: x['value'] <= edges2['value'].quantile(q)]\n",
    "\n",
    "# assign probability based on structural similarity \n",
    "edges2 = edges2.assign(edge_prob = lambda x: 1 - x['value'])"
   ]
  },
  {
   "cell_type": "code",
   "execution_count": 6,
   "metadata": {},
   "outputs": [
    {
     "output_type": "stream",
     "name": "stdout",
     "text": [
      "# nodes: 1225\n# edges: 48069\nnetwork density: 0.06411764705882353\n# components:  2\n\t comp: 0 : 1224\n\t comp: 1 : 1\n\n after filter\n# components:  1\n\t comp: 0 : 1224\n"
     ]
    }
   ],
   "source": [
    "G = nx.from_pandas_edgelist(edges2,  source='edge_from', target='edge_to', edge_attr='edge_prob')\n",
    "\n",
    "# add self edges\n",
    "_ = [G.add_edge(node, node, edge_prob=1) for node in G.nodes()]\n",
    "\n",
    "print('# nodes:', len(G))\n",
    "print('# edges:', len(G.edges()))\n",
    "print('network density:', nx.density(G))\n",
    "\n",
    "comps = list(nx.connected_components(G))\n",
    "print('# components: ', len(comps))\n",
    "_ = [print(f'\\t comp: {i} : {len(comps[i])}') for i in range(len(comps))]\n",
    "\n",
    "# select just the largest component \n",
    "toremove = G.nodes() - comps[0]\n",
    "_ = [G.remove_node(node) for node in toremove]\n",
    "\n",
    "print('\\n after filter')\n",
    "comps = list(nx.connected_components(G))\n",
    "print('# components: ', len(comps))\n",
    "_ = [print(f'\\t comp: {i} : {len(comps[i])}') for i in range(len(comps))]\n"
   ]
  },
  {
   "cell_type": "code",
   "execution_count": 7,
   "metadata": {},
   "outputs": [],
   "source": [
    "drugs = list(G.nodes())\n",
    "drugdrug_adj = nx.adjacency_matrix(G, nodelist=drugs, weight='edge_prob')"
   ]
  },
  {
   "cell_type": "code",
   "execution_count": 8,
   "metadata": {},
   "outputs": [
    {
     "output_type": "execute_result",
     "data": {
      "text/plain": [
       "matrix([[1.        , 0.49871469, 0.        , ..., 0.        , 0.        ,\n",
       "         0.        ],\n",
       "        [0.49871469, 1.        , 0.58027875, ..., 0.        , 0.        ,\n",
       "         0.        ],\n",
       "        [0.        , 0.58027875, 1.        , ..., 0.        , 0.50139972,\n",
       "         0.        ],\n",
       "        ...,\n",
       "        [0.        , 0.        , 0.        , ..., 1.        , 0.        ,\n",
       "         0.        ],\n",
       "        [0.        , 0.        , 0.50139972, ..., 0.        , 1.        ,\n",
       "         0.        ],\n",
       "        [0.        , 0.        , 0.        , ..., 0.        , 0.        ,\n",
       "         1.        ]])"
      ]
     },
     "metadata": {},
     "execution_count": 8
    }
   ],
   "source": [
    "drugdrug_adj.todense()"
   ]
  },
  {
   "cell_type": "code",
   "execution_count": 9,
   "metadata": {},
   "outputs": [],
   "source": [
    "DDS_graph = {'nodelist'         : drugs,                              # adjacency ordered drug node list \n",
    "             'graphs'           : {\n",
    "                 'structural': drugdrug_adj\n",
    "             },\n",
    "             'meta'             : 'drug-drug similarity graph based on structural similarity as calculated by Sirci et al. for the CHEMANTRA network.',\n",
    "             'creation_date'    :dt.datetime.now().__str__()}                              # adjacency matrices (with self edges)\n",
    "                                                                        #edge prob is attr          \n",
    "with open('../../DDS_graph.pkl', 'wb') as f: \n",
    "    pkl.dump(DDS_graph, f)"
   ]
  },
  {
   "cell_type": "code",
   "execution_count": null,
   "metadata": {},
   "outputs": [],
   "source": []
  }
 ]
}